{
 "cells": [
  {
   "cell_type": "code",
   "execution_count": 1,
   "metadata": {},
   "outputs": [
    {
     "name": "stderr",
     "output_type": "stream",
     "text": [
      "[nltk_data] Downloading package twitter_samples to\n",
      "[nltk_data]     /Users/timliu/nltk_data...\n",
      "[nltk_data]   Package twitter_samples is already up-to-date!\n",
      "[nltk_data] Downloading package stopwords to\n",
      "[nltk_data]     /Users/timliu/nltk_data...\n",
      "[nltk_data]   Package stopwords is already up-to-date!\n"
     ]
    }
   ],
   "source": [
    "# self-define function\n",
    "from data_cleaning import cleaning_text_MD, sentence_df\n",
    "from participant_function import participants_list, clean_participants_list\n",
    "# from stock_price_info import stock_price_change\\\n",
    "# read and saving path\n",
    "path = \"./meeting_transcript\"\n",
    "text_save_path = \"./output_MD\"\n",
    "# other packages\n",
    "import pdftotext\n",
    "import pandas as pd\n",
    "import numpy as np\n",
    "import matplotlib.pyplot as plt\n",
    "import seaborn as sns\n",
    "import re\n",
    "import os\n",
    "import string\n",
    "# nlp\n",
    "import nltk \n",
    "nltk.download('twitter_samples')\n",
    "from nltk.corpus import twitter_samples\n",
    "from nltk.corpus import stopwords          # module for stop words that come with NLTK\n",
    "nltk.download('stopwords')\n",
    "from nltk.stem import PorterStemmer        # module for stemming\n",
    "from nltk.tokenize import TweetTokenizer   # module for tokenizing strings\n",
    "\n",
    "import warnings\n",
    "from pandas.core.common import SettingWithCopyWarning\n",
    "warnings.simplefilter(action=\"ignore\", category=SettingWithCopyWarning)\n",
    "import spacy \n",
    "nlp = spacy.load(\"en_core_web_lg\")\n",
    "from tqdm import tqdm\n",
    "# tp_modelling packages\n",
    "from collections import Counter, OrderedDict\n",
    "from gensim.models import Phrases\n",
    "import tomotopy as tp\n"
   ]
  },
  {
   "cell_type": "code",
   "execution_count": 2,
   "metadata": {},
   "outputs": [
    {
     "data": {
      "text/html": [
       "<div>\n",
       "<style scoped>\n",
       "    .dataframe tbody tr th:only-of-type {\n",
       "        vertical-align: middle;\n",
       "    }\n",
       "\n",
       "    .dataframe tbody tr th {\n",
       "        vertical-align: top;\n",
       "    }\n",
       "\n",
       "    .dataframe thead th {\n",
       "        text-align: right;\n",
       "    }\n",
       "</style>\n",
       "<table border=\"1\" class=\"dataframe\">\n",
       "  <thead>\n",
       "    <tr style=\"text-align: right;\">\n",
       "      <th></th>\n",
       "      <th>participants</th>\n",
       "      <th>file_name</th>\n",
       "      <th>date</th>\n",
       "      <th>idx</th>\n",
       "      <th>company_paticipants_yes</th>\n",
       "      <th>other_paticipants_yes</th>\n",
       "      <th>company_name</th>\n",
       "      <th>paraghrph</th>\n",
       "      <th>paraghrph_clean</th>\n",
       "      <th>paraghrph_noun</th>\n",
       "    </tr>\n",
       "  </thead>\n",
       "  <tbody>\n",
       "    <tr>\n",
       "      <th>0</th>\n",
       "      <td>Chris Knight</td>\n",
       "      <td>20110202_LEGAL_-_GEN_GRP-_Guidance_Call_2011-2...</td>\n",
       "      <td>2011-02-02</td>\n",
       "      <td>262.0</td>\n",
       "      <td>1</td>\n",
       "      <td>0</td>\n",
       "      <td>LEGAL -</td>\n",
       "      <td>I don't think that's -- I think that's sort of...</td>\n",
       "      <td>I don't think that's -- I think that's sort of...</td>\n",
       "      <td>sequitur</td>\n",
       "    </tr>\n",
       "    <tr>\n",
       "      <th>1</th>\n",
       "      <td>Toby Langley</td>\n",
       "      <td>20110202_LEGAL_-_GEN_GRP-_Guidance_Call_2011-2...</td>\n",
       "      <td>2011-02-02</td>\n",
       "      <td>102.0</td>\n",
       "      <td>0</td>\n",
       "      <td>1</td>\n",
       "      <td>LEGAL -</td>\n",
       "      <td>I was merely referring to whether or not there...</td>\n",
       "      <td>I was merely referring to whether or not there...</td>\n",
       "      <td>cost project</td>\n",
       "    </tr>\n",
       "    <tr>\n",
       "      <th>2</th>\n",
       "      <td>Toby Langley</td>\n",
       "      <td>20110202_LEGAL_-_GEN_GRP-_Guidance_Call_2011-2...</td>\n",
       "      <td>2011-02-02</td>\n",
       "      <td>111.0</td>\n",
       "      <td>0</td>\n",
       "      <td>1</td>\n",
       "      <td>LEGAL -</td>\n",
       "      <td>They will. Okay. Thank you.</td>\n",
       "      <td>They will Okay Thank you</td>\n",
       "      <td>NaN</td>\n",
       "    </tr>\n",
       "    <tr>\n",
       "      <th>3</th>\n",
       "      <td>Operator</td>\n",
       "      <td>20110202 _Mapfre_SA_Earnings_Call_SD0000000027...</td>\n",
       "      <td>2011-02-02</td>\n",
       "      <td>140.0</td>\n",
       "      <td>1</td>\n",
       "      <td>1</td>\n",
       "      <td>Mapfre SA</td>\n",
       "      <td>Federico Salerno, MainFirst.</td>\n",
       "      <td>Feico  MainFirst</td>\n",
       "      <td>feico</td>\n",
       "    </tr>\n",
       "    <tr>\n",
       "      <th>4</th>\n",
       "      <td>Operator</td>\n",
       "      <td>20110202 _Mapfre_SA_Earnings_Call_SD0000000027...</td>\n",
       "      <td>2011-02-02</td>\n",
       "      <td>170.0</td>\n",
       "      <td>1</td>\n",
       "      <td>1</td>\n",
       "      <td>Mapfre SA</td>\n",
       "      <td>Giulia Raffo, Autonomous.</td>\n",
       "      <td>Autonomous</td>\n",
       "      <td>NaN</td>\n",
       "    </tr>\n",
       "    <tr>\n",
       "      <th>...</th>\n",
       "      <td>...</td>\n",
       "      <td>...</td>\n",
       "      <td>...</td>\n",
       "      <td>...</td>\n",
       "      <td>...</td>\n",
       "      <td>...</td>\n",
       "      <td>...</td>\n",
       "      <td>...</td>\n",
       "      <td>...</td>\n",
       "      <td>...</td>\n",
       "    </tr>\n",
       "    <tr>\n",
       "      <th>145072</th>\n",
       "      <td>Blair Stewart</td>\n",
       "      <td>20220427_GJENSIDIGE_FORSI-_Earnings_Call_2022-...</td>\n",
       "      <td>2022-04-27</td>\n",
       "      <td>4.0</td>\n",
       "      <td>0</td>\n",
       "      <td>1</td>\n",
       "      <td>GJENSIDIGE FORSI-</td>\n",
       "      <td>Thank you very much, and good morning, gents. ...</td>\n",
       "      <td>Thank you very much and good morning gents I'v...</td>\n",
       "      <td>morning gent question detail one system bit im...</td>\n",
       "    </tr>\n",
       "    <tr>\n",
       "      <th>145073</th>\n",
       "      <td>Blair Stewart</td>\n",
       "      <td>20220427_GJENSIDIGE_FORSI-_Earnings_Call_2022-...</td>\n",
       "      <td>2022-04-27</td>\n",
       "      <td>39.0</td>\n",
       "      <td>0</td>\n",
       "      <td>1</td>\n",
       "      <td>GJENSIDIGE FORSI-</td>\n",
       "      <td>And sorry, I have to -- why do you say that sh...</td>\n",
       "      <td>And sorry I have to -- why do you say that sho...</td>\n",
       "      <td>term sale</td>\n",
       "    </tr>\n",
       "    <tr>\n",
       "      <th>145074</th>\n",
       "      <td>Blair Stewart</td>\n",
       "      <td>20220427_GJENSIDIGE_FORSI-_Earnings_Call_2022-...</td>\n",
       "      <td>2022-04-27</td>\n",
       "      <td>50.0</td>\n",
       "      <td>0</td>\n",
       "      <td>1</td>\n",
       "      <td>GJENSIDIGE FORSI-</td>\n",
       "      <td>Okay. Understood. So much messages. Thank you.</td>\n",
       "      <td>Okay Unstood So much messages Thank you</td>\n",
       "      <td>message</td>\n",
       "    </tr>\n",
       "    <tr>\n",
       "      <th>145075</th>\n",
       "      <td>Alexander Evans</td>\n",
       "      <td>20220427_GJENSIDIGE_FORSI-_Earnings_Call_2022-...</td>\n",
       "      <td>2022-04-27</td>\n",
       "      <td>335.0</td>\n",
       "      <td>0</td>\n",
       "      <td>1</td>\n",
       "      <td>GJENSIDIGE FORSI-</td>\n",
       "      <td>Hi everyone. Thanks for taking my questions. M...</td>\n",
       "      <td>Hi everyone Thanks for taking my questions Mai...</td>\n",
       "      <td>thank question thank plan conﬁce level ratio q...</td>\n",
       "    </tr>\n",
       "    <tr>\n",
       "      <th>145076</th>\n",
       "      <td>Ulrik Ardal Zurcher</td>\n",
       "      <td>20220427_GJENSIDIGE_FORSI-_Earnings_Call_2022-...</td>\n",
       "      <td>2022-04-27</td>\n",
       "      <td>169.0</td>\n",
       "      <td>0</td>\n",
       "      <td>1</td>\n",
       "      <td>GJENSIDIGE FORSI-</td>\n",
       "      <td>Yes, but have any diﬀerent. Sorry, it was just...</td>\n",
       "      <td>Yes but have any diﬀerent Sorry it was just a ...</td>\n",
       "      <td>diﬀerent follow up property diﬀerence property...</td>\n",
       "    </tr>\n",
       "  </tbody>\n",
       "</table>\n",
       "<p>145077 rows × 10 columns</p>\n",
       "</div>"
      ],
      "text/plain": [
       "               participants  \\\n",
       "0              Chris Knight   \n",
       "1              Toby Langley   \n",
       "2              Toby Langley   \n",
       "3                  Operator   \n",
       "4                  Operator   \n",
       "...                     ...   \n",
       "145072        Blair Stewart   \n",
       "145073        Blair Stewart   \n",
       "145074        Blair Stewart   \n",
       "145075      Alexander Evans   \n",
       "145076  Ulrik Ardal Zurcher   \n",
       "\n",
       "                                                file_name        date    idx  \\\n",
       "0       20110202_LEGAL_-_GEN_GRP-_Guidance_Call_2011-2...  2011-02-02  262.0   \n",
       "1       20110202_LEGAL_-_GEN_GRP-_Guidance_Call_2011-2...  2011-02-02  102.0   \n",
       "2       20110202_LEGAL_-_GEN_GRP-_Guidance_Call_2011-2...  2011-02-02  111.0   \n",
       "3       20110202 _Mapfre_SA_Earnings_Call_SD0000000027...  2011-02-02  140.0   \n",
       "4       20110202 _Mapfre_SA_Earnings_Call_SD0000000027...  2011-02-02  170.0   \n",
       "...                                                   ...         ...    ...   \n",
       "145072  20220427_GJENSIDIGE_FORSI-_Earnings_Call_2022-...  2022-04-27    4.0   \n",
       "145073  20220427_GJENSIDIGE_FORSI-_Earnings_Call_2022-...  2022-04-27   39.0   \n",
       "145074  20220427_GJENSIDIGE_FORSI-_Earnings_Call_2022-...  2022-04-27   50.0   \n",
       "145075  20220427_GJENSIDIGE_FORSI-_Earnings_Call_2022-...  2022-04-27  335.0   \n",
       "145076  20220427_GJENSIDIGE_FORSI-_Earnings_Call_2022-...  2022-04-27  169.0   \n",
       "\n",
       "        company_paticipants_yes  other_paticipants_yes       company_name  \\\n",
       "0                             1                      0            LEGAL -   \n",
       "1                             0                      1            LEGAL -   \n",
       "2                             0                      1            LEGAL -   \n",
       "3                             1                      1          Mapfre SA   \n",
       "4                             1                      1          Mapfre SA   \n",
       "...                         ...                    ...                ...   \n",
       "145072                        0                      1  GJENSIDIGE FORSI-   \n",
       "145073                        0                      1  GJENSIDIGE FORSI-   \n",
       "145074                        0                      1  GJENSIDIGE FORSI-   \n",
       "145075                        0                      1  GJENSIDIGE FORSI-   \n",
       "145076                        0                      1  GJENSIDIGE FORSI-   \n",
       "\n",
       "                                                paraghrph  \\\n",
       "0       I don't think that's -- I think that's sort of...   \n",
       "1       I was merely referring to whether or not there...   \n",
       "2                             They will. Okay. Thank you.   \n",
       "3                            Federico Salerno, MainFirst.   \n",
       "4                               Giulia Raffo, Autonomous.   \n",
       "...                                                   ...   \n",
       "145072  Thank you very much, and good morning, gents. ...   \n",
       "145073  And sorry, I have to -- why do you say that sh...   \n",
       "145074     Okay. Understood. So much messages. Thank you.   \n",
       "145075  Hi everyone. Thanks for taking my questions. M...   \n",
       "145076  Yes, but have any diﬀerent. Sorry, it was just...   \n",
       "\n",
       "                                          paraghrph_clean  \\\n",
       "0       I don't think that's -- I think that's sort of...   \n",
       "1       I was merely referring to whether or not there...   \n",
       "2                                They will Okay Thank you   \n",
       "3                                        Feico  MainFirst   \n",
       "4                                              Autonomous   \n",
       "...                                                   ...   \n",
       "145072  Thank you very much and good morning gents I'v...   \n",
       "145073  And sorry I have to -- why do you say that sho...   \n",
       "145074            Okay Unstood So much messages Thank you   \n",
       "145075  Hi everyone Thanks for taking my questions Mai...   \n",
       "145076  Yes but have any diﬀerent Sorry it was just a ...   \n",
       "\n",
       "                                           paraghrph_noun  \n",
       "0                                                sequitur  \n",
       "1                                            cost project  \n",
       "2                                                     NaN  \n",
       "3                                                   feico  \n",
       "4                                                     NaN  \n",
       "...                                                   ...  \n",
       "145072  morning gent question detail one system bit im...  \n",
       "145073                                          term sale  \n",
       "145074                                            message  \n",
       "145075  thank question thank plan conﬁce level ratio q...  \n",
       "145076  diﬀerent follow up property diﬀerence property...  \n",
       "\n",
       "[145077 rows x 10 columns]"
      ]
     },
     "execution_count": 2,
     "metadata": {},
     "output_type": "execute_result"
    }
   ],
   "source": [
    "# call out the model_df CSV\n",
    "model_df = pd.read_csv('./main_df_output/topic_modelling_QA_df.csv')\n",
    "# model_df sort by date\n",
    "model_df = model_df.sort_values(by=['date'])\n",
    "pd.set_option('display.max_columns', None)\n",
    "\n",
    "model_df.reset_index(drop=True, inplace=True)\n",
    "model_df"
   ]
  },
  {
   "cell_type": "markdown",
   "metadata": {},
   "source": [
    "# Tokenize"
   ]
  },
  {
   "cell_type": "code",
   "execution_count": 3,
   "metadata": {},
   "outputs": [],
   "source": [
    "def clean_tokens_nuon(text_series):\n",
    "    # step 1: convert text_series df to list\n",
    "    text_list = text_series.to_list()\n",
    "\n",
    "    # step 2: change the list to lower case\n",
    "    text_list = list(map(lambda x: x.lower(),text_list))\n",
    "\n",
    "    # step 3: remove whitespaces and trailing spaces\n",
    "    def remove_whitespace(text):\n",
    "        pattern = re.compile(r'\\s+') \n",
    "        Without_whitespace = re.sub(pattern, ' ', text)\n",
    "        text = Without_whitespace.replace('?', ' ? ').replace(')', ') ')\n",
    "        text = text.strip()\n",
    "        return text\n",
    "    text_list=list(map(lambda x: remove_whitespace(x),text_list))\n",
    "\n",
    "    # step 4: apply nlp pipeline remove stop words, numbers and lematize the words\n",
    "    # expand the list of stopwords\n",
    "    gist_file = open(\"./input/gist_stopwords.txt\", \"r\")\n",
    "    try:\n",
    "        content = gist_file.read()\n",
    "        stopwords = content.split(\",\")\n",
    "    finally:\n",
    "        gist_file.close()\n",
    "        \n",
    "    stopwords=[i.replace('\"',\"\").strip() for i in stopwords]\n",
    "    # add the stopwords to the list of stopwords\n",
    "    for i in stopwords:\n",
    "        nlp.Defaults.stop_words.add(i)\n",
    "\n",
    "    # create colloum for cleaned text_list\n",
    "    tokens, tmp_tokens = [], [] \n",
    "    for text in tqdm(text_list): # or tqdm.tqdm\n",
    "        tmp_tokens = [\n",
    "            token.lemma_\n",
    "            for token in nlp(text)\n",
    "            if not token.is_stop \n",
    "            and not token.like_num\n",
    "            and not token.is_punct\n",
    "            and token.is_alpha\n",
    "            ]\n",
    "        tokens.append(tmp_tokens)\n",
    "        tmp_tokens=[]\n",
    "    return tokens"
   ]
  },
  {
   "cell_type": "code",
   "execution_count": 4,
   "metadata": {},
   "outputs": [
    {
     "name": "stderr",
     "output_type": "stream",
     "text": [
      "/var/folders/sq/sxhsy98j6f57m406rd5lz1_r0000gn/T/ipykernel_4942/458752224.py:2: FutureWarning: The default value of regex will change from True to False in a future version.\n",
      "  model_df['paraghrph_noun'] = model_df['paraghrph_noun'].str.replace('\\d+', '')\n",
      "100%|██████████| 145077/145077 [11:10<00:00, 216.28it/s]\n"
     ]
    },
    {
     "data": {
      "text/html": [
       "<div>\n",
       "<style scoped>\n",
       "    .dataframe tbody tr th:only-of-type {\n",
       "        vertical-align: middle;\n",
       "    }\n",
       "\n",
       "    .dataframe tbody tr th {\n",
       "        vertical-align: top;\n",
       "    }\n",
       "\n",
       "    .dataframe thead th {\n",
       "        text-align: right;\n",
       "    }\n",
       "</style>\n",
       "<table border=\"1\" class=\"dataframe\">\n",
       "  <thead>\n",
       "    <tr style=\"text-align: right;\">\n",
       "      <th></th>\n",
       "      <th>participants</th>\n",
       "      <th>file_name</th>\n",
       "      <th>date</th>\n",
       "      <th>idx</th>\n",
       "      <th>company_paticipants_yes</th>\n",
       "      <th>other_paticipants_yes</th>\n",
       "      <th>company_name</th>\n",
       "      <th>paraghrph</th>\n",
       "      <th>paraghrph_clean</th>\n",
       "      <th>paraghrph_noun</th>\n",
       "      <th>token</th>\n",
       "    </tr>\n",
       "  </thead>\n",
       "  <tbody>\n",
       "    <tr>\n",
       "      <th>0</th>\n",
       "      <td>Chris Knight</td>\n",
       "      <td>20110202_LEGAL_-_GEN_GRP-_Guidance_Call_2011-2...</td>\n",
       "      <td>2011-02-02</td>\n",
       "      <td>262.0</td>\n",
       "      <td>1</td>\n",
       "      <td>0</td>\n",
       "      <td>LEGAL -</td>\n",
       "      <td>I don't think that's -- I think that's sort of...</td>\n",
       "      <td>I don't think that's -- I think that's sort of...</td>\n",
       "      <td>sequitur</td>\n",
       "      <td>[sequitur]</td>\n",
       "    </tr>\n",
       "    <tr>\n",
       "      <th>1</th>\n",
       "      <td>Toby Langley</td>\n",
       "      <td>20110202_LEGAL_-_GEN_GRP-_Guidance_Call_2011-2...</td>\n",
       "      <td>2011-02-02</td>\n",
       "      <td>102.0</td>\n",
       "      <td>0</td>\n",
       "      <td>1</td>\n",
       "      <td>LEGAL -</td>\n",
       "      <td>I was merely referring to whether or not there...</td>\n",
       "      <td>I was merely referring to whether or not there...</td>\n",
       "      <td>cost project</td>\n",
       "      <td>[cost, project]</td>\n",
       "    </tr>\n",
       "    <tr>\n",
       "      <th>2</th>\n",
       "      <td>Toby Langley</td>\n",
       "      <td>20110202_LEGAL_-_GEN_GRP-_Guidance_Call_2011-2...</td>\n",
       "      <td>2011-02-02</td>\n",
       "      <td>111.0</td>\n",
       "      <td>0</td>\n",
       "      <td>1</td>\n",
       "      <td>LEGAL -</td>\n",
       "      <td>They will. Okay. Thank you.</td>\n",
       "      <td>They will Okay Thank you</td>\n",
       "      <td>nan</td>\n",
       "      <td>[nan]</td>\n",
       "    </tr>\n",
       "    <tr>\n",
       "      <th>3</th>\n",
       "      <td>Operator</td>\n",
       "      <td>20110202 _Mapfre_SA_Earnings_Call_SD0000000027...</td>\n",
       "      <td>2011-02-02</td>\n",
       "      <td>140.0</td>\n",
       "      <td>1</td>\n",
       "      <td>1</td>\n",
       "      <td>Mapfre SA</td>\n",
       "      <td>Federico Salerno, MainFirst.</td>\n",
       "      <td>Feico  MainFirst</td>\n",
       "      <td>feico</td>\n",
       "      <td>[feico]</td>\n",
       "    </tr>\n",
       "    <tr>\n",
       "      <th>4</th>\n",
       "      <td>Operator</td>\n",
       "      <td>20110202 _Mapfre_SA_Earnings_Call_SD0000000027...</td>\n",
       "      <td>2011-02-02</td>\n",
       "      <td>170.0</td>\n",
       "      <td>1</td>\n",
       "      <td>1</td>\n",
       "      <td>Mapfre SA</td>\n",
       "      <td>Giulia Raffo, Autonomous.</td>\n",
       "      <td>Autonomous</td>\n",
       "      <td>nan</td>\n",
       "      <td>[nan]</td>\n",
       "    </tr>\n",
       "    <tr>\n",
       "      <th>...</th>\n",
       "      <td>...</td>\n",
       "      <td>...</td>\n",
       "      <td>...</td>\n",
       "      <td>...</td>\n",
       "      <td>...</td>\n",
       "      <td>...</td>\n",
       "      <td>...</td>\n",
       "      <td>...</td>\n",
       "      <td>...</td>\n",
       "      <td>...</td>\n",
       "      <td>...</td>\n",
       "    </tr>\n",
       "    <tr>\n",
       "      <th>145072</th>\n",
       "      <td>Blair Stewart</td>\n",
       "      <td>20220427_GJENSIDIGE_FORSI-_Earnings_Call_2022-...</td>\n",
       "      <td>2022-04-27</td>\n",
       "      <td>4.0</td>\n",
       "      <td>0</td>\n",
       "      <td>1</td>\n",
       "      <td>GJENSIDIGE FORSI-</td>\n",
       "      <td>Thank you very much, and good morning, gents. ...</td>\n",
       "      <td>Thank you very much and good morning gents I'v...</td>\n",
       "      <td>morning gent question detail one system bit im...</td>\n",
       "      <td>[morning, gent, question, bit, impact, bit, te...</td>\n",
       "    </tr>\n",
       "    <tr>\n",
       "      <th>145073</th>\n",
       "      <td>Blair Stewart</td>\n",
       "      <td>20220427_GJENSIDIGE_FORSI-_Earnings_Call_2022-...</td>\n",
       "      <td>2022-04-27</td>\n",
       "      <td>39.0</td>\n",
       "      <td>0</td>\n",
       "      <td>1</td>\n",
       "      <td>GJENSIDIGE FORSI-</td>\n",
       "      <td>And sorry, I have to -- why do you say that sh...</td>\n",
       "      <td>And sorry I have to -- why do you say that sho...</td>\n",
       "      <td>term sale</td>\n",
       "      <td>[term, sale]</td>\n",
       "    </tr>\n",
       "    <tr>\n",
       "      <th>145074</th>\n",
       "      <td>Blair Stewart</td>\n",
       "      <td>20220427_GJENSIDIGE_FORSI-_Earnings_Call_2022-...</td>\n",
       "      <td>2022-04-27</td>\n",
       "      <td>50.0</td>\n",
       "      <td>0</td>\n",
       "      <td>1</td>\n",
       "      <td>GJENSIDIGE FORSI-</td>\n",
       "      <td>Okay. Understood. So much messages. Thank you.</td>\n",
       "      <td>Okay Unstood So much messages Thank you</td>\n",
       "      <td>message</td>\n",
       "      <td>[message]</td>\n",
       "    </tr>\n",
       "    <tr>\n",
       "      <th>145075</th>\n",
       "      <td>Alexander Evans</td>\n",
       "      <td>20220427_GJENSIDIGE_FORSI-_Earnings_Call_2022-...</td>\n",
       "      <td>2022-04-27</td>\n",
       "      <td>335.0</td>\n",
       "      <td>0</td>\n",
       "      <td>1</td>\n",
       "      <td>GJENSIDIGE FORSI-</td>\n",
       "      <td>Hi everyone. Thanks for taking my questions. M...</td>\n",
       "      <td>Hi everyone Thanks for taking my questions Mai...</td>\n",
       "      <td>thank question thank plan conﬁce level ratio q...</td>\n",
       "      <td>[question, plan, conﬁce, level, ratio, q, grow...</td>\n",
       "    </tr>\n",
       "    <tr>\n",
       "      <th>145076</th>\n",
       "      <td>Ulrik Ardal Zurcher</td>\n",
       "      <td>20220427_GJENSIDIGE_FORSI-_Earnings_Call_2022-...</td>\n",
       "      <td>2022-04-27</td>\n",
       "      <td>169.0</td>\n",
       "      <td>0</td>\n",
       "      <td>1</td>\n",
       "      <td>GJENSIDIGE FORSI-</td>\n",
       "      <td>Yes, but have any diﬀerent. Sorry, it was just...</td>\n",
       "      <td>Yes but have any diﬀerent Sorry it was just a ...</td>\n",
       "      <td>diﬀerent follow up property diﬀerence property...</td>\n",
       "      <td>[diﬀerent, follow, property, diﬀerence, proper...</td>\n",
       "    </tr>\n",
       "  </tbody>\n",
       "</table>\n",
       "<p>145077 rows × 11 columns</p>\n",
       "</div>"
      ],
      "text/plain": [
       "               participants  \\\n",
       "0              Chris Knight   \n",
       "1              Toby Langley   \n",
       "2              Toby Langley   \n",
       "3                  Operator   \n",
       "4                  Operator   \n",
       "...                     ...   \n",
       "145072        Blair Stewart   \n",
       "145073        Blair Stewart   \n",
       "145074        Blair Stewart   \n",
       "145075      Alexander Evans   \n",
       "145076  Ulrik Ardal Zurcher   \n",
       "\n",
       "                                                file_name        date    idx  \\\n",
       "0       20110202_LEGAL_-_GEN_GRP-_Guidance_Call_2011-2...  2011-02-02  262.0   \n",
       "1       20110202_LEGAL_-_GEN_GRP-_Guidance_Call_2011-2...  2011-02-02  102.0   \n",
       "2       20110202_LEGAL_-_GEN_GRP-_Guidance_Call_2011-2...  2011-02-02  111.0   \n",
       "3       20110202 _Mapfre_SA_Earnings_Call_SD0000000027...  2011-02-02  140.0   \n",
       "4       20110202 _Mapfre_SA_Earnings_Call_SD0000000027...  2011-02-02  170.0   \n",
       "...                                                   ...         ...    ...   \n",
       "145072  20220427_GJENSIDIGE_FORSI-_Earnings_Call_2022-...  2022-04-27    4.0   \n",
       "145073  20220427_GJENSIDIGE_FORSI-_Earnings_Call_2022-...  2022-04-27   39.0   \n",
       "145074  20220427_GJENSIDIGE_FORSI-_Earnings_Call_2022-...  2022-04-27   50.0   \n",
       "145075  20220427_GJENSIDIGE_FORSI-_Earnings_Call_2022-...  2022-04-27  335.0   \n",
       "145076  20220427_GJENSIDIGE_FORSI-_Earnings_Call_2022-...  2022-04-27  169.0   \n",
       "\n",
       "        company_paticipants_yes  other_paticipants_yes       company_name  \\\n",
       "0                             1                      0            LEGAL -   \n",
       "1                             0                      1            LEGAL -   \n",
       "2                             0                      1            LEGAL -   \n",
       "3                             1                      1          Mapfre SA   \n",
       "4                             1                      1          Mapfre SA   \n",
       "...                         ...                    ...                ...   \n",
       "145072                        0                      1  GJENSIDIGE FORSI-   \n",
       "145073                        0                      1  GJENSIDIGE FORSI-   \n",
       "145074                        0                      1  GJENSIDIGE FORSI-   \n",
       "145075                        0                      1  GJENSIDIGE FORSI-   \n",
       "145076                        0                      1  GJENSIDIGE FORSI-   \n",
       "\n",
       "                                                paraghrph  \\\n",
       "0       I don't think that's -- I think that's sort of...   \n",
       "1       I was merely referring to whether or not there...   \n",
       "2                             They will. Okay. Thank you.   \n",
       "3                            Federico Salerno, MainFirst.   \n",
       "4                               Giulia Raffo, Autonomous.   \n",
       "...                                                   ...   \n",
       "145072  Thank you very much, and good morning, gents. ...   \n",
       "145073  And sorry, I have to -- why do you say that sh...   \n",
       "145074     Okay. Understood. So much messages. Thank you.   \n",
       "145075  Hi everyone. Thanks for taking my questions. M...   \n",
       "145076  Yes, but have any diﬀerent. Sorry, it was just...   \n",
       "\n",
       "                                          paraghrph_clean  \\\n",
       "0       I don't think that's -- I think that's sort of...   \n",
       "1       I was merely referring to whether or not there...   \n",
       "2                                They will Okay Thank you   \n",
       "3                                        Feico  MainFirst   \n",
       "4                                              Autonomous   \n",
       "...                                                   ...   \n",
       "145072  Thank you very much and good morning gents I'v...   \n",
       "145073  And sorry I have to -- why do you say that sho...   \n",
       "145074            Okay Unstood So much messages Thank you   \n",
       "145075  Hi everyone Thanks for taking my questions Mai...   \n",
       "145076  Yes but have any diﬀerent Sorry it was just a ...   \n",
       "\n",
       "                                           paraghrph_noun  \\\n",
       "0                                                sequitur   \n",
       "1                                            cost project   \n",
       "2                                                     nan   \n",
       "3                                                   feico   \n",
       "4                                                     nan   \n",
       "...                                                   ...   \n",
       "145072  morning gent question detail one system bit im...   \n",
       "145073                                          term sale   \n",
       "145074                                            message   \n",
       "145075  thank question thank plan conﬁce level ratio q...   \n",
       "145076  diﬀerent follow up property diﬀerence property...   \n",
       "\n",
       "                                                    token  \n",
       "0                                              [sequitur]  \n",
       "1                                         [cost, project]  \n",
       "2                                                   [nan]  \n",
       "3                                                 [feico]  \n",
       "4                                                   [nan]  \n",
       "...                                                   ...  \n",
       "145072  [morning, gent, question, bit, impact, bit, te...  \n",
       "145073                                       [term, sale]  \n",
       "145074                                          [message]  \n",
       "145075  [question, plan, conﬁce, level, ratio, q, grow...  \n",
       "145076  [diﬀerent, follow, property, diﬀerence, proper...  \n",
       "\n",
       "[145077 rows x 11 columns]"
      ]
     },
     "execution_count": 4,
     "metadata": {},
     "output_type": "execute_result"
    }
   ],
   "source": [
    "# remove the numeric values from the 'paraghrph_clean' column by str.replace('\\d+', '')\n",
    "model_df['paraghrph_noun'] = model_df['paraghrph_noun'].str.replace('\\d+', '')\n",
    "model_df['paraghrph_noun']= model_df['paraghrph_noun'].astype(str)\n",
    "# use apply to get the token of the paraghrph\n",
    "model_df['token'] = clean_tokens_nuon(model_df['paraghrph_noun']) # or paraghrph_clean\n",
    "model_df"
   ]
  },
  {
   "cell_type": "markdown",
   "metadata": {},
   "source": [
    "# Word-Length Count"
   ]
  },
  {
   "cell_type": "code",
   "execution_count": 5,
   "metadata": {},
   "outputs": [
    {
     "data": {
      "text/html": [
       "<div>\n",
       "<style scoped>\n",
       "    .dataframe tbody tr th:only-of-type {\n",
       "        vertical-align: middle;\n",
       "    }\n",
       "\n",
       "    .dataframe tbody tr th {\n",
       "        vertical-align: top;\n",
       "    }\n",
       "\n",
       "    .dataframe thead th {\n",
       "        text-align: right;\n",
       "    }\n",
       "</style>\n",
       "<table border=\"1\" class=\"dataframe\">\n",
       "  <thead>\n",
       "    <tr style=\"text-align: right;\">\n",
       "      <th></th>\n",
       "      <th>participants</th>\n",
       "      <th>file_name</th>\n",
       "      <th>date</th>\n",
       "      <th>idx</th>\n",
       "      <th>company_paticipants_yes</th>\n",
       "      <th>other_paticipants_yes</th>\n",
       "      <th>company_name</th>\n",
       "      <th>paraghrph</th>\n",
       "      <th>paraghrph_clean</th>\n",
       "      <th>paraghrph_noun</th>\n",
       "      <th>token</th>\n",
       "      <th>word_count</th>\n",
       "      <th>char_count</th>\n",
       "      <th>sentence_count</th>\n",
       "      <th>avg_word_length</th>\n",
       "      <th>avg_sentence_length</th>\n",
       "    </tr>\n",
       "  </thead>\n",
       "  <tbody>\n",
       "    <tr>\n",
       "      <th>0</th>\n",
       "      <td>Chris Knight</td>\n",
       "      <td>20110202_LEGAL_-_GEN_GRP-_Guidance_Call_2011-2...</td>\n",
       "      <td>2011-02-02</td>\n",
       "      <td>262.0</td>\n",
       "      <td>1</td>\n",
       "      <td>0</td>\n",
       "      <td>LEGAL -</td>\n",
       "      <td>I don't think that's -- I think that's sort of...</td>\n",
       "      <td>I don't think that's -- I think that's sort of...</td>\n",
       "      <td>sequitur</td>\n",
       "      <td>[sequitur]</td>\n",
       "      <td>1</td>\n",
       "      <td>8</td>\n",
       "      <td>2</td>\n",
       "      <td>8.0</td>\n",
       "      <td>0.50</td>\n",
       "    </tr>\n",
       "    <tr>\n",
       "      <th>1</th>\n",
       "      <td>Toby Langley</td>\n",
       "      <td>20110202_LEGAL_-_GEN_GRP-_Guidance_Call_2011-2...</td>\n",
       "      <td>2011-02-02</td>\n",
       "      <td>102.0</td>\n",
       "      <td>0</td>\n",
       "      <td>1</td>\n",
       "      <td>LEGAL -</td>\n",
       "      <td>I was merely referring to whether or not there...</td>\n",
       "      <td>I was merely referring to whether or not there...</td>\n",
       "      <td>cost project</td>\n",
       "      <td>[cost, project]</td>\n",
       "      <td>2</td>\n",
       "      <td>11</td>\n",
       "      <td>2</td>\n",
       "      <td>5.5</td>\n",
       "      <td>1.00</td>\n",
       "    </tr>\n",
       "    <tr>\n",
       "      <th>2</th>\n",
       "      <td>Toby Langley</td>\n",
       "      <td>20110202_LEGAL_-_GEN_GRP-_Guidance_Call_2011-2...</td>\n",
       "      <td>2011-02-02</td>\n",
       "      <td>111.0</td>\n",
       "      <td>0</td>\n",
       "      <td>1</td>\n",
       "      <td>LEGAL -</td>\n",
       "      <td>They will. Okay. Thank you.</td>\n",
       "      <td>They will Okay Thank you</td>\n",
       "      <td>nan</td>\n",
       "      <td>[nan]</td>\n",
       "      <td>1</td>\n",
       "      <td>3</td>\n",
       "      <td>4</td>\n",
       "      <td>3.0</td>\n",
       "      <td>0.25</td>\n",
       "    </tr>\n",
       "  </tbody>\n",
       "</table>\n",
       "</div>"
      ],
      "text/plain": [
       "   participants                                          file_name  \\\n",
       "0  Chris Knight  20110202_LEGAL_-_GEN_GRP-_Guidance_Call_2011-2...   \n",
       "1  Toby Langley  20110202_LEGAL_-_GEN_GRP-_Guidance_Call_2011-2...   \n",
       "2  Toby Langley  20110202_LEGAL_-_GEN_GRP-_Guidance_Call_2011-2...   \n",
       "\n",
       "         date    idx  company_paticipants_yes  other_paticipants_yes  \\\n",
       "0  2011-02-02  262.0                        1                      0   \n",
       "1  2011-02-02  102.0                        0                      1   \n",
       "2  2011-02-02  111.0                        0                      1   \n",
       "\n",
       "  company_name                                          paraghrph  \\\n",
       "0      LEGAL -  I don't think that's -- I think that's sort of...   \n",
       "1      LEGAL -  I was merely referring to whether or not there...   \n",
       "2      LEGAL -                        They will. Okay. Thank you.   \n",
       "\n",
       "                                     paraghrph_clean paraghrph_noun  \\\n",
       "0  I don't think that's -- I think that's sort of...       sequitur   \n",
       "1  I was merely referring to whether or not there...   cost project   \n",
       "2                           They will Okay Thank you            nan   \n",
       "\n",
       "             token  word_count  char_count  sentence_count  avg_word_length  \\\n",
       "0       [sequitur]           1           8               2              8.0   \n",
       "1  [cost, project]           2          11               2              5.5   \n",
       "2            [nan]           1           3               4              3.0   \n",
       "\n",
       "   avg_sentence_length  \n",
       "0                 0.50  \n",
       "1                 1.00  \n",
       "2                 0.25  "
      ]
     },
     "execution_count": 5,
     "metadata": {},
     "output_type": "execute_result"
    }
   ],
   "source": [
    "# create column for length analysis outcome\n",
    "model_df['word_count'] = model_df[\"token\"].apply(lambda x: len(x))\n",
    "model_df['char_count'] = model_df[\"token\"].apply(lambda x: sum(len(word) for word in x))\n",
    "model_df['sentence_count']  = model_df['paraghrph'].apply(lambda x: len(str(x).split(\".\")))\n",
    "model_df['avg_word_length'] = model_df['char_count'] / model_df['word_count']\n",
    "model_df['avg_sentence_length'] = model_df['word_count'] / model_df['sentence_count'] # note that the word_count is only with noun tokens\n",
    "model_df.head(3)"
   ]
  },
  {
   "cell_type": "code",
   "execution_count": 6,
   "metadata": {},
   "outputs": [],
   "source": [
    "# exclude the rows that the sentence_count is less than 3\n",
    "model_df = model_df[model_df['sentence_count']>4]\n",
    "# reset the index\n",
    "model_df = model_df.reset_index(drop=True)"
   ]
  },
  {
   "cell_type": "code",
   "execution_count": 7,
   "metadata": {},
   "outputs": [],
   "source": [
    "model_df_original = model_df.copy()"
   ]
  },
  {
   "cell_type": "code",
   "execution_count": 8,
   "metadata": {},
   "outputs": [
    {
     "data": {
      "image/png": "[encoded data removed]",
      "text/plain": [
       "<Figure size 6480x1296 with 1 Axes>"
      ]
     },
     "metadata": {
      "needs_background": "light"
     },
     "output_type": "display_data"
    },
    {
     "data": {
      "text/html": [
       "<div>\n",
       "<style scoped>\n",
       "    .dataframe tbody tr th:only-of-type {\n",
       "        vertical-align: middle;\n",
       "    }\n",
       "\n",
       "    .dataframe tbody tr th {\n",
       "        vertical-align: top;\n",
       "    }\n",
       "\n",
       "    .dataframe thead th {\n",
       "        text-align: right;\n",
       "    }\n",
       "</style>\n",
       "<table border=\"1\" class=\"dataframe\">\n",
       "  <thead>\n",
       "    <tr style=\"text-align: right;\">\n",
       "      <th></th>\n",
       "      <th>word</th>\n",
       "      <th>freq</th>\n",
       "    </tr>\n",
       "  </thead>\n",
       "  <tbody>\n",
       "    <tr>\n",
       "      <th>0</th>\n",
       "      <td>question</td>\n",
       "      <td>27369</td>\n",
       "    </tr>\n",
       "    <tr>\n",
       "      <th>1</th>\n",
       "      <td>year</td>\n",
       "      <td>26071</td>\n",
       "    </tr>\n",
       "    <tr>\n",
       "      <th>2</th>\n",
       "      <td>market</td>\n",
       "      <td>14161</td>\n",
       "    </tr>\n",
       "    <tr>\n",
       "      <th>3</th>\n",
       "      <td>term</td>\n",
       "      <td>13637</td>\n",
       "    </tr>\n",
       "    <tr>\n",
       "      <th>4</th>\n",
       "      <td>time</td>\n",
       "      <td>13083</td>\n",
       "    </tr>\n",
       "    <tr>\n",
       "      <th>...</th>\n",
       "      <td>...</td>\n",
       "      <td>...</td>\n",
       "    </tr>\n",
       "    <tr>\n",
       "      <th>8547</th>\n",
       "      <td>gym</td>\n",
       "      <td>1</td>\n",
       "    </tr>\n",
       "    <tr>\n",
       "      <th>8548</th>\n",
       "      <td>voucher</td>\n",
       "      <td>1</td>\n",
       "    </tr>\n",
       "    <tr>\n",
       "      <th>8549</th>\n",
       "      <td>clink</td>\n",
       "      <td>1</td>\n",
       "    </tr>\n",
       "    <tr>\n",
       "      <th>8550</th>\n",
       "      <td>reflex</td>\n",
       "      <td>1</td>\n",
       "    </tr>\n",
       "    <tr>\n",
       "      <th>10957</th>\n",
       "      <td>easy</td>\n",
       "      <td>1</td>\n",
       "    </tr>\n",
       "  </tbody>\n",
       "</table>\n",
       "<p>10958 rows × 2 columns</p>\n",
       "</div>"
      ],
      "text/plain": [
       "           word   freq\n",
       "0      question  27369\n",
       "1          year  26071\n",
       "2        market  14161\n",
       "3          term  13637\n",
       "4          time  13083\n",
       "...         ...    ...\n",
       "8547        gym      1\n",
       "8548    voucher      1\n",
       "8549      clink      1\n",
       "8550     reflex      1\n",
       "10957      easy      1\n",
       "\n",
       "[10958 rows x 2 columns]"
      ]
     },
     "execution_count": 8,
     "metadata": {},
     "output_type": "execute_result"
    }
   ],
   "source": [
    "# high frequency words excluding\n",
    "temp_token = model_df_original['token'] # .apply(remove_brackets)\n",
    "docs_tokens = []\n",
    "for i in temp_token:\n",
    "    docs_tokens.append(i)\n",
    "    \n",
    "# word frequency\n",
    "# explore word frequencies\n",
    "word_freq = Counter(x for xs in docs_tokens for x in set(xs)).most_common()\n",
    "word_fr = pd.DataFrame(word_freq, columns=['word', 'freq']).sort_values(by='freq', ascending=False)\n",
    "\n",
    "# visualize word frequencies\n",
    "# figure size\n",
    "fig = plt.figure(figsize=(90, 18))\n",
    "plt.bar(word_fr.word[0:150], word_fr.freq[0:150], color='green')\n",
    "plt.xlabel(\"Word\")\n",
    "plt.ylabel(\"Count\")\n",
    "plt.title(\"Word Frequency\")\n",
    "plt.show()\n",
    "\n",
    "# remove 50 most frequent words which is known in this context\n",
    "word_list = word_fr.head(150)['word'].to_list()\n",
    "mdy_list, tmp=[],[]\n",
    "for review in docs_tokens:\n",
    "    for word in review:\n",
    "        if word not in word_list:\n",
    "            tmp.append(word)\n",
    "    mdy_list.append(tmp)\n",
    "    tmp=[]\n",
    "\n",
    "model_df['token'] = mdy_list\n",
    "word_fr"
   ]
  },
  {
   "cell_type": "code",
   "execution_count": 9,
   "metadata": {},
   "outputs": [
    {
     "data": {
      "text/html": [
       "<div>\n",
       "<style scoped>\n",
       "    .dataframe tbody tr th:only-of-type {\n",
       "        vertical-align: middle;\n",
       "    }\n",
       "\n",
       "    .dataframe tbody tr th {\n",
       "        vertical-align: top;\n",
       "    }\n",
       "\n",
       "    .dataframe thead th {\n",
       "        text-align: right;\n",
       "    }\n",
       "</style>\n",
       "<table border=\"1\" class=\"dataframe\">\n",
       "  <thead>\n",
       "    <tr style=\"text-align: right;\">\n",
       "      <th></th>\n",
       "      <th>participants</th>\n",
       "      <th>file_name</th>\n",
       "      <th>date</th>\n",
       "      <th>idx</th>\n",
       "      <th>company_paticipants_yes</th>\n",
       "      <th>other_paticipants_yes</th>\n",
       "      <th>company_name</th>\n",
       "      <th>paraghrph</th>\n",
       "      <th>paraghrph_clean</th>\n",
       "      <th>paraghrph_noun</th>\n",
       "      <th>token</th>\n",
       "      <th>word_count</th>\n",
       "      <th>char_count</th>\n",
       "      <th>sentence_count</th>\n",
       "      <th>avg_word_length</th>\n",
       "      <th>avg_sentence_length</th>\n",
       "      <th>year</th>\n",
       "      <th>month</th>\n",
       "      <th>quater</th>\n",
       "      <th>year_quater</th>\n",
       "    </tr>\n",
       "  </thead>\n",
       "  <tbody>\n",
       "    <tr>\n",
       "      <th>0</th>\n",
       "      <td>Luigi Lubelli</td>\n",
       "      <td>20110202 _Mapfre_SA_Earnings_Call_SD0000000027...</td>\n",
       "      <td>2011-02-02</td>\n",
       "      <td>229.0</td>\n",
       "      <td>1</td>\n",
       "      <td>0</td>\n",
       "      <td>Mapfre SA</td>\n",
       "      <td>No, Giulia, this is always only real estate. B...</td>\n",
       "      <td>No  this is always only real estate Bear in mi...</td>\n",
       "      <td>estate mind valuation difference equity value ...</td>\n",
       "      <td>[estate, valuation, impairment]</td>\n",
       "      <td>10</td>\n",
       "      <td>68</td>\n",
       "      <td>6</td>\n",
       "      <td>6.800000</td>\n",
       "      <td>1.666667</td>\n",
       "      <td>2011</td>\n",
       "      <td>2</td>\n",
       "      <td>1</td>\n",
       "      <td>2011-1</td>\n",
       "    </tr>\n",
       "    <tr>\n",
       "      <th>1</th>\n",
       "      <td>Chris Knight</td>\n",
       "      <td>20110202_LEGAL_-_GEN_GRP-_Guidance_Call_2011-2...</td>\n",
       "      <td>2011-02-02</td>\n",
       "      <td>256.0</td>\n",
       "      <td>1</td>\n",
       "      <td>0</td>\n",
       "      <td>LEGAL -</td>\n",
       "      <td>Well we bring in to our Group's IGD, we bring ...</td>\n",
       "      <td>Well we bring in to our 's IGD we bring in the...</td>\n",
       "      <td>surplus negative liability</td>\n",
       "      <td>[surplus, negative]</td>\n",
       "      <td>3</td>\n",
       "      <td>24</td>\n",
       "      <td>5</td>\n",
       "      <td>8.000000</td>\n",
       "      <td>0.600000</td>\n",
       "      <td>2011</td>\n",
       "      <td>2</td>\n",
       "      <td>1</td>\n",
       "      <td>2011-1</td>\n",
       "    </tr>\n",
       "    <tr>\n",
       "      <th>2</th>\n",
       "      <td>Chris Knight</td>\n",
       "      <td>20110202_LEGAL_-_GEN_GRP-_Guidance_Call_2011-2...</td>\n",
       "      <td>2011-02-02</td>\n",
       "      <td>250.0</td>\n",
       "      <td>1</td>\n",
       "      <td>0</td>\n",
       "      <td>LEGAL -</td>\n",
       "      <td>Then, just to pick up on your question, the $6...</td>\n",
       "      <td>Then just to pick up on your question the $ mi...</td>\n",
       "      <td>question balance sheet balance sheet liability...</td>\n",
       "      <td>[x]</td>\n",
       "      <td>9</td>\n",
       "      <td>55</td>\n",
       "      <td>5</td>\n",
       "      <td>6.111111</td>\n",
       "      <td>1.800000</td>\n",
       "      <td>2011</td>\n",
       "      <td>2</td>\n",
       "      <td>1</td>\n",
       "      <td>2011-1</td>\n",
       "    </tr>\n",
       "    <tr>\n",
       "      <th>3</th>\n",
       "      <td>Chris Knight</td>\n",
       "      <td>20110202_LEGAL_-_GEN_GRP-_Guidance_Call_2011-2...</td>\n",
       "      <td>2011-02-02</td>\n",
       "      <td>70.0</td>\n",
       "      <td>1</td>\n",
       "      <td>0</td>\n",
       "      <td>LEGAL -</td>\n",
       "      <td>There are a number of both short-term and long...</td>\n",
       "      <td>There are a number of both short-term and long...</td>\n",
       "      <td>number term term development space moment pict...</td>\n",
       "      <td>[space, picture, x, bur]</td>\n",
       "      <td>14</td>\n",
       "      <td>69</td>\n",
       "      <td>7</td>\n",
       "      <td>4.928571</td>\n",
       "      <td>2.000000</td>\n",
       "      <td>2011</td>\n",
       "      <td>2</td>\n",
       "      <td>1</td>\n",
       "      <td>2011-1</td>\n",
       "    </tr>\n",
       "    <tr>\n",
       "      <th>4</th>\n",
       "      <td>Chris Knight</td>\n",
       "      <td>20110202_LEGAL_-_GEN_GRP-_Guidance_Call_2011-2...</td>\n",
       "      <td>2011-02-02</td>\n",
       "      <td>19.0</td>\n",
       "      <td>1</td>\n",
       "      <td>0</td>\n",
       "      <td>LEGAL -</td>\n",
       "      <td>Nigel, could I add that as well as the $3 bill...</td>\n",
       "      <td>could I add that as well as the $ billion of ...</td>\n",
       "      <td>financing financing balance sheet word company...</td>\n",
       "      <td>[finance, financing, word, x]</td>\n",
       "      <td>8</td>\n",
       "      <td>47</td>\n",
       "      <td>5</td>\n",
       "      <td>5.875000</td>\n",
       "      <td>1.600000</td>\n",
       "      <td>2011</td>\n",
       "      <td>2</td>\n",
       "      <td>1</td>\n",
       "      <td>2011-1</td>\n",
       "    </tr>\n",
       "    <tr>\n",
       "      <th>...</th>\n",
       "      <td>...</td>\n",
       "      <td>...</td>\n",
       "      <td>...</td>\n",
       "      <td>...</td>\n",
       "      <td>...</td>\n",
       "      <td>...</td>\n",
       "      <td>...</td>\n",
       "      <td>...</td>\n",
       "      <td>...</td>\n",
       "      <td>...</td>\n",
       "      <td>...</td>\n",
       "      <td>...</td>\n",
       "      <td>...</td>\n",
       "      <td>...</td>\n",
       "      <td>...</td>\n",
       "      <td>...</td>\n",
       "      <td>...</td>\n",
       "      <td>...</td>\n",
       "      <td>...</td>\n",
       "      <td>...</td>\n",
       "    </tr>\n",
       "    <tr>\n",
       "      <th>60544</th>\n",
       "      <td>Operator</td>\n",
       "      <td>20220427_GJENSIDIGE_FORSI-_Earnings_Call_2022-...</td>\n",
       "      <td>2022-04-27</td>\n",
       "      <td>0.0</td>\n",
       "      <td>1</td>\n",
       "      <td>1</td>\n",
       "      <td>GJENSIDIGE FORSI-</td>\n",
       "      <td>Thank you.     We will take our ﬁrst quest...</td>\n",
       "      <td>Thank you     We will take our ﬁrst questi...</td>\n",
       "      <td>question k</td>\n",
       "      <td>[k]</td>\n",
       "      <td>2</td>\n",
       "      <td>9</td>\n",
       "      <td>5</td>\n",
       "      <td>4.500000</td>\n",
       "      <td>0.400000</td>\n",
       "      <td>2022</td>\n",
       "      <td>4</td>\n",
       "      <td>2</td>\n",
       "      <td>2022-2</td>\n",
       "    </tr>\n",
       "    <tr>\n",
       "      <th>60545</th>\n",
       "      <td>Helge Leiro Baastad</td>\n",
       "      <td>20220427_GJENSIDIGE_FORSI-_Earnings_Call_2022-...</td>\n",
       "      <td>2022-04-27</td>\n",
       "      <td>251.0</td>\n",
       "      <td>1</td>\n",
       "      <td>0</td>\n",
       "      <td>GJENSIDIGE FORSI-</td>\n",
       "      <td>Company Name Gjensidige Forsikring ASA It's se...</td>\n",
       "      <td>Name Gjensidige  ASA It's seldom and I say th...</td>\n",
       "      <td>question ability fact driver claim inﬂation wa...</td>\n",
       "      <td>[ability, inﬂation, wage, g, estimate, governm...</td>\n",
       "      <td>28</td>\n",
       "      <td>189</td>\n",
       "      <td>10</td>\n",
       "      <td>6.750000</td>\n",
       "      <td>2.800000</td>\n",
       "      <td>2022</td>\n",
       "      <td>4</td>\n",
       "      <td>2</td>\n",
       "      <td>2022-2</td>\n",
       "    </tr>\n",
       "    <tr>\n",
       "      <th>60546</th>\n",
       "      <td>Blair Stewart</td>\n",
       "      <td>20220427_GJENSIDIGE_FORSI-_Earnings_Call_2022-...</td>\n",
       "      <td>2022-04-27</td>\n",
       "      <td>4.0</td>\n",
       "      <td>0</td>\n",
       "      <td>1</td>\n",
       "      <td>GJENSIDIGE FORSI-</td>\n",
       "      <td>Thank you very much, and good morning, gents. ...</td>\n",
       "      <td>Thank you very much and good morning gents I'v...</td>\n",
       "      <td>morning gent question detail one system bit im...</td>\n",
       "      <td>[gent, beneﬁts, game, changer, think, lag, ope...</td>\n",
       "      <td>42</td>\n",
       "      <td>225</td>\n",
       "      <td>13</td>\n",
       "      <td>5.357143</td>\n",
       "      <td>3.230769</td>\n",
       "      <td>2022</td>\n",
       "      <td>4</td>\n",
       "      <td>2</td>\n",
       "      <td>2022-2</td>\n",
       "    </tr>\n",
       "    <tr>\n",
       "      <th>60547</th>\n",
       "      <td>Blair Stewart</td>\n",
       "      <td>20220427_GJENSIDIGE_FORSI-_Earnings_Call_2022-...</td>\n",
       "      <td>2022-04-27</td>\n",
       "      <td>50.0</td>\n",
       "      <td>0</td>\n",
       "      <td>1</td>\n",
       "      <td>GJENSIDIGE FORSI-</td>\n",
       "      <td>Okay. Understood. So much messages. Thank you.</td>\n",
       "      <td>Okay Unstood So much messages Thank you</td>\n",
       "      <td>message</td>\n",
       "      <td>[message]</td>\n",
       "      <td>1</td>\n",
       "      <td>7</td>\n",
       "      <td>5</td>\n",
       "      <td>7.000000</td>\n",
       "      <td>0.200000</td>\n",
       "      <td>2022</td>\n",
       "      <td>4</td>\n",
       "      <td>2</td>\n",
       "      <td>2022-2</td>\n",
       "    </tr>\n",
       "    <tr>\n",
       "      <th>60548</th>\n",
       "      <td>Alexander Evans</td>\n",
       "      <td>20220427_GJENSIDIGE_FORSI-_Earnings_Call_2022-...</td>\n",
       "      <td>2022-04-27</td>\n",
       "      <td>335.0</td>\n",
       "      <td>0</td>\n",
       "      <td>1</td>\n",
       "      <td>GJENSIDIGE FORSI-</td>\n",
       "      <td>Hi everyone. Thanks for taking my questions. M...</td>\n",
       "      <td>Hi everyone Thanks for taking my questions Mai...</td>\n",
       "      <td>thank question thank plan conﬁce level ratio q...</td>\n",
       "      <td>[conﬁce, seller, size, contribution, car, car,...</td>\n",
       "      <td>26</td>\n",
       "      <td>139</td>\n",
       "      <td>12</td>\n",
       "      <td>5.346154</td>\n",
       "      <td>2.166667</td>\n",
       "      <td>2022</td>\n",
       "      <td>4</td>\n",
       "      <td>2</td>\n",
       "      <td>2022-2</td>\n",
       "    </tr>\n",
       "  </tbody>\n",
       "</table>\n",
       "<p>60549 rows × 20 columns</p>\n",
       "</div>"
      ],
      "text/plain": [
       "              participants                                          file_name  \\\n",
       "0            Luigi Lubelli  20110202 _Mapfre_SA_Earnings_Call_SD0000000027...   \n",
       "1             Chris Knight  20110202_LEGAL_-_GEN_GRP-_Guidance_Call_2011-2...   \n",
       "2             Chris Knight  20110202_LEGAL_-_GEN_GRP-_Guidance_Call_2011-2...   \n",
       "3             Chris Knight  20110202_LEGAL_-_GEN_GRP-_Guidance_Call_2011-2...   \n",
       "4             Chris Knight  20110202_LEGAL_-_GEN_GRP-_Guidance_Call_2011-2...   \n",
       "...                    ...                                                ...   \n",
       "60544             Operator  20220427_GJENSIDIGE_FORSI-_Earnings_Call_2022-...   \n",
       "60545  Helge Leiro Baastad  20220427_GJENSIDIGE_FORSI-_Earnings_Call_2022-...   \n",
       "60546        Blair Stewart  20220427_GJENSIDIGE_FORSI-_Earnings_Call_2022-...   \n",
       "60547        Blair Stewart  20220427_GJENSIDIGE_FORSI-_Earnings_Call_2022-...   \n",
       "60548      Alexander Evans  20220427_GJENSIDIGE_FORSI-_Earnings_Call_2022-...   \n",
       "\n",
       "             date    idx  company_paticipants_yes  other_paticipants_yes  \\\n",
       "0      2011-02-02  229.0                        1                      0   \n",
       "1      2011-02-02  256.0                        1                      0   \n",
       "2      2011-02-02  250.0                        1                      0   \n",
       "3      2011-02-02   70.0                        1                      0   \n",
       "4      2011-02-02   19.0                        1                      0   \n",
       "...           ...    ...                      ...                    ...   \n",
       "60544  2022-04-27    0.0                        1                      1   \n",
       "60545  2022-04-27  251.0                        1                      0   \n",
       "60546  2022-04-27    4.0                        0                      1   \n",
       "60547  2022-04-27   50.0                        0                      1   \n",
       "60548  2022-04-27  335.0                        0                      1   \n",
       "\n",
       "            company_name                                          paraghrph  \\\n",
       "0              Mapfre SA  No, Giulia, this is always only real estate. B...   \n",
       "1                LEGAL -  Well we bring in to our Group's IGD, we bring ...   \n",
       "2                LEGAL -  Then, just to pick up on your question, the $6...   \n",
       "3                LEGAL -  There are a number of both short-term and long...   \n",
       "4                LEGAL -  Nigel, could I add that as well as the $3 bill...   \n",
       "...                  ...                                                ...   \n",
       "60544  GJENSIDIGE FORSI-      Thank you.     We will take our ﬁrst quest...   \n",
       "60545  GJENSIDIGE FORSI-  Company Name Gjensidige Forsikring ASA It's se...   \n",
       "60546  GJENSIDIGE FORSI-  Thank you very much, and good morning, gents. ...   \n",
       "60547  GJENSIDIGE FORSI-     Okay. Understood. So much messages. Thank you.   \n",
       "60548  GJENSIDIGE FORSI-  Hi everyone. Thanks for taking my questions. M...   \n",
       "\n",
       "                                         paraghrph_clean  \\\n",
       "0      No  this is always only real estate Bear in mi...   \n",
       "1      Well we bring in to our 's IGD we bring in the...   \n",
       "2      Then just to pick up on your question the $ mi...   \n",
       "3      There are a number of both short-term and long...   \n",
       "4       could I add that as well as the $ billion of ...   \n",
       "...                                                  ...   \n",
       "60544      Thank you     We will take our ﬁrst questi...   \n",
       "60545   Name Gjensidige  ASA It's seldom and I say th...   \n",
       "60546  Thank you very much and good morning gents I'v...   \n",
       "60547            Okay Unstood So much messages Thank you   \n",
       "60548  Hi everyone Thanks for taking my questions Mai...   \n",
       "\n",
       "                                          paraghrph_noun  \\\n",
       "0      estate mind valuation difference equity value ...   \n",
       "1                             surplus negative liability   \n",
       "2      question balance sheet balance sheet liability...   \n",
       "3      number term term development space moment pict...   \n",
       "4      financing financing balance sheet word company...   \n",
       "...                                                  ...   \n",
       "60544                                         question k   \n",
       "60545  question ability fact driver claim inﬂation wa...   \n",
       "60546  morning gent question detail one system bit im...   \n",
       "60547                                            message   \n",
       "60548  thank question thank plan conﬁce level ratio q...   \n",
       "\n",
       "                                                   token  word_count  \\\n",
       "0                        [estate, valuation, impairment]          10   \n",
       "1                                    [surplus, negative]           3   \n",
       "2                                                    [x]           9   \n",
       "3                               [space, picture, x, bur]          14   \n",
       "4                          [finance, financing, word, x]           8   \n",
       "...                                                  ...         ...   \n",
       "60544                                                [k]           2   \n",
       "60545  [ability, inﬂation, wage, g, estimate, governm...          28   \n",
       "60546  [gent, beneﬁts, game, changer, think, lag, ope...          42   \n",
       "60547                                          [message]           1   \n",
       "60548  [conﬁce, seller, size, contribution, car, car,...          26   \n",
       "\n",
       "       char_count  sentence_count  avg_word_length  avg_sentence_length  year  \\\n",
       "0              68               6         6.800000             1.666667  2011   \n",
       "1              24               5         8.000000             0.600000  2011   \n",
       "2              55               5         6.111111             1.800000  2011   \n",
       "3              69               7         4.928571             2.000000  2011   \n",
       "4              47               5         5.875000             1.600000  2011   \n",
       "...           ...             ...              ...                  ...   ...   \n",
       "60544           9               5         4.500000             0.400000  2022   \n",
       "60545         189              10         6.750000             2.800000  2022   \n",
       "60546         225              13         5.357143             3.230769  2022   \n",
       "60547           7               5         7.000000             0.200000  2022   \n",
       "60548         139              12         5.346154             2.166667  2022   \n",
       "\n",
       "       month  quater year_quater  \n",
       "0          2       1      2011-1  \n",
       "1          2       1      2011-1  \n",
       "2          2       1      2011-1  \n",
       "3          2       1      2011-1  \n",
       "4          2       1      2011-1  \n",
       "...      ...     ...         ...  \n",
       "60544      4       2      2022-2  \n",
       "60545      4       2      2022-2  \n",
       "60546      4       2      2022-2  \n",
       "60547      4       2      2022-2  \n",
       "60548      4       2      2022-2  \n",
       "\n",
       "[60549 rows x 20 columns]"
      ]
     },
     "execution_count": 9,
     "metadata": {},
     "output_type": "execute_result"
    }
   ],
   "source": [
    "# DTM模型（Dynamic Topic Models: 加入时间因素，不同主题随着时间变动) 时间-主题词条矩阵、主题-时间词条矩阵、文档主题偏好、新文档预测、跨时间+主题属性的文档相似性\n",
    "# https://cloud.tencent.com/developer/article/1435976\n",
    "\n",
    "model_df['date'] = pd.to_datetime(model_df['date'])\n",
    "model_df['year'] = model_df['date'].apply(lambda x: x.year)\n",
    "model_df['month'] = model_df['date'].apply(lambda x: x.month)\n",
    "model_df['quater'] = model_df['date'].apply(lambda x: x.quarter)\n",
    "model_df['year_quater'] = model_df['year'].astype(str) + '-' + model_df['quater'].astype(str)\n",
    "# model_df['date'] to str\n",
    "model_df['date'] = model_df['date'].astype(str)\n",
    "model_df"
   ]
  },
  {
   "cell_type": "code",
   "execution_count": 10,
   "metadata": {},
   "outputs": [
    {
     "data": {
      "text/html": [
       "<div>\n",
       "<style scoped>\n",
       "    .dataframe tbody tr th:only-of-type {\n",
       "        vertical-align: middle;\n",
       "    }\n",
       "\n",
       "    .dataframe tbody tr th {\n",
       "        vertical-align: top;\n",
       "    }\n",
       "\n",
       "    .dataframe thead th {\n",
       "        text-align: right;\n",
       "    }\n",
       "</style>\n",
       "<table border=\"1\" class=\"dataframe\">\n",
       "  <thead>\n",
       "    <tr style=\"text-align: right;\">\n",
       "      <th></th>\n",
       "      <th>year_quater</th>\n",
       "      <th>token</th>\n",
       "    </tr>\n",
       "  </thead>\n",
       "  <tbody>\n",
       "    <tr>\n",
       "      <th>0</th>\n",
       "      <td>2011-1</td>\n",
       "      <td>[estate, valuation, impairment, surplus, negat...</td>\n",
       "    </tr>\n",
       "    <tr>\n",
       "      <th>1</th>\n",
       "      <td>2011-2</td>\n",
       "      <td>[sterling, decd, initiative, report, catastrop...</td>\n",
       "    </tr>\n",
       "    <tr>\n",
       "      <th>2</th>\n",
       "      <td>2011-3</td>\n",
       "      <td>[description, description, item, sound, confer...</td>\n",
       "    </tr>\n",
       "    <tr>\n",
       "      <th>3</th>\n",
       "      <td>2011-4</td>\n",
       "      <td>[piece, piece, adjustment, structure, alliance...</td>\n",
       "    </tr>\n",
       "    <tr>\n",
       "      <th>4</th>\n",
       "      <td>2012-1</td>\n",
       "      <td>[lady, gentleman, teleconference, e, shortfall...</td>\n",
       "    </tr>\n",
       "    <tr>\n",
       "      <th>5</th>\n",
       "      <td>2012-2</td>\n",
       "      <td>[reinstatement, picture, respect, demand, pict...</td>\n",
       "    </tr>\n",
       "    <tr>\n",
       "      <th>6</th>\n",
       "      <td>2012-3</td>\n",
       "      <td>[choice, pension, scheme, contribution, stad, ...</td>\n",
       "    </tr>\n",
       "    <tr>\n",
       "      <th>7</th>\n",
       "      <td>2012-4</td>\n",
       "      <td>[sector, provision, datum, diﬀerent, split, ﬁg...</td>\n",
       "    </tr>\n",
       "    <tr>\n",
       "      <th>8</th>\n",
       "      <td>2013-1</td>\n",
       "      <td>[step, spring, dialog, clarity, autumn, step, ...</td>\n",
       "    </tr>\n",
       "    <tr>\n",
       "      <th>9</th>\n",
       "      <td>2013-2</td>\n",
       "      <td>[ster, bunch, building, employee, worker, comp...</td>\n",
       "    </tr>\n",
       "    <tr>\n",
       "      <th>10</th>\n",
       "      <td>2013-3</td>\n",
       "      <td>[earr, regard, e, thought, set, reference, cat...</td>\n",
       "    </tr>\n",
       "    <tr>\n",
       "      <th>11</th>\n",
       "      <td>2013-4</td>\n",
       "      <td>[split, save, ambition, save, procurement, tot...</td>\n",
       "    </tr>\n",
       "    <tr>\n",
       "      <th>12</th>\n",
       "      <td>2014-1</td>\n",
       "      <td>[temperature, magnitude, forecast, round, temp...</td>\n",
       "    </tr>\n",
       "    <tr>\n",
       "      <th>13</th>\n",
       "      <td>2014-2</td>\n",
       "      <td>[save, diﬃcult, sting, word, iel, report, rema...</td>\n",
       "    </tr>\n",
       "    <tr>\n",
       "      <th>14</th>\n",
       "      <td>2014-3</td>\n",
       "      <td>[gentleman, pie, icle, association, majority, ...</td>\n",
       "    </tr>\n",
       "    <tr>\n",
       "      <th>15</th>\n",
       "      <td>2014-4</td>\n",
       "      <td>[oﬀ, connection, buﬀer, rule, oﬀ, report, pote...</td>\n",
       "    </tr>\n",
       "    <tr>\n",
       "      <th>16</th>\n",
       "      <td>2015-1</td>\n",
       "      <td>[relative, inflation, granularity, slip, fall,...</td>\n",
       "    </tr>\n",
       "    <tr>\n",
       "      <th>17</th>\n",
       "      <td>2015-2</td>\n",
       "      <td>[sum, weather, oﬀs, unlye, total, saving, u, r...</td>\n",
       "    </tr>\n",
       "    <tr>\n",
       "      <th>18</th>\n",
       "      <td>2015-3</td>\n",
       "      <td>[overlap, redundancy, nature, efficiency, prof...</td>\n",
       "    </tr>\n",
       "    <tr>\n",
       "      <th>19</th>\n",
       "      <td>2015-4</td>\n",
       "      <td>[buyback, buyback, doubt, child, buyback, caps...</td>\n",
       "    </tr>\n",
       "    <tr>\n",
       "      <th>20</th>\n",
       "      <td>2016-1</td>\n",
       "      <td>[holdco, payout, disclosure, payout, payout, p...</td>\n",
       "    </tr>\n",
       "    <tr>\n",
       "      <th>21</th>\n",
       "      <td>2016-2</td>\n",
       "      <td>[man, picular, matter, macro, priority, porate...</td>\n",
       "    </tr>\n",
       "    <tr>\n",
       "      <th>22</th>\n",
       "      <td>2016-3</td>\n",
       "      <td>[longevity, pension, longevity, swap, merger, ...</td>\n",
       "    </tr>\n",
       "    <tr>\n",
       "      <th>23</th>\n",
       "      <td>2016-4</td>\n",
       "      <td>[member, hope, talent, lapse, likelihood, mone...</td>\n",
       "    </tr>\n",
       "    <tr>\n",
       "      <th>24</th>\n",
       "      <td>2017-1</td>\n",
       "      <td>[week, city, email, supprs, agent, error, tran...</td>\n",
       "    </tr>\n",
       "    <tr>\n",
       "      <th>25</th>\n",
       "      <td>2017-2</td>\n",
       "      <td>[retention, drop, mean, reaction, service, set...</td>\n",
       "    </tr>\n",
       "    <tr>\n",
       "      <th>26</th>\n",
       "      <td>2017-3</td>\n",
       "      <td>[specialty, unwriting, shop, conviction, disci...</td>\n",
       "    </tr>\n",
       "    <tr>\n",
       "      <th>27</th>\n",
       "      <td>2017-4</td>\n",
       "      <td>[bar, closing, datum, brown, inconsistency, pn...</td>\n",
       "    </tr>\n",
       "    <tr>\n",
       "      <th>28</th>\n",
       "      <td>2018-1</td>\n",
       "      <td>[appearance, movie, robot, car, law, tort, law...</td>\n",
       "    </tr>\n",
       "    <tr>\n",
       "      <th>29</th>\n",
       "      <td>2018-2</td>\n",
       "      <td>[parameter, moing, story, parameter, retail, r...</td>\n",
       "    </tr>\n",
       "    <tr>\n",
       "      <th>30</th>\n",
       "      <td>2018-3</td>\n",
       "      <td>[picipation, supprs, agent, error, transcript,...</td>\n",
       "    </tr>\n",
       "    <tr>\n",
       "      <th>31</th>\n",
       "      <td>2018-4</td>\n",
       "      <td>[earr, check, disaster, accuracy, confice, for...</td>\n",
       "    </tr>\n",
       "    <tr>\n",
       "      <th>32</th>\n",
       "      <td>2019-1</td>\n",
       "      <td>[deficit, deficit, deficit, word, deficit, wor...</td>\n",
       "    </tr>\n",
       "    <tr>\n",
       "      <th>33</th>\n",
       "      <td>2019-2</td>\n",
       "      <td>[pner, merger, cetera, week, composition, vent...</td>\n",
       "    </tr>\n",
       "    <tr>\n",
       "      <th>34</th>\n",
       "      <td>2019-3</td>\n",
       "      <td>[capacity, capacity, majority, allocation, all...</td>\n",
       "    </tr>\n",
       "    <tr>\n",
       "      <th>35</th>\n",
       "      <td>2019-4</td>\n",
       "      <td>[aphia, porate, planning, catastrophe, catastr...</td>\n",
       "    </tr>\n",
       "    <tr>\n",
       "      <th>36</th>\n",
       "      <td>2020-1</td>\n",
       "      <td>[consolidation, consolidation, discip, bolt, a...</td>\n",
       "    </tr>\n",
       "    <tr>\n",
       "      <th>37</th>\n",
       "      <td>2020-2</td>\n",
       "      <td>[commentary, severity, auto, midsingle, digit,...</td>\n",
       "    </tr>\n",
       "    <tr>\n",
       "      <th>38</th>\n",
       "      <td>2020-3</td>\n",
       "      <td>[sting, lockdown, instance, majority, rebound,...</td>\n",
       "    </tr>\n",
       "    <tr>\n",
       "      <th>39</th>\n",
       "      <td>2020-4</td>\n",
       "      <td>[cmd, logistic, meeting, travel, negative, mat...</td>\n",
       "    </tr>\n",
       "    <tr>\n",
       "      <th>40</th>\n",
       "      <td>2021-1</td>\n",
       "      <td>[kpi, worker, comp, relative, pik, court, stin...</td>\n",
       "    </tr>\n",
       "    <tr>\n",
       "      <th>41</th>\n",
       "      <td>2021-2</td>\n",
       "      <td>[congrat, overlap, picular, investor, quilter,...</td>\n",
       "    </tr>\n",
       "    <tr>\n",
       "      <th>42</th>\n",
       "      <td>2021-3</td>\n",
       "      <td>[buyback, indication, think, buyback, feller, ...</td>\n",
       "    </tr>\n",
       "    <tr>\n",
       "      <th>43</th>\n",
       "      <td>2021-4</td>\n",
       "      <td>[player, proﬁt, procurement, agreement, networ...</td>\n",
       "    </tr>\n",
       "    <tr>\n",
       "      <th>44</th>\n",
       "      <td>2022-1</td>\n",
       "      <td>[eﬃciency, housing, problem, stage, initiative...</td>\n",
       "    </tr>\n",
       "    <tr>\n",
       "      <th>45</th>\n",
       "      <td>2022-2</td>\n",
       "      <td>[discount, yearover, uncertainty, inﬂation, ta...</td>\n",
       "    </tr>\n",
       "  </tbody>\n",
       "</table>\n",
       "</div>"
      ],
      "text/plain": [
       "   year_quater                                              token\n",
       "0       2011-1  [estate, valuation, impairment, surplus, negat...\n",
       "1       2011-2  [sterling, decd, initiative, report, catastrop...\n",
       "2       2011-3  [description, description, item, sound, confer...\n",
       "3       2011-4  [piece, piece, adjustment, structure, alliance...\n",
       "4       2012-1  [lady, gentleman, teleconference, e, shortfall...\n",
       "5       2012-2  [reinstatement, picture, respect, demand, pict...\n",
       "6       2012-3  [choice, pension, scheme, contribution, stad, ...\n",
       "7       2012-4  [sector, provision, datum, diﬀerent, split, ﬁg...\n",
       "8       2013-1  [step, spring, dialog, clarity, autumn, step, ...\n",
       "9       2013-2  [ster, bunch, building, employee, worker, comp...\n",
       "10      2013-3  [earr, regard, e, thought, set, reference, cat...\n",
       "11      2013-4  [split, save, ambition, save, procurement, tot...\n",
       "12      2014-1  [temperature, magnitude, forecast, round, temp...\n",
       "13      2014-2  [save, diﬃcult, sting, word, iel, report, rema...\n",
       "14      2014-3  [gentleman, pie, icle, association, majority, ...\n",
       "15      2014-4  [oﬀ, connection, buﬀer, rule, oﬀ, report, pote...\n",
       "16      2015-1  [relative, inflation, granularity, slip, fall,...\n",
       "17      2015-2  [sum, weather, oﬀs, unlye, total, saving, u, r...\n",
       "18      2015-3  [overlap, redundancy, nature, efficiency, prof...\n",
       "19      2015-4  [buyback, buyback, doubt, child, buyback, caps...\n",
       "20      2016-1  [holdco, payout, disclosure, payout, payout, p...\n",
       "21      2016-2  [man, picular, matter, macro, priority, porate...\n",
       "22      2016-3  [longevity, pension, longevity, swap, merger, ...\n",
       "23      2016-4  [member, hope, talent, lapse, likelihood, mone...\n",
       "24      2017-1  [week, city, email, supprs, agent, error, tran...\n",
       "25      2017-2  [retention, drop, mean, reaction, service, set...\n",
       "26      2017-3  [specialty, unwriting, shop, conviction, disci...\n",
       "27      2017-4  [bar, closing, datum, brown, inconsistency, pn...\n",
       "28      2018-1  [appearance, movie, robot, car, law, tort, law...\n",
       "29      2018-2  [parameter, moing, story, parameter, retail, r...\n",
       "30      2018-3  [picipation, supprs, agent, error, transcript,...\n",
       "31      2018-4  [earr, check, disaster, accuracy, confice, for...\n",
       "32      2019-1  [deficit, deficit, deficit, word, deficit, wor...\n",
       "33      2019-2  [pner, merger, cetera, week, composition, vent...\n",
       "34      2019-3  [capacity, capacity, majority, allocation, all...\n",
       "35      2019-4  [aphia, porate, planning, catastrophe, catastr...\n",
       "36      2020-1  [consolidation, consolidation, discip, bolt, a...\n",
       "37      2020-2  [commentary, severity, auto, midsingle, digit,...\n",
       "38      2020-3  [sting, lockdown, instance, majority, rebound,...\n",
       "39      2020-4  [cmd, logistic, meeting, travel, negative, mat...\n",
       "40      2021-1  [kpi, worker, comp, relative, pik, court, stin...\n",
       "41      2021-2  [congrat, overlap, picular, investor, quilter,...\n",
       "42      2021-3  [buyback, indication, think, buyback, feller, ...\n",
       "43      2021-4  [player, proﬁt, procurement, agreement, networ...\n",
       "44      2022-1  [eﬃciency, housing, problem, stage, initiative...\n",
       "45      2022-2  [discount, yearover, uncertainty, inﬂation, ta..."
      ]
     },
     "execution_count": 10,
     "metadata": {},
     "output_type": "execute_result"
    }
   ],
   "source": [
    "test_df = model_df.copy()\n",
    "date_list = test_df['year_quater'].unique().tolist()\n",
    "# if the date_list == test_df['date'], append to the dtm_list\n",
    "dtm_token_list = []\n",
    "dtm_token_df = []\n",
    "dtm_df = pd.DataFrame()\n",
    "for date in date_list:\n",
    "    tmp_df = test_df[test_df['year_quater']==date]\n",
    "\n",
    "    tmp_token_list = tmp_df['token'].to_list()\n",
    "    for i in tmp_token_list:\n",
    "        for k in i:\n",
    "            dtm_token_list.append(k)\n",
    "    dtm_token_df.append(dtm_token_list)\n",
    "    dtm_token_list = []\n",
    "    dtm_df['year_quater'] = date_list\n",
    "dtm_df['token'] = dtm_token_df\n",
    "dtm_df"
   ]
  },
  {
   "cell_type": "markdown",
   "metadata": {},
   "source": [
    "# Docs_tokens"
   ]
  },
  {
   "cell_type": "code",
   "execution_count": 11,
   "metadata": {},
   "outputs": [],
   "source": [
    "# https://github.com/bab2min/tomotopy\n",
    "# https://bab2min.github.io/tomotopy/v0.12.3/en/#tomotopy.DTModel\n",
    "# https://notebook.community/pombredanne/gensim/docs/notebooks/ldaseqmodel"
   ]
  },
  {
   "cell_type": "code",
   "execution_count": 12,
   "metadata": {},
   "outputs": [
    {
     "data": {
      "text/plain": [
       "46"
      ]
     },
     "execution_count": 12,
     "metadata": {},
     "output_type": "execute_result"
    }
   ],
   "source": [
    "# recrate again for getting the docs_tokens\n",
    "temp_token_dtm = dtm_df['token'] # .apply(remove_brackets)\n",
    "docs_tokens_dtm = []\n",
    "for i in temp_token_dtm:\n",
    "    docs_tokens_dtm.append(i)\n",
    "len(docs_tokens_dtm)"
   ]
  },
  {
   "cell_type": "markdown",
   "metadata": {},
   "source": [
    "# docs_phrased"
   ]
  },
  {
   "cell_type": "code",
   "execution_count": 13,
   "metadata": {},
   "outputs": [
    {
     "data": {
      "text/plain": [
       "46"
      ]
     },
     "execution_count": 13,
     "metadata": {},
     "output_type": "execute_result"
    }
   ],
   "source": [
    "# topic modeling\n",
    "common_terms = [\n",
    "u\"of\",u\"with\",u\"without\",u\"and\",u\"or\",u\"the\",\n",
    "u\"a\",u\"not\",u\"be\",u\"to\",u\"this\",u\"who\",u\"in\",\n",
    "]\n",
    "\n",
    "bigram_dtm = Phrases(                              \n",
    "    docs_tokens_dtm,\n",
    "    min_count=50, # 這邊可以調整字連起來\n",
    "    threshold=5,\n",
    "    max_vocab_size=50000,\n",
    "    common_terms=common_terms,\n",
    ")\n",
    "trigram_dtm = Phrases(                             \n",
    "    bigram_dtm[docs_tokens_dtm],\n",
    "    min_count=50,\n",
    "    threshold=5,\n",
    "    max_vocab_size=50000,\n",
    "    common_terms=common_terms,\n",
    ")\n",
    "# anks to these two models, \n",
    "# we can process the tokenized documents and join the tokens associated with bi- or tri-grams.\n",
    "docs_phrased_dtm = [trigram_dtm[bigram_dtm[line]] for line in docs_tokens_dtm]\n",
    "len(docs_tokens_dtm)"
   ]
  },
  {
   "cell_type": "markdown",
   "metadata": {},
   "source": [
    "# corpus"
   ]
  },
  {
   "cell_type": "code",
   "execution_count": 14,
   "metadata": {},
   "outputs": [
    {
     "name": "stdout",
     "output_type": "stream",
     "text": [
      "46\n"
     ]
    }
   ],
   "source": [
    "corpus_dtm = tp.utils.Corpus() \n",
    "for i in range(len(docs_tokens_dtm)):\n",
    "    # corpus_dtm.add_doc with timepoint\n",
    "    corpus_dtm.add_doc(words=docs_tokens_dtm[i], timepoint=i) # dtm_df['date'][i]\n",
    "print(len(corpus_dtm))"
   ]
  },
  {
   "cell_type": "markdown",
   "metadata": {},
   "source": [
    "# model base on the topic number we select (without time series)"
   ]
  },
  {
   "cell_type": "code",
   "execution_count": 15,
   "metadata": {},
   "outputs": [
    {
     "name": "stdout",
     "output_type": "stream",
     "text": [
      "Iteration: 0\tLog-likelihood: -9.339374171503117\n",
      "Iteration: 10\tLog-likelihood: -8.391842057912033\n",
      "Iteration: 20\tLog-likelihood: -7.96554967865701\n",
      "Iteration: 30\tLog-likelihood: -7.762815846328513\n",
      "Iteration: 40\tLog-likelihood: -7.655858105670246\n",
      "Iteration: 50\tLog-likelihood: -7.5787150993092505\n",
      "Iteration: 60\tLog-likelihood: -7.513338967585231\n",
      "Iteration: 70\tLog-likelihood: -7.4538882311384045\n",
      "Iteration: 80\tLog-likelihood: -7.403303301733389\n",
      "Iteration: 90\tLog-likelihood: -7.359027368816359\n"
     ]
    }
   ],
   "source": [
    "best_mdl = tp.DTModel(\n",
    "    # tw= TermWeight.ONE, # term weighting scheme in TermWeight. The default value is TermWeight.ONE\n",
    "    # min_cf=0, # minimum collection frequency of words\n",
    "    # min_df=0, # minimum document frequency of words\n",
    "    # rm_top=0, # remove top frequency words\n",
    "    # transform=None, # transformation of the corpus\n",
    "    k=8,\n",
    "    t = len(corpus_dtm),\n",
    "    corpus=corpus_dtm,\n",
    "    seed = 1\n",
    "    )\n",
    "\n",
    "\n",
    "for i in range(0, 100, 10):\n",
    "    best_mdl.train(10)\n",
    "    print(\"Iteration: {}\\tLog-likelihood: {}\".format(i, best_mdl.ll_per_word))"
   ]
  },
  {
   "cell_type": "code",
   "execution_count": 16,
   "metadata": {},
   "outputs": [
    {
     "data": {
      "text/html": [
       "<div>\n",
       "<style scoped>\n",
       "    .dataframe tbody tr th:only-of-type {\n",
       "        vertical-align: middle;\n",
       "    }\n",
       "\n",
       "    .dataframe tbody tr th {\n",
       "        vertical-align: top;\n",
       "    }\n",
       "\n",
       "    .dataframe thead th {\n",
       "        text-align: right;\n",
       "    }\n",
       "</style>\n",
       "<table border=\"1\" class=\"dataframe\">\n",
       "  <thead>\n",
       "    <tr style=\"text-align: right;\">\n",
       "      <th></th>\n",
       "      <th>word</th>\n",
       "      <th>prob</th>\n",
       "      <th>timepoint</th>\n",
       "      <th>k</th>\n",
       "      <th>sort</th>\n",
       "    </tr>\n",
       "  </thead>\n",
       "  <tbody>\n",
       "    <tr>\n",
       "      <th>0</th>\n",
       "      <td>pner</td>\n",
       "      <td>0.004</td>\n",
       "      <td>0</td>\n",
       "      <td>0</td>\n",
       "      <td>0</td>\n",
       "    </tr>\n",
       "    <tr>\n",
       "      <th>1</th>\n",
       "      <td>eﬀect</td>\n",
       "      <td>0.004</td>\n",
       "      <td>0</td>\n",
       "      <td>0</td>\n",
       "      <td>1</td>\n",
       "    </tr>\n",
       "    <tr>\n",
       "      <th>2</th>\n",
       "      <td>commission</td>\n",
       "      <td>0.004</td>\n",
       "      <td>0</td>\n",
       "      <td>0</td>\n",
       "      <td>2</td>\n",
       "    </tr>\n",
       "    <tr>\n",
       "      <th>3</th>\n",
       "      <td>datum</td>\n",
       "      <td>0.004</td>\n",
       "      <td>0</td>\n",
       "      <td>0</td>\n",
       "      <td>3</td>\n",
       "    </tr>\n",
       "    <tr>\n",
       "      <th>4</th>\n",
       "      <td>space</td>\n",
       "      <td>0.004</td>\n",
       "      <td>0</td>\n",
       "      <td>0</td>\n",
       "      <td>4</td>\n",
       "    </tr>\n",
       "    <tr>\n",
       "      <th>...</th>\n",
       "      <td>...</td>\n",
       "      <td>...</td>\n",
       "      <td>...</td>\n",
       "      <td>...</td>\n",
       "      <td>...</td>\n",
       "    </tr>\n",
       "    <tr>\n",
       "      <th>455</th>\n",
       "      <td>wage</td>\n",
       "      <td>0.010</td>\n",
       "      <td>45</td>\n",
       "      <td>7</td>\n",
       "      <td>455</td>\n",
       "    </tr>\n",
       "    <tr>\n",
       "      <th>456</th>\n",
       "      <td>diﬀerent</td>\n",
       "      <td>0.010</td>\n",
       "      <td>45</td>\n",
       "      <td>7</td>\n",
       "      <td>456</td>\n",
       "    </tr>\n",
       "    <tr>\n",
       "      <th>457</th>\n",
       "      <td>ability</td>\n",
       "      <td>0.010</td>\n",
       "      <td>45</td>\n",
       "      <td>7</td>\n",
       "      <td>457</td>\n",
       "    </tr>\n",
       "    <tr>\n",
       "      <th>458</th>\n",
       "      <td>focus</td>\n",
       "      <td>0.010</td>\n",
       "      <td>45</td>\n",
       "      <td>7</td>\n",
       "      <td>458</td>\n",
       "    </tr>\n",
       "    <tr>\n",
       "      <th>459</th>\n",
       "      <td>investigation</td>\n",
       "      <td>0.010</td>\n",
       "      <td>45</td>\n",
       "      <td>7</td>\n",
       "      <td>459</td>\n",
       "    </tr>\n",
       "  </tbody>\n",
       "</table>\n",
       "<p>3680 rows × 5 columns</p>\n",
       "</div>"
      ],
      "text/plain": [
       "              word   prob  timepoint  k  sort\n",
       "0             pner  0.004          0  0     0\n",
       "1            eﬀect  0.004          0  0     1\n",
       "2       commission  0.004          0  0     2\n",
       "3            datum  0.004          0  0     3\n",
       "4            space  0.004          0  0     4\n",
       "..             ...    ...        ... ..   ...\n",
       "455           wage  0.010         45  7   455\n",
       "456       diﬀerent  0.010         45  7   456\n",
       "457        ability  0.010         45  7   457\n",
       "458          focus  0.010         45  7   458\n",
       "459  investigation  0.010         45  7   459\n",
       "\n",
       "[3680 rows x 5 columns]"
      ]
     },
     "execution_count": 16,
     "metadata": {},
     "output_type": "execute_result"
    }
   ],
   "source": [
    "wt = pd.DataFrame()\n",
    "# 使用“get_topic_words”屬性，我們可以取得主題到詞彙概率的預測，with required argument 'timepoint' (pos 2)\n",
    "for k in range(best_mdl.k):\n",
    "    words, probs, timepoints = [], [], []\n",
    "    for t in range(len(corpus_dtm)):\n",
    "        for word, prob in best_mdl.get_topic_words(k ,timepoint=t):\n",
    "            timepoints.append(t)\n",
    "            words.append(word)\n",
    "            probs.append(prob)\n",
    "        tmp = pd.DataFrame(\n",
    "            {\n",
    "                \"word\": words,\n",
    "                \"prob\": np.round(probs, 3),\n",
    "                \"timepoint\": timepoints,\n",
    "                \"k\": np.repeat(k, len(words)),\n",
    "                \"sort\": np.arange(0, len(words)),\n",
    "            }\n",
    "        )\n",
    "    words, probs, timepoints = [], [], []\n",
    "    wt = wt.append(tmp)\n",
    "    del tmp\n",
    "\n",
    "wt"
   ]
  },
  {
   "cell_type": "code",
   "execution_count": 17,
   "metadata": {},
   "outputs": [
    {
     "data": {
      "text/html": [
       "<div>\n",
       "<style scoped>\n",
       "    .dataframe tbody tr th:only-of-type {\n",
       "        vertical-align: middle;\n",
       "    }\n",
       "\n",
       "    .dataframe tbody tr th {\n",
       "        vertical-align: top;\n",
       "    }\n",
       "\n",
       "    .dataframe thead th {\n",
       "        text-align: right;\n",
       "    }\n",
       "</style>\n",
       "<table border=\"1\" class=\"dataframe\">\n",
       "  <thead>\n",
       "    <tr style=\"text-align: right;\">\n",
       "      <th></th>\n",
       "      <th>topic_1</th>\n",
       "      <th>topic_2</th>\n",
       "      <th>topic_3</th>\n",
       "      <th>topic_4</th>\n",
       "      <th>topic_5</th>\n",
       "      <th>topic_6</th>\n",
       "      <th>topic_7</th>\n",
       "      <th>topic_8</th>\n",
       "      <th>timepoint</th>\n",
       "    </tr>\n",
       "  </thead>\n",
       "  <tbody>\n",
       "    <tr>\n",
       "      <th>0</th>\n",
       "      <td>0.187327</td>\n",
       "      <td>0.086994</td>\n",
       "      <td>0.148413</td>\n",
       "      <td>0.090979</td>\n",
       "      <td>0.147710</td>\n",
       "      <td>0.160134</td>\n",
       "      <td>0.086525</td>\n",
       "      <td>0.091917</td>\n",
       "      <td>0</td>\n",
       "    </tr>\n",
       "    <tr>\n",
       "      <th>1</th>\n",
       "      <td>0.188451</td>\n",
       "      <td>0.097454</td>\n",
       "      <td>0.112620</td>\n",
       "      <td>0.086884</td>\n",
       "      <td>0.111241</td>\n",
       "      <td>0.122501</td>\n",
       "      <td>0.198102</td>\n",
       "      <td>0.082747</td>\n",
       "      <td>1</td>\n",
       "    </tr>\n",
       "    <tr>\n",
       "      <th>2</th>\n",
       "      <td>0.166009</td>\n",
       "      <td>0.124272</td>\n",
       "      <td>0.115860</td>\n",
       "      <td>0.093212</td>\n",
       "      <td>0.137214</td>\n",
       "      <td>0.123301</td>\n",
       "      <td>0.095477</td>\n",
       "      <td>0.144655</td>\n",
       "      <td>2</td>\n",
       "    </tr>\n",
       "    <tr>\n",
       "      <th>3</th>\n",
       "      <td>0.103502</td>\n",
       "      <td>0.075644</td>\n",
       "      <td>0.097817</td>\n",
       "      <td>0.109188</td>\n",
       "      <td>0.212946</td>\n",
       "      <td>0.099807</td>\n",
       "      <td>0.143584</td>\n",
       "      <td>0.157513</td>\n",
       "      <td>3</td>\n",
       "    </tr>\n",
       "    <tr>\n",
       "      <th>4</th>\n",
       "      <td>0.148854</td>\n",
       "      <td>0.061336</td>\n",
       "      <td>0.101657</td>\n",
       "      <td>0.214259</td>\n",
       "      <td>0.169293</td>\n",
       "      <td>0.078803</td>\n",
       "      <td>0.104816</td>\n",
       "      <td>0.120982</td>\n",
       "      <td>4</td>\n",
       "    </tr>\n",
       "    <tr>\n",
       "      <th>5</th>\n",
       "      <td>0.047331</td>\n",
       "      <td>0.023112</td>\n",
       "      <td>0.027603</td>\n",
       "      <td>0.020386</td>\n",
       "      <td>0.026641</td>\n",
       "      <td>0.028245</td>\n",
       "      <td>0.025839</td>\n",
       "      <td>0.800844</td>\n",
       "      <td>5</td>\n",
       "    </tr>\n",
       "    <tr>\n",
       "      <th>6</th>\n",
       "      <td>0.145438</td>\n",
       "      <td>0.106388</td>\n",
       "      <td>0.151470</td>\n",
       "      <td>0.089244</td>\n",
       "      <td>0.135278</td>\n",
       "      <td>0.104800</td>\n",
       "      <td>0.106705</td>\n",
       "      <td>0.160677</td>\n",
       "      <td>6</td>\n",
       "    </tr>\n",
       "    <tr>\n",
       "      <th>7</th>\n",
       "      <td>0.125081</td>\n",
       "      <td>0.134320</td>\n",
       "      <td>0.076733</td>\n",
       "      <td>0.176866</td>\n",
       "      <td>0.091130</td>\n",
       "      <td>0.136469</td>\n",
       "      <td>0.164618</td>\n",
       "      <td>0.094783</td>\n",
       "      <td>7</td>\n",
       "    </tr>\n",
       "    <tr>\n",
       "      <th>8</th>\n",
       "      <td>0.043573</td>\n",
       "      <td>0.019375</td>\n",
       "      <td>0.028247</td>\n",
       "      <td>0.027925</td>\n",
       "      <td>0.028247</td>\n",
       "      <td>0.014696</td>\n",
       "      <td>0.821465</td>\n",
       "      <td>0.016471</td>\n",
       "      <td>8</td>\n",
       "    </tr>\n",
       "    <tr>\n",
       "      <th>9</th>\n",
       "      <td>0.850579</td>\n",
       "      <td>0.012722</td>\n",
       "      <td>0.018415</td>\n",
       "      <td>0.017091</td>\n",
       "      <td>0.063293</td>\n",
       "      <td>0.011133</td>\n",
       "      <td>0.013781</td>\n",
       "      <td>0.012987</td>\n",
       "      <td>9</td>\n",
       "    </tr>\n",
       "    <tr>\n",
       "      <th>10</th>\n",
       "      <td>0.029001</td>\n",
       "      <td>0.015100</td>\n",
       "      <td>0.814887</td>\n",
       "      <td>0.029297</td>\n",
       "      <td>0.040241</td>\n",
       "      <td>0.030332</td>\n",
       "      <td>0.022642</td>\n",
       "      <td>0.018501</td>\n",
       "      <td>10</td>\n",
       "    </tr>\n",
       "    <tr>\n",
       "      <th>11</th>\n",
       "      <td>0.002096</td>\n",
       "      <td>0.001470</td>\n",
       "      <td>0.004077</td>\n",
       "      <td>0.005224</td>\n",
       "      <td>0.003868</td>\n",
       "      <td>0.002930</td>\n",
       "      <td>0.977405</td>\n",
       "      <td>0.002930</td>\n",
       "      <td>11</td>\n",
       "    </tr>\n",
       "    <tr>\n",
       "      <th>12</th>\n",
       "      <td>0.005209</td>\n",
       "      <td>0.003246</td>\n",
       "      <td>0.008097</td>\n",
       "      <td>0.948289</td>\n",
       "      <td>0.007288</td>\n",
       "      <td>0.011331</td>\n",
       "      <td>0.008443</td>\n",
       "      <td>0.008097</td>\n",
       "      <td>12</td>\n",
       "    </tr>\n",
       "    <tr>\n",
       "      <th>13</th>\n",
       "      <td>0.001152</td>\n",
       "      <td>0.000771</td>\n",
       "      <td>0.001229</td>\n",
       "      <td>0.992468</td>\n",
       "      <td>0.001457</td>\n",
       "      <td>0.000618</td>\n",
       "      <td>0.001229</td>\n",
       "      <td>0.001076</td>\n",
       "      <td>13</td>\n",
       "    </tr>\n",
       "    <tr>\n",
       "      <th>14</th>\n",
       "      <td>0.000562</td>\n",
       "      <td>0.000439</td>\n",
       "      <td>0.000315</td>\n",
       "      <td>0.000748</td>\n",
       "      <td>0.996496</td>\n",
       "      <td>0.000439</td>\n",
       "      <td>0.000377</td>\n",
       "      <td>0.000624</td>\n",
       "      <td>14</td>\n",
       "    </tr>\n",
       "    <tr>\n",
       "      <th>15</th>\n",
       "      <td>0.000614</td>\n",
       "      <td>0.000209</td>\n",
       "      <td>0.000209</td>\n",
       "      <td>0.997186</td>\n",
       "      <td>0.000412</td>\n",
       "      <td>0.000412</td>\n",
       "      <td>0.000344</td>\n",
       "      <td>0.000614</td>\n",
       "      <td>15</td>\n",
       "    </tr>\n",
       "    <tr>\n",
       "      <th>16</th>\n",
       "      <td>0.000764</td>\n",
       "      <td>0.000282</td>\n",
       "      <td>0.000213</td>\n",
       "      <td>0.996509</td>\n",
       "      <td>0.000833</td>\n",
       "      <td>0.000420</td>\n",
       "      <td>0.000420</td>\n",
       "      <td>0.000558</td>\n",
       "      <td>16</td>\n",
       "    </tr>\n",
       "    <tr>\n",
       "      <th>17</th>\n",
       "      <td>0.001130</td>\n",
       "      <td>0.991865</td>\n",
       "      <td>0.000681</td>\n",
       "      <td>0.001804</td>\n",
       "      <td>0.001205</td>\n",
       "      <td>0.000756</td>\n",
       "      <td>0.001579</td>\n",
       "      <td>0.000980</td>\n",
       "      <td>17</td>\n",
       "    </tr>\n",
       "    <tr>\n",
       "      <th>18</th>\n",
       "      <td>0.001046</td>\n",
       "      <td>0.000699</td>\n",
       "      <td>0.000699</td>\n",
       "      <td>0.001046</td>\n",
       "      <td>0.993512</td>\n",
       "      <td>0.000561</td>\n",
       "      <td>0.001046</td>\n",
       "      <td>0.001392</td>\n",
       "      <td>18</td>\n",
       "    </tr>\n",
       "    <tr>\n",
       "      <th>19</th>\n",
       "      <td>0.995854</td>\n",
       "      <td>0.000251</td>\n",
       "      <td>0.000619</td>\n",
       "      <td>0.000619</td>\n",
       "      <td>0.000496</td>\n",
       "      <td>0.001170</td>\n",
       "      <td>0.000496</td>\n",
       "      <td>0.000496</td>\n",
       "      <td>19</td>\n",
       "    </tr>\n",
       "    <tr>\n",
       "      <th>20</th>\n",
       "      <td>0.000444</td>\n",
       "      <td>0.000115</td>\n",
       "      <td>0.000170</td>\n",
       "      <td>0.000718</td>\n",
       "      <td>0.000170</td>\n",
       "      <td>0.000444</td>\n",
       "      <td>0.997604</td>\n",
       "      <td>0.000334</td>\n",
       "      <td>20</td>\n",
       "    </tr>\n",
       "    <tr>\n",
       "      <th>21</th>\n",
       "      <td>0.000245</td>\n",
       "      <td>0.000544</td>\n",
       "      <td>0.000305</td>\n",
       "      <td>0.001022</td>\n",
       "      <td>0.001022</td>\n",
       "      <td>0.995416</td>\n",
       "      <td>0.001141</td>\n",
       "      <td>0.000305</td>\n",
       "      <td>21</td>\n",
       "    </tr>\n",
       "    <tr>\n",
       "      <th>22</th>\n",
       "      <td>0.000373</td>\n",
       "      <td>0.000163</td>\n",
       "      <td>0.000373</td>\n",
       "      <td>0.997912</td>\n",
       "      <td>0.000216</td>\n",
       "      <td>0.000426</td>\n",
       "      <td>0.000268</td>\n",
       "      <td>0.000268</td>\n",
       "      <td>22</td>\n",
       "    </tr>\n",
       "    <tr>\n",
       "      <th>23</th>\n",
       "      <td>0.000341</td>\n",
       "      <td>0.000173</td>\n",
       "      <td>0.000397</td>\n",
       "      <td>0.998451</td>\n",
       "      <td>0.000061</td>\n",
       "      <td>0.000229</td>\n",
       "      <td>0.000229</td>\n",
       "      <td>0.000117</td>\n",
       "      <td>23</td>\n",
       "    </tr>\n",
       "    <tr>\n",
       "      <th>24</th>\n",
       "      <td>0.000525</td>\n",
       "      <td>0.000179</td>\n",
       "      <td>0.997364</td>\n",
       "      <td>0.000640</td>\n",
       "      <td>0.000294</td>\n",
       "      <td>0.000179</td>\n",
       "      <td>0.000294</td>\n",
       "      <td>0.000525</td>\n",
       "      <td>24</td>\n",
       "    </tr>\n",
       "    <tr>\n",
       "      <th>25</th>\n",
       "      <td>0.000303</td>\n",
       "      <td>0.000132</td>\n",
       "      <td>0.998091</td>\n",
       "      <td>0.000132</td>\n",
       "      <td>0.000517</td>\n",
       "      <td>0.000260</td>\n",
       "      <td>0.000303</td>\n",
       "      <td>0.000260</td>\n",
       "      <td>25</td>\n",
       "    </tr>\n",
       "    <tr>\n",
       "      <th>26</th>\n",
       "      <td>0.000233</td>\n",
       "      <td>0.000119</td>\n",
       "      <td>0.000687</td>\n",
       "      <td>0.000062</td>\n",
       "      <td>0.000062</td>\n",
       "      <td>0.000062</td>\n",
       "      <td>0.998371</td>\n",
       "      <td>0.000403</td>\n",
       "      <td>26</td>\n",
       "    </tr>\n",
       "    <tr>\n",
       "      <th>27</th>\n",
       "      <td>0.000145</td>\n",
       "      <td>0.000004</td>\n",
       "      <td>0.000145</td>\n",
       "      <td>0.000110</td>\n",
       "      <td>0.000074</td>\n",
       "      <td>0.000181</td>\n",
       "      <td>0.999160</td>\n",
       "      <td>0.000181</td>\n",
       "      <td>27</td>\n",
       "    </tr>\n",
       "    <tr>\n",
       "      <th>28</th>\n",
       "      <td>0.000242</td>\n",
       "      <td>0.000099</td>\n",
       "      <td>0.000431</td>\n",
       "      <td>0.000194</td>\n",
       "      <td>0.000289</td>\n",
       "      <td>0.000099</td>\n",
       "      <td>0.001094</td>\n",
       "      <td>0.997551</td>\n",
       "      <td>28</td>\n",
       "    </tr>\n",
       "    <tr>\n",
       "      <th>29</th>\n",
       "      <td>0.000279</td>\n",
       "      <td>0.000483</td>\n",
       "      <td>0.000688</td>\n",
       "      <td>0.000483</td>\n",
       "      <td>0.000552</td>\n",
       "      <td>0.000620</td>\n",
       "      <td>0.995867</td>\n",
       "      <td>0.001028</td>\n",
       "      <td>29</td>\n",
       "    </tr>\n",
       "    <tr>\n",
       "      <th>30</th>\n",
       "      <td>0.000396</td>\n",
       "      <td>0.000249</td>\n",
       "      <td>0.000543</td>\n",
       "      <td>0.000103</td>\n",
       "      <td>0.000543</td>\n",
       "      <td>0.000445</td>\n",
       "      <td>0.997569</td>\n",
       "      <td>0.000152</td>\n",
       "      <td>30</td>\n",
       "    </tr>\n",
       "    <tr>\n",
       "      <th>31</th>\n",
       "      <td>0.000217</td>\n",
       "      <td>0.000345</td>\n",
       "      <td>0.997628</td>\n",
       "      <td>0.000302</td>\n",
       "      <td>0.000175</td>\n",
       "      <td>0.000345</td>\n",
       "      <td>0.000643</td>\n",
       "      <td>0.000345</td>\n",
       "      <td>31</td>\n",
       "    </tr>\n",
       "    <tr>\n",
       "      <th>32</th>\n",
       "      <td>0.000619</td>\n",
       "      <td>0.000268</td>\n",
       "      <td>0.000268</td>\n",
       "      <td>0.000224</td>\n",
       "      <td>0.998037</td>\n",
       "      <td>0.000136</td>\n",
       "      <td>0.000224</td>\n",
       "      <td>0.000224</td>\n",
       "      <td>32</td>\n",
       "    </tr>\n",
       "    <tr>\n",
       "      <th>33</th>\n",
       "      <td>0.996608</td>\n",
       "      <td>0.000245</td>\n",
       "      <td>0.000149</td>\n",
       "      <td>0.000437</td>\n",
       "      <td>0.001060</td>\n",
       "      <td>0.000677</td>\n",
       "      <td>0.000485</td>\n",
       "      <td>0.000341</td>\n",
       "      <td>33</td>\n",
       "    </tr>\n",
       "    <tr>\n",
       "      <th>34</th>\n",
       "      <td>0.000696</td>\n",
       "      <td>0.000643</td>\n",
       "      <td>0.000112</td>\n",
       "      <td>0.000590</td>\n",
       "      <td>0.996668</td>\n",
       "      <td>0.000590</td>\n",
       "      <td>0.000590</td>\n",
       "      <td>0.000112</td>\n",
       "      <td>34</td>\n",
       "    </tr>\n",
       "    <tr>\n",
       "      <th>35</th>\n",
       "      <td>0.000702</td>\n",
       "      <td>0.993962</td>\n",
       "      <td>0.000434</td>\n",
       "      <td>0.000220</td>\n",
       "      <td>0.002845</td>\n",
       "      <td>0.000434</td>\n",
       "      <td>0.001077</td>\n",
       "      <td>0.000327</td>\n",
       "      <td>35</td>\n",
       "    </tr>\n",
       "    <tr>\n",
       "      <th>36</th>\n",
       "      <td>0.000396</td>\n",
       "      <td>0.000590</td>\n",
       "      <td>0.000396</td>\n",
       "      <td>0.000331</td>\n",
       "      <td>0.000590</td>\n",
       "      <td>0.000201</td>\n",
       "      <td>0.997425</td>\n",
       "      <td>0.000071</td>\n",
       "      <td>36</td>\n",
       "    </tr>\n",
       "    <tr>\n",
       "      <th>37</th>\n",
       "      <td>0.000245</td>\n",
       "      <td>0.000389</td>\n",
       "      <td>0.000245</td>\n",
       "      <td>0.000293</td>\n",
       "      <td>0.000149</td>\n",
       "      <td>0.000293</td>\n",
       "      <td>0.998187</td>\n",
       "      <td>0.000197</td>\n",
       "      <td>37</td>\n",
       "    </tr>\n",
       "    <tr>\n",
       "      <th>38</th>\n",
       "      <td>0.000380</td>\n",
       "      <td>0.995419</td>\n",
       "      <td>0.000486</td>\n",
       "      <td>0.000166</td>\n",
       "      <td>0.000112</td>\n",
       "      <td>0.000380</td>\n",
       "      <td>0.002892</td>\n",
       "      <td>0.000166</td>\n",
       "      <td>38</td>\n",
       "    </tr>\n",
       "    <tr>\n",
       "      <th>39</th>\n",
       "      <td>0.000218</td>\n",
       "      <td>0.000324</td>\n",
       "      <td>0.000218</td>\n",
       "      <td>0.000059</td>\n",
       "      <td>0.000059</td>\n",
       "      <td>0.000165</td>\n",
       "      <td>0.998846</td>\n",
       "      <td>0.000112</td>\n",
       "      <td>39</td>\n",
       "    </tr>\n",
       "    <tr>\n",
       "      <th>40</th>\n",
       "      <td>0.000052</td>\n",
       "      <td>0.000286</td>\n",
       "      <td>0.000098</td>\n",
       "      <td>0.000145</td>\n",
       "      <td>0.000145</td>\n",
       "      <td>0.000380</td>\n",
       "      <td>0.998702</td>\n",
       "      <td>0.000192</td>\n",
       "      <td>40</td>\n",
       "    </tr>\n",
       "    <tr>\n",
       "      <th>41</th>\n",
       "      <td>0.000309</td>\n",
       "      <td>0.000309</td>\n",
       "      <td>0.000917</td>\n",
       "      <td>0.000562</td>\n",
       "      <td>0.000360</td>\n",
       "      <td>0.994697</td>\n",
       "      <td>0.001626</td>\n",
       "      <td>0.001221</td>\n",
       "      <td>41</td>\n",
       "    </tr>\n",
       "    <tr>\n",
       "      <th>42</th>\n",
       "      <td>0.000203</td>\n",
       "      <td>0.000203</td>\n",
       "      <td>0.000352</td>\n",
       "      <td>0.000501</td>\n",
       "      <td>0.000303</td>\n",
       "      <td>0.000848</td>\n",
       "      <td>0.000203</td>\n",
       "      <td>0.997385</td>\n",
       "      <td>42</td>\n",
       "    </tr>\n",
       "    <tr>\n",
       "      <th>43</th>\n",
       "      <td>0.000211</td>\n",
       "      <td>0.000211</td>\n",
       "      <td>0.996620</td>\n",
       "      <td>0.000211</td>\n",
       "      <td>0.000159</td>\n",
       "      <td>0.001651</td>\n",
       "      <td>0.000417</td>\n",
       "      <td>0.000520</td>\n",
       "      <td>43</td>\n",
       "    </tr>\n",
       "    <tr>\n",
       "      <th>44</th>\n",
       "      <td>0.006028</td>\n",
       "      <td>0.003376</td>\n",
       "      <td>0.013983</td>\n",
       "      <td>0.004084</td>\n",
       "      <td>0.004260</td>\n",
       "      <td>0.956919</td>\n",
       "      <td>0.004791</td>\n",
       "      <td>0.006558</td>\n",
       "      <td>44</td>\n",
       "    </tr>\n",
       "    <tr>\n",
       "      <th>45</th>\n",
       "      <td>0.131390</td>\n",
       "      <td>0.107903</td>\n",
       "      <td>0.127245</td>\n",
       "      <td>0.118956</td>\n",
       "      <td>0.136916</td>\n",
       "      <td>0.146587</td>\n",
       "      <td>0.096850</td>\n",
       "      <td>0.134153</td>\n",
       "      <td>45</td>\n",
       "    </tr>\n",
       "  </tbody>\n",
       "</table>\n",
       "</div>"
      ],
      "text/plain": [
       "     topic_1   topic_2   topic_3   topic_4   topic_5   topic_6   topic_7  \\\n",
       "0   0.187327  0.086994  0.148413  0.090979  0.147710  0.160134  0.086525   \n",
       "1   0.188451  0.097454  0.112620  0.086884  0.111241  0.122501  0.198102   \n",
       "2   0.166009  0.124272  0.115860  0.093212  0.137214  0.123301  0.095477   \n",
       "3   0.103502  0.075644  0.097817  0.109188  0.212946  0.099807  0.143584   \n",
       "4   0.148854  0.061336  0.101657  0.214259  0.169293  0.078803  0.104816   \n",
       "5   0.047331  0.023112  0.027603  0.020386  0.026641  0.028245  0.025839   \n",
       "6   0.145438  0.106388  0.151470  0.089244  0.135278  0.104800  0.106705   \n",
       "7   0.125081  0.134320  0.076733  0.176866  0.091130  0.136469  0.164618   \n",
       "8   0.043573  0.019375  0.028247  0.027925  0.028247  0.014696  0.821465   \n",
       "9   0.850579  0.012722  0.018415  0.017091  0.063293  0.011133  0.013781   \n",
       "10  0.029001  0.015100  0.814887  0.029297  0.040241  0.030332  0.022642   \n",
       "11  0.002096  0.001470  0.004077  0.005224  0.003868  0.002930  0.977405   \n",
       "12  0.005209  0.003246  0.008097  0.948289  0.007288  0.011331  0.008443   \n",
       "13  0.001152  0.000771  0.001229  0.992468  0.001457  0.000618  0.001229   \n",
       "14  0.000562  0.000439  0.000315  0.000748  0.996496  0.000439  0.000377   \n",
       "15  0.000614  0.000209  0.000209  0.997186  0.000412  0.000412  0.000344   \n",
       "16  0.000764  0.000282  0.000213  0.996509  0.000833  0.000420  0.000420   \n",
       "17  0.001130  0.991865  0.000681  0.001804  0.001205  0.000756  0.001579   \n",
       "18  0.001046  0.000699  0.000699  0.001046  0.993512  0.000561  0.001046   \n",
       "19  0.995854  0.000251  0.000619  0.000619  0.000496  0.001170  0.000496   \n",
       "20  0.000444  0.000115  0.000170  0.000718  0.000170  0.000444  0.997604   \n",
       "21  0.000245  0.000544  0.000305  0.001022  0.001022  0.995416  0.001141   \n",
       "22  0.000373  0.000163  0.000373  0.997912  0.000216  0.000426  0.000268   \n",
       "23  0.000341  0.000173  0.000397  0.998451  0.000061  0.000229  0.000229   \n",
       "24  0.000525  0.000179  0.997364  0.000640  0.000294  0.000179  0.000294   \n",
       "25  0.000303  0.000132  0.998091  0.000132  0.000517  0.000260  0.000303   \n",
       "26  0.000233  0.000119  0.000687  0.000062  0.000062  0.000062  0.998371   \n",
       "27  0.000145  0.000004  0.000145  0.000110  0.000074  0.000181  0.999160   \n",
       "28  0.000242  0.000099  0.000431  0.000194  0.000289  0.000099  0.001094   \n",
       "29  0.000279  0.000483  0.000688  0.000483  0.000552  0.000620  0.995867   \n",
       "30  0.000396  0.000249  0.000543  0.000103  0.000543  0.000445  0.997569   \n",
       "31  0.000217  0.000345  0.997628  0.000302  0.000175  0.000345  0.000643   \n",
       "32  0.000619  0.000268  0.000268  0.000224  0.998037  0.000136  0.000224   \n",
       "33  0.996608  0.000245  0.000149  0.000437  0.001060  0.000677  0.000485   \n",
       "34  0.000696  0.000643  0.000112  0.000590  0.996668  0.000590  0.000590   \n",
       "35  0.000702  0.993962  0.000434  0.000220  0.002845  0.000434  0.001077   \n",
       "36  0.000396  0.000590  0.000396  0.000331  0.000590  0.000201  0.997425   \n",
       "37  0.000245  0.000389  0.000245  0.000293  0.000149  0.000293  0.998187   \n",
       "38  0.000380  0.995419  0.000486  0.000166  0.000112  0.000380  0.002892   \n",
       "39  0.000218  0.000324  0.000218  0.000059  0.000059  0.000165  0.998846   \n",
       "40  0.000052  0.000286  0.000098  0.000145  0.000145  0.000380  0.998702   \n",
       "41  0.000309  0.000309  0.000917  0.000562  0.000360  0.994697  0.001626   \n",
       "42  0.000203  0.000203  0.000352  0.000501  0.000303  0.000848  0.000203   \n",
       "43  0.000211  0.000211  0.996620  0.000211  0.000159  0.001651  0.000417   \n",
       "44  0.006028  0.003376  0.013983  0.004084  0.004260  0.956919  0.004791   \n",
       "45  0.131390  0.107903  0.127245  0.118956  0.136916  0.146587  0.096850   \n",
       "\n",
       "     topic_8  timepoint  \n",
       "0   0.091917          0  \n",
       "1   0.082747          1  \n",
       "2   0.144655          2  \n",
       "3   0.157513          3  \n",
       "4   0.120982          4  \n",
       "5   0.800844          5  \n",
       "6   0.160677          6  \n",
       "7   0.094783          7  \n",
       "8   0.016471          8  \n",
       "9   0.012987          9  \n",
       "10  0.018501         10  \n",
       "11  0.002930         11  \n",
       "12  0.008097         12  \n",
       "13  0.001076         13  \n",
       "14  0.000624         14  \n",
       "15  0.000614         15  \n",
       "16  0.000558         16  \n",
       "17  0.000980         17  \n",
       "18  0.001392         18  \n",
       "19  0.000496         19  \n",
       "20  0.000334         20  \n",
       "21  0.000305         21  \n",
       "22  0.000268         22  \n",
       "23  0.000117         23  \n",
       "24  0.000525         24  \n",
       "25  0.000260         25  \n",
       "26  0.000403         26  \n",
       "27  0.000181         27  \n",
       "28  0.997551         28  \n",
       "29  0.001028         29  \n",
       "30  0.000152         30  \n",
       "31  0.000345         31  \n",
       "32  0.000224         32  \n",
       "33  0.000341         33  \n",
       "34  0.000112         34  \n",
       "35  0.000327         35  \n",
       "36  0.000071         36  \n",
       "37  0.000197         37  \n",
       "38  0.000166         38  \n",
       "39  0.000112         39  \n",
       "40  0.000192         40  \n",
       "41  0.001221         41  \n",
       "42  0.997385         42  \n",
       "43  0.000520         43  \n",
       "44  0.006558         44  \n",
       "45  0.134153         45  "
      ]
     },
     "execution_count": 17,
     "metadata": {},
     "output_type": "execute_result"
    }
   ],
   "source": [
    "td = pd.DataFrame()\n",
    "for timepoint in range(best_mdl.num_timepoints):\n",
    "    td_tmp = pd.DataFrame(\n",
    "        np.stack([doc.get_topic_dist() for doc in best_mdl.docs if doc.timepoint == timepoint]),\n",
    "        columns=[\"topic_{}\".format(i + 1) for i in range(best_mdl.k)],\n",
    "    )\n",
    "    td_tmp[\"timepoint\"] = timepoint\n",
    "    td = pd.concat([td, td_tmp], ignore_index=True)\n",
    "    del td_tmp\n",
    "\n",
    "td"
   ]
  },
  {
   "cell_type": "code",
   "execution_count": 18,
   "metadata": {},
   "outputs": [],
   "source": [
    "# save td to csv\n",
    "td.to_csv('./main_df_output/QA_DTM_td_seq.csv', index=False) \n",
    "wt.to_csv('./main_df_output/QA_DTM_wt_seq.csv', index=False)"
   ]
  },
  {
   "cell_type": "code",
   "execution_count": 41,
   "metadata": {},
   "outputs": [
    {
     "data": {
      "application/vnd.plotly.v1+json": {
       "config": {
        "plotlyServerURL": "https://plot.ly"
       },
       "data": [
        {
         "hovertemplate": "variable=topic_1<br>timepoint=%{x}<br>value=%{y}<extra></extra>",
         "legendgroup": "topic_1",
         "line": {
          "color": "#636efa",
          "dash": "solid"
         },
         "marker": {
          "symbol": "circle"
         },
         "mode": "lines",
         "name": "topic_1",
         "orientation": "v",
         "showlegend": true,
         "type": "scatter",
         "x": [
          0,
          1,
          2,
          3,
          4,
          5,
          6,
          7,
          8,
          9,
          10,
          11,
          12,
          13,
          14,
          15,
          16,
          17,
          18,
          19,
          20,
          21,
          22,
          23,
          24,
          25,
          26,
          27,
          28,
          29,
          30,
          31,
          32,
          33,
          34,
          35,
          36,
          37,
          38,
          39,
          40,
          41,
          42,
          43,
          44,
          45
         ],
         "xaxis": "x",
         "y": [
          0.18732711672782898,
          0.18845075368881226,
          0.16600878536701202,
          0.10350219160318375,
          0.14885354042053223,
          0.04733111336827278,
          0.1454378068447113,
          0.12508058547973633,
          0.04357295110821724,
          0.8505785465240479,
          0.029001155868172646,
          0.0020957584492862225,
          0.005209175404161215,
          0.0011522496351972222,
          0.0005622907192446291,
          0.0006141677149571478,
          0.0007642628042958677,
          0.0011300873011350632,
          0.0010455036535859108,
          0.9958539605140686,
          0.0004441568744368851,
          0.00024502770975232124,
          0.00037333444925025105,
          0.00034101452911272645,
          0.0005248950328677893,
          0.0003031752130482346,
          0.00023269274970516562,
          0.0001452983560739085,
          0.00024160539032891393,
          0.00027916222461499274,
          0.0003961306356359273,
          0.00021721722441725433,
          0.0006192956934683025,
          0.9966077208518982,
          0.0006961124017834663,
          0.00070185586810112,
          0.0003955952706746757,
          0.00024519464932382107,
          0.00037950053228996694,
          0.0002180526207666844,
          0.00005154929021955468,
          0.0003089733945671469,
          0.00020341538765933365,
          0.0002109183551510796,
          0.006028143223375082,
          0.13138988614082336
         ],
         "yaxis": "y"
        },
        {
         "hovertemplate": "variable=topic_2<br>timepoint=%{x}<br>value=%{y}<extra></extra>",
         "legendgroup": "topic_2",
         "line": {
          "color": "#EF553B",
          "dash": "solid"
         },
         "marker": {
          "symbol": "circle"
         },
         "mode": "lines",
         "name": "topic_2",
         "orientation": "v",
         "showlegend": true,
         "type": "scatter",
         "x": [
          0,
          1,
          2,
          3,
          4,
          5,
          6,
          7,
          8,
          9,
          10,
          11,
          12,
          13,
          14,
          15,
          16,
          17,
          18,
          19,
          20,
          21,
          22,
          23,
          24,
          25,
          26,
          27,
          28,
          29,
          30,
          31,
          32,
          33,
          34,
          35,
          36,
          37,
          38,
          39,
          40,
          41,
          42,
          43,
          44,
          45
         ],
         "xaxis": "x",
         "y": [
          0.0869942381978035,
          0.09745392948389053,
          0.12427203357219696,
          0.0756438672542572,
          0.06133636087179184,
          0.023112211376428604,
          0.10638770461082458,
          0.13432033360004425,
          0.019374718889594078,
          0.012722074054181576,
          0.01509953010827303,
          0.0014701589243486524,
          0.0032456284388899803,
          0.0007707100012339652,
          0.00043871032539755106,
          0.00020922196563333273,
          0.0002822952519636601,
          0.9918648600578308,
          0.0006993104470893741,
          0.0002510900958441198,
          0.0001151517717516981,
          0.0005438420339487493,
          0.00016300517017953098,
          0.00017330245464108884,
          0.00017881038365885615,
          0.00013237226812634617,
          0.00011918408563360572,
          0.0000035438622489891713,
          0.00009948456863639876,
          0.0004834272840525955,
          0.00024941557785496116,
          0.00034499209141358733,
          0.0002679222379811108,
          0.0002447005535941571,
          0.0006429740460589528,
          0.9939618110656738,
          0.0005901503609493375,
          0.0003894268302246928,
          0.9954192042350769,
          0.00032441975781694055,
          0.0002858642255887389,
          0.0003089733945671469,
          0.00020341538765933365,
          0.0002109183551510796,
          0.0033764673862606287,
          0.10790273547172546
         ],
         "yaxis": "y"
        },
        {
         "hovertemplate": "variable=topic_3<br>timepoint=%{x}<br>value=%{y}<extra></extra>",
         "legendgroup": "topic_3",
         "line": {
          "color": "#00cc96",
          "dash": "solid"
         },
         "marker": {
          "symbol": "circle"
         },
         "mode": "lines",
         "name": "topic_3",
         "orientation": "v",
         "showlegend": true,
         "type": "scatter",
         "x": [
          0,
          1,
          2,
          3,
          4,
          5,
          6,
          7,
          8,
          9,
          10,
          11,
          12,
          13,
          14,
          15,
          16,
          17,
          18,
          19,
          20,
          21,
          22,
          23,
          24,
          25,
          26,
          27,
          28,
          29,
          30,
          31,
          32,
          33,
          34,
          35,
          36,
          37,
          38,
          39,
          40,
          41,
          42,
          43,
          44,
          45
         ],
         "xaxis": "x",
         "y": [
          0.14841295778751373,
          0.11262007057666779,
          0.1158599704504013,
          0.0978168174624443,
          0.101657435297966,
          0.027603132650256157,
          0.15146993100643158,
          0.07673300057649612,
          0.028247404843568802,
          0.0184145737439394,
          0.8148866295814514,
          0.004076823592185974,
          0.008096745237708092,
          0.0012285575503483415,
          0.000315129931550473,
          0.00020922196563333273,
          0.00021344276319723576,
          0.0006810459890402853,
          0.0006993104470893741,
          0.0006185390520840883,
          0.0001699859567452222,
          0.00030479056295007467,
          0.00037333444925025105,
          0.000396918534534052,
          0.9973639249801636,
          0.9980912208557129,
          0.0006867274059914052,
          0.0001452983560739085,
          0.0004310998192522675,
          0.0006876923725940287,
          0.0005428456934168935,
          0.9976276159286499,
          0.0002679222379811108,
          0.00014873954933136702,
          0.00011159052519360557,
          0.0004339719598647207,
          0.0003955952706746757,
          0.00024519464932382107,
          0.00048640213208273053,
          0.0002180526207666844,
          0.00009841227438300848,
          0.000916789926122874,
          0.0003522559127304703,
          0.9966201186180115,
          0.013983170501887798,
          0.12724509835243225
         ],
         "yaxis": "y"
        },
        {
         "hovertemplate": "variable=topic_4<br>timepoint=%{x}<br>value=%{y}<extra></extra>",
         "legendgroup": "topic_4",
         "line": {
          "color": "#ab63fa",
          "dash": "solid"
         },
         "marker": {
          "symbol": "circle"
         },
         "mode": "lines",
         "name": "topic_4",
         "orientation": "v",
         "showlegend": true,
         "type": "scatter",
         "x": [
          0,
          1,
          2,
          3,
          4,
          5,
          6,
          7,
          8,
          9,
          10,
          11,
          12,
          13,
          14,
          15,
          16,
          17,
          18,
          19,
          20,
          21,
          22,
          23,
          24,
          25,
          26,
          27,
          28,
          29,
          30,
          31,
          32,
          33,
          34,
          35,
          36,
          37,
          38,
          39,
          40,
          41,
          42,
          43,
          44,
          45
         ],
         "xaxis": "x",
         "y": [
          0.09097941964864731,
          0.08688359707593918,
          0.09321211278438568,
          0.10918755829334259,
          0.21425917744636536,
          0.020385578274726868,
          0.08924376219511032,
          0.17686621844768524,
          0.027924761176109314,
          0.01709073781967163,
          0.029296934604644775,
          0.005223756190389395,
          0.9482893943786621,
          0.9924684166908264,
          0.0007476612809114158,
          0.9971855878829956,
          0.9965091347694397,
          0.0018036492401733994,
          0.0010455036535859108,
          0.0006185390520840883,
          0.0007183277630247176,
          0.0010219449177384377,
          0.9979124069213867,
          0.9984514117240906,
          0.0006402565632015467,
          0.00013237226812634617,
          0.000062429768149741,
          0.00010985972767230123,
          0.00019423177582211792,
          0.0004834272840525955,
          0.00010270052734995261,
          0.0003024004399776459,
          0.00022400055604521185,
          0.00043662256211973727,
          0.0005898356903344393,
          0.00021966481290291995,
          0.00033074358361773193,
          0.00029327202355489135,
          0.00016569742001593113,
          0.00005850192246725783,
          0.0001452752621844411,
          0.000562230299692601,
          0.0005010964814573526,
          0.0002109183551510796,
          0.004083580803126097,
          0.11895551532506943
         ],
         "yaxis": "y"
        },
        {
         "hovertemplate": "variable=topic_5<br>timepoint=%{x}<br>value=%{y}<extra></extra>",
         "legendgroup": "topic_5",
         "line": {
          "color": "#FFA15A",
          "dash": "solid"
         },
         "marker": {
          "symbol": "circle"
         },
         "mode": "lines",
         "name": "topic_5",
         "orientation": "v",
         "showlegend": true,
         "type": "scatter",
         "x": [
          0,
          1,
          2,
          3,
          4,
          5,
          6,
          7,
          8,
          9,
          10,
          11,
          12,
          13,
          14,
          15,
          16,
          17,
          18,
          19,
          20,
          21,
          22,
          23,
          24,
          25,
          26,
          27,
          28,
          29,
          30,
          31,
          32,
          33,
          34,
          35,
          36,
          37,
          38,
          39,
          40,
          41,
          42,
          43,
          44,
          45
         ],
         "xaxis": "x",
         "y": [
          0.1477096974849701,
          0.11124133318662643,
          0.13721366226673126,
          0.2129455804824829,
          0.16929280757904053,
          0.026640791445970535,
          0.13527843356132507,
          0.091129831969738,
          0.028247404843568802,
          0.06329265236854553,
          0.04024076461791992,
          0.0038682904560118914,
          0.007288225460797548,
          0.0014574812958016992,
          0.9964964985847473,
          0.0004116948402952403,
          0.0008331153658218682,
          0.0012049275683239102,
          0.9935123324394226,
          0.0004960561054758728,
          0.0001699859567452222,
          0.0010219449177384377,
          0.00021558748267125338,
          0.00006149442197056487,
          0.00029417191399261355,
          0.0005166789051145315,
          0.000062429768149741,
          0.00007442110654665157,
          0.00028897897573187947,
          0.0005515156663022935,
          0.0005428456934168935,
          0.00017462561663705856,
          0.9980366230010986,
          0.0010603690752759576,
          0.9966681599617004,
          0.0028449271339923143,
          0.0005901503609493375,
          0.00014903988630976528,
          0.00011224663467146456,
          0.00005850192246725783,
          0.0001452752621844411,
          0.0003596247697714716,
          0.00030264240922406316,
          0.00015947484644129872,
          0.0042603593319654465,
          0.13691627979278564
         ],
         "yaxis": "y"
        },
        {
         "hovertemplate": "variable=topic_6<br>timepoint=%{x}<br>value=%{y}<extra></extra>",
         "legendgroup": "topic_6",
         "line": {
          "color": "#19d3f3",
          "dash": "solid"
         },
         "marker": {
          "symbol": "circle"
         },
         "mode": "lines",
         "name": "topic_6",
         "orientation": "v",
         "showlegend": true,
         "type": "scatter",
         "x": [
          0,
          1,
          2,
          3,
          4,
          5,
          6,
          7,
          8,
          9,
          10,
          11,
          12,
          13,
          14,
          15,
          16,
          17,
          18,
          19,
          20,
          21,
          22,
          23,
          24,
          25,
          26,
          27,
          28,
          29,
          30,
          31,
          32,
          33,
          34,
          35,
          36,
          37,
          38,
          39,
          40,
          41,
          42,
          43,
          44,
          45
         ],
         "xaxis": "x",
         "y": [
          0.16013409197330475,
          0.12250103056430817,
          0.12330140918493271,
          0.09980669617652893,
          0.07880263775587082,
          0.02824469283223152,
          0.10480030626058578,
          0.13646912574768066,
          0.0146963931620121,
          0.011133469641208649,
          0.030332161113619804,
          0.002929891226813197,
          0.011330823414027691,
          0.0006180941709317267,
          0.00043871032539755106,
          0.0004116948402952403,
          0.00042000028770416975,
          0.0007558861980214715,
          0.000560833141207695,
          0.0011697123991325498,
          0.0004441568744368851,
          0.9954161047935486,
          0.0004259167762938887,
          0.00022920648916624486,
          0.00017881038365885615,
          0.0002604744804557413,
          0.000062429768149741,
          0.00018073696992360055,
          0.00009948456863639876,
          0.0006196040194481611,
          0.0004450356645975262,
          0.00034499209141358733,
          0.00013615719217341393,
          0.0006765250582247972,
          0.0005898356903344393,
          0.0004339719598647207,
          0.0002010402240557596,
          0.00029327202355489135,
          0.00037950053228996694,
          0.00016486905224155635,
          0.0003795902302954346,
          0.9946967363357544,
          0.0008483910351060331,
          0.0016513363225385547,
          0.9569191336631775,
          0.14658746123313904
         ],
         "yaxis": "y"
        },
        {
         "hovertemplate": "variable=topic_7<br>timepoint=%{x}<br>value=%{y}<extra></extra>",
         "legendgroup": "topic_7",
         "line": {
          "color": "#FF6692",
          "dash": "solid"
         },
         "marker": {
          "symbol": "circle"
         },
         "mode": "lines",
         "name": "topic_7",
         "orientation": "v",
         "showlegend": true,
         "type": "scatter",
         "x": [
          0,
          1,
          2,
          3,
          4,
          5,
          6,
          7,
          8,
          9,
          10,
          11,
          12,
          13,
          14,
          15,
          16,
          17,
          18,
          19,
          20,
          21,
          22,
          23,
          24,
          25,
          26,
          27,
          28,
          29,
          30,
          31,
          32,
          33,
          34,
          35,
          36,
          37,
          38,
          39,
          40,
          41,
          42,
          43,
          44,
          45
         ],
         "xaxis": "x",
         "y": [
          0.08652539551258087,
          0.1981019377708435,
          0.0954769030213356,
          0.14358405768871307,
          0.10481622815132141,
          0.02583884261548519,
          0.1067051887512207,
          0.16461816430091858,
          0.8214654922485352,
          0.013781143352389336,
          0.022641900926828384,
          0.9774054288864136,
          0.008443253114819527,
          0.0012285575503483415,
          0.000376920128474012,
          0.0003442038723733276,
          0.00042000028770416975,
          0.00157912855502218,
          0.0010455036535859108,
          0.0004960561054758728,
          0.9976036548614502,
          0.0011414706241339445,
          0.0002681697951629758,
          0.00022920648916624486,
          0.00029417191399261355,
          0.0003031752130482346,
          0.9983710646629333,
          0.9991600513458252,
          0.0010943303350359201,
          0.9958670139312744,
          0.9975693821907043,
          0.000643133360426873,
          0.00022400055604521185,
          0.0004846030496992171,
          0.0005898356903344393,
          0.0010768934153020382,
          0.997425377368927,
          0.9981874227523804,
          0.002891687210649252,
          0.9988458752632141,
          0.998701810836792,
          0.0016259090043604374,
          0.00020341538765933365,
          0.0004166924045421183,
          0.004790694452822208,
          0.0968499556183815
         ],
         "yaxis": "y"
        },
        {
         "hovertemplate": "variable=topic_8<br>timepoint=%{x}<br>value=%{y}<extra></extra>",
         "legendgroup": "topic_8",
         "line": {
          "color": "#B6E880",
          "dash": "solid"
         },
         "marker": {
          "symbol": "circle"
         },
         "mode": "lines",
         "name": "topic_8",
         "orientation": "v",
         "showlegend": true,
         "type": "scatter",
         "x": [
          0,
          1,
          2,
          3,
          4,
          5,
          6,
          7,
          8,
          9,
          10,
          11,
          12,
          13,
          14,
          15,
          16,
          17,
          18,
          19,
          20,
          21,
          22,
          23,
          24,
          25,
          26,
          27,
          28,
          29,
          30,
          31,
          32,
          33,
          34,
          35,
          36,
          37,
          38,
          39,
          40,
          41,
          42,
          43,
          44,
          45
         ],
         "xaxis": "x",
         "y": [
          0.09191711246967316,
          0.08274737745523453,
          0.14465510845184326,
          0.15751321613788605,
          0.12098182737827301,
          0.8008437156677246,
          0.16067686676979065,
          0.0947827622294426,
          0.016470929607748985,
          0.01298684161156416,
          0.01850099116563797,
          0.002929891226813197,
          0.008096745237708092,
          0.001075941720046103,
          0.0006240808870643377,
          0.0006141677149571478,
          0.0005577052943408489,
          0.0009804068831726909,
          0.0013916969764977694,
          0.0004960561054758728,
          0.0003344884898979217,
          0.00030479056295007467,
          0.0002681697951629758,
          0.00011739844194380566,
          0.0005248950328677893,
          0.0002604744804557413,
          0.0004029557458125055,
          0.00018073696992360055,
          0.9975507259368896,
          0.0010281341383233666,
          0.00015160553448367864,
          0.00034499209141358733,
          0.00022400055604521185,
          0.0003406615287531167,
          0.00011159052519360557,
          0.0003268183791078627,
          0.00007133685721782967,
          0.0001971172750927508,
          0.00016569742001593113,
          0.00011168548371642828,
          0.0001921382499858737,
          0.0012206981191411614,
          0.9973853230476379,
          0.0005195793928578496,
          0.006558478344231844,
          0.1341530829668045
         ],
         "yaxis": "y"
        }
       ],
       "layout": {
        "legend": {
         "title": {
          "text": "variable"
         },
         "tracegroupgap": 0
        },
        "template": {
         "data": {
          "bar": [
           {
            "error_x": {
             "color": "#2a3f5f"
            },
            "error_y": {
             "color": "#2a3f5f"
            },
            "marker": {
             "line": {
              "color": "#E5ECF6",
              "width": 0.5
             },
             "pattern": {
              "fillmode": "overlay",
              "size": 10,
              "solidity": 0.2
             }
            },
            "type": "bar"
           }
          ],
          "barpolar": [
           {
            "marker": {
             "line": {
              "color": "#E5ECF6",
              "width": 0.5
             },
             "pattern": {
              "fillmode": "overlay",
              "size": 10,
              "solidity": 0.2
             }
            },
            "type": "barpolar"
           }
          ],
          "carpet": [
           {
            "aaxis": {
             "endlinecolor": "#2a3f5f",
             "gridcolor": "white",
             "linecolor": "white",
             "minorgridcolor": "white",
             "startlinecolor": "#2a3f5f"
            },
            "baxis": {
             "endlinecolor": "#2a3f5f",
             "gridcolor": "white",
             "linecolor": "white",
             "minorgridcolor": "white",
             "startlinecolor": "#2a3f5f"
            },
            "type": "carpet"
           }
          ],
          "choropleth": [
           {
            "colorbar": {
             "outlinewidth": 0,
             "ticks": ""
            },
            "type": "choropleth"
           }
          ],
          "contour": [
           {
            "colorbar": {
             "outlinewidth": 0,
             "ticks": ""
            },
            "colorscale": [
             [
              0,
              "#0d0887"
             ],
             [
              0.1111111111111111,
              "#46039f"
             ],
             [
              0.2222222222222222,
              "#7201a8"
             ],
             [
              0.3333333333333333,
              "#9c179e"
             ],
             [
              0.4444444444444444,
              "#bd3786"
             ],
             [
              0.5555555555555556,
              "#d8576b"
             ],
             [
              0.6666666666666666,
              "#ed7953"
             ],
             [
              0.7777777777777778,
              "#fb9f3a"
             ],
             [
              0.8888888888888888,
              "#fdca26"
             ],
             [
              1,
              "#f0f921"
             ]
            ],
            "type": "contour"
           }
          ],
          "contourcarpet": [
           {
            "colorbar": {
             "outlinewidth": 0,
             "ticks": ""
            },
            "type": "contourcarpet"
           }
          ],
          "heatmap": [
           {
            "colorbar": {
             "outlinewidth": 0,
             "ticks": ""
            },
            "colorscale": [
             [
              0,
              "#0d0887"
             ],
             [
              0.1111111111111111,
              "#46039f"
             ],
             [
              0.2222222222222222,
              "#7201a8"
             ],
             [
              0.3333333333333333,
              "#9c179e"
             ],
             [
              0.4444444444444444,
              "#bd3786"
             ],
             [
              0.5555555555555556,
              "#d8576b"
             ],
             [
              0.6666666666666666,
              "#ed7953"
             ],
             [
              0.7777777777777778,
              "#fb9f3a"
             ],
             [
              0.8888888888888888,
              "#fdca26"
             ],
             [
              1,
              "#f0f921"
             ]
            ],
            "type": "heatmap"
           }
          ],
          "heatmapgl": [
           {
            "colorbar": {
             "outlinewidth": 0,
             "ticks": ""
            },
            "colorscale": [
             [
              0,
              "#0d0887"
             ],
             [
              0.1111111111111111,
              "#46039f"
             ],
             [
              0.2222222222222222,
              "#7201a8"
             ],
             [
              0.3333333333333333,
              "#9c179e"
             ],
             [
              0.4444444444444444,
              "#bd3786"
             ],
             [
              0.5555555555555556,
              "#d8576b"
             ],
             [
              0.6666666666666666,
              "#ed7953"
             ],
             [
              0.7777777777777778,
              "#fb9f3a"
             ],
             [
              0.8888888888888888,
              "#fdca26"
             ],
             [
              1,
              "#f0f921"
             ]
            ],
            "type": "heatmapgl"
           }
          ],
          "histogram": [
           {
            "marker": {
             "pattern": {
              "fillmode": "overlay",
              "size": 10,
              "solidity": 0.2
             }
            },
            "type": "histogram"
           }
          ],
          "histogram2d": [
           {
            "colorbar": {
             "outlinewidth": 0,
             "ticks": ""
            },
            "colorscale": [
             [
              0,
              "#0d0887"
             ],
             [
              0.1111111111111111,
              "#46039f"
             ],
             [
              0.2222222222222222,
              "#7201a8"
             ],
             [
              0.3333333333333333,
              "#9c179e"
             ],
             [
              0.4444444444444444,
              "#bd3786"
             ],
             [
              0.5555555555555556,
              "#d8576b"
             ],
             [
              0.6666666666666666,
              "#ed7953"
             ],
             [
              0.7777777777777778,
              "#fb9f3a"
             ],
             [
              0.8888888888888888,
              "#fdca26"
             ],
             [
              1,
              "#f0f921"
             ]
            ],
            "type": "histogram2d"
           }
          ],
          "histogram2dcontour": [
           {
            "colorbar": {
             "outlinewidth": 0,
             "ticks": ""
            },
            "colorscale": [
             [
              0,
              "#0d0887"
             ],
             [
              0.1111111111111111,
              "#46039f"
             ],
             [
              0.2222222222222222,
              "#7201a8"
             ],
             [
              0.3333333333333333,
              "#9c179e"
             ],
             [
              0.4444444444444444,
              "#bd3786"
             ],
             [
              0.5555555555555556,
              "#d8576b"
             ],
             [
              0.6666666666666666,
              "#ed7953"
             ],
             [
              0.7777777777777778,
              "#fb9f3a"
             ],
             [
              0.8888888888888888,
              "#fdca26"
             ],
             [
              1,
              "#f0f921"
             ]
            ],
            "type": "histogram2dcontour"
           }
          ],
          "mesh3d": [
           {
            "colorbar": {
             "outlinewidth": 0,
             "ticks": ""
            },
            "type": "mesh3d"
           }
          ],
          "parcoords": [
           {
            "line": {
             "colorbar": {
              "outlinewidth": 0,
              "ticks": ""
             }
            },
            "type": "parcoords"
           }
          ],
          "pie": [
           {
            "automargin": true,
            "type": "pie"
           }
          ],
          "scatter": [
           {
            "fillpattern": {
             "fillmode": "overlay",
             "size": 10,
             "solidity": 0.2
            },
            "type": "scatter"
           }
          ],
          "scatter3d": [
           {
            "line": {
             "colorbar": {
              "outlinewidth": 0,
              "ticks": ""
             }
            },
            "marker": {
             "colorbar": {
              "outlinewidth": 0,
              "ticks": ""
             }
            },
            "type": "scatter3d"
           }
          ],
          "scattercarpet": [
           {
            "marker": {
             "colorbar": {
              "outlinewidth": 0,
              "ticks": ""
             }
            },
            "type": "scattercarpet"
           }
          ],
          "scattergeo": [
           {
            "marker": {
             "colorbar": {
              "outlinewidth": 0,
              "ticks": ""
             }
            },
            "type": "scattergeo"
           }
          ],
          "scattergl": [
           {
            "marker": {
             "colorbar": {
              "outlinewidth": 0,
              "ticks": ""
             }
            },
            "type": "scattergl"
           }
          ],
          "scattermapbox": [
           {
            "marker": {
             "colorbar": {
              "outlinewidth": 0,
              "ticks": ""
             }
            },
            "type": "scattermapbox"
           }
          ],
          "scatterpolar": [
           {
            "marker": {
             "colorbar": {
              "outlinewidth": 0,
              "ticks": ""
             }
            },
            "type": "scatterpolar"
           }
          ],
          "scatterpolargl": [
           {
            "marker": {
             "colorbar": {
              "outlinewidth": 0,
              "ticks": ""
             }
            },
            "type": "scatterpolargl"
           }
          ],
          "scatterternary": [
           {
            "marker": {
             "colorbar": {
              "outlinewidth": 0,
              "ticks": ""
             }
            },
            "type": "scatterternary"
           }
          ],
          "surface": [
           {
            "colorbar": {
             "outlinewidth": 0,
             "ticks": ""
            },
            "colorscale": [
             [
              0,
              "#0d0887"
             ],
             [
              0.1111111111111111,
              "#46039f"
             ],
             [
              0.2222222222222222,
              "#7201a8"
             ],
             [
              0.3333333333333333,
              "#9c179e"
             ],
             [
              0.4444444444444444,
              "#bd3786"
             ],
             [
              0.5555555555555556,
              "#d8576b"
             ],
             [
              0.6666666666666666,
              "#ed7953"
             ],
             [
              0.7777777777777778,
              "#fb9f3a"
             ],
             [
              0.8888888888888888,
              "#fdca26"
             ],
             [
              1,
              "#f0f921"
             ]
            ],
            "type": "surface"
           }
          ],
          "table": [
           {
            "cells": {
             "fill": {
              "color": "#EBF0F8"
             },
             "line": {
              "color": "white"
             }
            },
            "header": {
             "fill": {
              "color": "#C8D4E3"
             },
             "line": {
              "color": "white"
             }
            },
            "type": "table"
           }
          ]
         },
         "layout": {
          "annotationdefaults": {
           "arrowcolor": "#2a3f5f",
           "arrowhead": 0,
           "arrowwidth": 1
          },
          "autotypenumbers": "strict",
          "coloraxis": {
           "colorbar": {
            "outlinewidth": 0,
            "ticks": ""
           }
          },
          "colorscale": {
           "diverging": [
            [
             0,
             "#8e0152"
            ],
            [
             0.1,
             "#c51b7d"
            ],
            [
             0.2,
             "#de77ae"
            ],
            [
             0.3,
             "#f1b6da"
            ],
            [
             0.4,
             "#fde0ef"
            ],
            [
             0.5,
             "#f7f7f7"
            ],
            [
             0.6,
             "#e6f5d0"
            ],
            [
             0.7,
             "#b8e186"
            ],
            [
             0.8,
             "#7fbc41"
            ],
            [
             0.9,
             "#4d9221"
            ],
            [
             1,
             "#276419"
            ]
           ],
           "sequential": [
            [
             0,
             "#0d0887"
            ],
            [
             0.1111111111111111,
             "#46039f"
            ],
            [
             0.2222222222222222,
             "#7201a8"
            ],
            [
             0.3333333333333333,
             "#9c179e"
            ],
            [
             0.4444444444444444,
             "#bd3786"
            ],
            [
             0.5555555555555556,
             "#d8576b"
            ],
            [
             0.6666666666666666,
             "#ed7953"
            ],
            [
             0.7777777777777778,
             "#fb9f3a"
            ],
            [
             0.8888888888888888,
             "#fdca26"
            ],
            [
             1,
             "#f0f921"
            ]
           ],
           "sequentialminus": [
            [
             0,
             "#0d0887"
            ],
            [
             0.1111111111111111,
             "#46039f"
            ],
            [
             0.2222222222222222,
             "#7201a8"
            ],
            [
             0.3333333333333333,
             "#9c179e"
            ],
            [
             0.4444444444444444,
             "#bd3786"
            ],
            [
             0.5555555555555556,
             "#d8576b"
            ],
            [
             0.6666666666666666,
             "#ed7953"
            ],
            [
             0.7777777777777778,
             "#fb9f3a"
            ],
            [
             0.8888888888888888,
             "#fdca26"
            ],
            [
             1,
             "#f0f921"
            ]
           ]
          },
          "colorway": [
           "#636efa",
           "#EF553B",
           "#00cc96",
           "#ab63fa",
           "#FFA15A",
           "#19d3f3",
           "#FF6692",
           "#B6E880",
           "#FF97FF",
           "#FECB52"
          ],
          "font": {
           "color": "#2a3f5f"
          },
          "geo": {
           "bgcolor": "white",
           "lakecolor": "white",
           "landcolor": "#E5ECF6",
           "showlakes": true,
           "showland": true,
           "subunitcolor": "white"
          },
          "hoverlabel": {
           "align": "left"
          },
          "hovermode": "closest",
          "mapbox": {
           "style": "light"
          },
          "paper_bgcolor": "white",
          "plot_bgcolor": "#E5ECF6",
          "polar": {
           "angularaxis": {
            "gridcolor": "white",
            "linecolor": "white",
            "ticks": ""
           },
           "bgcolor": "#E5ECF6",
           "radialaxis": {
            "gridcolor": "white",
            "linecolor": "white",
            "ticks": ""
           }
          },
          "scene": {
           "xaxis": {
            "backgroundcolor": "#E5ECF6",
            "gridcolor": "white",
            "gridwidth": 2,
            "linecolor": "white",
            "showbackground": true,
            "ticks": "",
            "zerolinecolor": "white"
           },
           "yaxis": {
            "backgroundcolor": "#E5ECF6",
            "gridcolor": "white",
            "gridwidth": 2,
            "linecolor": "white",
            "showbackground": true,
            "ticks": "",
            "zerolinecolor": "white"
           },
           "zaxis": {
            "backgroundcolor": "#E5ECF6",
            "gridcolor": "white",
            "gridwidth": 2,
            "linecolor": "white",
            "showbackground": true,
            "ticks": "",
            "zerolinecolor": "white"
           }
          },
          "shapedefaults": {
           "line": {
            "color": "#2a3f5f"
           }
          },
          "ternary": {
           "aaxis": {
            "gridcolor": "white",
            "linecolor": "white",
            "ticks": ""
           },
           "baxis": {
            "gridcolor": "white",
            "linecolor": "white",
            "ticks": ""
           },
           "bgcolor": "#E5ECF6",
           "caxis": {
            "gridcolor": "white",
            "linecolor": "white",
            "ticks": ""
           }
          },
          "title": {
           "x": 0.05
          },
          "xaxis": {
           "automargin": true,
           "gridcolor": "white",
           "linecolor": "white",
           "ticks": "",
           "title": {
            "standoff": 15
           },
           "zerolinecolor": "white",
           "zerolinewidth": 2
          },
          "yaxis": {
           "automargin": true,
           "gridcolor": "white",
           "linecolor": "white",
           "ticks": "",
           "title": {
            "standoff": 15
           },
           "zerolinecolor": "white",
           "zerolinewidth": 2
          }
         }
        },
        "title": {
         "text": "All Time Period Common Topics"
        },
        "xaxis": {
         "anchor": "y",
         "domain": [
          0,
          1
         ],
         "dtick": "M1",
         "tickformat": "%b %d",
         "ticklabelmode": "period",
         "title": {
          "text": "timepoint"
         }
        },
        "yaxis": {
         "anchor": "x",
         "domain": [
          0,
          1
         ],
         "title": {
          "text": "value"
         }
        }
       }
      }
     },
     "metadata": {},
     "output_type": "display_data"
    }
   ],
   "source": [
    "td = pd.DataFrame()\n",
    "for timepoint in range(best_mdl.num_timepoints):\n",
    "    td_tmp = pd.DataFrame(\n",
    "        np.stack([doc.get_topic_dist() for doc in best_mdl.docs if doc.timepoint == timepoint]),\n",
    "        columns=[\"topic_{}\".format(i + 1) for i in range(best_mdl.k)],\n",
    "    )\n",
    "    td_tmp[\"timepoint\"] = timepoint\n",
    "    td = pd.concat([td, td_tmp], ignore_index=True)\n",
    "    del td_tmp\n",
    "\n",
    "import plotly.express as px\n",
    "fig = px.line(td, x=\"timepoint\", y=td.columns,\n",
    "            #   hover_data={\"timepoint\": \"|%B %d, %Y\"},\n",
    "              title='All Time Period Common Topics')\n",
    "fig.update_xaxes(\n",
    "    dtick=\"M1\",\n",
    "    tickformat=\"%b %d\",\n",
    "    ticklabelmode=\"period\")\n",
    "fig.show()\n",
    "\n",
    "# save the figure to html\n",
    "fig.write_html('./main_df_output/QA_topic_plot.html')"
   ]
  },
  {
   "cell_type": "markdown",
   "metadata": {},
   "source": [
    "# Early Time"
   ]
  },
  {
   "cell_type": "code",
   "execution_count": 40,
   "metadata": {},
   "outputs": [
    {
     "data": {
      "application/vnd.plotly.v1+json": {
       "config": {
        "plotlyServerURL": "https://plot.ly"
       },
       "data": [
        {
         "hovertemplate": "variable=topic_1<br>timepoint=%{x}<br>value=%{y}<extra></extra>",
         "legendgroup": "topic_1",
         "line": {
          "color": "#636efa",
          "dash": "solid"
         },
         "marker": {
          "symbol": "circle"
         },
         "mode": "lines",
         "name": "topic_1",
         "orientation": "v",
         "showlegend": true,
         "type": "scatter",
         "x": [
          0,
          1,
          2,
          3,
          4,
          5,
          6,
          7,
          8,
          9,
          10,
          11,
          12,
          13,
          14,
          15
         ],
         "xaxis": "x",
         "y": [
          0.18732711672782898,
          0.18845075368881226,
          0.16600878536701202,
          0.10350219160318375,
          0.14885354042053223,
          0.04733111336827278,
          0.1454378068447113,
          0.12508058547973633,
          0.04357295110821724,
          0.8505785465240479,
          0.029001155868172646,
          0.0020957584492862225,
          0.005209175404161215,
          0.0011522496351972222,
          0.0005622907192446291,
          0.0006141677149571478
         ],
         "yaxis": "y"
        },
        {
         "hovertemplate": "variable=topic_3<br>timepoint=%{x}<br>value=%{y}<extra></extra>",
         "legendgroup": "topic_3",
         "line": {
          "color": "#EF553B",
          "dash": "solid"
         },
         "marker": {
          "symbol": "circle"
         },
         "mode": "lines",
         "name": "topic_3",
         "orientation": "v",
         "showlegend": true,
         "type": "scatter",
         "x": [
          0,
          1,
          2,
          3,
          4,
          5,
          6,
          7,
          8,
          9,
          10,
          11,
          12,
          13,
          14,
          15
         ],
         "xaxis": "x",
         "y": [
          0.14841295778751373,
          0.11262007057666779,
          0.1158599704504013,
          0.0978168174624443,
          0.101657435297966,
          0.027603132650256157,
          0.15146993100643158,
          0.07673300057649612,
          0.028247404843568802,
          0.0184145737439394,
          0.8148866295814514,
          0.004076823592185974,
          0.008096745237708092,
          0.0012285575503483415,
          0.000315129931550473,
          0.00020922196563333273
         ],
         "yaxis": "y"
        },
        {
         "hovertemplate": "variable=topic_4<br>timepoint=%{x}<br>value=%{y}<extra></extra>",
         "legendgroup": "topic_4",
         "line": {
          "color": "#00cc96",
          "dash": "solid"
         },
         "marker": {
          "symbol": "circle"
         },
         "mode": "lines",
         "name": "topic_4",
         "orientation": "v",
         "showlegend": true,
         "type": "scatter",
         "x": [
          0,
          1,
          2,
          3,
          4,
          5,
          6,
          7,
          8,
          9,
          10,
          11,
          12,
          13,
          14,
          15
         ],
         "xaxis": "x",
         "y": [
          0.09097941964864731,
          0.08688359707593918,
          0.09321211278438568,
          0.10918755829334259,
          0.21425917744636536,
          0.020385578274726868,
          0.08924376219511032,
          0.17686621844768524,
          0.027924761176109314,
          0.01709073781967163,
          0.029296934604644775,
          0.005223756190389395,
          0.9482893943786621,
          0.9924684166908264,
          0.0007476612809114158,
          0.9971855878829956
         ],
         "yaxis": "y"
        },
        {
         "hovertemplate": "variable=topic_5<br>timepoint=%{x}<br>value=%{y}<extra></extra>",
         "legendgroup": "topic_5",
         "line": {
          "color": "#ab63fa",
          "dash": "solid"
         },
         "marker": {
          "symbol": "circle"
         },
         "mode": "lines",
         "name": "topic_5",
         "orientation": "v",
         "showlegend": true,
         "type": "scatter",
         "x": [
          0,
          1,
          2,
          3,
          4,
          5,
          6,
          7,
          8,
          9,
          10,
          11,
          12,
          13,
          14,
          15
         ],
         "xaxis": "x",
         "y": [
          0.1477096974849701,
          0.11124133318662643,
          0.13721366226673126,
          0.2129455804824829,
          0.16929280757904053,
          0.026640791445970535,
          0.13527843356132507,
          0.091129831969738,
          0.028247404843568802,
          0.06329265236854553,
          0.04024076461791992,
          0.0038682904560118914,
          0.007288225460797548,
          0.0014574812958016992,
          0.9964964985847473,
          0.0004116948402952403
         ],
         "yaxis": "y"
        },
        {
         "hovertemplate": "variable=topic_7<br>timepoint=%{x}<br>value=%{y}<extra></extra>",
         "legendgroup": "topic_7",
         "line": {
          "color": "#FFA15A",
          "dash": "solid"
         },
         "marker": {
          "symbol": "circle"
         },
         "mode": "lines",
         "name": "topic_7",
         "orientation": "v",
         "showlegend": true,
         "type": "scatter",
         "x": [
          0,
          1,
          2,
          3,
          4,
          5,
          6,
          7,
          8,
          9,
          10,
          11,
          12,
          13,
          14,
          15
         ],
         "xaxis": "x",
         "y": [
          0.08652539551258087,
          0.1981019377708435,
          0.0954769030213356,
          0.14358405768871307,
          0.10481622815132141,
          0.02583884261548519,
          0.1067051887512207,
          0.16461816430091858,
          0.8214654922485352,
          0.013781143352389336,
          0.022641900926828384,
          0.9774054288864136,
          0.008443253114819527,
          0.0012285575503483415,
          0.000376920128474012,
          0.0003442038723733276
         ],
         "yaxis": "y"
        },
        {
         "hovertemplate": "variable=topic_8<br>timepoint=%{x}<br>value=%{y}<extra></extra>",
         "legendgroup": "topic_8",
         "line": {
          "color": "#19d3f3",
          "dash": "solid"
         },
         "marker": {
          "symbol": "circle"
         },
         "mode": "lines",
         "name": "topic_8",
         "orientation": "v",
         "showlegend": true,
         "type": "scatter",
         "x": [
          0,
          1,
          2,
          3,
          4,
          5,
          6,
          7,
          8,
          9,
          10,
          11,
          12,
          13,
          14,
          15
         ],
         "xaxis": "x",
         "y": [
          0.09191711246967316,
          0.08274737745523453,
          0.14465510845184326,
          0.15751321613788605,
          0.12098182737827301,
          0.8008437156677246,
          0.16067686676979065,
          0.0947827622294426,
          0.016470929607748985,
          0.01298684161156416,
          0.01850099116563797,
          0.002929891226813197,
          0.008096745237708092,
          0.001075941720046103,
          0.0006240808870643377,
          0.0006141677149571478
         ],
         "yaxis": "y"
        }
       ],
       "layout": {
        "legend": {
         "title": {
          "text": "variable"
         },
         "tracegroupgap": 0
        },
        "template": {
         "data": {
          "bar": [
           {
            "error_x": {
             "color": "#2a3f5f"
            },
            "error_y": {
             "color": "#2a3f5f"
            },
            "marker": {
             "line": {
              "color": "#E5ECF6",
              "width": 0.5
             },
             "pattern": {
              "fillmode": "overlay",
              "size": 10,
              "solidity": 0.2
             }
            },
            "type": "bar"
           }
          ],
          "barpolar": [
           {
            "marker": {
             "line": {
              "color": "#E5ECF6",
              "width": 0.5
             },
             "pattern": {
              "fillmode": "overlay",
              "size": 10,
              "solidity": 0.2
             }
            },
            "type": "barpolar"
           }
          ],
          "carpet": [
           {
            "aaxis": {
             "endlinecolor": "#2a3f5f",
             "gridcolor": "white",
             "linecolor": "white",
             "minorgridcolor": "white",
             "startlinecolor": "#2a3f5f"
            },
            "baxis": {
             "endlinecolor": "#2a3f5f",
             "gridcolor": "white",
             "linecolor": "white",
             "minorgridcolor": "white",
             "startlinecolor": "#2a3f5f"
            },
            "type": "carpet"
           }
          ],
          "choropleth": [
           {
            "colorbar": {
             "outlinewidth": 0,
             "ticks": ""
            },
            "type": "choropleth"
           }
          ],
          "contour": [
           {
            "colorbar": {
             "outlinewidth": 0,
             "ticks": ""
            },
            "colorscale": [
             [
              0,
              "#0d0887"
             ],
             [
              0.1111111111111111,
              "#46039f"
             ],
             [
              0.2222222222222222,
              "#7201a8"
             ],
             [
              0.3333333333333333,
              "#9c179e"
             ],
             [
              0.4444444444444444,
              "#bd3786"
             ],
             [
              0.5555555555555556,
              "#d8576b"
             ],
             [
              0.6666666666666666,
              "#ed7953"
             ],
             [
              0.7777777777777778,
              "#fb9f3a"
             ],
             [
              0.8888888888888888,
              "#fdca26"
             ],
             [
              1,
              "#f0f921"
             ]
            ],
            "type": "contour"
           }
          ],
          "contourcarpet": [
           {
            "colorbar": {
             "outlinewidth": 0,
             "ticks": ""
            },
            "type": "contourcarpet"
           }
          ],
          "heatmap": [
           {
            "colorbar": {
             "outlinewidth": 0,
             "ticks": ""
            },
            "colorscale": [
             [
              0,
              "#0d0887"
             ],
             [
              0.1111111111111111,
              "#46039f"
             ],
             [
              0.2222222222222222,
              "#7201a8"
             ],
             [
              0.3333333333333333,
              "#9c179e"
             ],
             [
              0.4444444444444444,
              "#bd3786"
             ],
             [
              0.5555555555555556,
              "#d8576b"
             ],
             [
              0.6666666666666666,
              "#ed7953"
             ],
             [
              0.7777777777777778,
              "#fb9f3a"
             ],
             [
              0.8888888888888888,
              "#fdca26"
             ],
             [
              1,
              "#f0f921"
             ]
            ],
            "type": "heatmap"
           }
          ],
          "heatmapgl": [
           {
            "colorbar": {
             "outlinewidth": 0,
             "ticks": ""
            },
            "colorscale": [
             [
              0,
              "#0d0887"
             ],
             [
              0.1111111111111111,
              "#46039f"
             ],
             [
              0.2222222222222222,
              "#7201a8"
             ],
             [
              0.3333333333333333,
              "#9c179e"
             ],
             [
              0.4444444444444444,
              "#bd3786"
             ],
             [
              0.5555555555555556,
              "#d8576b"
             ],
             [
              0.6666666666666666,
              "#ed7953"
             ],
             [
              0.7777777777777778,
              "#fb9f3a"
             ],
             [
              0.8888888888888888,
              "#fdca26"
             ],
             [
              1,
              "#f0f921"
             ]
            ],
            "type": "heatmapgl"
           }
          ],
          "histogram": [
           {
            "marker": {
             "pattern": {
              "fillmode": "overlay",
              "size": 10,
              "solidity": 0.2
             }
            },
            "type": "histogram"
           }
          ],
          "histogram2d": [
           {
            "colorbar": {
             "outlinewidth": 0,
             "ticks": ""
            },
            "colorscale": [
             [
              0,
              "#0d0887"
             ],
             [
              0.1111111111111111,
              "#46039f"
             ],
             [
              0.2222222222222222,
              "#7201a8"
             ],
             [
              0.3333333333333333,
              "#9c179e"
             ],
             [
              0.4444444444444444,
              "#bd3786"
             ],
             [
              0.5555555555555556,
              "#d8576b"
             ],
             [
              0.6666666666666666,
              "#ed7953"
             ],
             [
              0.7777777777777778,
              "#fb9f3a"
             ],
             [
              0.8888888888888888,
              "#fdca26"
             ],
             [
              1,
              "#f0f921"
             ]
            ],
            "type": "histogram2d"
           }
          ],
          "histogram2dcontour": [
           {
            "colorbar": {
             "outlinewidth": 0,
             "ticks": ""
            },
            "colorscale": [
             [
              0,
              "#0d0887"
             ],
             [
              0.1111111111111111,
              "#46039f"
             ],
             [
              0.2222222222222222,
              "#7201a8"
             ],
             [
              0.3333333333333333,
              "#9c179e"
             ],
             [
              0.4444444444444444,
              "#bd3786"
             ],
             [
              0.5555555555555556,
              "#d8576b"
             ],
             [
              0.6666666666666666,
              "#ed7953"
             ],
             [
              0.7777777777777778,
              "#fb9f3a"
             ],
             [
              0.8888888888888888,
              "#fdca26"
             ],
             [
              1,
              "#f0f921"
             ]
            ],
            "type": "histogram2dcontour"
           }
          ],
          "mesh3d": [
           {
            "colorbar": {
             "outlinewidth": 0,
             "ticks": ""
            },
            "type": "mesh3d"
           }
          ],
          "parcoords": [
           {
            "line": {
             "colorbar": {
              "outlinewidth": 0,
              "ticks": ""
             }
            },
            "type": "parcoords"
           }
          ],
          "pie": [
           {
            "automargin": true,
            "type": "pie"
           }
          ],
          "scatter": [
           {
            "fillpattern": {
             "fillmode": "overlay",
             "size": 10,
             "solidity": 0.2
            },
            "type": "scatter"
           }
          ],
          "scatter3d": [
           {
            "line": {
             "colorbar": {
              "outlinewidth": 0,
              "ticks": ""
             }
            },
            "marker": {
             "colorbar": {
              "outlinewidth": 0,
              "ticks": ""
             }
            },
            "type": "scatter3d"
           }
          ],
          "scattercarpet": [
           {
            "marker": {
             "colorbar": {
              "outlinewidth": 0,
              "ticks": ""
             }
            },
            "type": "scattercarpet"
           }
          ],
          "scattergeo": [
           {
            "marker": {
             "colorbar": {
              "outlinewidth": 0,
              "ticks": ""
             }
            },
            "type": "scattergeo"
           }
          ],
          "scattergl": [
           {
            "marker": {
             "colorbar": {
              "outlinewidth": 0,
              "ticks": ""
             }
            },
            "type": "scattergl"
           }
          ],
          "scattermapbox": [
           {
            "marker": {
             "colorbar": {
              "outlinewidth": 0,
              "ticks": ""
             }
            },
            "type": "scattermapbox"
           }
          ],
          "scatterpolar": [
           {
            "marker": {
             "colorbar": {
              "outlinewidth": 0,
              "ticks": ""
             }
            },
            "type": "scatterpolar"
           }
          ],
          "scatterpolargl": [
           {
            "marker": {
             "colorbar": {
              "outlinewidth": 0,
              "ticks": ""
             }
            },
            "type": "scatterpolargl"
           }
          ],
          "scatterternary": [
           {
            "marker": {
             "colorbar": {
              "outlinewidth": 0,
              "ticks": ""
             }
            },
            "type": "scatterternary"
           }
          ],
          "surface": [
           {
            "colorbar": {
             "outlinewidth": 0,
             "ticks": ""
            },
            "colorscale": [
             [
              0,
              "#0d0887"
             ],
             [
              0.1111111111111111,
              "#46039f"
             ],
             [
              0.2222222222222222,
              "#7201a8"
             ],
             [
              0.3333333333333333,
              "#9c179e"
             ],
             [
              0.4444444444444444,
              "#bd3786"
             ],
             [
              0.5555555555555556,
              "#d8576b"
             ],
             [
              0.6666666666666666,
              "#ed7953"
             ],
             [
              0.7777777777777778,
              "#fb9f3a"
             ],
             [
              0.8888888888888888,
              "#fdca26"
             ],
             [
              1,
              "#f0f921"
             ]
            ],
            "type": "surface"
           }
          ],
          "table": [
           {
            "cells": {
             "fill": {
              "color": "#EBF0F8"
             },
             "line": {
              "color": "white"
             }
            },
            "header": {
             "fill": {
              "color": "#C8D4E3"
             },
             "line": {
              "color": "white"
             }
            },
            "type": "table"
           }
          ]
         },
         "layout": {
          "annotationdefaults": {
           "arrowcolor": "#2a3f5f",
           "arrowhead": 0,
           "arrowwidth": 1
          },
          "autotypenumbers": "strict",
          "coloraxis": {
           "colorbar": {
            "outlinewidth": 0,
            "ticks": ""
           }
          },
          "colorscale": {
           "diverging": [
            [
             0,
             "#8e0152"
            ],
            [
             0.1,
             "#c51b7d"
            ],
            [
             0.2,
             "#de77ae"
            ],
            [
             0.3,
             "#f1b6da"
            ],
            [
             0.4,
             "#fde0ef"
            ],
            [
             0.5,
             "#f7f7f7"
            ],
            [
             0.6,
             "#e6f5d0"
            ],
            [
             0.7,
             "#b8e186"
            ],
            [
             0.8,
             "#7fbc41"
            ],
            [
             0.9,
             "#4d9221"
            ],
            [
             1,
             "#276419"
            ]
           ],
           "sequential": [
            [
             0,
             "#0d0887"
            ],
            [
             0.1111111111111111,
             "#46039f"
            ],
            [
             0.2222222222222222,
             "#7201a8"
            ],
            [
             0.3333333333333333,
             "#9c179e"
            ],
            [
             0.4444444444444444,
             "#bd3786"
            ],
            [
             0.5555555555555556,
             "#d8576b"
            ],
            [
             0.6666666666666666,
             "#ed7953"
            ],
            [
             0.7777777777777778,
             "#fb9f3a"
            ],
            [
             0.8888888888888888,
             "#fdca26"
            ],
            [
             1,
             "#f0f921"
            ]
           ],
           "sequentialminus": [
            [
             0,
             "#0d0887"
            ],
            [
             0.1111111111111111,
             "#46039f"
            ],
            [
             0.2222222222222222,
             "#7201a8"
            ],
            [
             0.3333333333333333,
             "#9c179e"
            ],
            [
             0.4444444444444444,
             "#bd3786"
            ],
            [
             0.5555555555555556,
             "#d8576b"
            ],
            [
             0.6666666666666666,
             "#ed7953"
            ],
            [
             0.7777777777777778,
             "#fb9f3a"
            ],
            [
             0.8888888888888888,
             "#fdca26"
            ],
            [
             1,
             "#f0f921"
            ]
           ]
          },
          "colorway": [
           "#636efa",
           "#EF553B",
           "#00cc96",
           "#ab63fa",
           "#FFA15A",
           "#19d3f3",
           "#FF6692",
           "#B6E880",
           "#FF97FF",
           "#FECB52"
          ],
          "font": {
           "color": "#2a3f5f"
          },
          "geo": {
           "bgcolor": "white",
           "lakecolor": "white",
           "landcolor": "#E5ECF6",
           "showlakes": true,
           "showland": true,
           "subunitcolor": "white"
          },
          "hoverlabel": {
           "align": "left"
          },
          "hovermode": "closest",
          "mapbox": {
           "style": "light"
          },
          "paper_bgcolor": "white",
          "plot_bgcolor": "#E5ECF6",
          "polar": {
           "angularaxis": {
            "gridcolor": "white",
            "linecolor": "white",
            "ticks": ""
           },
           "bgcolor": "#E5ECF6",
           "radialaxis": {
            "gridcolor": "white",
            "linecolor": "white",
            "ticks": ""
           }
          },
          "scene": {
           "xaxis": {
            "backgroundcolor": "#E5ECF6",
            "gridcolor": "white",
            "gridwidth": 2,
            "linecolor": "white",
            "showbackground": true,
            "ticks": "",
            "zerolinecolor": "white"
           },
           "yaxis": {
            "backgroundcolor": "#E5ECF6",
            "gridcolor": "white",
            "gridwidth": 2,
            "linecolor": "white",
            "showbackground": true,
            "ticks": "",
            "zerolinecolor": "white"
           },
           "zaxis": {
            "backgroundcolor": "#E5ECF6",
            "gridcolor": "white",
            "gridwidth": 2,
            "linecolor": "white",
            "showbackground": true,
            "ticks": "",
            "zerolinecolor": "white"
           }
          },
          "shapedefaults": {
           "line": {
            "color": "#2a3f5f"
           }
          },
          "ternary": {
           "aaxis": {
            "gridcolor": "white",
            "linecolor": "white",
            "ticks": ""
           },
           "baxis": {
            "gridcolor": "white",
            "linecolor": "white",
            "ticks": ""
           },
           "bgcolor": "#E5ECF6",
           "caxis": {
            "gridcolor": "white",
            "linecolor": "white",
            "ticks": ""
           }
          },
          "title": {
           "x": 0.05
          },
          "xaxis": {
           "automargin": true,
           "gridcolor": "white",
           "linecolor": "white",
           "ticks": "",
           "title": {
            "standoff": 15
           },
           "zerolinecolor": "white",
           "zerolinewidth": 2
          },
          "yaxis": {
           "automargin": true,
           "gridcolor": "white",
           "linecolor": "white",
           "ticks": "",
           "title": {
            "standoff": 15
           },
           "zerolinecolor": "white",
           "zerolinewidth": 2
          }
         }
        },
        "title": {
         "text": "Early Time Period Common Topics"
        },
        "xaxis": {
         "anchor": "y",
         "domain": [
          0,
          1
         ],
         "dtick": "M1",
         "tickformat": "%b %d",
         "ticklabelmode": "period",
         "title": {
          "text": "timepoint"
         }
        },
        "yaxis": {
         "anchor": "x",
         "domain": [
          0,
          1
         ],
         "title": {
          "text": "value"
         }
        }
       }
      }
     },
     "metadata": {},
     "output_type": "display_data"
    }
   ],
   "source": [
    "td = pd.DataFrame()\n",
    "for timepoint in range(best_mdl.num_timepoints):\n",
    "    td_tmp = pd.DataFrame(\n",
    "        np.stack([doc.get_topic_dist() for doc in best_mdl.docs if doc.timepoint == timepoint]),\n",
    "        columns=[\"topic_{}\".format(i + 1) for i in range(best_mdl.k)],\n",
    "    )\n",
    "    td_tmp[\"timepoint\"] = timepoint\n",
    "    td = pd.concat([td, td_tmp], ignore_index=True)\n",
    "    del td_tmp\n",
    "\n",
    "td_early = td[td['timepoint']<=15]\n",
    "\n",
    "import plotly.express as px\n",
    "fig = px.line(td_early, x=\"timepoint\", y=['topic_1', 'topic_3', 'topic_4', 'topic_5', 'topic_7', 'topic_8'],\n",
    "            #   hover_data={\"timepoint\": \"|%B %d, %Y\"},\n",
    "              title='Early Time Period Common Topics')\n",
    "fig.update_xaxes(\n",
    "    dtick=\"M1\",\n",
    "    tickformat=\"%b %d\",\n",
    "    ticklabelmode=\"period\")\n",
    "fig.show()"
   ]
  },
  {
   "cell_type": "code",
   "execution_count": 25,
   "metadata": {},
   "outputs": [],
   "source": [
    "# - 1 > timep 9\n",
    "# - 3 > timep 10\n",
    "# - 4 > timep 13\n",
    "# - 5 > timep 14\n",
    "# - 7 > timep 8, 11\n",
    "# - 8 > timep 5\n",
    "\n",
    "# topic_1\n",
    "topic_1 = wt[wt['k']==0] # start with 0\n",
    "# select timepoint\n",
    "topic_1_9 = topic_1[topic_1['timepoint']==9]\n",
    "# concat\n",
    "topic_1_concate = topic_1_9.copy()\n",
    "topic_1_concate.sort_values(by='prob', ascending=False, inplace=True)\n",
    "\n",
    "# topic_3\n",
    "topic_3 = wt[wt['k']==2] # start with 0\n",
    "# select timepoint\n",
    "topic_3_9 = topic_3[topic_3['timepoint']==10]\n",
    "# concat\n",
    "topic_3_concate = topic_3_9.copy()\n",
    "topic_3_concate.sort_values(by='prob', ascending=False, inplace=True)\n",
    "\n",
    "# topic_4\n",
    "topic_4 = wt[wt['k']==3] # start with 0\n",
    "# select timepoint\n",
    "topic_4_13 = topic_4[topic_4['timepoint']==13]\n",
    "# concat\n",
    "topic_4_concate = topic_4_13.copy()\n",
    "topic_4_concate.sort_values(by='prob', ascending=False, inplace=True)\n",
    "\n",
    "# topic_5\n",
    "topic_5= wt[wt['k']==4] # start with 0\n",
    "# select timepoint\n",
    "topic_5_14 = topic_5[topic_5['timepoint']==14]\n",
    "# concat \n",
    "topic_5_concat = topic_5_14.copy()\n",
    "topic_5_concat.sort_values(by='prob', ascending=False, inplace=True)\n",
    "\n",
    "# topic_7\n",
    "topic_7= wt[wt['k']==6] # start with 0\n",
    "# select timepoint\n",
    "topic_7_8 = topic_7[topic_7['timepoint']==8]\n",
    "topic_7_11 = topic_7[topic_7['timepoint']==11]\n",
    "# concat \n",
    "topic_7_concat = pd.concat([topic_7_8, topic_7_11], ignore_index=True)\n",
    "topic_7_concat.sort_values(by='prob', ascending=False, inplace=True)\n",
    "\n",
    "# topic_8\n",
    "topic_8 = wt[wt['k']==7] # start with 0\n",
    "# select timepoint\n",
    "topic_8_5 = topic_8[topic_8['timepoint']==5]\n",
    "# concat\n",
    "topic_8_concate = topic_8_5.copy()\n",
    "topic_8_concate.sort_values(by='prob', ascending=False, inplace=True)"
   ]
  },
  {
   "cell_type": "code",
   "execution_count": 26,
   "metadata": {},
   "outputs": [
    {
     "data": {
      "text/html": [
       "<div>\n",
       "<style scoped>\n",
       "    .dataframe tbody tr th:only-of-type {\n",
       "        vertical-align: middle;\n",
       "    }\n",
       "\n",
       "    .dataframe tbody tr th {\n",
       "        vertical-align: top;\n",
       "    }\n",
       "\n",
       "    .dataframe thead th {\n",
       "        text-align: right;\n",
       "    }\n",
       "</style>\n",
       "<table border=\"1\" class=\"dataframe\">\n",
       "  <thead>\n",
       "    <tr style=\"text-align: right;\">\n",
       "      <th></th>\n",
       "      <th>36</th>\n",
       "      <th>32</th>\n",
       "      <th>2</th>\n",
       "      <th>3</th>\n",
       "      <th>1</th>\n",
       "      <th>23</th>\n",
       "      <th>22</th>\n",
       "      <th>28</th>\n",
       "      <th>4</th>\n",
       "      <th>13</th>\n",
       "      <th>38</th>\n",
       "      <th>33</th>\n",
       "      <th>24</th>\n",
       "      <th>31</th>\n",
       "      <th>17</th>\n",
       "      <th>39</th>\n",
       "      <th>15</th>\n",
       "      <th>14</th>\n",
       "      <th>26</th>\n",
       "      <th>34</th>\n",
       "      <th>10</th>\n",
       "      <th>9</th>\n",
       "      <th>8</th>\n",
       "      <th>7</th>\n",
       "      <th>6</th>\n",
       "      <th>27</th>\n",
       "      <th>20</th>\n",
       "      <th>11</th>\n",
       "      <th>35</th>\n",
       "      <th>37</th>\n",
       "      <th>25</th>\n",
       "      <th>21</th>\n",
       "      <th>29</th>\n",
       "      <th>30</th>\n",
       "      <th>19</th>\n",
       "      <th>18</th>\n",
       "      <th>16</th>\n",
       "      <th>12</th>\n",
       "      <th>5</th>\n",
       "      <th>0</th>\n",
       "    </tr>\n",
       "  </thead>\n",
       "  <tbody>\n",
       "    <tr>\n",
       "      <th>word</th>\n",
       "      <td>stock</td>\n",
       "      <td>scheme</td>\n",
       "      <td>annuity</td>\n",
       "      <td>auto</td>\n",
       "      <td>agent</td>\n",
       "      <td>platform</td>\n",
       "      <td>pension</td>\n",
       "      <td>rating</td>\n",
       "      <td>bank</td>\n",
       "      <td>fee</td>\n",
       "      <td>transcript</td>\n",
       "      <td>security</td>\n",
       "      <td>player</td>\n",
       "      <td>respect</td>\n",
       "      <td>investor</td>\n",
       "      <td>weather</td>\n",
       "      <td>guarantee</td>\n",
       "      <td>government</td>\n",
       "      <td>projection</td>\n",
       "      <td>size</td>\n",
       "      <td>competitor</td>\n",
       "      <td>competition</td>\n",
       "      <td>charge</td>\n",
       "      <td>channel</td>\n",
       "      <td>capacity</td>\n",
       "      <td>protection</td>\n",
       "      <td>operation</td>\n",
       "      <td>datum</td>\n",
       "      <td>space</td>\n",
       "      <td>structure</td>\n",
       "      <td>problem</td>\n",
       "      <td>option</td>\n",
       "      <td>relationship</td>\n",
       "      <td>requirement</td>\n",
       "      <td>motor</td>\n",
       "      <td>measure</td>\n",
       "      <td>idea</td>\n",
       "      <td>employee</td>\n",
       "      <td>capability</td>\n",
       "      <td>adtage</td>\n",
       "    </tr>\n",
       "    <tr>\n",
       "      <th>prob</th>\n",
       "      <td>0.007333</td>\n",
       "      <td>0.005</td>\n",
       "      <td>0.00475</td>\n",
       "      <td>0.004</td>\n",
       "      <td>0.004</td>\n",
       "      <td>0.003667</td>\n",
       "      <td>0.003667</td>\n",
       "      <td>0.0035</td>\n",
       "      <td>0.0032</td>\n",
       "      <td>0.003</td>\n",
       "      <td>0.003</td>\n",
       "      <td>0.003</td>\n",
       "      <td>0.003</td>\n",
       "      <td>0.003</td>\n",
       "      <td>0.003</td>\n",
       "      <td>0.003</td>\n",
       "      <td>0.003</td>\n",
       "      <td>0.003</td>\n",
       "      <td>0.003</td>\n",
       "      <td>0.003</td>\n",
       "      <td>0.003</td>\n",
       "      <td>0.003</td>\n",
       "      <td>0.003</td>\n",
       "      <td>0.003</td>\n",
       "      <td>0.003</td>\n",
       "      <td>0.003</td>\n",
       "      <td>0.00275</td>\n",
       "      <td>0.00275</td>\n",
       "      <td>0.0025</td>\n",
       "      <td>0.0025</td>\n",
       "      <td>0.002</td>\n",
       "      <td>0.002</td>\n",
       "      <td>0.002</td>\n",
       "      <td>0.002</td>\n",
       "      <td>0.002</td>\n",
       "      <td>0.002</td>\n",
       "      <td>0.002</td>\n",
       "      <td>0.002</td>\n",
       "      <td>0.002</td>\n",
       "      <td>0.002</td>\n",
       "    </tr>\n",
       "  </tbody>\n",
       "</table>\n",
       "</div>"
      ],
      "text/plain": [
       "            36      32       2      3      1         23        22      28  \\\n",
       "word     stock  scheme  annuity   auto  agent  platform   pension  rating   \n",
       "prob  0.007333   0.005  0.00475  0.004  0.004  0.003667  0.003667  0.0035   \n",
       "\n",
       "          4      13          38        33      24       31        17       39  \\\n",
       "word    bank    fee  transcript  security  player  respect  investor  weather   \n",
       "prob  0.0032  0.003       0.003     0.003   0.003    0.003     0.003    0.003   \n",
       "\n",
       "             15          14          26     34          10           9   \\\n",
       "word  guarantee  government  projection   size  competitor  competition   \n",
       "prob      0.003       0.003       0.003  0.003       0.003        0.003   \n",
       "\n",
       "          8        7         6           27         20       11      35  \\\n",
       "word  charge  channel  capacity  protection  operation    datum   space   \n",
       "prob   0.003    0.003     0.003       0.003    0.00275  0.00275  0.0025   \n",
       "\n",
       "             37       25      21            29           30     19       18  \\\n",
       "word  structure  problem  option  relationship  requirement  motor  measure   \n",
       "prob     0.0025    0.002   0.002         0.002        0.002  0.002    0.002   \n",
       "\n",
       "         16        12          5       0   \n",
       "word   idea  employee  capability  adtage  \n",
       "prob  0.002     0.002       0.002   0.002  "
      ]
     },
     "execution_count": 26,
     "metadata": {},
     "output_type": "execute_result"
    }
   ],
   "source": [
    "# concat\n",
    "topic_all_early = pd.concat([topic_1_concate, topic_3_concate, topic_4_concate, topic_5_concat, topic_7_concat, topic_8_concate], ignore_index=True)\n",
    "# groupby word and get the average of prob\n",
    "topic_all_early = topic_all_early.groupby(['word'])['prob'].mean().reset_index()\n",
    "# sort by prob\n",
    "topic_all_early.sort_values(by='prob', ascending=False, inplace=True)\n",
    "topic_all_early.T"
   ]
  },
  {
   "cell_type": "markdown",
   "metadata": {},
   "source": [
    "# Middle Time"
   ]
  },
  {
   "cell_type": "code",
   "execution_count": 39,
   "metadata": {},
   "outputs": [
    {
     "data": {
      "application/vnd.plotly.v1+json": {
       "config": {
        "plotlyServerURL": "https://plot.ly"
       },
       "data": [
        {
         "hovertemplate": "variable=topic_1<br>timepoint=%{x}<br>value=%{y}<extra></extra>",
         "legendgroup": "topic_1",
         "line": {
          "color": "#636efa",
          "dash": "solid"
         },
         "marker": {
          "symbol": "circle"
         },
         "mode": "lines",
         "name": "topic_1",
         "orientation": "v",
         "showlegend": true,
         "type": "scatter",
         "x": [
          16,
          17,
          18,
          19,
          20,
          21,
          22,
          23,
          24,
          25,
          26,
          27,
          28,
          29,
          30
         ],
         "xaxis": "x",
         "y": [
          0.0007642628042958677,
          0.0011300873011350632,
          0.0010455036535859108,
          0.9958539605140686,
          0.0004441568744368851,
          0.00024502770975232124,
          0.00037333444925025105,
          0.00034101452911272645,
          0.0005248950328677893,
          0.0003031752130482346,
          0.00023269274970516562,
          0.0001452983560739085,
          0.00024160539032891393,
          0.00027916222461499274,
          0.0003961306356359273
         ],
         "yaxis": "y"
        },
        {
         "hovertemplate": "variable=topic_3<br>timepoint=%{x}<br>value=%{y}<extra></extra>",
         "legendgroup": "topic_3",
         "line": {
          "color": "#EF553B",
          "dash": "solid"
         },
         "marker": {
          "symbol": "circle"
         },
         "mode": "lines",
         "name": "topic_3",
         "orientation": "v",
         "showlegend": true,
         "type": "scatter",
         "x": [
          16,
          17,
          18,
          19,
          20,
          21,
          22,
          23,
          24,
          25,
          26,
          27,
          28,
          29,
          30
         ],
         "xaxis": "x",
         "y": [
          0.00021344276319723576,
          0.0006810459890402853,
          0.0006993104470893741,
          0.0006185390520840883,
          0.0001699859567452222,
          0.00030479056295007467,
          0.00037333444925025105,
          0.000396918534534052,
          0.9973639249801636,
          0.9980912208557129,
          0.0006867274059914052,
          0.0001452983560739085,
          0.0004310998192522675,
          0.0006876923725940287,
          0.0005428456934168935
         ],
         "yaxis": "y"
        },
        {
         "hovertemplate": "variable=topic_4<br>timepoint=%{x}<br>value=%{y}<extra></extra>",
         "legendgroup": "topic_4",
         "line": {
          "color": "#00cc96",
          "dash": "solid"
         },
         "marker": {
          "symbol": "circle"
         },
         "mode": "lines",
         "name": "topic_4",
         "orientation": "v",
         "showlegend": true,
         "type": "scatter",
         "x": [
          16,
          17,
          18,
          19,
          20,
          21,
          22,
          23,
          24,
          25,
          26,
          27,
          28,
          29,
          30
         ],
         "xaxis": "x",
         "y": [
          0.9965091347694397,
          0.0018036492401733994,
          0.0010455036535859108,
          0.0006185390520840883,
          0.0007183277630247176,
          0.0010219449177384377,
          0.9979124069213867,
          0.9984514117240906,
          0.0006402565632015467,
          0.00013237226812634617,
          0.000062429768149741,
          0.00010985972767230123,
          0.00019423177582211792,
          0.0004834272840525955,
          0.00010270052734995261
         ],
         "yaxis": "y"
        },
        {
         "hovertemplate": "variable=topic_5<br>timepoint=%{x}<br>value=%{y}<extra></extra>",
         "legendgroup": "topic_5",
         "line": {
          "color": "#ab63fa",
          "dash": "solid"
         },
         "marker": {
          "symbol": "circle"
         },
         "mode": "lines",
         "name": "topic_5",
         "orientation": "v",
         "showlegend": true,
         "type": "scatter",
         "x": [
          16,
          17,
          18,
          19,
          20,
          21,
          22,
          23,
          24,
          25,
          26,
          27,
          28,
          29,
          30
         ],
         "xaxis": "x",
         "y": [
          0.0008331153658218682,
          0.0012049275683239102,
          0.9935123324394226,
          0.0004960561054758728,
          0.0001699859567452222,
          0.0010219449177384377,
          0.00021558748267125338,
          0.00006149442197056487,
          0.00029417191399261355,
          0.0005166789051145315,
          0.000062429768149741,
          0.00007442110654665157,
          0.00028897897573187947,
          0.0005515156663022935,
          0.0005428456934168935
         ],
         "yaxis": "y"
        },
        {
         "hovertemplate": "variable=topic_7<br>timepoint=%{x}<br>value=%{y}<extra></extra>",
         "legendgroup": "topic_7",
         "line": {
          "color": "#FFA15A",
          "dash": "solid"
         },
         "marker": {
          "symbol": "circle"
         },
         "mode": "lines",
         "name": "topic_7",
         "orientation": "v",
         "showlegend": true,
         "type": "scatter",
         "x": [
          16,
          17,
          18,
          19,
          20,
          21,
          22,
          23,
          24,
          25,
          26,
          27,
          28,
          29,
          30
         ],
         "xaxis": "x",
         "y": [
          0.00042000028770416975,
          0.00157912855502218,
          0.0010455036535859108,
          0.0004960561054758728,
          0.9976036548614502,
          0.0011414706241339445,
          0.0002681697951629758,
          0.00022920648916624486,
          0.00029417191399261355,
          0.0003031752130482346,
          0.9983710646629333,
          0.9991600513458252,
          0.0010943303350359201,
          0.9958670139312744,
          0.9975693821907043
         ],
         "yaxis": "y"
        },
        {
         "hovertemplate": "variable=topic_8<br>timepoint=%{x}<br>value=%{y}<extra></extra>",
         "legendgroup": "topic_8",
         "line": {
          "color": "#19d3f3",
          "dash": "solid"
         },
         "marker": {
          "symbol": "circle"
         },
         "mode": "lines",
         "name": "topic_8",
         "orientation": "v",
         "showlegend": true,
         "type": "scatter",
         "x": [
          16,
          17,
          18,
          19,
          20,
          21,
          22,
          23,
          24,
          25,
          26,
          27,
          28,
          29,
          30
         ],
         "xaxis": "x",
         "y": [
          0.0005577052943408489,
          0.0009804068831726909,
          0.0013916969764977694,
          0.0004960561054758728,
          0.0003344884898979217,
          0.00030479056295007467,
          0.0002681697951629758,
          0.00011739844194380566,
          0.0005248950328677893,
          0.0002604744804557413,
          0.0004029557458125055,
          0.00018073696992360055,
          0.9975507259368896,
          0.0010281341383233666,
          0.00015160553448367864
         ],
         "yaxis": "y"
        }
       ],
       "layout": {
        "legend": {
         "title": {
          "text": "variable"
         },
         "tracegroupgap": 0
        },
        "template": {
         "data": {
          "bar": [
           {
            "error_x": {
             "color": "#2a3f5f"
            },
            "error_y": {
             "color": "#2a3f5f"
            },
            "marker": {
             "line": {
              "color": "#E5ECF6",
              "width": 0.5
             },
             "pattern": {
              "fillmode": "overlay",
              "size": 10,
              "solidity": 0.2
             }
            },
            "type": "bar"
           }
          ],
          "barpolar": [
           {
            "marker": {
             "line": {
              "color": "#E5ECF6",
              "width": 0.5
             },
             "pattern": {
              "fillmode": "overlay",
              "size": 10,
              "solidity": 0.2
             }
            },
            "type": "barpolar"
           }
          ],
          "carpet": [
           {
            "aaxis": {
             "endlinecolor": "#2a3f5f",
             "gridcolor": "white",
             "linecolor": "white",
             "minorgridcolor": "white",
             "startlinecolor": "#2a3f5f"
            },
            "baxis": {
             "endlinecolor": "#2a3f5f",
             "gridcolor": "white",
             "linecolor": "white",
             "minorgridcolor": "white",
             "startlinecolor": "#2a3f5f"
            },
            "type": "carpet"
           }
          ],
          "choropleth": [
           {
            "colorbar": {
             "outlinewidth": 0,
             "ticks": ""
            },
            "type": "choropleth"
           }
          ],
          "contour": [
           {
            "colorbar": {
             "outlinewidth": 0,
             "ticks": ""
            },
            "colorscale": [
             [
              0,
              "#0d0887"
             ],
             [
              0.1111111111111111,
              "#46039f"
             ],
             [
              0.2222222222222222,
              "#7201a8"
             ],
             [
              0.3333333333333333,
              "#9c179e"
             ],
             [
              0.4444444444444444,
              "#bd3786"
             ],
             [
              0.5555555555555556,
              "#d8576b"
             ],
             [
              0.6666666666666666,
              "#ed7953"
             ],
             [
              0.7777777777777778,
              "#fb9f3a"
             ],
             [
              0.8888888888888888,
              "#fdca26"
             ],
             [
              1,
              "#f0f921"
             ]
            ],
            "type": "contour"
           }
          ],
          "contourcarpet": [
           {
            "colorbar": {
             "outlinewidth": 0,
             "ticks": ""
            },
            "type": "contourcarpet"
           }
          ],
          "heatmap": [
           {
            "colorbar": {
             "outlinewidth": 0,
             "ticks": ""
            },
            "colorscale": [
             [
              0,
              "#0d0887"
             ],
             [
              0.1111111111111111,
              "#46039f"
             ],
             [
              0.2222222222222222,
              "#7201a8"
             ],
             [
              0.3333333333333333,
              "#9c179e"
             ],
             [
              0.4444444444444444,
              "#bd3786"
             ],
             [
              0.5555555555555556,
              "#d8576b"
             ],
             [
              0.6666666666666666,
              "#ed7953"
             ],
             [
              0.7777777777777778,
              "#fb9f3a"
             ],
             [
              0.8888888888888888,
              "#fdca26"
             ],
             [
              1,
              "#f0f921"
             ]
            ],
            "type": "heatmap"
           }
          ],
          "heatmapgl": [
           {
            "colorbar": {
             "outlinewidth": 0,
             "ticks": ""
            },
            "colorscale": [
             [
              0,
              "#0d0887"
             ],
             [
              0.1111111111111111,
              "#46039f"
             ],
             [
              0.2222222222222222,
              "#7201a8"
             ],
             [
              0.3333333333333333,
              "#9c179e"
             ],
             [
              0.4444444444444444,
              "#bd3786"
             ],
             [
              0.5555555555555556,
              "#d8576b"
             ],
             [
              0.6666666666666666,
              "#ed7953"
             ],
             [
              0.7777777777777778,
              "#fb9f3a"
             ],
             [
              0.8888888888888888,
              "#fdca26"
             ],
             [
              1,
              "#f0f921"
             ]
            ],
            "type": "heatmapgl"
           }
          ],
          "histogram": [
           {
            "marker": {
             "pattern": {
              "fillmode": "overlay",
              "size": 10,
              "solidity": 0.2
             }
            },
            "type": "histogram"
           }
          ],
          "histogram2d": [
           {
            "colorbar": {
             "outlinewidth": 0,
             "ticks": ""
            },
            "colorscale": [
             [
              0,
              "#0d0887"
             ],
             [
              0.1111111111111111,
              "#46039f"
             ],
             [
              0.2222222222222222,
              "#7201a8"
             ],
             [
              0.3333333333333333,
              "#9c179e"
             ],
             [
              0.4444444444444444,
              "#bd3786"
             ],
             [
              0.5555555555555556,
              "#d8576b"
             ],
             [
              0.6666666666666666,
              "#ed7953"
             ],
             [
              0.7777777777777778,
              "#fb9f3a"
             ],
             [
              0.8888888888888888,
              "#fdca26"
             ],
             [
              1,
              "#f0f921"
             ]
            ],
            "type": "histogram2d"
           }
          ],
          "histogram2dcontour": [
           {
            "colorbar": {
             "outlinewidth": 0,
             "ticks": ""
            },
            "colorscale": [
             [
              0,
              "#0d0887"
             ],
             [
              0.1111111111111111,
              "#46039f"
             ],
             [
              0.2222222222222222,
              "#7201a8"
             ],
             [
              0.3333333333333333,
              "#9c179e"
             ],
             [
              0.4444444444444444,
              "#bd3786"
             ],
             [
              0.5555555555555556,
              "#d8576b"
             ],
             [
              0.6666666666666666,
              "#ed7953"
             ],
             [
              0.7777777777777778,
              "#fb9f3a"
             ],
             [
              0.8888888888888888,
              "#fdca26"
             ],
             [
              1,
              "#f0f921"
             ]
            ],
            "type": "histogram2dcontour"
           }
          ],
          "mesh3d": [
           {
            "colorbar": {
             "outlinewidth": 0,
             "ticks": ""
            },
            "type": "mesh3d"
           }
          ],
          "parcoords": [
           {
            "line": {
             "colorbar": {
              "outlinewidth": 0,
              "ticks": ""
             }
            },
            "type": "parcoords"
           }
          ],
          "pie": [
           {
            "automargin": true,
            "type": "pie"
           }
          ],
          "scatter": [
           {
            "fillpattern": {
             "fillmode": "overlay",
             "size": 10,
             "solidity": 0.2
            },
            "type": "scatter"
           }
          ],
          "scatter3d": [
           {
            "line": {
             "colorbar": {
              "outlinewidth": 0,
              "ticks": ""
             }
            },
            "marker": {
             "colorbar": {
              "outlinewidth": 0,
              "ticks": ""
             }
            },
            "type": "scatter3d"
           }
          ],
          "scattercarpet": [
           {
            "marker": {
             "colorbar": {
              "outlinewidth": 0,
              "ticks": ""
             }
            },
            "type": "scattercarpet"
           }
          ],
          "scattergeo": [
           {
            "marker": {
             "colorbar": {
              "outlinewidth": 0,
              "ticks": ""
             }
            },
            "type": "scattergeo"
           }
          ],
          "scattergl": [
           {
            "marker": {
             "colorbar": {
              "outlinewidth": 0,
              "ticks": ""
             }
            },
            "type": "scattergl"
           }
          ],
          "scattermapbox": [
           {
            "marker": {
             "colorbar": {
              "outlinewidth": 0,
              "ticks": ""
             }
            },
            "type": "scattermapbox"
           }
          ],
          "scatterpolar": [
           {
            "marker": {
             "colorbar": {
              "outlinewidth": 0,
              "ticks": ""
             }
            },
            "type": "scatterpolar"
           }
          ],
          "scatterpolargl": [
           {
            "marker": {
             "colorbar": {
              "outlinewidth": 0,
              "ticks": ""
             }
            },
            "type": "scatterpolargl"
           }
          ],
          "scatterternary": [
           {
            "marker": {
             "colorbar": {
              "outlinewidth": 0,
              "ticks": ""
             }
            },
            "type": "scatterternary"
           }
          ],
          "surface": [
           {
            "colorbar": {
             "outlinewidth": 0,
             "ticks": ""
            },
            "colorscale": [
             [
              0,
              "#0d0887"
             ],
             [
              0.1111111111111111,
              "#46039f"
             ],
             [
              0.2222222222222222,
              "#7201a8"
             ],
             [
              0.3333333333333333,
              "#9c179e"
             ],
             [
              0.4444444444444444,
              "#bd3786"
             ],
             [
              0.5555555555555556,
              "#d8576b"
             ],
             [
              0.6666666666666666,
              "#ed7953"
             ],
             [
              0.7777777777777778,
              "#fb9f3a"
             ],
             [
              0.8888888888888888,
              "#fdca26"
             ],
             [
              1,
              "#f0f921"
             ]
            ],
            "type": "surface"
           }
          ],
          "table": [
           {
            "cells": {
             "fill": {
              "color": "#EBF0F8"
             },
             "line": {
              "color": "white"
             }
            },
            "header": {
             "fill": {
              "color": "#C8D4E3"
             },
             "line": {
              "color": "white"
             }
            },
            "type": "table"
           }
          ]
         },
         "layout": {
          "annotationdefaults": {
           "arrowcolor": "#2a3f5f",
           "arrowhead": 0,
           "arrowwidth": 1
          },
          "autotypenumbers": "strict",
          "coloraxis": {
           "colorbar": {
            "outlinewidth": 0,
            "ticks": ""
           }
          },
          "colorscale": {
           "diverging": [
            [
             0,
             "#8e0152"
            ],
            [
             0.1,
             "#c51b7d"
            ],
            [
             0.2,
             "#de77ae"
            ],
            [
             0.3,
             "#f1b6da"
            ],
            [
             0.4,
             "#fde0ef"
            ],
            [
             0.5,
             "#f7f7f7"
            ],
            [
             0.6,
             "#e6f5d0"
            ],
            [
             0.7,
             "#b8e186"
            ],
            [
             0.8,
             "#7fbc41"
            ],
            [
             0.9,
             "#4d9221"
            ],
            [
             1,
             "#276419"
            ]
           ],
           "sequential": [
            [
             0,
             "#0d0887"
            ],
            [
             0.1111111111111111,
             "#46039f"
            ],
            [
             0.2222222222222222,
             "#7201a8"
            ],
            [
             0.3333333333333333,
             "#9c179e"
            ],
            [
             0.4444444444444444,
             "#bd3786"
            ],
            [
             0.5555555555555556,
             "#d8576b"
            ],
            [
             0.6666666666666666,
             "#ed7953"
            ],
            [
             0.7777777777777778,
             "#fb9f3a"
            ],
            [
             0.8888888888888888,
             "#fdca26"
            ],
            [
             1,
             "#f0f921"
            ]
           ],
           "sequentialminus": [
            [
             0,
             "#0d0887"
            ],
            [
             0.1111111111111111,
             "#46039f"
            ],
            [
             0.2222222222222222,
             "#7201a8"
            ],
            [
             0.3333333333333333,
             "#9c179e"
            ],
            [
             0.4444444444444444,
             "#bd3786"
            ],
            [
             0.5555555555555556,
             "#d8576b"
            ],
            [
             0.6666666666666666,
             "#ed7953"
            ],
            [
             0.7777777777777778,
             "#fb9f3a"
            ],
            [
             0.8888888888888888,
             "#fdca26"
            ],
            [
             1,
             "#f0f921"
            ]
           ]
          },
          "colorway": [
           "#636efa",
           "#EF553B",
           "#00cc96",
           "#ab63fa",
           "#FFA15A",
           "#19d3f3",
           "#FF6692",
           "#B6E880",
           "#FF97FF",
           "#FECB52"
          ],
          "font": {
           "color": "#2a3f5f"
          },
          "geo": {
           "bgcolor": "white",
           "lakecolor": "white",
           "landcolor": "#E5ECF6",
           "showlakes": true,
           "showland": true,
           "subunitcolor": "white"
          },
          "hoverlabel": {
           "align": "left"
          },
          "hovermode": "closest",
          "mapbox": {
           "style": "light"
          },
          "paper_bgcolor": "white",
          "plot_bgcolor": "#E5ECF6",
          "polar": {
           "angularaxis": {
            "gridcolor": "white",
            "linecolor": "white",
            "ticks": ""
           },
           "bgcolor": "#E5ECF6",
           "radialaxis": {
            "gridcolor": "white",
            "linecolor": "white",
            "ticks": ""
           }
          },
          "scene": {
           "xaxis": {
            "backgroundcolor": "#E5ECF6",
            "gridcolor": "white",
            "gridwidth": 2,
            "linecolor": "white",
            "showbackground": true,
            "ticks": "",
            "zerolinecolor": "white"
           },
           "yaxis": {
            "backgroundcolor": "#E5ECF6",
            "gridcolor": "white",
            "gridwidth": 2,
            "linecolor": "white",
            "showbackground": true,
            "ticks": "",
            "zerolinecolor": "white"
           },
           "zaxis": {
            "backgroundcolor": "#E5ECF6",
            "gridcolor": "white",
            "gridwidth": 2,
            "linecolor": "white",
            "showbackground": true,
            "ticks": "",
            "zerolinecolor": "white"
           }
          },
          "shapedefaults": {
           "line": {
            "color": "#2a3f5f"
           }
          },
          "ternary": {
           "aaxis": {
            "gridcolor": "white",
            "linecolor": "white",
            "ticks": ""
           },
           "baxis": {
            "gridcolor": "white",
            "linecolor": "white",
            "ticks": ""
           },
           "bgcolor": "#E5ECF6",
           "caxis": {
            "gridcolor": "white",
            "linecolor": "white",
            "ticks": ""
           }
          },
          "title": {
           "x": 0.05
          },
          "xaxis": {
           "automargin": true,
           "gridcolor": "white",
           "linecolor": "white",
           "ticks": "",
           "title": {
            "standoff": 15
           },
           "zerolinecolor": "white",
           "zerolinewidth": 2
          },
          "yaxis": {
           "automargin": true,
           "gridcolor": "white",
           "linecolor": "white",
           "ticks": "",
           "title": {
            "standoff": 15
           },
           "zerolinecolor": "white",
           "zerolinewidth": 2
          }
         }
        },
        "title": {
         "text": "Middle Time Period Common Topics"
        },
        "xaxis": {
         "anchor": "y",
         "domain": [
          0,
          1
         ],
         "dtick": "M1",
         "tickformat": "%b %d",
         "ticklabelmode": "period",
         "title": {
          "text": "timepoint"
         }
        },
        "yaxis": {
         "anchor": "x",
         "domain": [
          0,
          1
         ],
         "title": {
          "text": "value"
         }
        }
       }
      }
     },
     "metadata": {},
     "output_type": "display_data"
    }
   ],
   "source": [
    "td = pd.DataFrame()\n",
    "for timepoint in range(best_mdl.num_timepoints):\n",
    "    td_tmp = pd.DataFrame(\n",
    "        np.stack([doc.get_topic_dist() for doc in best_mdl.docs if doc.timepoint == timepoint]),\n",
    "        columns=[\"topic_{}\".format(i + 1) for i in range(best_mdl.k)],\n",
    "    )\n",
    "    td_tmp[\"timepoint\"] = timepoint\n",
    "    td = pd.concat([td, td_tmp], ignore_index=True)\n",
    "    del td_tmp\n",
    "\n",
    "td_middle = td[td['timepoint']>15]\n",
    "td_middle = td_middle[td_middle['timepoint']<=30]\n",
    "\n",
    "import plotly.express as px\n",
    "fig = px.line(td_middle, x=\"timepoint\", y=['topic_1', 'topic_3', 'topic_4', 'topic_5', 'topic_7', 'topic_8'],\n",
    "            #   hover_data={\"timepoint\": \"|%B %d, %Y\"},\n",
    "              title='Middle Time Period Common Topics')\n",
    "fig.update_xaxes(\n",
    "    dtick=\"M1\",\n",
    "    tickformat=\"%b %d\",\n",
    "    ticklabelmode=\"period\")\n",
    "fig.show()"
   ]
  },
  {
   "cell_type": "code",
   "execution_count": 35,
   "metadata": {},
   "outputs": [],
   "source": [
    "# - 1 > timep 19\n",
    "# - 3 > timep 24, 25\n",
    "# - 4 > timep 16, 22, 23\n",
    "# - 5 > timep 18\n",
    "# - 7 > timep 20, 26, 27, 29, 30\n",
    "# - 8 > timep 28\n",
    "\n",
    "# topic_1\n",
    "topic_1 = wt[wt['k']==0] # start with 0\n",
    "# select timepoint\n",
    "topic_1_19 = topic_1[topic_1['timepoint']==19]\n",
    "# concat\n",
    "topic_1_concate = topic_1_19.copy()\n",
    "topic_1_concate.sort_values(by='prob', ascending=False, inplace=True)\n",
    "\n",
    "# topic_3\n",
    "topic_3= wt[wt['k']==2] # start with 0\n",
    "# select timepoint\n",
    "topic_3_24 = topic_3[topic_3['timepoint']==24]\n",
    "topic_3_25 = topic_3[topic_3['timepoint']==25]\n",
    "# concat \n",
    "topic_3_concat = pd.concat([topic_3_24, topic_3_25], ignore_index=True)\n",
    "topic_3_concat.sort_values(by='prob', ascending=False, inplace=True)\n",
    "\n",
    "# topic_4\n",
    "topic_4= wt[wt['k']==3] # start with 0\n",
    "# select timepoint\n",
    "topic_4_16 = topic_4[topic_4['timepoint']==16]\n",
    "topic_4_22 = topic_4[topic_4['timepoint']==22]\n",
    "topic_4_23 = topic_4[topic_4['timepoint']==23]\n",
    "# concat \n",
    "topic_4_concat = pd.concat([topic_4_16, topic_4_22, topic_4_23], ignore_index=True)\n",
    "topic_4_concat.sort_values(by='prob', ascending=False, inplace=True)\n",
    "\n",
    "# topic_5\n",
    "topic_5 = wt[wt['k']==4] # start with 0\n",
    "# select timepoint\n",
    "topic_5_18 = topic_5[topic_5['timepoint']==18]\n",
    "# concat\n",
    "topic_5_concate = topic_5_18.copy()\n",
    "topic_5_concate.sort_values(by='prob', ascending=False, inplace=True)\n",
    "\n",
    "# topic_7\n",
    "topic_7= wt[wt['k']==6] # start with 0\n",
    "# select timepoint\n",
    "topic_7_20 = topic_7[topic_7['timepoint']==20]\n",
    "topic_7_26 = topic_7[topic_7['timepoint']==26]\n",
    "topic_7_27 = topic_7[topic_7['timepoint']==27]\n",
    "topic_7_29 = topic_7[topic_7['timepoint']==29]\n",
    "topic_7_30 = topic_7[topic_7['timepoint']==30]\n",
    "# concat \n",
    "topic_7_concat = pd.concat([topic_7_20, topic_7_26, topic_7_27, topic_7_29, topic_7_30], ignore_index=True)\n",
    "topic_7_concat.sort_values(by='prob', ascending=False, inplace=True)\n",
    "\n",
    "# topic_8\n",
    "topic_8 = wt[wt['k']==7] # start with 0\n",
    "# select timepoint\n",
    "topic_8_28 = topic_8[topic_8['timepoint']==28]\n",
    "# concat\n",
    "topic_8_concate = topic_8_28.copy()\n",
    "topic_8_concate.sort_values(by='prob', ascending=False, inplace=True)"
   ]
  },
  {
   "cell_type": "code",
   "execution_count": 36,
   "metadata": {},
   "outputs": [
    {
     "data": {
      "text/html": [
       "<div>\n",
       "<style scoped>\n",
       "    .dataframe tbody tr th:only-of-type {\n",
       "        vertical-align: middle;\n",
       "    }\n",
       "\n",
       "    .dataframe tbody tr th {\n",
       "        vertical-align: top;\n",
       "    }\n",
       "\n",
       "    .dataframe thead th {\n",
       "        text-align: right;\n",
       "    }\n",
       "</style>\n",
       "<table border=\"1\" class=\"dataframe\">\n",
       "  <thead>\n",
       "    <tr style=\"text-align: right;\">\n",
       "      <th></th>\n",
       "      <th>47</th>\n",
       "      <th>36</th>\n",
       "      <th>24</th>\n",
       "      <th>28</th>\n",
       "      <th>49</th>\n",
       "      <th>10</th>\n",
       "      <th>32</th>\n",
       "      <th>58</th>\n",
       "      <th>50</th>\n",
       "      <th>60</th>\n",
       "      <th>20</th>\n",
       "      <th>54</th>\n",
       "      <th>8</th>\n",
       "      <th>6</th>\n",
       "      <th>61</th>\n",
       "      <th>52</th>\n",
       "      <th>35</th>\n",
       "      <th>41</th>\n",
       "      <th>1</th>\n",
       "      <th>33</th>\n",
       "      <th>53</th>\n",
       "      <th>55</th>\n",
       "      <th>37</th>\n",
       "      <th>9</th>\n",
       "      <th>7</th>\n",
       "      <th>4</th>\n",
       "      <th>3</th>\n",
       "      <th>59</th>\n",
       "      <th>2</th>\n",
       "      <th>16</th>\n",
       "      <th>43</th>\n",
       "      <th>44</th>\n",
       "      <th>0</th>\n",
       "      <th>45</th>\n",
       "      <th>46</th>\n",
       "      <th>48</th>\n",
       "      <th>51</th>\n",
       "      <th>56</th>\n",
       "      <th>57</th>\n",
       "      <th>42</th>\n",
       "      <th>31</th>\n",
       "      <th>40</th>\n",
       "      <th>39</th>\n",
       "      <th>5</th>\n",
       "      <th>11</th>\n",
       "      <th>12</th>\n",
       "      <th>13</th>\n",
       "      <th>14</th>\n",
       "      <th>15</th>\n",
       "      <th>17</th>\n",
       "      <th>18</th>\n",
       "      <th>19</th>\n",
       "      <th>21</th>\n",
       "      <th>22</th>\n",
       "      <th>23</th>\n",
       "      <th>25</th>\n",
       "      <th>26</th>\n",
       "      <th>29</th>\n",
       "      <th>38</th>\n",
       "      <th>62</th>\n",
       "      <th>27</th>\n",
       "      <th>30</th>\n",
       "      <th>34</th>\n",
       "    </tr>\n",
       "  </thead>\n",
       "  <tbody>\n",
       "    <tr>\n",
       "      <th>word</th>\n",
       "      <td>rule</td>\n",
       "      <td>platform</td>\n",
       "      <td>inflation</td>\n",
       "      <td>meeting</td>\n",
       "      <td>sensitivity</td>\n",
       "      <td>car</td>\n",
       "      <td>motor</td>\n",
       "      <td>technology</td>\n",
       "      <td>service</td>\n",
       "      <td>unwriter</td>\n",
       "      <td>fee</td>\n",
       "      <td>state</td>\n",
       "      <td>capability</td>\n",
       "      <td>board</td>\n",
       "      <td>vote</td>\n",
       "      <td>solution</td>\n",
       "      <td>pension</td>\n",
       "      <td>regard</td>\n",
       "      <td>agent</td>\n",
       "      <td>operation</td>\n",
       "      <td>spread</td>\n",
       "      <td>stock</td>\n",
       "      <td>pner</td>\n",
       "      <td>capacity</td>\n",
       "      <td>buyback</td>\n",
       "      <td>bank</td>\n",
       "      <td>auto</td>\n",
       "      <td>transcript</td>\n",
       "      <td>annuity</td>\n",
       "      <td>datum</td>\n",
       "      <td>relationship</td>\n",
       "      <td>remittance</td>\n",
       "      <td>adjustment</td>\n",
       "      <td>report</td>\n",
       "      <td>requirement</td>\n",
       "      <td>scale</td>\n",
       "      <td>size</td>\n",
       "      <td>structure</td>\n",
       "      <td>synergy</td>\n",
       "      <td>regulator</td>\n",
       "      <td>mortgage</td>\n",
       "      <td>quality</td>\n",
       "      <td>proﬁt</td>\n",
       "      <td>bb</td>\n",
       "      <td>casualty</td>\n",
       "      <td>competitor</td>\n",
       "      <td>condition</td>\n",
       "      <td>contract</td>\n",
       "      <td>contribution</td>\n",
       "      <td>duration</td>\n",
       "      <td>energy</td>\n",
       "      <td>entity</td>\n",
       "      <td>frequency</td>\n",
       "      <td>guarantee</td>\n",
       "      <td>hand</td>\n",
       "      <td>investor</td>\n",
       "      <td>item</td>\n",
       "      <td>member</td>\n",
       "      <td>protection</td>\n",
       "      <td>weather</td>\n",
       "      <td>marketplace</td>\n",
       "      <td>mortality</td>\n",
       "      <td>opinion</td>\n",
       "    </tr>\n",
       "    <tr>\n",
       "      <th>prob</th>\n",
       "      <td>0.007</td>\n",
       "      <td>0.0055</td>\n",
       "      <td>0.005333</td>\n",
       "      <td>0.005</td>\n",
       "      <td>0.004167</td>\n",
       "      <td>0.004</td>\n",
       "      <td>0.004</td>\n",
       "      <td>0.004</td>\n",
       "      <td>0.004</td>\n",
       "      <td>0.004</td>\n",
       "      <td>0.004</td>\n",
       "      <td>0.004</td>\n",
       "      <td>0.004</td>\n",
       "      <td>0.004</td>\n",
       "      <td>0.004</td>\n",
       "      <td>0.003667</td>\n",
       "      <td>0.003667</td>\n",
       "      <td>0.003667</td>\n",
       "      <td>0.003667</td>\n",
       "      <td>0.0036</td>\n",
       "      <td>0.0035</td>\n",
       "      <td>0.0035</td>\n",
       "      <td>0.0035</td>\n",
       "      <td>0.0035</td>\n",
       "      <td>0.0035</td>\n",
       "      <td>0.0035</td>\n",
       "      <td>0.003333</td>\n",
       "      <td>0.003273</td>\n",
       "      <td>0.00325</td>\n",
       "      <td>0.003</td>\n",
       "      <td>0.003</td>\n",
       "      <td>0.003</td>\n",
       "      <td>0.003</td>\n",
       "      <td>0.003</td>\n",
       "      <td>0.003</td>\n",
       "      <td>0.003</td>\n",
       "      <td>0.003</td>\n",
       "      <td>0.003</td>\n",
       "      <td>0.003</td>\n",
       "      <td>0.003</td>\n",
       "      <td>0.003</td>\n",
       "      <td>0.003</td>\n",
       "      <td>0.003</td>\n",
       "      <td>0.003</td>\n",
       "      <td>0.003</td>\n",
       "      <td>0.003</td>\n",
       "      <td>0.003</td>\n",
       "      <td>0.003</td>\n",
       "      <td>0.003</td>\n",
       "      <td>0.003</td>\n",
       "      <td>0.003</td>\n",
       "      <td>0.003</td>\n",
       "      <td>0.003</td>\n",
       "      <td>0.003</td>\n",
       "      <td>0.003</td>\n",
       "      <td>0.003</td>\n",
       "      <td>0.003</td>\n",
       "      <td>0.003</td>\n",
       "      <td>0.003</td>\n",
       "      <td>0.003</td>\n",
       "      <td>0.002</td>\n",
       "      <td>0.002</td>\n",
       "      <td>0.002</td>\n",
       "    </tr>\n",
       "  </tbody>\n",
       "</table>\n",
       "</div>"
      ],
      "text/plain": [
       "         47        36         24       28           49     10     32  \\\n",
       "word   rule  platform  inflation  meeting  sensitivity    car  motor   \n",
       "prob  0.007    0.0055   0.005333    0.005     0.004167  0.004  0.004   \n",
       "\n",
       "              58       50        60     20     54          8      6      61  \\\n",
       "word  technology  service  unwriter    fee  state  capability  board   vote   \n",
       "prob       0.004    0.004     0.004  0.004  0.004       0.004  0.004  0.004   \n",
       "\n",
       "            52        35        41        1          33      53      55  \\\n",
       "word  solution   pension    regard     agent  operation  spread   stock   \n",
       "prob  0.003667  0.003667  0.003667  0.003667     0.0036  0.0035  0.0035   \n",
       "\n",
       "          37        9        7       4         3           59       2      16  \\\n",
       "word    pner  capacity  buyback    bank      auto  transcript  annuity  datum   \n",
       "prob  0.0035    0.0035   0.0035  0.0035  0.003333    0.003273  0.00325  0.003   \n",
       "\n",
       "                43          44          0       45           46     48     51  \\\n",
       "word  relationship  remittance  adjustment  report  requirement  scale   size   \n",
       "prob         0.003       0.003       0.003   0.003        0.003  0.003  0.003   \n",
       "\n",
       "             56       57         42        31       40     39     5   \\\n",
       "word  structure  synergy  regulator  mortgage  quality  proﬁt     bb   \n",
       "prob      0.003    0.003      0.003     0.003    0.003  0.003  0.003   \n",
       "\n",
       "            11          12         13        14            15        17  \\\n",
       "word  casualty  competitor  condition  contract  contribution  duration   \n",
       "prob     0.003       0.003      0.003     0.003         0.003     0.003   \n",
       "\n",
       "          18      19         21         22     23        25     26      29  \\\n",
       "word  energy  entity  frequency  guarantee   hand  investor   item  member   \n",
       "prob   0.003   0.003      0.003      0.003  0.003     0.003  0.003   0.003   \n",
       "\n",
       "              38       62           27         30       34  \n",
       "word  protection  weather  marketplace  mortality  opinion  \n",
       "prob       0.003    0.003        0.002      0.002    0.002  "
      ]
     },
     "execution_count": 36,
     "metadata": {},
     "output_type": "execute_result"
    }
   ],
   "source": [
    "# concat\n",
    "topic_all_middle = pd.concat([topic_1_concate, topic_3_concat, topic_4_concat, topic_5_concate, topic_7_concat, topic_8_concate], ignore_index=True)\n",
    "# groupby word and get the average of prob\n",
    "topic_all_middle = topic_all_middle.groupby(['word'])['prob'].mean().reset_index()\n",
    "# sort by prob\n",
    "topic_all_middle.sort_values(by='prob', ascending=False, inplace=True)\n",
    "topic_all_middle.T"
   ]
  },
  {
   "cell_type": "markdown",
   "metadata": {},
   "source": [
    "# Recent Time"
   ]
  },
  {
   "cell_type": "code",
   "execution_count": 43,
   "metadata": {},
   "outputs": [
    {
     "data": {
      "application/vnd.plotly.v1+json": {
       "config": {
        "plotlyServerURL": "https://plot.ly"
       },
       "data": [
        {
         "hovertemplate": "variable=topic_1<br>timepoint=%{x}<br>value=%{y}<extra></extra>",
         "legendgroup": "topic_1",
         "line": {
          "color": "#636efa",
          "dash": "solid"
         },
         "marker": {
          "symbol": "circle"
         },
         "mode": "lines",
         "name": "topic_1",
         "orientation": "v",
         "showlegend": true,
         "type": "scatter",
         "x": [
          31,
          32,
          33,
          34,
          35,
          36,
          37,
          38,
          39,
          40,
          41,
          42,
          43,
          44,
          45
         ],
         "xaxis": "x",
         "y": [
          0.00021721722441725433,
          0.0006192956934683025,
          0.9966077208518982,
          0.0006961124017834663,
          0.00070185586810112,
          0.0003955952706746757,
          0.00024519464932382107,
          0.00037950053228996694,
          0.0002180526207666844,
          0.00005154929021955468,
          0.0003089733945671469,
          0.00020341538765933365,
          0.0002109183551510796,
          0.006028143223375082,
          0.13138988614082336
         ],
         "yaxis": "y"
        },
        {
         "hovertemplate": "variable=topic_3<br>timepoint=%{x}<br>value=%{y}<extra></extra>",
         "legendgroup": "topic_3",
         "line": {
          "color": "#EF553B",
          "dash": "solid"
         },
         "marker": {
          "symbol": "circle"
         },
         "mode": "lines",
         "name": "topic_3",
         "orientation": "v",
         "showlegend": true,
         "type": "scatter",
         "x": [
          31,
          32,
          33,
          34,
          35,
          36,
          37,
          38,
          39,
          40,
          41,
          42,
          43,
          44,
          45
         ],
         "xaxis": "x",
         "y": [
          0.9976276159286499,
          0.0002679222379811108,
          0.00014873954933136702,
          0.00011159052519360557,
          0.0004339719598647207,
          0.0003955952706746757,
          0.00024519464932382107,
          0.00048640213208273053,
          0.0002180526207666844,
          0.00009841227438300848,
          0.000916789926122874,
          0.0003522559127304703,
          0.9966201186180115,
          0.013983170501887798,
          0.12724509835243225
         ],
         "yaxis": "y"
        },
        {
         "hovertemplate": "variable=topic_4<br>timepoint=%{x}<br>value=%{y}<extra></extra>",
         "legendgroup": "topic_4",
         "line": {
          "color": "#00cc96",
          "dash": "solid"
         },
         "marker": {
          "symbol": "circle"
         },
         "mode": "lines",
         "name": "topic_4",
         "orientation": "v",
         "showlegend": true,
         "type": "scatter",
         "x": [
          31,
          32,
          33,
          34,
          35,
          36,
          37,
          38,
          39,
          40,
          41,
          42,
          43,
          44,
          45
         ],
         "xaxis": "x",
         "y": [
          0.0003024004399776459,
          0.00022400055604521185,
          0.00043662256211973727,
          0.0005898356903344393,
          0.00021966481290291995,
          0.00033074358361773193,
          0.00029327202355489135,
          0.00016569742001593113,
          0.00005850192246725783,
          0.0001452752621844411,
          0.000562230299692601,
          0.0005010964814573526,
          0.0002109183551510796,
          0.004083580803126097,
          0.11895551532506943
         ],
         "yaxis": "y"
        },
        {
         "hovertemplate": "variable=topic_5<br>timepoint=%{x}<br>value=%{y}<extra></extra>",
         "legendgroup": "topic_5",
         "line": {
          "color": "#ab63fa",
          "dash": "solid"
         },
         "marker": {
          "symbol": "circle"
         },
         "mode": "lines",
         "name": "topic_5",
         "orientation": "v",
         "showlegend": true,
         "type": "scatter",
         "x": [
          31,
          32,
          33,
          34,
          35,
          36,
          37,
          38,
          39,
          40,
          41,
          42,
          43,
          44,
          45
         ],
         "xaxis": "x",
         "y": [
          0.00017462561663705856,
          0.9980366230010986,
          0.0010603690752759576,
          0.9966681599617004,
          0.0028449271339923143,
          0.0005901503609493375,
          0.00014903988630976528,
          0.00011224663467146456,
          0.00005850192246725783,
          0.0001452752621844411,
          0.0003596247697714716,
          0.00030264240922406316,
          0.00015947484644129872,
          0.0042603593319654465,
          0.13691627979278564
         ],
         "yaxis": "y"
        },
        {
         "hovertemplate": "variable=topic_7<br>timepoint=%{x}<br>value=%{y}<extra></extra>",
         "legendgroup": "topic_7",
         "line": {
          "color": "#FFA15A",
          "dash": "solid"
         },
         "marker": {
          "symbol": "circle"
         },
         "mode": "lines",
         "name": "topic_7",
         "orientation": "v",
         "showlegend": true,
         "type": "scatter",
         "x": [
          31,
          32,
          33,
          34,
          35,
          36,
          37,
          38,
          39,
          40,
          41,
          42,
          43,
          44,
          45
         ],
         "xaxis": "x",
         "y": [
          0.000643133360426873,
          0.00022400055604521185,
          0.0004846030496992171,
          0.0005898356903344393,
          0.0010768934153020382,
          0.997425377368927,
          0.9981874227523804,
          0.002891687210649252,
          0.9988458752632141,
          0.998701810836792,
          0.0016259090043604374,
          0.00020341538765933365,
          0.0004166924045421183,
          0.004790694452822208,
          0.0968499556183815
         ],
         "yaxis": "y"
        },
        {
         "hovertemplate": "variable=topic_8<br>timepoint=%{x}<br>value=%{y}<extra></extra>",
         "legendgroup": "topic_8",
         "line": {
          "color": "#19d3f3",
          "dash": "solid"
         },
         "marker": {
          "symbol": "circle"
         },
         "mode": "lines",
         "name": "topic_8",
         "orientation": "v",
         "showlegend": true,
         "type": "scatter",
         "x": [
          31,
          32,
          33,
          34,
          35,
          36,
          37,
          38,
          39,
          40,
          41,
          42,
          43,
          44,
          45
         ],
         "xaxis": "x",
         "y": [
          0.00034499209141358733,
          0.00022400055604521185,
          0.0003406615287531167,
          0.00011159052519360557,
          0.0003268183791078627,
          0.00007133685721782967,
          0.0001971172750927508,
          0.00016569742001593113,
          0.00011168548371642828,
          0.0001921382499858737,
          0.0012206981191411614,
          0.9973853230476379,
          0.0005195793928578496,
          0.006558478344231844,
          0.1341530829668045
         ],
         "yaxis": "y"
        }
       ],
       "layout": {
        "legend": {
         "title": {
          "text": "variable"
         },
         "tracegroupgap": 0
        },
        "template": {
         "data": {
          "bar": [
           {
            "error_x": {
             "color": "#2a3f5f"
            },
            "error_y": {
             "color": "#2a3f5f"
            },
            "marker": {
             "line": {
              "color": "#E5ECF6",
              "width": 0.5
             },
             "pattern": {
              "fillmode": "overlay",
              "size": 10,
              "solidity": 0.2
             }
            },
            "type": "bar"
           }
          ],
          "barpolar": [
           {
            "marker": {
             "line": {
              "color": "#E5ECF6",
              "width": 0.5
             },
             "pattern": {
              "fillmode": "overlay",
              "size": 10,
              "solidity": 0.2
             }
            },
            "type": "barpolar"
           }
          ],
          "carpet": [
           {
            "aaxis": {
             "endlinecolor": "#2a3f5f",
             "gridcolor": "white",
             "linecolor": "white",
             "minorgridcolor": "white",
             "startlinecolor": "#2a3f5f"
            },
            "baxis": {
             "endlinecolor": "#2a3f5f",
             "gridcolor": "white",
             "linecolor": "white",
             "minorgridcolor": "white",
             "startlinecolor": "#2a3f5f"
            },
            "type": "carpet"
           }
          ],
          "choropleth": [
           {
            "colorbar": {
             "outlinewidth": 0,
             "ticks": ""
            },
            "type": "choropleth"
           }
          ],
          "contour": [
           {
            "colorbar": {
             "outlinewidth": 0,
             "ticks": ""
            },
            "colorscale": [
             [
              0,
              "#0d0887"
             ],
             [
              0.1111111111111111,
              "#46039f"
             ],
             [
              0.2222222222222222,
              "#7201a8"
             ],
             [
              0.3333333333333333,
              "#9c179e"
             ],
             [
              0.4444444444444444,
              "#bd3786"
             ],
             [
              0.5555555555555556,
              "#d8576b"
             ],
             [
              0.6666666666666666,
              "#ed7953"
             ],
             [
              0.7777777777777778,
              "#fb9f3a"
             ],
             [
              0.8888888888888888,
              "#fdca26"
             ],
             [
              1,
              "#f0f921"
             ]
            ],
            "type": "contour"
           }
          ],
          "contourcarpet": [
           {
            "colorbar": {
             "outlinewidth": 0,
             "ticks": ""
            },
            "type": "contourcarpet"
           }
          ],
          "heatmap": [
           {
            "colorbar": {
             "outlinewidth": 0,
             "ticks": ""
            },
            "colorscale": [
             [
              0,
              "#0d0887"
             ],
             [
              0.1111111111111111,
              "#46039f"
             ],
             [
              0.2222222222222222,
              "#7201a8"
             ],
             [
              0.3333333333333333,
              "#9c179e"
             ],
             [
              0.4444444444444444,
              "#bd3786"
             ],
             [
              0.5555555555555556,
              "#d8576b"
             ],
             [
              0.6666666666666666,
              "#ed7953"
             ],
             [
              0.7777777777777778,
              "#fb9f3a"
             ],
             [
              0.8888888888888888,
              "#fdca26"
             ],
             [
              1,
              "#f0f921"
             ]
            ],
            "type": "heatmap"
           }
          ],
          "heatmapgl": [
           {
            "colorbar": {
             "outlinewidth": 0,
             "ticks": ""
            },
            "colorscale": [
             [
              0,
              "#0d0887"
             ],
             [
              0.1111111111111111,
              "#46039f"
             ],
             [
              0.2222222222222222,
              "#7201a8"
             ],
             [
              0.3333333333333333,
              "#9c179e"
             ],
             [
              0.4444444444444444,
              "#bd3786"
             ],
             [
              0.5555555555555556,
              "#d8576b"
             ],
             [
              0.6666666666666666,
              "#ed7953"
             ],
             [
              0.7777777777777778,
              "#fb9f3a"
             ],
             [
              0.8888888888888888,
              "#fdca26"
             ],
             [
              1,
              "#f0f921"
             ]
            ],
            "type": "heatmapgl"
           }
          ],
          "histogram": [
           {
            "marker": {
             "pattern": {
              "fillmode": "overlay",
              "size": 10,
              "solidity": 0.2
             }
            },
            "type": "histogram"
           }
          ],
          "histogram2d": [
           {
            "colorbar": {
             "outlinewidth": 0,
             "ticks": ""
            },
            "colorscale": [
             [
              0,
              "#0d0887"
             ],
             [
              0.1111111111111111,
              "#46039f"
             ],
             [
              0.2222222222222222,
              "#7201a8"
             ],
             [
              0.3333333333333333,
              "#9c179e"
             ],
             [
              0.4444444444444444,
              "#bd3786"
             ],
             [
              0.5555555555555556,
              "#d8576b"
             ],
             [
              0.6666666666666666,
              "#ed7953"
             ],
             [
              0.7777777777777778,
              "#fb9f3a"
             ],
             [
              0.8888888888888888,
              "#fdca26"
             ],
             [
              1,
              "#f0f921"
             ]
            ],
            "type": "histogram2d"
           }
          ],
          "histogram2dcontour": [
           {
            "colorbar": {
             "outlinewidth": 0,
             "ticks": ""
            },
            "colorscale": [
             [
              0,
              "#0d0887"
             ],
             [
              0.1111111111111111,
              "#46039f"
             ],
             [
              0.2222222222222222,
              "#7201a8"
             ],
             [
              0.3333333333333333,
              "#9c179e"
             ],
             [
              0.4444444444444444,
              "#bd3786"
             ],
             [
              0.5555555555555556,
              "#d8576b"
             ],
             [
              0.6666666666666666,
              "#ed7953"
             ],
             [
              0.7777777777777778,
              "#fb9f3a"
             ],
             [
              0.8888888888888888,
              "#fdca26"
             ],
             [
              1,
              "#f0f921"
             ]
            ],
            "type": "histogram2dcontour"
           }
          ],
          "mesh3d": [
           {
            "colorbar": {
             "outlinewidth": 0,
             "ticks": ""
            },
            "type": "mesh3d"
           }
          ],
          "parcoords": [
           {
            "line": {
             "colorbar": {
              "outlinewidth": 0,
              "ticks": ""
             }
            },
            "type": "parcoords"
           }
          ],
          "pie": [
           {
            "automargin": true,
            "type": "pie"
           }
          ],
          "scatter": [
           {
            "fillpattern": {
             "fillmode": "overlay",
             "size": 10,
             "solidity": 0.2
            },
            "type": "scatter"
           }
          ],
          "scatter3d": [
           {
            "line": {
             "colorbar": {
              "outlinewidth": 0,
              "ticks": ""
             }
            },
            "marker": {
             "colorbar": {
              "outlinewidth": 0,
              "ticks": ""
             }
            },
            "type": "scatter3d"
           }
          ],
          "scattercarpet": [
           {
            "marker": {
             "colorbar": {
              "outlinewidth": 0,
              "ticks": ""
             }
            },
            "type": "scattercarpet"
           }
          ],
          "scattergeo": [
           {
            "marker": {
             "colorbar": {
              "outlinewidth": 0,
              "ticks": ""
             }
            },
            "type": "scattergeo"
           }
          ],
          "scattergl": [
           {
            "marker": {
             "colorbar": {
              "outlinewidth": 0,
              "ticks": ""
             }
            },
            "type": "scattergl"
           }
          ],
          "scattermapbox": [
           {
            "marker": {
             "colorbar": {
              "outlinewidth": 0,
              "ticks": ""
             }
            },
            "type": "scattermapbox"
           }
          ],
          "scatterpolar": [
           {
            "marker": {
             "colorbar": {
              "outlinewidth": 0,
              "ticks": ""
             }
            },
            "type": "scatterpolar"
           }
          ],
          "scatterpolargl": [
           {
            "marker": {
             "colorbar": {
              "outlinewidth": 0,
              "ticks": ""
             }
            },
            "type": "scatterpolargl"
           }
          ],
          "scatterternary": [
           {
            "marker": {
             "colorbar": {
              "outlinewidth": 0,
              "ticks": ""
             }
            },
            "type": "scatterternary"
           }
          ],
          "surface": [
           {
            "colorbar": {
             "outlinewidth": 0,
             "ticks": ""
            },
            "colorscale": [
             [
              0,
              "#0d0887"
             ],
             [
              0.1111111111111111,
              "#46039f"
             ],
             [
              0.2222222222222222,
              "#7201a8"
             ],
             [
              0.3333333333333333,
              "#9c179e"
             ],
             [
              0.4444444444444444,
              "#bd3786"
             ],
             [
              0.5555555555555556,
              "#d8576b"
             ],
             [
              0.6666666666666666,
              "#ed7953"
             ],
             [
              0.7777777777777778,
              "#fb9f3a"
             ],
             [
              0.8888888888888888,
              "#fdca26"
             ],
             [
              1,
              "#f0f921"
             ]
            ],
            "type": "surface"
           }
          ],
          "table": [
           {
            "cells": {
             "fill": {
              "color": "#EBF0F8"
             },
             "line": {
              "color": "white"
             }
            },
            "header": {
             "fill": {
              "color": "#C8D4E3"
             },
             "line": {
              "color": "white"
             }
            },
            "type": "table"
           }
          ]
         },
         "layout": {
          "annotationdefaults": {
           "arrowcolor": "#2a3f5f",
           "arrowhead": 0,
           "arrowwidth": 1
          },
          "autotypenumbers": "strict",
          "coloraxis": {
           "colorbar": {
            "outlinewidth": 0,
            "ticks": ""
           }
          },
          "colorscale": {
           "diverging": [
            [
             0,
             "#8e0152"
            ],
            [
             0.1,
             "#c51b7d"
            ],
            [
             0.2,
             "#de77ae"
            ],
            [
             0.3,
             "#f1b6da"
            ],
            [
             0.4,
             "#fde0ef"
            ],
            [
             0.5,
             "#f7f7f7"
            ],
            [
             0.6,
             "#e6f5d0"
            ],
            [
             0.7,
             "#b8e186"
            ],
            [
             0.8,
             "#7fbc41"
            ],
            [
             0.9,
             "#4d9221"
            ],
            [
             1,
             "#276419"
            ]
           ],
           "sequential": [
            [
             0,
             "#0d0887"
            ],
            [
             0.1111111111111111,
             "#46039f"
            ],
            [
             0.2222222222222222,
             "#7201a8"
            ],
            [
             0.3333333333333333,
             "#9c179e"
            ],
            [
             0.4444444444444444,
             "#bd3786"
            ],
            [
             0.5555555555555556,
             "#d8576b"
            ],
            [
             0.6666666666666666,
             "#ed7953"
            ],
            [
             0.7777777777777778,
             "#fb9f3a"
            ],
            [
             0.8888888888888888,
             "#fdca26"
            ],
            [
             1,
             "#f0f921"
            ]
           ],
           "sequentialminus": [
            [
             0,
             "#0d0887"
            ],
            [
             0.1111111111111111,
             "#46039f"
            ],
            [
             0.2222222222222222,
             "#7201a8"
            ],
            [
             0.3333333333333333,
             "#9c179e"
            ],
            [
             0.4444444444444444,
             "#bd3786"
            ],
            [
             0.5555555555555556,
             "#d8576b"
            ],
            [
             0.6666666666666666,
             "#ed7953"
            ],
            [
             0.7777777777777778,
             "#fb9f3a"
            ],
            [
             0.8888888888888888,
             "#fdca26"
            ],
            [
             1,
             "#f0f921"
            ]
           ]
          },
          "colorway": [
           "#636efa",
           "#EF553B",
           "#00cc96",
           "#ab63fa",
           "#FFA15A",
           "#19d3f3",
           "#FF6692",
           "#B6E880",
           "#FF97FF",
           "#FECB52"
          ],
          "font": {
           "color": "#2a3f5f"
          },
          "geo": {
           "bgcolor": "white",
           "lakecolor": "white",
           "landcolor": "#E5ECF6",
           "showlakes": true,
           "showland": true,
           "subunitcolor": "white"
          },
          "hoverlabel": {
           "align": "left"
          },
          "hovermode": "closest",
          "mapbox": {
           "style": "light"
          },
          "paper_bgcolor": "white",
          "plot_bgcolor": "#E5ECF6",
          "polar": {
           "angularaxis": {
            "gridcolor": "white",
            "linecolor": "white",
            "ticks": ""
           },
           "bgcolor": "#E5ECF6",
           "radialaxis": {
            "gridcolor": "white",
            "linecolor": "white",
            "ticks": ""
           }
          },
          "scene": {
           "xaxis": {
            "backgroundcolor": "#E5ECF6",
            "gridcolor": "white",
            "gridwidth": 2,
            "linecolor": "white",
            "showbackground": true,
            "ticks": "",
            "zerolinecolor": "white"
           },
           "yaxis": {
            "backgroundcolor": "#E5ECF6",
            "gridcolor": "white",
            "gridwidth": 2,
            "linecolor": "white",
            "showbackground": true,
            "ticks": "",
            "zerolinecolor": "white"
           },
           "zaxis": {
            "backgroundcolor": "#E5ECF6",
            "gridcolor": "white",
            "gridwidth": 2,
            "linecolor": "white",
            "showbackground": true,
            "ticks": "",
            "zerolinecolor": "white"
           }
          },
          "shapedefaults": {
           "line": {
            "color": "#2a3f5f"
           }
          },
          "ternary": {
           "aaxis": {
            "gridcolor": "white",
            "linecolor": "white",
            "ticks": ""
           },
           "baxis": {
            "gridcolor": "white",
            "linecolor": "white",
            "ticks": ""
           },
           "bgcolor": "#E5ECF6",
           "caxis": {
            "gridcolor": "white",
            "linecolor": "white",
            "ticks": ""
           }
          },
          "title": {
           "x": 0.05
          },
          "xaxis": {
           "automargin": true,
           "gridcolor": "white",
           "linecolor": "white",
           "ticks": "",
           "title": {
            "standoff": 15
           },
           "zerolinecolor": "white",
           "zerolinewidth": 2
          },
          "yaxis": {
           "automargin": true,
           "gridcolor": "white",
           "linecolor": "white",
           "ticks": "",
           "title": {
            "standoff": 15
           },
           "zerolinecolor": "white",
           "zerolinewidth": 2
          }
         }
        },
        "title": {
         "text": "Recent Time Period Common Topics"
        },
        "xaxis": {
         "anchor": "y",
         "domain": [
          0,
          1
         ],
         "dtick": "M1",
         "tickformat": "%b %d",
         "ticklabelmode": "period",
         "title": {
          "text": "timepoint"
         }
        },
        "yaxis": {
         "anchor": "x",
         "domain": [
          0,
          1
         ],
         "title": {
          "text": "value"
         }
        }
       }
      }
     },
     "metadata": {},
     "output_type": "display_data"
    }
   ],
   "source": [
    "td = pd.DataFrame()\n",
    "for timepoint in range(best_mdl.num_timepoints):\n",
    "    td_tmp = pd.DataFrame(\n",
    "        np.stack([doc.get_topic_dist() for doc in best_mdl.docs if doc.timepoint == timepoint]),\n",
    "        columns=[\"topic_{}\".format(i + 1) for i in range(best_mdl.k)],\n",
    "    )\n",
    "    td_tmp[\"timepoint\"] = timepoint\n",
    "    td = pd.concat([td, td_tmp], ignore_index=True)\n",
    "    del td_tmp\n",
    "\n",
    "td_recent = td[td['timepoint']>30]\n",
    "\n",
    "import plotly.express as px\n",
    "fig = px.line(td_recent, x=\"timepoint\", y=['topic_1', 'topic_3', 'topic_4', 'topic_5', 'topic_7', 'topic_8'],\n",
    "            #   hover_data={\"timepoint\": \"|%B %d, %Y\"},\n",
    "              title='Recent Time Period Common Topics')\n",
    "fig.update_xaxes(\n",
    "    dtick=\"M1\",\n",
    "    tickformat=\"%b %d\",\n",
    "    ticklabelmode=\"period\")\n",
    "fig.show()\n"
   ]
  },
  {
   "cell_type": "code",
   "execution_count": 44,
   "metadata": {},
   "outputs": [],
   "source": [
    "# - 1 > timep 33\n",
    "# - 3 > timep 31, 43\n",
    "# - 4 > timep 45\n",
    "# - 5 > timep 32, 34\n",
    "# - 7 > timep 36, 37, 39, 40 \n",
    "# - 8 > timep 42\n",
    "\n",
    "# topic_1\n",
    "topic_1 = wt[wt['k']==0] # start with 0\n",
    "# select timepoint\n",
    "topic_1_33 = topic_1[topic_1['timepoint']==33]\n",
    "# concat\n",
    "topic_1_concate = topic_1_33.copy()\n",
    "topic_1_concate.sort_values(by='prob', ascending=False, inplace=True)\n",
    "\n",
    "# topic_3\n",
    "topic_3= wt[wt['k']==2] # start with 0\n",
    "# select timepoint\n",
    "topic_3_31 = topic_3[topic_3['timepoint']==31]\n",
    "topic_3_43 = topic_3[topic_3['timepoint']==43]\n",
    "# concat \n",
    "topic_3_concat = pd.concat([topic_3_31, topic_3_43], ignore_index=True)\n",
    "topic_3_concat.sort_values(by='prob', ascending=False, inplace=True)\n",
    "\n",
    "# topic_4\n",
    "topic_4 = wt[wt['k']==3] # start with 0\n",
    "# select timepoint\n",
    "topic_4_45 = topic_4[topic_4['timepoint']==45]\n",
    "# concat\n",
    "topic_4_concate = topic_4_45.copy()\n",
    "topic_4_concate.sort_values(by='prob', ascending=False, inplace=True)\n",
    "\n",
    "# topic_5\n",
    "topic_5= wt[wt['k']==4] # start with 0\n",
    "# select timepoint\n",
    "topic_5_32 = topic_5[topic_5['timepoint']==32]\n",
    "topic_5_34 = topic_5[topic_5['timepoint']==34]\n",
    "# concat \n",
    "topic_5_concat = pd.concat([topic_5_32, topic_5_34], ignore_index=True)\n",
    "topic_5_concat.sort_values(by='prob', ascending=False, inplace=True)\n",
    "\n",
    "# topic_7\n",
    "topic_7= wt[wt['k']==6] # start with 0\n",
    "# select timepoint\n",
    "topic_7_36 = topic_7[topic_7['timepoint']==36]\n",
    "topic_7_37 = topic_7[topic_7['timepoint']==37]\n",
    "topic_7_39 = topic_7[topic_7['timepoint']==39]\n",
    "topic_7_40 = topic_7[topic_7['timepoint']==40]\n",
    "# concat \n",
    "topic_7_concat = pd.concat([topic_7_36, topic_7_37, topic_7_39, topic_7_40], ignore_index=True)\n",
    "topic_7_concat.sort_values(by='prob', ascending=False, inplace=True)\n",
    "\n",
    "# topic_8\n",
    "topic_8 = wt[wt['k']==7] # start with 0\n",
    "# select timepoint\n",
    "topic_8_42 = topic_8[topic_8['timepoint']==42]\n",
    "# concat\n",
    "topic_8_concate = topic_8_42.copy()\n",
    "topic_8_concate.sort_values(by='prob', ascending=False, inplace=True)\n"
   ]
  },
  {
   "cell_type": "code",
   "execution_count": 45,
   "metadata": {},
   "outputs": [
    {
     "data": {
      "text/html": [
       "<div>\n",
       "<style scoped>\n",
       "    .dataframe tbody tr th:only-of-type {\n",
       "        vertical-align: middle;\n",
       "    }\n",
       "\n",
       "    .dataframe tbody tr th {\n",
       "        vertical-align: top;\n",
       "    }\n",
       "\n",
       "    .dataframe thead th {\n",
       "        text-align: right;\n",
       "    }\n",
       "</style>\n",
       "<table border=\"1\" class=\"dataframe\">\n",
       "  <thead>\n",
       "    <tr style=\"text-align: right;\">\n",
       "      <th></th>\n",
       "      <th>47</th>\n",
       "      <th>23</th>\n",
       "      <th>27</th>\n",
       "      <th>63</th>\n",
       "      <th>5</th>\n",
       "      <th>15</th>\n",
       "      <th>43</th>\n",
       "      <th>17</th>\n",
       "      <th>24</th>\n",
       "      <th>51</th>\n",
       "      <th>29</th>\n",
       "      <th>0</th>\n",
       "      <th>10</th>\n",
       "      <th>37</th>\n",
       "      <th>50</th>\n",
       "      <th>49</th>\n",
       "      <th>54</th>\n",
       "      <th>41</th>\n",
       "      <th>60</th>\n",
       "      <th>62</th>\n",
       "      <th>36</th>\n",
       "      <th>32</th>\n",
       "      <th>31</th>\n",
       "      <th>28</th>\n",
       "      <th>64</th>\n",
       "      <th>65</th>\n",
       "      <th>16</th>\n",
       "      <th>9</th>\n",
       "      <th>21</th>\n",
       "      <th>6</th>\n",
       "      <th>58</th>\n",
       "      <th>33</th>\n",
       "      <th>12</th>\n",
       "      <th>59</th>\n",
       "      <th>1</th>\n",
       "      <th>53</th>\n",
       "      <th>2</th>\n",
       "      <th>34</th>\n",
       "      <th>61</th>\n",
       "      <th>4</th>\n",
       "      <th>11</th>\n",
       "      <th>3</th>\n",
       "      <th>57</th>\n",
       "      <th>56</th>\n",
       "      <th>55</th>\n",
       "      <th>7</th>\n",
       "      <th>52</th>\n",
       "      <th>8</th>\n",
       "      <th>46</th>\n",
       "      <th>48</th>\n",
       "      <th>25</th>\n",
       "      <th>30</th>\n",
       "      <th>20</th>\n",
       "      <th>19</th>\n",
       "      <th>35</th>\n",
       "      <th>18</th>\n",
       "      <th>38</th>\n",
       "      <th>39</th>\n",
       "      <th>40</th>\n",
       "      <th>14</th>\n",
       "      <th>42</th>\n",
       "      <th>13</th>\n",
       "      <th>44</th>\n",
       "      <th>45</th>\n",
       "      <th>22</th>\n",
       "      <th>26</th>\n",
       "    </tr>\n",
       "  </thead>\n",
       "  <tbody>\n",
       "    <tr>\n",
       "      <th>word</th>\n",
       "      <td>rule</td>\n",
       "      <td>fee</td>\n",
       "      <td>inflation</td>\n",
       "      <td>vote</td>\n",
       "      <td>board</td>\n",
       "      <td>coverage</td>\n",
       "      <td>report</td>\n",
       "      <td>datum</td>\n",
       "      <td>frequency</td>\n",
       "      <td>service</td>\n",
       "      <td>inﬂation</td>\n",
       "      <td>agent</td>\n",
       "      <td>casualty</td>\n",
       "      <td>platform</td>\n",
       "      <td>sensitivity</td>\n",
       "      <td>scenario</td>\n",
       "      <td>space</td>\n",
       "      <td>regulator</td>\n",
       "      <td>travel</td>\n",
       "      <td>unwriter</td>\n",
       "      <td>pension</td>\n",
       "      <td>mortality</td>\n",
       "      <td>meeting</td>\n",
       "      <td>interruption</td>\n",
       "      <td>week</td>\n",
       "      <td>worker</td>\n",
       "      <td>crisis</td>\n",
       "      <td>car</td>\n",
       "      <td>estate</td>\n",
       "      <td>buyback</td>\n",
       "      <td>synergy</td>\n",
       "      <td>mortgage</td>\n",
       "      <td>condition</td>\n",
       "      <td>transcript</td>\n",
       "      <td>annuity</td>\n",
       "      <td>solution</td>\n",
       "      <td>approach</td>\n",
       "      <td>motor</td>\n",
       "      <td>uncertainty</td>\n",
       "      <td>bank</td>\n",
       "      <td>competitor</td>\n",
       "      <td>audit</td>\n",
       "      <td>stock</td>\n",
       "      <td>statement</td>\n",
       "      <td>spread</td>\n",
       "      <td>capability</td>\n",
       "      <td>severity</td>\n",
       "      <td>capacity</td>\n",
       "      <td>revenue</td>\n",
       "      <td>scale</td>\n",
       "      <td>guarantee</td>\n",
       "      <td>item</td>\n",
       "      <td>duration</td>\n",
       "      <td>diﬀerent</td>\n",
       "      <td>operation</td>\n",
       "      <td>digit</td>\n",
       "      <td>pner</td>\n",
       "      <td>protection</td>\n",
       "      <td>quality</td>\n",
       "      <td>contribution</td>\n",
       "      <td>relationship</td>\n",
       "      <td>contract</td>\n",
       "      <td>requirement</td>\n",
       "      <td>respect</td>\n",
       "      <td>estimate</td>\n",
       "      <td>hand</td>\n",
       "    </tr>\n",
       "    <tr>\n",
       "      <th>prob</th>\n",
       "      <td>0.007</td>\n",
       "      <td>0.007</td>\n",
       "      <td>0.006714</td>\n",
       "      <td>0.005</td>\n",
       "      <td>0.005</td>\n",
       "      <td>0.005</td>\n",
       "      <td>0.005</td>\n",
       "      <td>0.004667</td>\n",
       "      <td>0.004667</td>\n",
       "      <td>0.0045</td>\n",
       "      <td>0.0045</td>\n",
       "      <td>0.0045</td>\n",
       "      <td>0.004333</td>\n",
       "      <td>0.004333</td>\n",
       "      <td>0.0042</td>\n",
       "      <td>0.004</td>\n",
       "      <td>0.004</td>\n",
       "      <td>0.004</td>\n",
       "      <td>0.004</td>\n",
       "      <td>0.004</td>\n",
       "      <td>0.004</td>\n",
       "      <td>0.004</td>\n",
       "      <td>0.004</td>\n",
       "      <td>0.004</td>\n",
       "      <td>0.004</td>\n",
       "      <td>0.004</td>\n",
       "      <td>0.004</td>\n",
       "      <td>0.004</td>\n",
       "      <td>0.004</td>\n",
       "      <td>0.003833</td>\n",
       "      <td>0.0035</td>\n",
       "      <td>0.0035</td>\n",
       "      <td>0.0035</td>\n",
       "      <td>0.003444</td>\n",
       "      <td>0.003333</td>\n",
       "      <td>0.003333</td>\n",
       "      <td>0.003333</td>\n",
       "      <td>0.003</td>\n",
       "      <td>0.003</td>\n",
       "      <td>0.003</td>\n",
       "      <td>0.003</td>\n",
       "      <td>0.003</td>\n",
       "      <td>0.003</td>\n",
       "      <td>0.003</td>\n",
       "      <td>0.003</td>\n",
       "      <td>0.003</td>\n",
       "      <td>0.003</td>\n",
       "      <td>0.003</td>\n",
       "      <td>0.003</td>\n",
       "      <td>0.003</td>\n",
       "      <td>0.003</td>\n",
       "      <td>0.003</td>\n",
       "      <td>0.003</td>\n",
       "      <td>0.003</td>\n",
       "      <td>0.003</td>\n",
       "      <td>0.003</td>\n",
       "      <td>0.003</td>\n",
       "      <td>0.003</td>\n",
       "      <td>0.003</td>\n",
       "      <td>0.003</td>\n",
       "      <td>0.003</td>\n",
       "      <td>0.003</td>\n",
       "      <td>0.003</td>\n",
       "      <td>0.003</td>\n",
       "      <td>0.002667</td>\n",
       "      <td>0.002667</td>\n",
       "    </tr>\n",
       "  </tbody>\n",
       "</table>\n",
       "</div>"
      ],
      "text/plain": [
       "         47     23         27     63     5         15      43        17  \\\n",
       "word   rule    fee  inflation   vote  board  coverage  report     datum   \n",
       "prob  0.007  0.007   0.006714  0.005  0.005     0.005   0.005  0.004667   \n",
       "\n",
       "             24       51        29      0         10        37           50  \\\n",
       "word  frequency  service  inﬂation   agent  casualty  platform  sensitivity   \n",
       "prob   0.004667   0.0045    0.0045  0.0045  0.004333  0.004333       0.0042   \n",
       "\n",
       "            49     54         41      60        62       36         32  \\\n",
       "word  scenario  space  regulator  travel  unwriter  pension  mortality   \n",
       "prob     0.004  0.004      0.004   0.004     0.004    0.004      0.004   \n",
       "\n",
       "           31            28     64      65      16     9       21        6   \\\n",
       "word  meeting  interruption   week  worker  crisis    car  estate   buyback   \n",
       "prob    0.004         0.004  0.004   0.004   0.004  0.004   0.004  0.003833   \n",
       "\n",
       "           58        33         12          59        1         53        2   \\\n",
       "word  synergy  mortgage  condition  transcript   annuity  solution  approach   \n",
       "prob   0.0035    0.0035     0.0035    0.003444  0.003333  0.003333  0.003333   \n",
       "\n",
       "         34           61     4           11     3      57         56      55  \\\n",
       "word  motor  uncertainty   bank  competitor  audit  stock  statement  spread   \n",
       "prob  0.003        0.003  0.003       0.003  0.003  0.003      0.003   0.003   \n",
       "\n",
       "              7         52        8        46     48         25     30  \\\n",
       "word  capability  severity  capacity  revenue  scale  guarantee   item   \n",
       "prob       0.003     0.003     0.003    0.003  0.003      0.003  0.003   \n",
       "\n",
       "            20        19         35     18     38          39       40  \\\n",
       "word  duration  diﬀerent  operation  digit   pner  protection  quality   \n",
       "prob     0.003     0.003      0.003  0.003  0.003       0.003    0.003   \n",
       "\n",
       "                14            42        13           44       45        22  \\\n",
       "word  contribution  relationship  contract  requirement  respect  estimate   \n",
       "prob         0.003         0.003     0.003        0.003    0.003  0.002667   \n",
       "\n",
       "            26  \n",
       "word      hand  \n",
       "prob  0.002667  "
      ]
     },
     "execution_count": 45,
     "metadata": {},
     "output_type": "execute_result"
    }
   ],
   "source": [
    "# concat\n",
    "topic_all_recent = pd.concat([ topic_1_concate, topic_3_concat, topic_4_concat, topic_5_concat, topic_7_concat, topic_8_concate], ignore_index=True)\n",
    "# groupby word and get the average of prob\n",
    "topic_all_recent = topic_all_recent.groupby(['word'])['prob'].mean().reset_index()\n",
    "# sort by prob\n",
    "topic_all_recent.sort_values(by='prob', ascending=False, inplace=True)\n",
    "topic_all_recent.T"
   ]
  },
  {
   "cell_type": "code",
   "execution_count": 46,
   "metadata": {},
   "outputs": [],
   "source": [
    "# topic_all_recently to csv\n",
    "topic_all_recent.to_csv('./main_df_output/QA_topic_all_recently.csv')\n",
    "topic_all_early.to_csv('./main_df_output/QA_topic_all_early.csv')\n",
    "topic_all_middle.to_csv('./main_df_output/QA_topic_all_middle.csv')"
   ]
  }
 ],
 "metadata": {
  "kernelspec": {
   "display_name": "Python 3.9.7",
   "language": "python",
   "name": "python3"
  },
  "language_info": {
   "codemirror_mode": {
    "name": "ipython",
    "version": 3
   },
   "file_extension": ".py",
   "mimetype": "text/x-python",
   "name": "python",
   "nbconvert_exporter": "python",
   "pygments_lexer": "ipython3",
   "version": "3.9.7"
  },
  "orig_nbformat": 4,
  "vscode": {
   "interpreter": {
    "hash": "40d3a090f54c6569ab1632332b64b2c03c39dcf918b08424e98f38b5ae0af88f"
   }
  }
 },
 "nbformat": 4,
 "nbformat_minor": 2
}
