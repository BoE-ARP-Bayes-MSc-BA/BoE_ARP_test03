{
 "cells": [
  {
   "cell_type": "code",
   "execution_count": 181,
   "metadata": {},
   "outputs": [
    {
     "name": "stderr",
     "output_type": "stream",
     "text": [
      "[nltk_data] Downloading package twitter_samples to\n",
      "[nltk_data]     /Users/timliu/nltk_data...\n",
      "[nltk_data]   Package twitter_samples is already up-to-date!\n",
      "[nltk_data] Downloading package stopwords to\n",
      "[nltk_data]     /Users/timliu/nltk_data...\n",
      "[nltk_data]   Package stopwords is already up-to-date!\n"
     ]
    }
   ],
   "source": [
    "# self-define function\n",
    "from data_cleaning import cleaning_text_MD, sentence_df\n",
    "from participant_function import participants_list, clean_participants_list\n",
    "# from stock_price_info import stock_price_change\\\n",
    "# read and saving path\n",
    "path = \"./meeting_transcript\"\n",
    "text_save_path = \"./output_MD\"\n",
    "# other packages\n",
    "import pdftotext\n",
    "import pandas as pd\n",
    "import numpy as np\n",
    "import matplotlib.pyplot as plt\n",
    "import seaborn as sns\n",
    "import re\n",
    "import os\n",
    "import string\n",
    "# nlp\n",
    "import nltk \n",
    "nltk.download('twitter_samples')\n",
    "from nltk.corpus import twitter_samples\n",
    "from nltk.corpus import stopwords          # module for stop words that come with NLTK\n",
    "nltk.download('stopwords')\n",
    "from nltk.stem import PorterStemmer        # module for stemming\n",
    "from nltk.tokenize import TweetTokenizer   # module for tokenizing strings\n",
    "\n",
    "import warnings\n",
    "from pandas.core.common import SettingWithCopyWarning\n",
    "warnings.simplefilter(action=\"ignore\", category=SettingWithCopyWarning)\n",
    "import spacy \n",
    "nlp = spacy.load(\"en_core_web_lg\")\n",
    "from tqdm import tqdm\n",
    "# tp_modelling packages\n",
    "from collections import Counter, OrderedDict\n",
    "from gensim.models import Phrases\n",
    "import tomotopy as tp\n"
   ]
  },
  {
   "cell_type": "code",
   "execution_count": 182,
   "metadata": {},
   "outputs": [
    {
     "data": {
      "text/html": [
       "<div>\n",
       "<style scoped>\n",
       "    .dataframe tbody tr th:only-of-type {\n",
       "        vertical-align: middle;\n",
       "    }\n",
       "\n",
       "    .dataframe tbody tr th {\n",
       "        vertical-align: top;\n",
       "    }\n",
       "\n",
       "    .dataframe thead th {\n",
       "        text-align: right;\n",
       "    }\n",
       "</style>\n",
       "<table border=\"1\" class=\"dataframe\">\n",
       "  <thead>\n",
       "    <tr style=\"text-align: right;\">\n",
       "      <th></th>\n",
       "      <th>participants</th>\n",
       "      <th>file_name</th>\n",
       "      <th>date</th>\n",
       "      <th>idx</th>\n",
       "      <th>company_paticipants_yes</th>\n",
       "      <th>other_paticipants_yes</th>\n",
       "      <th>company_name</th>\n",
       "      <th>paraghrph</th>\n",
       "      <th>paraghrph_clean</th>\n",
       "      <th>paraghrph_noun</th>\n",
       "    </tr>\n",
       "  </thead>\n",
       "  <tbody>\n",
       "    <tr>\n",
       "      <th>26390</th>\n",
       "      <td>Operator</td>\n",
       "      <td>20110202_LEGAL_-_GEN_GRP-_Guidance_Call_2011-2...</td>\n",
       "      <td>2011-02-02</td>\n",
       "      <td>1.0</td>\n",
       "      <td>1</td>\n",
       "      <td>1</td>\n",
       "      <td>LEGAL -</td>\n",
       "      <td>Hello. Welcome to the U.S. capital restructuri...</td>\n",
       "      <td>Hello Welcome to the US capital restructuring ...</td>\n",
       "      <td>capital restructuring program call today instr...</td>\n",
       "    </tr>\n",
       "    <tr>\n",
       "      <th>14254</th>\n",
       "      <td>James Quin</td>\n",
       "      <td>20110202 _Mapfre_SA_Earnings_Call_SD0000000027...</td>\n",
       "      <td>2011-02-02</td>\n",
       "      <td>323.0</td>\n",
       "      <td>1</td>\n",
       "      <td>1</td>\n",
       "      <td>Mapfre SA</td>\n",
       "      <td>Yes, I think more or less, yes. Thank you.</td>\n",
       "      <td>Yes I think more or less yes Thank you</td>\n",
       "      <td>NaN</td>\n",
       "    </tr>\n",
       "    <tr>\n",
       "      <th>15811</th>\n",
       "      <td>Jesus Amadori</td>\n",
       "      <td>20110202 _Mapfre_SA_Earnings_Call_SD0000000027...</td>\n",
       "      <td>2011-02-02</td>\n",
       "      <td>274.0</td>\n",
       "      <td>1</td>\n",
       "      <td>0</td>\n",
       "      <td>Mapfre SA</td>\n",
       "      <td>You're going to have to take our word on this ...</td>\n",
       "      <td>You're going to have to take our word on this ...</td>\n",
       "      <td>word speaker past run off triangle quer basis ...</td>\n",
       "    </tr>\n",
       "    <tr>\n",
       "      <th>20373</th>\n",
       "      <td>Luigi Lubelli</td>\n",
       "      <td>20110202 _Mapfre_SA_Earnings_Call_SD0000000027...</td>\n",
       "      <td>2011-02-02</td>\n",
       "      <td>332.0</td>\n",
       "      <td>1</td>\n",
       "      <td>0</td>\n",
       "      <td>Mapfre SA</td>\n",
       "      <td>Oh, that I -- is it?</td>\n",
       "      <td>Oh that I -- is it?</td>\n",
       "      <td>NaN</td>\n",
       "    </tr>\n",
       "    <tr>\n",
       "      <th>20372</th>\n",
       "      <td>Luigi Lubelli</td>\n",
       "      <td>20110202 _Mapfre_SA_Earnings_Call_SD0000000027...</td>\n",
       "      <td>2011-02-02</td>\n",
       "      <td>325.0</td>\n",
       "      <td>1</td>\n",
       "      <td>0</td>\n",
       "      <td>Mapfre SA</td>\n",
       "      <td>Then the -- probably on your third question, t...</td>\n",
       "      <td>Then the -- probably on your third question th...</td>\n",
       "      <td>question volatility realization gain figure fo...</td>\n",
       "    </tr>\n",
       "  </tbody>\n",
       "</table>\n",
       "</div>"
      ],
      "text/plain": [
       "        participants                                          file_name  \\\n",
       "26390       Operator  20110202_LEGAL_-_GEN_GRP-_Guidance_Call_2011-2...   \n",
       "14254     James Quin  20110202 _Mapfre_SA_Earnings_Call_SD0000000027...   \n",
       "15811  Jesus Amadori  20110202 _Mapfre_SA_Earnings_Call_SD0000000027...   \n",
       "20373  Luigi Lubelli  20110202 _Mapfre_SA_Earnings_Call_SD0000000027...   \n",
       "20372  Luigi Lubelli  20110202 _Mapfre_SA_Earnings_Call_SD0000000027...   \n",
       "\n",
       "             date    idx  company_paticipants_yes  other_paticipants_yes  \\\n",
       "26390  2011-02-02    1.0                        1                      1   \n",
       "14254  2011-02-02  323.0                        1                      1   \n",
       "15811  2011-02-02  274.0                        1                      0   \n",
       "20373  2011-02-02  332.0                        1                      0   \n",
       "20372  2011-02-02  325.0                        1                      0   \n",
       "\n",
       "      company_name                                          paraghrph  \\\n",
       "26390      LEGAL -  Hello. Welcome to the U.S. capital restructuri...   \n",
       "14254    Mapfre SA         Yes, I think more or less, yes. Thank you.   \n",
       "15811    Mapfre SA  You're going to have to take our word on this ...   \n",
       "20373    Mapfre SA                               Oh, that I -- is it?   \n",
       "20372    Mapfre SA  Then the -- probably on your third question, t...   \n",
       "\n",
       "                                         paraghrph_clean  \\\n",
       "26390  Hello Welcome to the US capital restructuring ...   \n",
       "14254             Yes I think more or less yes Thank you   \n",
       "15811  You're going to have to take our word on this ...   \n",
       "20373                                Oh that I -- is it?   \n",
       "20372  Then the -- probably on your third question th...   \n",
       "\n",
       "                                          paraghrph_noun  \n",
       "26390  capital restructuring program call today instr...  \n",
       "14254                                                NaN  \n",
       "15811  word speaker past run off triangle quer basis ...  \n",
       "20373                                                NaN  \n",
       "20372  question volatility realization gain figure fo...  "
      ]
     },
     "execution_count": 182,
     "metadata": {},
     "output_type": "execute_result"
    }
   ],
   "source": [
    "# call out the model_df CSV\n",
    "model_df = pd.read_csv('./main_df_output/topic_modelling_MD_df.csv')\n",
    "# model_df sort by date\n",
    "model_df = model_df.sort_values(by=['date'])\n",
    "pd.set_option('display.max_columns', None)\n",
    "model_df.head()"
   ]
  },
  {
   "cell_type": "markdown",
   "metadata": {},
   "source": [
    "# Tokenize"
   ]
  },
  {
   "cell_type": "code",
   "execution_count": 183,
   "metadata": {},
   "outputs": [],
   "source": [
    "def clean_tokens_nuon(text_series):\n",
    "    # step 1: convert text_series df to list\n",
    "    text_list = text_series.to_list()\n",
    "\n",
    "    # step 2: change the list to lower case\n",
    "    text_list = list(map(lambda x: x.lower(),text_list))\n",
    "\n",
    "    # step 3: remove whitespaces and trailing spaces\n",
    "    def remove_whitespace(text):\n",
    "        pattern = re.compile(r'\\s+') \n",
    "        Without_whitespace = re.sub(pattern, ' ', text)\n",
    "        text = Without_whitespace.replace('?', ' ? ').replace(')', ') ')\n",
    "        text = text.strip()\n",
    "        return text\n",
    "    text_list=list(map(lambda x: remove_whitespace(x),text_list))\n",
    "\n",
    "    # step 4: apply nlp pipeline remove stop words, numbers and lematize the words\n",
    "    # expand the list of stopwords\n",
    "    gist_file = open(\"./input/gist_stopwords.txt\", \"r\")\n",
    "    try:\n",
    "        content = gist_file.read()\n",
    "        stopwords = content.split(\",\")\n",
    "    finally:\n",
    "        gist_file.close()\n",
    "        \n",
    "    stopwords=[i.replace('\"',\"\").strip() for i in stopwords]\n",
    "    # add the stopwords to the list of stopwords\n",
    "    for i in stopwords:\n",
    "        nlp.Defaults.stop_words.add(i)\n",
    "\n",
    "    # create colloum for cleaned text_list\n",
    "    tokens, tmp_tokens = [], [] \n",
    "    for text in tqdm(text_list): # or tqdm.tqdm\n",
    "        tmp_tokens = [\n",
    "            token.lemma_\n",
    "            for token in nlp(text)\n",
    "            if not token.is_stop \n",
    "            and not token.like_num\n",
    "            and not token.is_punct\n",
    "            and token.is_alpha\n",
    "            ]\n",
    "        tokens.append(tmp_tokens)\n",
    "        tmp_tokens=[]\n",
    "    return tokens"
   ]
  },
  {
   "cell_type": "code",
   "execution_count": 184,
   "metadata": {},
   "outputs": [
    {
     "name": "stderr",
     "output_type": "stream",
     "text": [
      "/var/folders/sq/sxhsy98j6f57m406rd5lz1_r0000gn/T/ipykernel_4612/458752224.py:2: FutureWarning:\n",
      "\n",
      "The default value of regex will change from True to False in a future version.\n",
      "\n",
      "100%|██████████| 39288/39288 [06:39<00:00, 98.34it/s] \n"
     ]
    },
    {
     "data": {
      "text/html": [
       "<div>\n",
       "<style scoped>\n",
       "    .dataframe tbody tr th:only-of-type {\n",
       "        vertical-align: middle;\n",
       "    }\n",
       "\n",
       "    .dataframe tbody tr th {\n",
       "        vertical-align: top;\n",
       "    }\n",
       "\n",
       "    .dataframe thead th {\n",
       "        text-align: right;\n",
       "    }\n",
       "</style>\n",
       "<table border=\"1\" class=\"dataframe\">\n",
       "  <thead>\n",
       "    <tr style=\"text-align: right;\">\n",
       "      <th></th>\n",
       "      <th>participants</th>\n",
       "      <th>file_name</th>\n",
       "      <th>date</th>\n",
       "      <th>idx</th>\n",
       "      <th>company_paticipants_yes</th>\n",
       "      <th>other_paticipants_yes</th>\n",
       "      <th>company_name</th>\n",
       "      <th>paraghrph</th>\n",
       "      <th>paraghrph_clean</th>\n",
       "      <th>paraghrph_noun</th>\n",
       "      <th>token</th>\n",
       "    </tr>\n",
       "  </thead>\n",
       "  <tbody>\n",
       "    <tr>\n",
       "      <th>26390</th>\n",
       "      <td>Operator</td>\n",
       "      <td>20110202_LEGAL_-_GEN_GRP-_Guidance_Call_2011-2...</td>\n",
       "      <td>2011-02-02</td>\n",
       "      <td>1.0</td>\n",
       "      <td>1</td>\n",
       "      <td>1</td>\n",
       "      <td>LEGAL -</td>\n",
       "      <td>Hello. Welcome to the U.S. capital restructuri...</td>\n",
       "      <td>Hello Welcome to the US capital restructuring ...</td>\n",
       "      <td>capital restructuring program call today instr...</td>\n",
       "      <td>[capital, restructuring, program, today, instr...</td>\n",
       "    </tr>\n",
       "    <tr>\n",
       "      <th>14254</th>\n",
       "      <td>James Quin</td>\n",
       "      <td>20110202 _Mapfre_SA_Earnings_Call_SD0000000027...</td>\n",
       "      <td>2011-02-02</td>\n",
       "      <td>323.0</td>\n",
       "      <td>1</td>\n",
       "      <td>1</td>\n",
       "      <td>Mapfre SA</td>\n",
       "      <td>Yes, I think more or less, yes. Thank you.</td>\n",
       "      <td>Yes I think more or less yes Thank you</td>\n",
       "      <td>nan</td>\n",
       "      <td>[nan]</td>\n",
       "    </tr>\n",
       "    <tr>\n",
       "      <th>15811</th>\n",
       "      <td>Jesus Amadori</td>\n",
       "      <td>20110202 _Mapfre_SA_Earnings_Call_SD0000000027...</td>\n",
       "      <td>2011-02-02</td>\n",
       "      <td>274.0</td>\n",
       "      <td>1</td>\n",
       "      <td>0</td>\n",
       "      <td>Mapfre SA</td>\n",
       "      <td>You're going to have to take our word on this ...</td>\n",
       "      <td>You're going to have to take our word on this ...</td>\n",
       "      <td>word speaker past run off triangle quer basis ...</td>\n",
       "      <td>[word, speaker, triangle, quer, basis, report,...</td>\n",
       "    </tr>\n",
       "    <tr>\n",
       "      <th>20373</th>\n",
       "      <td>Luigi Lubelli</td>\n",
       "      <td>20110202 _Mapfre_SA_Earnings_Call_SD0000000027...</td>\n",
       "      <td>2011-02-02</td>\n",
       "      <td>332.0</td>\n",
       "      <td>1</td>\n",
       "      <td>0</td>\n",
       "      <td>Mapfre SA</td>\n",
       "      <td>Oh, that I -- is it?</td>\n",
       "      <td>Oh that I -- is it?</td>\n",
       "      <td>nan</td>\n",
       "      <td>[nan]</td>\n",
       "    </tr>\n",
       "    <tr>\n",
       "      <th>20372</th>\n",
       "      <td>Luigi Lubelli</td>\n",
       "      <td>20110202 _Mapfre_SA_Earnings_Call_SD0000000027...</td>\n",
       "      <td>2011-02-02</td>\n",
       "      <td>325.0</td>\n",
       "      <td>1</td>\n",
       "      <td>0</td>\n",
       "      <td>Mapfre SA</td>\n",
       "      <td>Then the -- probably on your third question, t...</td>\n",
       "      <td>Then the -- probably on your third question th...</td>\n",
       "      <td>question volatility realization gain figure fo...</td>\n",
       "      <td>[question, volatility, realization, gain, figu...</td>\n",
       "    </tr>\n",
       "    <tr>\n",
       "      <th>...</th>\n",
       "      <td>...</td>\n",
       "      <td>...</td>\n",
       "      <td>...</td>\n",
       "      <td>...</td>\n",
       "      <td>...</td>\n",
       "      <td>...</td>\n",
       "      <td>...</td>\n",
       "      <td>...</td>\n",
       "      <td>...</td>\n",
       "      <td>...</td>\n",
       "      <td>...</td>\n",
       "    </tr>\n",
       "    <tr>\n",
       "      <th>4425</th>\n",
       "      <td>Blair Stewart</td>\n",
       "      <td>20220427_GJENSIDIGE_FORSI-_Earnings_Call_2022-...</td>\n",
       "      <td>2022-04-27</td>\n",
       "      <td>316.0</td>\n",
       "      <td>0</td>\n",
       "      <td>1</td>\n",
       "      <td>GJENSIDIGE FORSI-</td>\n",
       "      <td>Okay. Understood. So much messages. Thank you.</td>\n",
       "      <td>Okay Unstood So much messages Thank you</td>\n",
       "      <td>message</td>\n",
       "      <td>[message]</td>\n",
       "    </tr>\n",
       "    <tr>\n",
       "      <th>4424</th>\n",
       "      <td>Blair Stewart</td>\n",
       "      <td>20220427_GJENSIDIGE_FORSI-_Earnings_Call_2022-...</td>\n",
       "      <td>2022-04-27</td>\n",
       "      <td>305.0</td>\n",
       "      <td>0</td>\n",
       "      <td>1</td>\n",
       "      <td>GJENSIDIGE FORSI-</td>\n",
       "      <td>And sorry, I have to -- why do you say that sh...</td>\n",
       "      <td>And sorry I have to -- why do you say that sho...</td>\n",
       "      <td>term sale</td>\n",
       "      <td>[term, sale]</td>\n",
       "    </tr>\n",
       "    <tr>\n",
       "      <th>4423</th>\n",
       "      <td>Blair Stewart</td>\n",
       "      <td>20220427_GJENSIDIGE_FORSI-_Earnings_Call_2022-...</td>\n",
       "      <td>2022-04-27</td>\n",
       "      <td>270.0</td>\n",
       "      <td>0</td>\n",
       "      <td>1</td>\n",
       "      <td>GJENSIDIGE FORSI-</td>\n",
       "      <td>Thank you very much, and good morning, gents. ...</td>\n",
       "      <td>Thank you very much and good morning gents I'v...</td>\n",
       "      <td>morning gent question detail one system bit im...</td>\n",
       "      <td>[morning, gent, question, bit, impact, bit, te...</td>\n",
       "    </tr>\n",
       "    <tr>\n",
       "      <th>13242</th>\n",
       "      <td>Helge Leiro Baastad</td>\n",
       "      <td>20220427_GJENSIDIGE_FORSI-_Earnings_Call_2022-...</td>\n",
       "      <td>2022-04-27</td>\n",
       "      <td>366.0</td>\n",
       "      <td>1</td>\n",
       "      <td>0</td>\n",
       "      <td>GJENSIDIGE FORSI-</td>\n",
       "      <td>Yes. We got the claims inﬂation. I would start...</td>\n",
       "      <td>Yes We got the claims inﬂation I would st to s...</td>\n",
       "      <td>claim inﬂation course quer inﬂation quer inﬂat...</td>\n",
       "      <td>[claim, inﬂation, quer, inﬂation, quer, inﬂati...</td>\n",
       "    </tr>\n",
       "    <tr>\n",
       "      <th>30598</th>\n",
       "      <td>Operator</td>\n",
       "      <td>20220427_GJENSIDIGE_FORSI-_Earnings_Call_2022-...</td>\n",
       "      <td>2022-04-27</td>\n",
       "      <td>356.0</td>\n",
       "      <td>1</td>\n",
       "      <td>1</td>\n",
       "      <td>GJENSIDIGE FORSI-</td>\n",
       "      <td>We will take our next question from Tryfonas S...</td>\n",
       "      <td>We will take our next question from   from Ber...</td>\n",
       "      <td>question</td>\n",
       "      <td>[question]</td>\n",
       "    </tr>\n",
       "  </tbody>\n",
       "</table>\n",
       "<p>39288 rows × 11 columns</p>\n",
       "</div>"
      ],
      "text/plain": [
       "              participants                                          file_name  \\\n",
       "26390             Operator  20110202_LEGAL_-_GEN_GRP-_Guidance_Call_2011-2...   \n",
       "14254           James Quin  20110202 _Mapfre_SA_Earnings_Call_SD0000000027...   \n",
       "15811        Jesus Amadori  20110202 _Mapfre_SA_Earnings_Call_SD0000000027...   \n",
       "20373        Luigi Lubelli  20110202 _Mapfre_SA_Earnings_Call_SD0000000027...   \n",
       "20372        Luigi Lubelli  20110202 _Mapfre_SA_Earnings_Call_SD0000000027...   \n",
       "...                    ...                                                ...   \n",
       "4425         Blair Stewart  20220427_GJENSIDIGE_FORSI-_Earnings_Call_2022-...   \n",
       "4424         Blair Stewart  20220427_GJENSIDIGE_FORSI-_Earnings_Call_2022-...   \n",
       "4423         Blair Stewart  20220427_GJENSIDIGE_FORSI-_Earnings_Call_2022-...   \n",
       "13242  Helge Leiro Baastad  20220427_GJENSIDIGE_FORSI-_Earnings_Call_2022-...   \n",
       "30598             Operator  20220427_GJENSIDIGE_FORSI-_Earnings_Call_2022-...   \n",
       "\n",
       "             date    idx  company_paticipants_yes  other_paticipants_yes  \\\n",
       "26390  2011-02-02    1.0                        1                      1   \n",
       "14254  2011-02-02  323.0                        1                      1   \n",
       "15811  2011-02-02  274.0                        1                      0   \n",
       "20373  2011-02-02  332.0                        1                      0   \n",
       "20372  2011-02-02  325.0                        1                      0   \n",
       "...           ...    ...                      ...                    ...   \n",
       "4425   2022-04-27  316.0                        0                      1   \n",
       "4424   2022-04-27  305.0                        0                      1   \n",
       "4423   2022-04-27  270.0                        0                      1   \n",
       "13242  2022-04-27  366.0                        1                      0   \n",
       "30598  2022-04-27  356.0                        1                      1   \n",
       "\n",
       "            company_name                                          paraghrph  \\\n",
       "26390            LEGAL -  Hello. Welcome to the U.S. capital restructuri...   \n",
       "14254          Mapfre SA         Yes, I think more or less, yes. Thank you.   \n",
       "15811          Mapfre SA  You're going to have to take our word on this ...   \n",
       "20373          Mapfre SA                               Oh, that I -- is it?   \n",
       "20372          Mapfre SA  Then the -- probably on your third question, t...   \n",
       "...                  ...                                                ...   \n",
       "4425   GJENSIDIGE FORSI-     Okay. Understood. So much messages. Thank you.   \n",
       "4424   GJENSIDIGE FORSI-  And sorry, I have to -- why do you say that sh...   \n",
       "4423   GJENSIDIGE FORSI-  Thank you very much, and good morning, gents. ...   \n",
       "13242  GJENSIDIGE FORSI-  Yes. We got the claims inﬂation. I would start...   \n",
       "30598  GJENSIDIGE FORSI-  We will take our next question from Tryfonas S...   \n",
       "\n",
       "                                         paraghrph_clean  \\\n",
       "26390  Hello Welcome to the US capital restructuring ...   \n",
       "14254             Yes I think more or less yes Thank you   \n",
       "15811  You're going to have to take our word on this ...   \n",
       "20373                                Oh that I -- is it?   \n",
       "20372  Then the -- probably on your third question th...   \n",
       "...                                                  ...   \n",
       "4425             Okay Unstood So much messages Thank you   \n",
       "4424   And sorry I have to -- why do you say that sho...   \n",
       "4423   Thank you very much and good morning gents I'v...   \n",
       "13242  Yes We got the claims inﬂation I would st to s...   \n",
       "30598  We will take our next question from   from Ber...   \n",
       "\n",
       "                                          paraghrph_noun  \\\n",
       "26390  capital restructuring program call today instr...   \n",
       "14254                                                nan   \n",
       "15811  word speaker past run off triangle quer basis ...   \n",
       "20373                                                nan   \n",
       "20372  question volatility realization gain figure fo...   \n",
       "...                                                  ...   \n",
       "4425                                             message   \n",
       "4424                                           term sale   \n",
       "4423   morning gent question detail one system bit im...   \n",
       "13242  claim inﬂation course quer inﬂation quer inﬂat...   \n",
       "30598                                           question   \n",
       "\n",
       "                                                   token  \n",
       "26390  [capital, restructuring, program, today, instr...  \n",
       "14254                                              [nan]  \n",
       "15811  [word, speaker, triangle, quer, basis, report,...  \n",
       "20373                                              [nan]  \n",
       "20372  [question, volatility, realization, gain, figu...  \n",
       "...                                                  ...  \n",
       "4425                                           [message]  \n",
       "4424                                        [term, sale]  \n",
       "4423   [morning, gent, question, bit, impact, bit, te...  \n",
       "13242  [claim, inﬂation, quer, inﬂation, quer, inﬂati...  \n",
       "30598                                         [question]  \n",
       "\n",
       "[39288 rows x 11 columns]"
      ]
     },
     "execution_count": 184,
     "metadata": {},
     "output_type": "execute_result"
    }
   ],
   "source": [
    "# remove the numeric values from the 'paraghrph_clean' column by str.replace('\\d+', '')\n",
    "model_df['paraghrph_noun'] = model_df['paraghrph_noun'].str.replace('\\d+', '')\n",
    "model_df['paraghrph_noun']= model_df['paraghrph_noun'].astype(str)\n",
    "# use apply to get the token of the paraghrph\n",
    "model_df['token'] = clean_tokens_nuon(model_df['paraghrph_noun']) # or paraghrph_clean\n",
    "model_df"
   ]
  },
  {
   "cell_type": "markdown",
   "metadata": {},
   "source": [
    "# Word-Length Count"
   ]
  },
  {
   "cell_type": "code",
   "execution_count": 185,
   "metadata": {},
   "outputs": [
    {
     "data": {
      "text/html": [
       "<div>\n",
       "<style scoped>\n",
       "    .dataframe tbody tr th:only-of-type {\n",
       "        vertical-align: middle;\n",
       "    }\n",
       "\n",
       "    .dataframe tbody tr th {\n",
       "        vertical-align: top;\n",
       "    }\n",
       "\n",
       "    .dataframe thead th {\n",
       "        text-align: right;\n",
       "    }\n",
       "</style>\n",
       "<table border=\"1\" class=\"dataframe\">\n",
       "  <thead>\n",
       "    <tr style=\"text-align: right;\">\n",
       "      <th></th>\n",
       "      <th>participants</th>\n",
       "      <th>file_name</th>\n",
       "      <th>date</th>\n",
       "      <th>idx</th>\n",
       "      <th>company_paticipants_yes</th>\n",
       "      <th>other_paticipants_yes</th>\n",
       "      <th>company_name</th>\n",
       "      <th>paraghrph</th>\n",
       "      <th>paraghrph_clean</th>\n",
       "      <th>paraghrph_noun</th>\n",
       "      <th>token</th>\n",
       "      <th>word_count</th>\n",
       "      <th>char_count</th>\n",
       "      <th>sentence_count</th>\n",
       "      <th>avg_word_length</th>\n",
       "      <th>avg_sentence_length</th>\n",
       "    </tr>\n",
       "  </thead>\n",
       "  <tbody>\n",
       "    <tr>\n",
       "      <th>26390</th>\n",
       "      <td>Operator</td>\n",
       "      <td>20110202_LEGAL_-_GEN_GRP-_Guidance_Call_2011-2...</td>\n",
       "      <td>2011-02-02</td>\n",
       "      <td>1.0</td>\n",
       "      <td>1</td>\n",
       "      <td>1</td>\n",
       "      <td>LEGAL -</td>\n",
       "      <td>Hello. Welcome to the U.S. capital restructuri...</td>\n",
       "      <td>Hello Welcome to the US capital restructuring ...</td>\n",
       "      <td>capital restructuring program call today instr...</td>\n",
       "      <td>[capital, restructuring, program, today, instr...</td>\n",
       "      <td>5</td>\n",
       "      <td>43</td>\n",
       "      <td>7</td>\n",
       "      <td>8.60</td>\n",
       "      <td>0.714286</td>\n",
       "    </tr>\n",
       "    <tr>\n",
       "      <th>14254</th>\n",
       "      <td>James Quin</td>\n",
       "      <td>20110202 _Mapfre_SA_Earnings_Call_SD0000000027...</td>\n",
       "      <td>2011-02-02</td>\n",
       "      <td>323.0</td>\n",
       "      <td>1</td>\n",
       "      <td>1</td>\n",
       "      <td>Mapfre SA</td>\n",
       "      <td>Yes, I think more or less, yes. Thank you.</td>\n",
       "      <td>Yes I think more or less yes Thank you</td>\n",
       "      <td>nan</td>\n",
       "      <td>[nan]</td>\n",
       "      <td>1</td>\n",
       "      <td>3</td>\n",
       "      <td>3</td>\n",
       "      <td>3.00</td>\n",
       "      <td>0.333333</td>\n",
       "    </tr>\n",
       "    <tr>\n",
       "      <th>15811</th>\n",
       "      <td>Jesus Amadori</td>\n",
       "      <td>20110202 _Mapfre_SA_Earnings_Call_SD0000000027...</td>\n",
       "      <td>2011-02-02</td>\n",
       "      <td>274.0</td>\n",
       "      <td>1</td>\n",
       "      <td>0</td>\n",
       "      <td>Mapfre SA</td>\n",
       "      <td>You're going to have to take our word on this ...</td>\n",
       "      <td>You're going to have to take our word on this ...</td>\n",
       "      <td>word speaker past run off triangle quer basis ...</td>\n",
       "      <td>[word, speaker, triangle, quer, basis, report,...</td>\n",
       "      <td>8</td>\n",
       "      <td>46</td>\n",
       "      <td>3</td>\n",
       "      <td>5.75</td>\n",
       "      <td>2.666667</td>\n",
       "    </tr>\n",
       "  </tbody>\n",
       "</table>\n",
       "</div>"
      ],
      "text/plain": [
       "        participants                                          file_name  \\\n",
       "26390       Operator  20110202_LEGAL_-_GEN_GRP-_Guidance_Call_2011-2...   \n",
       "14254     James Quin  20110202 _Mapfre_SA_Earnings_Call_SD0000000027...   \n",
       "15811  Jesus Amadori  20110202 _Mapfre_SA_Earnings_Call_SD0000000027...   \n",
       "\n",
       "             date    idx  company_paticipants_yes  other_paticipants_yes  \\\n",
       "26390  2011-02-02    1.0                        1                      1   \n",
       "14254  2011-02-02  323.0                        1                      1   \n",
       "15811  2011-02-02  274.0                        1                      0   \n",
       "\n",
       "      company_name                                          paraghrph  \\\n",
       "26390      LEGAL -  Hello. Welcome to the U.S. capital restructuri...   \n",
       "14254    Mapfre SA         Yes, I think more or less, yes. Thank you.   \n",
       "15811    Mapfre SA  You're going to have to take our word on this ...   \n",
       "\n",
       "                                         paraghrph_clean  \\\n",
       "26390  Hello Welcome to the US capital restructuring ...   \n",
       "14254             Yes I think more or less yes Thank you   \n",
       "15811  You're going to have to take our word on this ...   \n",
       "\n",
       "                                          paraghrph_noun  \\\n",
       "26390  capital restructuring program call today instr...   \n",
       "14254                                                nan   \n",
       "15811  word speaker past run off triangle quer basis ...   \n",
       "\n",
       "                                                   token  word_count  \\\n",
       "26390  [capital, restructuring, program, today, instr...           5   \n",
       "14254                                              [nan]           1   \n",
       "15811  [word, speaker, triangle, quer, basis, report,...           8   \n",
       "\n",
       "       char_count  sentence_count  avg_word_length  avg_sentence_length  \n",
       "26390          43               7             8.60             0.714286  \n",
       "14254           3               3             3.00             0.333333  \n",
       "15811          46               3             5.75             2.666667  "
      ]
     },
     "execution_count": 185,
     "metadata": {},
     "output_type": "execute_result"
    }
   ],
   "source": [
    "# create column for length analysis outcome\n",
    "model_df['word_count'] = model_df[\"token\"].apply(lambda x: len(x))\n",
    "model_df['char_count'] = model_df[\"token\"].apply(lambda x: sum(len(word) for word in x))\n",
    "model_df['sentence_count']  = model_df['paraghrph'].apply(lambda x: len(str(x).split(\".\")))\n",
    "model_df['avg_word_length'] = model_df['char_count'] / model_df['word_count']\n",
    "model_df['avg_sentence_length'] = model_df['word_count'] / model_df['sentence_count'] # note that the word_count is only with noun tokens\n",
    "model_df.head(3)"
   ]
  },
  {
   "cell_type": "code",
   "execution_count": 186,
   "metadata": {},
   "outputs": [],
   "source": [
    "# exclude the rows that the sentence_count is less than 3\n",
    "model_df = model_df[model_df['sentence_count']>4]\n",
    "# reset the index\n",
    "model_df = model_df.reset_index(drop=True)"
   ]
  },
  {
   "cell_type": "code",
   "execution_count": 187,
   "metadata": {},
   "outputs": [],
   "source": [
    "model_df_original = model_df.copy()"
   ]
  },
  {
   "cell_type": "code",
   "execution_count": 189,
   "metadata": {},
   "outputs": [
    {
     "data": {
      "image/png": "[encoded data removed]",
      "text/plain": [
       "<Figure size 6480x1296 with 1 Axes>"
      ]
     },
     "metadata": {
      "needs_background": "light"
     },
     "output_type": "display_data"
    }
   ],
   "source": [
    "# high frequency words excluding\n",
    "temp_token = model_df_original['token'] # .apply(remove_brackets)\n",
    "docs_tokens = []\n",
    "for i in temp_token:\n",
    "    docs_tokens.append(i)\n",
    "    \n",
    "# word frequency\n",
    "# explore word frequencies\n",
    "word_freq = Counter(x for xs in docs_tokens for x in set(xs)).most_common()\n",
    "word_fr = pd.DataFrame(word_freq, columns=['word', 'freq']).sort_values(by='freq', ascending=False)\n",
    "\n",
    "# visualize word frequencies\n",
    "# figure size\n",
    "fig = plt.figure(figsize=(90, 18))\n",
    "plt.bar(word_fr.word[0:150], word_fr.freq[0:150], color='green')\n",
    "plt.xlabel(\"Word\")\n",
    "plt.ylabel(\"Count\")\n",
    "plt.title(\"Word Frequency\")\n",
    "plt.show()\n",
    "\n",
    "# remove 50 most frequent words which is known in this context\n",
    "word_list = word_fr.head(150)['word'].to_list()\n",
    "mdy_list, tmp=[],[]\n",
    "for review in docs_tokens:\n",
    "    for word in review:\n",
    "        if word not in word_list:\n",
    "            tmp.append(word)\n",
    "    mdy_list.append(tmp)\n",
    "    tmp=[]\n",
    "\n",
    "model_df['token'] = mdy_list\n",
    "word_fr"
   ]
  },
  {
   "cell_type": "code",
   "execution_count": 191,
   "metadata": {},
   "outputs": [
    {
     "data": {
      "text/html": [
       "<div>\n",
       "<style scoped>\n",
       "    .dataframe tbody tr th:only-of-type {\n",
       "        vertical-align: middle;\n",
       "    }\n",
       "\n",
       "    .dataframe tbody tr th {\n",
       "        vertical-align: top;\n",
       "    }\n",
       "\n",
       "    .dataframe thead th {\n",
       "        text-align: right;\n",
       "    }\n",
       "</style>\n",
       "<table border=\"1\" class=\"dataframe\">\n",
       "  <thead>\n",
       "    <tr style=\"text-align: right;\">\n",
       "      <th></th>\n",
       "      <th>participants</th>\n",
       "      <th>file_name</th>\n",
       "      <th>date</th>\n",
       "      <th>idx</th>\n",
       "      <th>company_paticipants_yes</th>\n",
       "      <th>other_paticipants_yes</th>\n",
       "      <th>company_name</th>\n",
       "      <th>paraghrph</th>\n",
       "      <th>paraghrph_clean</th>\n",
       "      <th>paraghrph_noun</th>\n",
       "      <th>token</th>\n",
       "      <th>word_count</th>\n",
       "      <th>char_count</th>\n",
       "      <th>sentence_count</th>\n",
       "      <th>avg_word_length</th>\n",
       "      <th>avg_sentence_length</th>\n",
       "      <th>year</th>\n",
       "      <th>month</th>\n",
       "      <th>quater</th>\n",
       "      <th>year_quater</th>\n",
       "    </tr>\n",
       "  </thead>\n",
       "  <tbody>\n",
       "    <tr>\n",
       "      <th>0</th>\n",
       "      <td>Operator</td>\n",
       "      <td>20110202_LEGAL_-_GEN_GRP-_Guidance_Call_2011-2...</td>\n",
       "      <td>2011-02-02</td>\n",
       "      <td>1.0</td>\n",
       "      <td>1</td>\n",
       "      <td>1</td>\n",
       "      <td>LEGAL -</td>\n",
       "      <td>Hello. Welcome to the U.S. capital restructuri...</td>\n",
       "      <td>Hello Welcome to the US capital restructuring ...</td>\n",
       "      <td>capital restructuring program call today instr...</td>\n",
       "      <td>[restructuring, instruction]</td>\n",
       "      <td>5</td>\n",
       "      <td>43</td>\n",
       "      <td>7</td>\n",
       "      <td>8.600000</td>\n",
       "      <td>0.714286</td>\n",
       "      <td>2011</td>\n",
       "      <td>2</td>\n",
       "      <td>1</td>\n",
       "      <td>2011-1</td>\n",
       "    </tr>\n",
       "    <tr>\n",
       "      <th>1</th>\n",
       "      <td>Luigi Lubelli</td>\n",
       "      <td>20110202 _Mapfre_SA_Earnings_Call_SD0000000027...</td>\n",
       "      <td>2011-02-02</td>\n",
       "      <td>325.0</td>\n",
       "      <td>1</td>\n",
       "      <td>0</td>\n",
       "      <td>Mapfre SA</td>\n",
       "      <td>Then the -- probably on your third question, t...</td>\n",
       "      <td>Then the -- probably on your third question th...</td>\n",
       "      <td>question volatility realization gain figure fo...</td>\n",
       "      <td>[realization, figure, forex, coment]</td>\n",
       "      <td>11</td>\n",
       "      <td>74</td>\n",
       "      <td>5</td>\n",
       "      <td>6.727273</td>\n",
       "      <td>2.200000</td>\n",
       "      <td>2011</td>\n",
       "      <td>2</td>\n",
       "      <td>1</td>\n",
       "      <td>2011-1</td>\n",
       "    </tr>\n",
       "    <tr>\n",
       "      <th>2</th>\n",
       "      <td>Nigel Wilson</td>\n",
       "      <td>20110202_LEGAL_-_GEN_GRP-_Guidance_Call_2011-2...</td>\n",
       "      <td>2011-02-02</td>\n",
       "      <td>5.0</td>\n",
       "      <td>1</td>\n",
       "      <td>0</td>\n",
       "      <td>LEGAL -</td>\n",
       "      <td>Thank you. Good afternoon, ladies and gentleme...</td>\n",
       "      <td>Thank you Good afternoon ladies and gentlemen ...</td>\n",
       "      <td>afternoon lady gentleman time call progress mo...</td>\n",
       "      <td>[afternoon, lady, land, iver, generation, capa...</td>\n",
       "      <td>69</td>\n",
       "      <td>481</td>\n",
       "      <td>36</td>\n",
       "      <td>6.971014</td>\n",
       "      <td>1.916667</td>\n",
       "      <td>2011</td>\n",
       "      <td>2</td>\n",
       "      <td>1</td>\n",
       "      <td>2011-1</td>\n",
       "    </tr>\n",
       "    <tr>\n",
       "      <th>3</th>\n",
       "      <td>Nigel Wilson</td>\n",
       "      <td>20110202_LEGAL_-_GEN_GRP-_Guidance_Call_2011-2...</td>\n",
       "      <td>2011-02-02</td>\n",
       "      <td>128.0</td>\n",
       "      <td>1</td>\n",
       "      <td>0</td>\n",
       "      <td>LEGAL -</td>\n",
       "      <td>Thanks, Chris. So in summary, a relatively sma...</td>\n",
       "      <td>Thanks  So in summary a relatively small but i...</td>\n",
       "      <td>thank summary transaction material benefit com...</td>\n",
       "      <td>[summary, material, commitment, phase, coordin...</td>\n",
       "      <td>22</td>\n",
       "      <td>165</td>\n",
       "      <td>7</td>\n",
       "      <td>7.500000</td>\n",
       "      <td>3.142857</td>\n",
       "      <td>2011</td>\n",
       "      <td>2</td>\n",
       "      <td>1</td>\n",
       "      <td>2011-1</td>\n",
       "    </tr>\n",
       "    <tr>\n",
       "      <th>4</th>\n",
       "      <td>Nigel Wilson</td>\n",
       "      <td>20110202_LEGAL_-_GEN_GRP-_Guidance_Call_2011-2...</td>\n",
       "      <td>2011-02-02</td>\n",
       "      <td>148.0</td>\n",
       "      <td>1</td>\n",
       "      <td>0</td>\n",
       "      <td>LEGAL -</td>\n",
       "      <td>Yes. We envisage that perhaps we'll be able to...</td>\n",
       "      <td>Yes We envisage that perhaps we'll be able to ...</td>\n",
       "      <td>type transaction month financing way transacti...</td>\n",
       "      <td>[type, financing]</td>\n",
       "      <td>12</td>\n",
       "      <td>72</td>\n",
       "      <td>11</td>\n",
       "      <td>6.000000</td>\n",
       "      <td>1.090909</td>\n",
       "      <td>2011</td>\n",
       "      <td>2</td>\n",
       "      <td>1</td>\n",
       "      <td>2011-1</td>\n",
       "    </tr>\n",
       "    <tr>\n",
       "      <th>...</th>\n",
       "      <td>...</td>\n",
       "      <td>...</td>\n",
       "      <td>...</td>\n",
       "      <td>...</td>\n",
       "      <td>...</td>\n",
       "      <td>...</td>\n",
       "      <td>...</td>\n",
       "      <td>...</td>\n",
       "      <td>...</td>\n",
       "      <td>...</td>\n",
       "      <td>...</td>\n",
       "      <td>...</td>\n",
       "      <td>...</td>\n",
       "      <td>...</td>\n",
       "      <td>...</td>\n",
       "      <td>...</td>\n",
       "      <td>...</td>\n",
       "      <td>...</td>\n",
       "      <td>...</td>\n",
       "      <td>...</td>\n",
       "    </tr>\n",
       "    <tr>\n",
       "      <th>21779</th>\n",
       "      <td>Operator</td>\n",
       "      <td>20220427_GJENSIDIGE_FORSI-_Earnings_Call_2022-...</td>\n",
       "      <td>2022-04-27</td>\n",
       "      <td>266.0</td>\n",
       "      <td>1</td>\n",
       "      <td>1</td>\n",
       "      <td>GJENSIDIGE FORSI-</td>\n",
       "      <td>(Question And Answer) Thank you. (Operator Ins...</td>\n",
       "      <td>Question And Answer Thank you Operator Instruc...</td>\n",
       "      <td>question instruction question k</td>\n",
       "      <td>[instruction]</td>\n",
       "      <td>3</td>\n",
       "      <td>27</td>\n",
       "      <td>5</td>\n",
       "      <td>9.000000</td>\n",
       "      <td>0.600000</td>\n",
       "      <td>2022</td>\n",
       "      <td>4</td>\n",
       "      <td>2</td>\n",
       "      <td>2022-2</td>\n",
       "    </tr>\n",
       "    <tr>\n",
       "      <th>21780</th>\n",
       "      <td>Operator</td>\n",
       "      <td>20220427_GJENSIDIGE_FORSI-_Earnings_Call_2022-...</td>\n",
       "      <td>2022-04-27</td>\n",
       "      <td>1.0</td>\n",
       "      <td>1</td>\n",
       "      <td>1</td>\n",
       "      <td>GJENSIDIGE FORSI-</td>\n",
       "      <td>Good day, and welcome to the Gjensidige Q1 202...</td>\n",
       "      <td>Good day and welcome to the Gjensidige Q  Resu...</td>\n",
       "      <td>day conference time conference</td>\n",
       "      <td>[]</td>\n",
       "      <td>4</td>\n",
       "      <td>27</td>\n",
       "      <td>6</td>\n",
       "      <td>6.750000</td>\n",
       "      <td>0.666667</td>\n",
       "      <td>2022</td>\n",
       "      <td>4</td>\n",
       "      <td>2</td>\n",
       "      <td>2022-2</td>\n",
       "    </tr>\n",
       "    <tr>\n",
       "      <th>21781</th>\n",
       "      <td>Blair Stewart</td>\n",
       "      <td>20220427_GJENSIDIGE_FORSI-_Earnings_Call_2022-...</td>\n",
       "      <td>2022-04-27</td>\n",
       "      <td>316.0</td>\n",
       "      <td>0</td>\n",
       "      <td>1</td>\n",
       "      <td>GJENSIDIGE FORSI-</td>\n",
       "      <td>Okay. Understood. So much messages. Thank you.</td>\n",
       "      <td>Okay Unstood So much messages Thank you</td>\n",
       "      <td>message</td>\n",
       "      <td>[message]</td>\n",
       "      <td>1</td>\n",
       "      <td>7</td>\n",
       "      <td>5</td>\n",
       "      <td>7.000000</td>\n",
       "      <td>0.200000</td>\n",
       "      <td>2022</td>\n",
       "      <td>4</td>\n",
       "      <td>2</td>\n",
       "      <td>2022-2</td>\n",
       "    </tr>\n",
       "    <tr>\n",
       "      <th>21782</th>\n",
       "      <td>Blair Stewart</td>\n",
       "      <td>20220427_GJENSIDIGE_FORSI-_Earnings_Call_2022-...</td>\n",
       "      <td>2022-04-27</td>\n",
       "      <td>270.0</td>\n",
       "      <td>0</td>\n",
       "      <td>1</td>\n",
       "      <td>GJENSIDIGE FORSI-</td>\n",
       "      <td>Thank you very much, and good morning, gents. ...</td>\n",
       "      <td>Thank you very much and good morning gents I'v...</td>\n",
       "      <td>morning gent question detail one system bit im...</td>\n",
       "      <td>[gent, beneﬁts, game, changer, think, lag, ope...</td>\n",
       "      <td>41</td>\n",
       "      <td>224</td>\n",
       "      <td>13</td>\n",
       "      <td>5.463415</td>\n",
       "      <td>3.153846</td>\n",
       "      <td>2022</td>\n",
       "      <td>4</td>\n",
       "      <td>2</td>\n",
       "      <td>2022-2</td>\n",
       "    </tr>\n",
       "    <tr>\n",
       "      <th>21783</th>\n",
       "      <td>Helge Leiro Baastad</td>\n",
       "      <td>20220427_GJENSIDIGE_FORSI-_Earnings_Call_2022-...</td>\n",
       "      <td>2022-04-27</td>\n",
       "      <td>366.0</td>\n",
       "      <td>1</td>\n",
       "      <td>0</td>\n",
       "      <td>GJENSIDIGE FORSI-</td>\n",
       "      <td>Yes. We got the claims inﬂation. I would start...</td>\n",
       "      <td>Yes We got the claims inﬂation I would st to s...</td>\n",
       "      <td>claim inﬂation course quer inﬂation quer inﬂat...</td>\n",
       "      <td>[inﬂation, inﬂation, inﬂation, inﬂation, mater...</td>\n",
       "      <td>18</td>\n",
       "      <td>113</td>\n",
       "      <td>9</td>\n",
       "      <td>6.277778</td>\n",
       "      <td>2.000000</td>\n",
       "      <td>2022</td>\n",
       "      <td>4</td>\n",
       "      <td>2</td>\n",
       "      <td>2022-2</td>\n",
       "    </tr>\n",
       "  </tbody>\n",
       "</table>\n",
       "<p>21784 rows × 20 columns</p>\n",
       "</div>"
      ],
      "text/plain": [
       "              participants                                          file_name  \\\n",
       "0                 Operator  20110202_LEGAL_-_GEN_GRP-_Guidance_Call_2011-2...   \n",
       "1            Luigi Lubelli  20110202 _Mapfre_SA_Earnings_Call_SD0000000027...   \n",
       "2             Nigel Wilson  20110202_LEGAL_-_GEN_GRP-_Guidance_Call_2011-2...   \n",
       "3             Nigel Wilson  20110202_LEGAL_-_GEN_GRP-_Guidance_Call_2011-2...   \n",
       "4             Nigel Wilson  20110202_LEGAL_-_GEN_GRP-_Guidance_Call_2011-2...   \n",
       "...                    ...                                                ...   \n",
       "21779             Operator  20220427_GJENSIDIGE_FORSI-_Earnings_Call_2022-...   \n",
       "21780             Operator  20220427_GJENSIDIGE_FORSI-_Earnings_Call_2022-...   \n",
       "21781        Blair Stewart  20220427_GJENSIDIGE_FORSI-_Earnings_Call_2022-...   \n",
       "21782        Blair Stewart  20220427_GJENSIDIGE_FORSI-_Earnings_Call_2022-...   \n",
       "21783  Helge Leiro Baastad  20220427_GJENSIDIGE_FORSI-_Earnings_Call_2022-...   \n",
       "\n",
       "             date    idx  company_paticipants_yes  other_paticipants_yes  \\\n",
       "0      2011-02-02    1.0                        1                      1   \n",
       "1      2011-02-02  325.0                        1                      0   \n",
       "2      2011-02-02    5.0                        1                      0   \n",
       "3      2011-02-02  128.0                        1                      0   \n",
       "4      2011-02-02  148.0                        1                      0   \n",
       "...           ...    ...                      ...                    ...   \n",
       "21779  2022-04-27  266.0                        1                      1   \n",
       "21780  2022-04-27    1.0                        1                      1   \n",
       "21781  2022-04-27  316.0                        0                      1   \n",
       "21782  2022-04-27  270.0                        0                      1   \n",
       "21783  2022-04-27  366.0                        1                      0   \n",
       "\n",
       "            company_name                                          paraghrph  \\\n",
       "0                LEGAL -  Hello. Welcome to the U.S. capital restructuri...   \n",
       "1              Mapfre SA  Then the -- probably on your third question, t...   \n",
       "2                LEGAL -  Thank you. Good afternoon, ladies and gentleme...   \n",
       "3                LEGAL -  Thanks, Chris. So in summary, a relatively sma...   \n",
       "4                LEGAL -  Yes. We envisage that perhaps we'll be able to...   \n",
       "...                  ...                                                ...   \n",
       "21779  GJENSIDIGE FORSI-  (Question And Answer) Thank you. (Operator Ins...   \n",
       "21780  GJENSIDIGE FORSI-  Good day, and welcome to the Gjensidige Q1 202...   \n",
       "21781  GJENSIDIGE FORSI-     Okay. Understood. So much messages. Thank you.   \n",
       "21782  GJENSIDIGE FORSI-  Thank you very much, and good morning, gents. ...   \n",
       "21783  GJENSIDIGE FORSI-  Yes. We got the claims inﬂation. I would start...   \n",
       "\n",
       "                                         paraghrph_clean  \\\n",
       "0      Hello Welcome to the US capital restructuring ...   \n",
       "1      Then the -- probably on your third question th...   \n",
       "2      Thank you Good afternoon ladies and gentlemen ...   \n",
       "3      Thanks  So in summary a relatively small but i...   \n",
       "4      Yes We envisage that perhaps we'll be able to ...   \n",
       "...                                                  ...   \n",
       "21779  Question And Answer Thank you Operator Instruc...   \n",
       "21780  Good day and welcome to the Gjensidige Q  Resu...   \n",
       "21781            Okay Unstood So much messages Thank you   \n",
       "21782  Thank you very much and good morning gents I'v...   \n",
       "21783  Yes We got the claims inﬂation I would st to s...   \n",
       "\n",
       "                                          paraghrph_noun  \\\n",
       "0      capital restructuring program call today instr...   \n",
       "1      question volatility realization gain figure fo...   \n",
       "2      afternoon lady gentleman time call progress mo...   \n",
       "3      thank summary transaction material benefit com...   \n",
       "4      type transaction month financing way transacti...   \n",
       "...                                                  ...   \n",
       "21779                    question instruction question k   \n",
       "21780                     day conference time conference   \n",
       "21781                                            message   \n",
       "21782  morning gent question detail one system bit im...   \n",
       "21783  claim inﬂation course quer inﬂation quer inﬂat...   \n",
       "\n",
       "                                                   token  word_count  \\\n",
       "0                           [restructuring, instruction]           5   \n",
       "1                   [realization, figure, forex, coment]          11   \n",
       "2      [afternoon, lady, land, iver, generation, capa...          69   \n",
       "3      [summary, material, commitment, phase, coordin...          22   \n",
       "4                                      [type, financing]          12   \n",
       "...                                                  ...         ...   \n",
       "21779                                      [instruction]           3   \n",
       "21780                                                 []           4   \n",
       "21781                                          [message]           1   \n",
       "21782  [gent, beneﬁts, game, changer, think, lag, ope...          41   \n",
       "21783  [inﬂation, inﬂation, inﬂation, inﬂation, mater...          18   \n",
       "\n",
       "       char_count  sentence_count  avg_word_length  avg_sentence_length  year  \\\n",
       "0              43               7         8.600000             0.714286  2011   \n",
       "1              74               5         6.727273             2.200000  2011   \n",
       "2             481              36         6.971014             1.916667  2011   \n",
       "3             165               7         7.500000             3.142857  2011   \n",
       "4              72              11         6.000000             1.090909  2011   \n",
       "...           ...             ...              ...                  ...   ...   \n",
       "21779          27               5         9.000000             0.600000  2022   \n",
       "21780          27               6         6.750000             0.666667  2022   \n",
       "21781           7               5         7.000000             0.200000  2022   \n",
       "21782         224              13         5.463415             3.153846  2022   \n",
       "21783         113               9         6.277778             2.000000  2022   \n",
       "\n",
       "       month  quater year_quater  \n",
       "0          2       1      2011-1  \n",
       "1          2       1      2011-1  \n",
       "2          2       1      2011-1  \n",
       "3          2       1      2011-1  \n",
       "4          2       1      2011-1  \n",
       "...      ...     ...         ...  \n",
       "21779      4       2      2022-2  \n",
       "21780      4       2      2022-2  \n",
       "21781      4       2      2022-2  \n",
       "21782      4       2      2022-2  \n",
       "21783      4       2      2022-2  \n",
       "\n",
       "[21784 rows x 20 columns]"
      ]
     },
     "execution_count": 191,
     "metadata": {},
     "output_type": "execute_result"
    }
   ],
   "source": [
    "# DTM模型（Dynamic Topic Models: 加入时间因素，不同主题随着时间变动) 时间-主题词条矩阵、主题-时间词条矩阵、文档主题偏好、新文档预测、跨时间+主题属性的文档相似性\n",
    "# https://cloud.tencent.com/developer/article/1435976\n",
    "\n",
    "model_df['date'] = pd.to_datetime(model_df['date'])\n",
    "model_df['year'] = model_df['date'].apply(lambda x: x.year)\n",
    "model_df['month'] = model_df['date'].apply(lambda x: x.month)\n",
    "model_df['quater'] = model_df['date'].apply(lambda x: x.quarter)\n",
    "model_df['year_quater'] = model_df['year'].astype(str) + '-' + model_df['quater'].astype(str)\n",
    "# model_df['date'] to str\n",
    "model_df['date'] = model_df['date'].astype(str)\n",
    "model_df"
   ]
  },
  {
   "cell_type": "code",
   "execution_count": 192,
   "metadata": {},
   "outputs": [
    {
     "data": {
      "text/html": [
       "<div>\n",
       "<style scoped>\n",
       "    .dataframe tbody tr th:only-of-type {\n",
       "        vertical-align: middle;\n",
       "    }\n",
       "\n",
       "    .dataframe tbody tr th {\n",
       "        vertical-align: top;\n",
       "    }\n",
       "\n",
       "    .dataframe thead th {\n",
       "        text-align: right;\n",
       "    }\n",
       "</style>\n",
       "<table border=\"1\" class=\"dataframe\">\n",
       "  <thead>\n",
       "    <tr style=\"text-align: right;\">\n",
       "      <th></th>\n",
       "      <th>year_quater</th>\n",
       "      <th>token</th>\n",
       "    </tr>\n",
       "  </thead>\n",
       "  <tbody>\n",
       "    <tr>\n",
       "      <th>0</th>\n",
       "      <td>2011-1</td>\n",
       "      <td>[restructuring, instruction, realization, figu...</td>\n",
       "    </tr>\n",
       "    <tr>\n",
       "      <th>1</th>\n",
       "      <td>2011-2</td>\n",
       "      <td>[corner, goodwill, reporting, form, ing, goodw...</td>\n",
       "    </tr>\n",
       "    <tr>\n",
       "      <th>2</th>\n",
       "      <td>2011-3</td>\n",
       "      <td>[afternoon, lady, overview, financial, figure,...</td>\n",
       "    </tr>\n",
       "    <tr>\n",
       "      <th>3</th>\n",
       "      <td>2011-4</td>\n",
       "      <td>[overview, motor, pressure, tariff, dec, cover...</td>\n",
       "    </tr>\n",
       "    <tr>\n",
       "      <th>4</th>\n",
       "      <td>2012-1</td>\n",
       "      <td>[record, blowout, insurer, reinsurer, adequacy...</td>\n",
       "    </tr>\n",
       "    <tr>\n",
       "      <th>5</th>\n",
       "      <td>2012-2</td>\n",
       "      <td>[file, disclosure, respect, statement, regard,...</td>\n",
       "    </tr>\n",
       "    <tr>\n",
       "      <th>6</th>\n",
       "      <td>2012-3</td>\n",
       "      <td>[saving, mind, negative, disclosure, guarantee...</td>\n",
       "    </tr>\n",
       "    <tr>\n",
       "      <th>7</th>\n",
       "      <td>2012-4</td>\n",
       "      <td>[topic, cycle, competition, peer, barrier, ent...</td>\n",
       "    </tr>\n",
       "    <tr>\n",
       "      <th>8</th>\n",
       "      <td>2013-1</td>\n",
       "      <td>[afternoon, lady, proposal, king, rule, pensio...</td>\n",
       "    </tr>\n",
       "    <tr>\n",
       "      <th>9</th>\n",
       "      <td>2013-2</td>\n",
       "      <td>[player, leas, accit, sense, sense, accit, sor...</td>\n",
       "    </tr>\n",
       "    <tr>\n",
       "      <th>10</th>\n",
       "      <td>2013-3</td>\n",
       "      <td>[update, transformation, plane, ear, speculati...</td>\n",
       "    </tr>\n",
       "    <tr>\n",
       "      <th>11</th>\n",
       "      <td>2013-4</td>\n",
       "      <td>[proﬁt, unlye, ﬂattish, frequency, porate, min...</td>\n",
       "    </tr>\n",
       "    <tr>\n",
       "      <th>12</th>\n",
       "      <td>2014-1</td>\n",
       "      <td>[color, follow, worker, compensation, suppleme...</td>\n",
       "    </tr>\n",
       "    <tr>\n",
       "      <th>13</th>\n",
       "      <td>2014-2</td>\n",
       "      <td>[currency, ﬂat, tad, eﬃciency, employee, emplo...</td>\n",
       "    </tr>\n",
       "    <tr>\n",
       "      <th>14</th>\n",
       "      <td>2014-3</td>\n",
       "      <td>[pie, diligence, review, takeover, unstanding,...</td>\n",
       "    </tr>\n",
       "    <tr>\n",
       "      <th>15</th>\n",
       "      <td>2014-4</td>\n",
       "      <td>[housing, motor, oﬀ, shift, respect, house, mo...</td>\n",
       "    </tr>\n",
       "    <tr>\n",
       "      <th>16</th>\n",
       "      <td>2015-1</td>\n",
       "      <td>[auto, homeowner, weather, auto, severity, des...</td>\n",
       "    </tr>\n",
       "    <tr>\n",
       "      <th>17</th>\n",
       "      <td>2015-2</td>\n",
       "      <td>[doubt, sort, variation, diﬀerence, peril, pot...</td>\n",
       "    </tr>\n",
       "    <tr>\n",
       "      <th>18</th>\n",
       "      <td>2015-3</td>\n",
       "      <td>[ace, broa, vision, combination, bb, middlemar...</td>\n",
       "    </tr>\n",
       "    <tr>\n",
       "      <th>19</th>\n",
       "      <td>2015-4</td>\n",
       "      <td>[introduction, conﬁt, direction, commitment, p...</td>\n",
       "    </tr>\n",
       "    <tr>\n",
       "      <th>20</th>\n",
       "      <td>2016-1</td>\n",
       "      <td>[face, face, investor, medium, priority, adtag...</td>\n",
       "    </tr>\n",
       "    <tr>\n",
       "      <th>21</th>\n",
       "      <td>2016-2</td>\n",
       "      <td>[visibility, extent, oﬀ, report, discount, cur...</td>\n",
       "    </tr>\n",
       "    <tr>\n",
       "      <th>22</th>\n",
       "      <td>2016-3</td>\n",
       "      <td>[downgrade, hedging, downgrade, sovereign, dow...</td>\n",
       "    </tr>\n",
       "    <tr>\n",
       "      <th>23</th>\n",
       "      <td>2016-4</td>\n",
       "      <td>[intention, offer, stakehol, decision, announc...</td>\n",
       "    </tr>\n",
       "    <tr>\n",
       "      <th>24</th>\n",
       "      <td>2017-1</td>\n",
       "      <td>[impression, competitor, competitor, proﬁtabil...</td>\n",
       "    </tr>\n",
       "    <tr>\n",
       "      <th>25</th>\n",
       "      <td>2017-2</td>\n",
       "      <td>[post, feller, foundation, bonus, meet, unlyin...</td>\n",
       "    </tr>\n",
       "    <tr>\n",
       "      <th>26</th>\n",
       "      <td>2017-3</td>\n",
       "      <td>[axis, combination, attention, axis, expertise...</td>\n",
       "    </tr>\n",
       "    <tr>\n",
       "      <th>27</th>\n",
       "      <td>2017-4</td>\n",
       "      <td>[framework, stake, total, timing, estimate, hu...</td>\n",
       "    </tr>\n",
       "    <tr>\n",
       "      <th>28</th>\n",
       "      <td>2018-1</td>\n",
       "      <td>[appearance, movie, robot, car, law, tort, law...</td>\n",
       "    </tr>\n",
       "    <tr>\n",
       "      <th>29</th>\n",
       "      <td>2018-2</td>\n",
       "      <td>[oneoff, worsen, challenge, update, marketplac...</td>\n",
       "    </tr>\n",
       "    <tr>\n",
       "      <th>30</th>\n",
       "      <td>2018-3</td>\n",
       "      <td>[word, sir, tein, agreement, respect, ﬁnance, ...</td>\n",
       "    </tr>\n",
       "    <tr>\n",
       "      <th>31</th>\n",
       "      <td>2018-4</td>\n",
       "      <td>[afternoon, lady, charge, introduction, speake...</td>\n",
       "    </tr>\n",
       "    <tr>\n",
       "      <th>32</th>\n",
       "      <td>2019-1</td>\n",
       "      <td>[influx, opioid, opioid, exclusion, word, opio...</td>\n",
       "    </tr>\n",
       "    <tr>\n",
       "      <th>33</th>\n",
       "      <td>2019-2</td>\n",
       "      <td>[innovation, innovation, closing, remark, stru...</td>\n",
       "    </tr>\n",
       "    <tr>\n",
       "      <th>34</th>\n",
       "      <td>2019-3</td>\n",
       "      <td>[demerger, annuity, size, corridor, corridor, ...</td>\n",
       "    </tr>\n",
       "    <tr>\n",
       "      <th>35</th>\n",
       "      <td>2019-4</td>\n",
       "      <td>[spite, minute, invitation, highlight, special...</td>\n",
       "    </tr>\n",
       "    <tr>\n",
       "      <th>36</th>\n",
       "      <td>2020-1</td>\n",
       "      <td>[prospect, effort, efficiency, emphasis, digit...</td>\n",
       "    </tr>\n",
       "    <tr>\n",
       "      <th>37</th>\n",
       "      <td>2020-2</td>\n",
       "      <td>[interruption, coverage, spot, trigger, interr...</td>\n",
       "    </tr>\n",
       "    <tr>\n",
       "      <th>38</th>\n",
       "      <td>2020-3</td>\n",
       "      <td>[instruction, highlight, outbreak, sense, iver...</td>\n",
       "    </tr>\n",
       "    <tr>\n",
       "      <th>39</th>\n",
       "      <td>2020-4</td>\n",
       "      <td>[earr, continuation, adjustment, excellence, s...</td>\n",
       "    </tr>\n",
       "    <tr>\n",
       "      <th>40</th>\n",
       "      <td>2021-1</td>\n",
       "      <td>[frequency, automobile, retention, record, aut...</td>\n",
       "    </tr>\n",
       "    <tr>\n",
       "      <th>41</th>\n",
       "      <td>2021-2</td>\n",
       "      <td>[decision, chunk, money, money, money, center,...</td>\n",
       "    </tr>\n",
       "    <tr>\n",
       "      <th>42</th>\n",
       "      <td>2021-3</td>\n",
       "      <td>[adjustment, excellence, synergy, mind, ﬁgure,...</td>\n",
       "    </tr>\n",
       "    <tr>\n",
       "      <th>43</th>\n",
       "      <td>2021-4</td>\n",
       "      <td>[upgrade, item, reference, integration, ﬁnanci...</td>\n",
       "    </tr>\n",
       "    <tr>\n",
       "      <th>44</th>\n",
       "      <td>2022-1</td>\n",
       "      <td>[eﬀect, math, diﬀer, depreciation, ing, practi...</td>\n",
       "    </tr>\n",
       "    <tr>\n",
       "      <th>45</th>\n",
       "      <td>2022-2</td>\n",
       "      <td>[matching, match, discount, inﬂation, inﬂation...</td>\n",
       "    </tr>\n",
       "  </tbody>\n",
       "</table>\n",
       "</div>"
      ],
      "text/plain": [
       "   year_quater                                              token\n",
       "0       2011-1  [restructuring, instruction, realization, figu...\n",
       "1       2011-2  [corner, goodwill, reporting, form, ing, goodw...\n",
       "2       2011-3  [afternoon, lady, overview, financial, figure,...\n",
       "3       2011-4  [overview, motor, pressure, tariff, dec, cover...\n",
       "4       2012-1  [record, blowout, insurer, reinsurer, adequacy...\n",
       "5       2012-2  [file, disclosure, respect, statement, regard,...\n",
       "6       2012-3  [saving, mind, negative, disclosure, guarantee...\n",
       "7       2012-4  [topic, cycle, competition, peer, barrier, ent...\n",
       "8       2013-1  [afternoon, lady, proposal, king, rule, pensio...\n",
       "9       2013-2  [player, leas, accit, sense, sense, accit, sor...\n",
       "10      2013-3  [update, transformation, plane, ear, speculati...\n",
       "11      2013-4  [proﬁt, unlye, ﬂattish, frequency, porate, min...\n",
       "12      2014-1  [color, follow, worker, compensation, suppleme...\n",
       "13      2014-2  [currency, ﬂat, tad, eﬃciency, employee, emplo...\n",
       "14      2014-3  [pie, diligence, review, takeover, unstanding,...\n",
       "15      2014-4  [housing, motor, oﬀ, shift, respect, house, mo...\n",
       "16      2015-1  [auto, homeowner, weather, auto, severity, des...\n",
       "17      2015-2  [doubt, sort, variation, diﬀerence, peril, pot...\n",
       "18      2015-3  [ace, broa, vision, combination, bb, middlemar...\n",
       "19      2015-4  [introduction, conﬁt, direction, commitment, p...\n",
       "20      2016-1  [face, face, investor, medium, priority, adtag...\n",
       "21      2016-2  [visibility, extent, oﬀ, report, discount, cur...\n",
       "22      2016-3  [downgrade, hedging, downgrade, sovereign, dow...\n",
       "23      2016-4  [intention, offer, stakehol, decision, announc...\n",
       "24      2017-1  [impression, competitor, competitor, proﬁtabil...\n",
       "25      2017-2  [post, feller, foundation, bonus, meet, unlyin...\n",
       "26      2017-3  [axis, combination, attention, axis, expertise...\n",
       "27      2017-4  [framework, stake, total, timing, estimate, hu...\n",
       "28      2018-1  [appearance, movie, robot, car, law, tort, law...\n",
       "29      2018-2  [oneoff, worsen, challenge, update, marketplac...\n",
       "30      2018-3  [word, sir, tein, agreement, respect, ﬁnance, ...\n",
       "31      2018-4  [afternoon, lady, charge, introduction, speake...\n",
       "32      2019-1  [influx, opioid, opioid, exclusion, word, opio...\n",
       "33      2019-2  [innovation, innovation, closing, remark, stru...\n",
       "34      2019-3  [demerger, annuity, size, corridor, corridor, ...\n",
       "35      2019-4  [spite, minute, invitation, highlight, special...\n",
       "36      2020-1  [prospect, effort, efficiency, emphasis, digit...\n",
       "37      2020-2  [interruption, coverage, spot, trigger, interr...\n",
       "38      2020-3  [instruction, highlight, outbreak, sense, iver...\n",
       "39      2020-4  [earr, continuation, adjustment, excellence, s...\n",
       "40      2021-1  [frequency, automobile, retention, record, aut...\n",
       "41      2021-2  [decision, chunk, money, money, money, center,...\n",
       "42      2021-3  [adjustment, excellence, synergy, mind, ﬁgure,...\n",
       "43      2021-4  [upgrade, item, reference, integration, ﬁnanci...\n",
       "44      2022-1  [eﬀect, math, diﬀer, depreciation, ing, practi...\n",
       "45      2022-2  [matching, match, discount, inﬂation, inﬂation..."
      ]
     },
     "execution_count": 192,
     "metadata": {},
     "output_type": "execute_result"
    }
   ],
   "source": [
    "test_df = model_df.copy()\n",
    "date_list = test_df['year_quater'].unique().tolist()\n",
    "# if the date_list == test_df['date'], append to the dtm_list\n",
    "dtm_token_list = []\n",
    "dtm_token_df = []\n",
    "dtm_df = pd.DataFrame()\n",
    "for date in date_list:\n",
    "    tmp_df = test_df[test_df['year_quater']==date]\n",
    "\n",
    "    tmp_token_list = tmp_df['token'].to_list()\n",
    "    for i in tmp_token_list:\n",
    "        for k in i:\n",
    "            dtm_token_list.append(k)\n",
    "    dtm_token_df.append(dtm_token_list)\n",
    "    dtm_token_list = []\n",
    "    dtm_df['year_quater'] = date_list\n",
    "dtm_df['token'] = dtm_token_df\n",
    "dtm_df"
   ]
  },
  {
   "cell_type": "markdown",
   "metadata": {},
   "source": [
    "# Docs_tokens"
   ]
  },
  {
   "cell_type": "code",
   "execution_count": 193,
   "metadata": {},
   "outputs": [],
   "source": [
    "# https://github.com/bab2min/tomotopy\n",
    "# https://bab2min.github.io/tomotopy/v0.12.3/en/#tomotopy.DTModel\n",
    "# https://notebook.community/pombredanne/gensim/docs/notebooks/ldaseqmodel"
   ]
  },
  {
   "cell_type": "code",
   "execution_count": 194,
   "metadata": {},
   "outputs": [
    {
     "data": {
      "text/plain": [
       "46"
      ]
     },
     "execution_count": 194,
     "metadata": {},
     "output_type": "execute_result"
    }
   ],
   "source": [
    "# recrate again for getting the docs_tokens\n",
    "temp_token_dtm = dtm_df['token'] # .apply(remove_brackets)\n",
    "docs_tokens_dtm = []\n",
    "for i in temp_token_dtm:\n",
    "    docs_tokens_dtm.append(i)\n",
    "len(docs_tokens_dtm)"
   ]
  },
  {
   "cell_type": "markdown",
   "metadata": {},
   "source": [
    "# docs_phrased"
   ]
  },
  {
   "cell_type": "code",
   "execution_count": 195,
   "metadata": {},
   "outputs": [
    {
     "data": {
      "text/plain": [
       "46"
      ]
     },
     "execution_count": 195,
     "metadata": {},
     "output_type": "execute_result"
    }
   ],
   "source": [
    "# topic modeling\n",
    "common_terms = [\n",
    "u\"of\",u\"with\",u\"without\",u\"and\",u\"or\",u\"the\",\n",
    "u\"a\",u\"not\",u\"be\",u\"to\",u\"this\",u\"who\",u\"in\",\n",
    "]\n",
    "\n",
    "bigram_dtm = Phrases(                              \n",
    "    docs_tokens_dtm,\n",
    "    min_count=50, # 這邊可以調整字連起來\n",
    "    threshold=5,\n",
    "    max_vocab_size=50000,\n",
    "    common_terms=common_terms,\n",
    ")\n",
    "trigram_dtm = Phrases(                             \n",
    "    bigram_dtm[docs_tokens_dtm],\n",
    "    min_count=50,\n",
    "    threshold=5,\n",
    "    max_vocab_size=50000,\n",
    "    common_terms=common_terms,\n",
    ")\n",
    "# anks to these two models, \n",
    "# we can process the tokenized documents and join the tokens associated with bi- or tri-grams.\n",
    "docs_phrased_dtm = [trigram_dtm[bigram_dtm[line]] for line in docs_tokens_dtm]\n",
    "len(docs_tokens_dtm)"
   ]
  },
  {
   "cell_type": "markdown",
   "metadata": {},
   "source": [
    "# corpus"
   ]
  },
  {
   "cell_type": "code",
   "execution_count": 196,
   "metadata": {},
   "outputs": [
    {
     "name": "stdout",
     "output_type": "stream",
     "text": [
      "46\n"
     ]
    }
   ],
   "source": [
    "corpus_dtm = tp.utils.Corpus() \n",
    "for i in range(len(docs_tokens_dtm)):\n",
    "    # corpus_dtm.add_doc with timepoint\n",
    "    corpus_dtm.add_doc(words=docs_tokens_dtm[i], timepoint=i) # dtm_df['date'][i]\n",
    "print(len(corpus_dtm))"
   ]
  },
  {
   "cell_type": "markdown",
   "metadata": {},
   "source": [
    "# model base on the topic number we select (without time series)"
   ]
  },
  {
   "cell_type": "code",
   "execution_count": 197,
   "metadata": {},
   "outputs": [
    {
     "name": "stdout",
     "output_type": "stream",
     "text": [
      "Iteration: 0\tLog-likelihood: -8.880421488086558\n",
      "Iteration: 10\tLog-likelihood: -8.751533989840222\n",
      "Iteration: 20\tLog-likelihood: -8.178969151973394\n",
      "Iteration: 30\tLog-likelihood: -7.6317586641247654\n",
      "Iteration: 40\tLog-likelihood: -7.153842880576083\n",
      "Iteration: 50\tLog-likelihood: -6.7570776588076455\n",
      "Iteration: 60\tLog-likelihood: -6.442757129793275\n",
      "Iteration: 70\tLog-likelihood: -6.243148640619047\n",
      "Iteration: 80\tLog-likelihood: -6.123770750246936\n",
      "Iteration: 90\tLog-likelihood: -5.999675291007783\n"
     ]
    }
   ],
   "source": [
    "best_mdl = tp.DTModel(\n",
    "    # tw= TermWeight.ONE, # term weighting scheme in TermWeight. The default value is TermWeight.ONE\n",
    "    # min_cf=0, # minimum collection frequency of words\n",
    "    # min_df=0, # minimum document frequency of words\n",
    "    # rm_top=0, # remove top frequency words\n",
    "    # transform=None, # transformation of the corpus\n",
    "    k=22,\n",
    "    t = len(dtm_df),\n",
    "    corpus=corpus_dtm,\n",
    "    seed = 1\n",
    "    )\n",
    "\n",
    "\n",
    "for i in range(0, 100, 10):\n",
    "    best_mdl.train(10)\n",
    "    print(\"Iteration: {}\\tLog-likelihood: {}\".format(i, best_mdl.ll_per_word))"
   ]
  },
  {
   "cell_type": "code",
   "execution_count": 198,
   "metadata": {},
   "outputs": [
    {
     "data": {
      "text/html": [
       "<div>\n",
       "<style scoped>\n",
       "    .dataframe tbody tr th:only-of-type {\n",
       "        vertical-align: middle;\n",
       "    }\n",
       "\n",
       "    .dataframe tbody tr th {\n",
       "        vertical-align: top;\n",
       "    }\n",
       "\n",
       "    .dataframe thead th {\n",
       "        text-align: right;\n",
       "    }\n",
       "</style>\n",
       "<table border=\"1\" class=\"dataframe\">\n",
       "  <thead>\n",
       "    <tr style=\"text-align: right;\">\n",
       "      <th></th>\n",
       "      <th>word</th>\n",
       "      <th>prob</th>\n",
       "      <th>timepoint</th>\n",
       "      <th>k</th>\n",
       "      <th>sort</th>\n",
       "    </tr>\n",
       "  </thead>\n",
       "  <tbody>\n",
       "    <tr>\n",
       "      <th>0</th>\n",
       "      <td>ehquake</td>\n",
       "      <td>0.007</td>\n",
       "      <td>0</td>\n",
       "      <td>0</td>\n",
       "      <td>0</td>\n",
       "    </tr>\n",
       "    <tr>\n",
       "      <th>1</th>\n",
       "      <td>comparison</td>\n",
       "      <td>0.006</td>\n",
       "      <td>0</td>\n",
       "      <td>0</td>\n",
       "      <td>1</td>\n",
       "    </tr>\n",
       "    <tr>\n",
       "      <th>2</th>\n",
       "      <td>ﬁgure</td>\n",
       "      <td>0.006</td>\n",
       "      <td>0</td>\n",
       "      <td>0</td>\n",
       "      <td>2</td>\n",
       "    </tr>\n",
       "    <tr>\n",
       "      <th>3</th>\n",
       "      <td>scheme</td>\n",
       "      <td>0.006</td>\n",
       "      <td>0</td>\n",
       "      <td>0</td>\n",
       "      <td>3</td>\n",
       "    </tr>\n",
       "    <tr>\n",
       "      <th>4</th>\n",
       "      <td>datum</td>\n",
       "      <td>0.006</td>\n",
       "      <td>0</td>\n",
       "      <td>0</td>\n",
       "      <td>4</td>\n",
       "    </tr>\n",
       "    <tr>\n",
       "      <th>...</th>\n",
       "      <td>...</td>\n",
       "      <td>...</td>\n",
       "      <td>...</td>\n",
       "      <td>...</td>\n",
       "      <td>...</td>\n",
       "    </tr>\n",
       "    <tr>\n",
       "      <th>455</th>\n",
       "      <td>agreement</td>\n",
       "      <td>0.022</td>\n",
       "      <td>45</td>\n",
       "      <td>21</td>\n",
       "      <td>455</td>\n",
       "    </tr>\n",
       "    <tr>\n",
       "      <th>456</th>\n",
       "      <td>brand</td>\n",
       "      <td>0.022</td>\n",
       "      <td>45</td>\n",
       "      <td>21</td>\n",
       "      <td>456</td>\n",
       "    </tr>\n",
       "    <tr>\n",
       "      <th>457</th>\n",
       "      <td>building</td>\n",
       "      <td>0.022</td>\n",
       "      <td>45</td>\n",
       "      <td>21</td>\n",
       "      <td>457</td>\n",
       "    </tr>\n",
       "    <tr>\n",
       "      <th>458</th>\n",
       "      <td>discount</td>\n",
       "      <td>0.022</td>\n",
       "      <td>45</td>\n",
       "      <td>21</td>\n",
       "      <td>458</td>\n",
       "    </tr>\n",
       "    <tr>\n",
       "      <th>459</th>\n",
       "      <td>war</td>\n",
       "      <td>0.022</td>\n",
       "      <td>45</td>\n",
       "      <td>21</td>\n",
       "      <td>459</td>\n",
       "    </tr>\n",
       "  </tbody>\n",
       "</table>\n",
       "<p>10120 rows × 5 columns</p>\n",
       "</div>"
      ],
      "text/plain": [
       "           word   prob  timepoint   k  sort\n",
       "0       ehquake  0.007          0   0     0\n",
       "1    comparison  0.006          0   0     1\n",
       "2         ﬁgure  0.006          0   0     2\n",
       "3        scheme  0.006          0   0     3\n",
       "4         datum  0.006          0   0     4\n",
       "..          ...    ...        ...  ..   ...\n",
       "455   agreement  0.022         45  21   455\n",
       "456       brand  0.022         45  21   456\n",
       "457    building  0.022         45  21   457\n",
       "458    discount  0.022         45  21   458\n",
       "459         war  0.022         45  21   459\n",
       "\n",
       "[10120 rows x 5 columns]"
      ]
     },
     "execution_count": 198,
     "metadata": {},
     "output_type": "execute_result"
    }
   ],
   "source": [
    "wt = pd.DataFrame()\n",
    "# 使用“get_topic_words”屬性，我們可以取得主題到詞彙概率的預測，with required argument 'timepoint' (pos 2)\n",
    "for k in range(best_mdl.k):\n",
    "    words, probs, timepoints = [], [], []\n",
    "    for t in range(len(corpus_dtm)):\n",
    "        for word, prob in best_mdl.get_topic_words(k ,timepoint=t):\n",
    "            timepoints.append(t)\n",
    "            words.append(word)\n",
    "            probs.append(prob)\n",
    "        tmp = pd.DataFrame(\n",
    "            {\n",
    "                \"word\": words,\n",
    "                \"prob\": np.round(probs, 3),\n",
    "                \"timepoint\": timepoints,\n",
    "                \"k\": np.repeat(k, len(words)),\n",
    "                \"sort\": np.arange(0, len(words)),\n",
    "            }\n",
    "        )\n",
    "    words, probs, timepoints = [], [], []\n",
    "    wt = wt.append(tmp)\n",
    "    del tmp\n",
    "\n",
    "wt"
   ]
  },
  {
   "cell_type": "code",
   "execution_count": 243,
   "metadata": {},
   "outputs": [
    {
     "data": {
      "text/html": [
       "<div>\n",
       "<style scoped>\n",
       "    .dataframe tbody tr th:only-of-type {\n",
       "        vertical-align: middle;\n",
       "    }\n",
       "\n",
       "    .dataframe tbody tr th {\n",
       "        vertical-align: top;\n",
       "    }\n",
       "\n",
       "    .dataframe thead th {\n",
       "        text-align: right;\n",
       "    }\n",
       "</style>\n",
       "<table border=\"1\" class=\"dataframe\">\n",
       "  <thead>\n",
       "    <tr style=\"text-align: right;\">\n",
       "      <th></th>\n",
       "      <th>topic_1</th>\n",
       "      <th>topic_2</th>\n",
       "      <th>topic_3</th>\n",
       "      <th>topic_4</th>\n",
       "      <th>topic_5</th>\n",
       "      <th>topic_6</th>\n",
       "      <th>topic_7</th>\n",
       "      <th>topic_8</th>\n",
       "      <th>topic_9</th>\n",
       "      <th>topic_10</th>\n",
       "      <th>topic_11</th>\n",
       "      <th>topic_12</th>\n",
       "      <th>topic_13</th>\n",
       "      <th>topic_14</th>\n",
       "      <th>topic_15</th>\n",
       "      <th>topic_16</th>\n",
       "      <th>topic_17</th>\n",
       "      <th>topic_18</th>\n",
       "      <th>topic_19</th>\n",
       "      <th>topic_20</th>\n",
       "      <th>topic_21</th>\n",
       "      <th>topic_22</th>\n",
       "      <th>timepoint</th>\n",
       "    </tr>\n",
       "  </thead>\n",
       "  <tbody>\n",
       "    <tr>\n",
       "      <th>0</th>\n",
       "      <td>0.040404</td>\n",
       "      <td>0.046560</td>\n",
       "      <td>0.056169</td>\n",
       "      <td>0.041455</td>\n",
       "      <td>0.040254</td>\n",
       "      <td>0.047761</td>\n",
       "      <td>0.042356</td>\n",
       "      <td>0.042807</td>\n",
       "      <td>0.032146</td>\n",
       "      <td>0.049263</td>\n",
       "      <td>0.050464</td>\n",
       "      <td>0.044458</td>\n",
       "      <td>0.045960</td>\n",
       "      <td>0.052116</td>\n",
       "      <td>0.036651</td>\n",
       "      <td>0.043557</td>\n",
       "      <td>0.051365</td>\n",
       "      <td>0.049263</td>\n",
       "      <td>0.042356</td>\n",
       "      <td>0.055569</td>\n",
       "      <td>0.048962</td>\n",
       "      <td>0.040104</td>\n",
       "      <td>0</td>\n",
       "    </tr>\n",
       "    <tr>\n",
       "      <th>1</th>\n",
       "      <td>0.043778</td>\n",
       "      <td>0.047781</td>\n",
       "      <td>0.039775</td>\n",
       "      <td>0.056931</td>\n",
       "      <td>0.050641</td>\n",
       "      <td>0.039203</td>\n",
       "      <td>0.035771</td>\n",
       "      <td>0.048925</td>\n",
       "      <td>0.038631</td>\n",
       "      <td>0.044064</td>\n",
       "      <td>0.044636</td>\n",
       "      <td>0.050926</td>\n",
       "      <td>0.054072</td>\n",
       "      <td>0.046637</td>\n",
       "      <td>0.032054</td>\n",
       "      <td>0.052928</td>\n",
       "      <td>0.044064</td>\n",
       "      <td>0.043492</td>\n",
       "      <td>0.049783</td>\n",
       "      <td>0.041204</td>\n",
       "      <td>0.048067</td>\n",
       "      <td>0.046637</td>\n",
       "      <td>1</td>\n",
       "    </tr>\n",
       "    <tr>\n",
       "      <th>2</th>\n",
       "      <td>0.038995</td>\n",
       "      <td>0.037023</td>\n",
       "      <td>0.053707</td>\n",
       "      <td>0.046578</td>\n",
       "      <td>0.050067</td>\n",
       "      <td>0.042483</td>\n",
       "      <td>0.035506</td>\n",
       "      <td>0.055224</td>\n",
       "      <td>0.039146</td>\n",
       "      <td>0.040815</td>\n",
       "      <td>0.050218</td>\n",
       "      <td>0.041270</td>\n",
       "      <td>0.031563</td>\n",
       "      <td>0.052342</td>\n",
       "      <td>0.047033</td>\n",
       "      <td>0.045517</td>\n",
       "      <td>0.050825</td>\n",
       "      <td>0.053100</td>\n",
       "      <td>0.041270</td>\n",
       "      <td>0.052797</td>\n",
       "      <td>0.049763</td>\n",
       "      <td>0.044758</td>\n",
       "      <td>2</td>\n",
       "    </tr>\n",
       "    <tr>\n",
       "      <th>3</th>\n",
       "      <td>0.050989</td>\n",
       "      <td>0.040614</td>\n",
       "      <td>0.047022</td>\n",
       "      <td>0.046412</td>\n",
       "      <td>0.041834</td>\n",
       "      <td>0.050684</td>\n",
       "      <td>0.040614</td>\n",
       "      <td>0.045496</td>\n",
       "      <td>0.048548</td>\n",
       "      <td>0.058312</td>\n",
       "      <td>0.042140</td>\n",
       "      <td>0.050378</td>\n",
       "      <td>0.036342</td>\n",
       "      <td>0.056786</td>\n",
       "      <td>0.042750</td>\n",
       "      <td>0.043970</td>\n",
       "      <td>0.048242</td>\n",
       "      <td>0.036037</td>\n",
       "      <td>0.037257</td>\n",
       "      <td>0.038478</td>\n",
       "      <td>0.047632</td>\n",
       "      <td>0.049463</td>\n",
       "      <td>3</td>\n",
       "    </tr>\n",
       "    <tr>\n",
       "      <th>4</th>\n",
       "      <td>0.074337</td>\n",
       "      <td>0.053401</td>\n",
       "      <td>0.033511</td>\n",
       "      <td>0.041493</td>\n",
       "      <td>0.038615</td>\n",
       "      <td>0.050784</td>\n",
       "      <td>0.033250</td>\n",
       "      <td>0.038745</td>\n",
       "      <td>0.044110</td>\n",
       "      <td>0.037960</td>\n",
       "      <td>0.058766</td>\n",
       "      <td>0.041362</td>\n",
       "      <td>0.047382</td>\n",
       "      <td>0.063346</td>\n",
       "      <td>0.042671</td>\n",
       "      <td>0.038615</td>\n",
       "      <td>0.044895</td>\n",
       "      <td>0.045157</td>\n",
       "      <td>0.035997</td>\n",
       "      <td>0.035997</td>\n",
       "      <td>0.061121</td>\n",
       "      <td>0.038484</td>\n",
       "      <td>4</td>\n",
       "    </tr>\n",
       "    <tr>\n",
       "      <th>5</th>\n",
       "      <td>0.040941</td>\n",
       "      <td>0.049424</td>\n",
       "      <td>0.040692</td>\n",
       "      <td>0.037947</td>\n",
       "      <td>0.053415</td>\n",
       "      <td>0.037448</td>\n",
       "      <td>0.043186</td>\n",
       "      <td>0.043685</td>\n",
       "      <td>0.053665</td>\n",
       "      <td>0.036949</td>\n",
       "      <td>0.044434</td>\n",
       "      <td>0.046679</td>\n",
       "      <td>0.040692</td>\n",
       "      <td>0.063645</td>\n",
       "      <td>0.035452</td>\n",
       "      <td>0.044933</td>\n",
       "      <td>0.039195</td>\n",
       "      <td>0.046679</td>\n",
       "      <td>0.049174</td>\n",
       "      <td>0.054663</td>\n",
       "      <td>0.050671</td>\n",
       "      <td>0.046430</td>\n",
       "      <td>5</td>\n",
       "    </tr>\n",
       "    <tr>\n",
       "      <th>6</th>\n",
       "      <td>0.050467</td>\n",
       "      <td>0.046716</td>\n",
       "      <td>0.042028</td>\n",
       "      <td>0.042590</td>\n",
       "      <td>0.047841</td>\n",
       "      <td>0.046529</td>\n",
       "      <td>0.041653</td>\n",
       "      <td>0.043340</td>\n",
       "      <td>0.040527</td>\n",
       "      <td>0.043716</td>\n",
       "      <td>0.050467</td>\n",
       "      <td>0.036026</td>\n",
       "      <td>0.046154</td>\n",
       "      <td>0.043340</td>\n",
       "      <td>0.046716</td>\n",
       "      <td>0.043528</td>\n",
       "      <td>0.043528</td>\n",
       "      <td>0.053468</td>\n",
       "      <td>0.055718</td>\n",
       "      <td>0.037527</td>\n",
       "      <td>0.041840</td>\n",
       "      <td>0.056281</td>\n",
       "      <td>6</td>\n",
       "    </tr>\n",
       "    <tr>\n",
       "      <th>7</th>\n",
       "      <td>0.042165</td>\n",
       "      <td>0.049094</td>\n",
       "      <td>0.043320</td>\n",
       "      <td>0.049863</td>\n",
       "      <td>0.064682</td>\n",
       "      <td>0.044475</td>\n",
       "      <td>0.035622</td>\n",
       "      <td>0.054482</td>\n",
       "      <td>0.039664</td>\n",
       "      <td>0.051788</td>\n",
       "      <td>0.048901</td>\n",
       "      <td>0.045052</td>\n",
       "      <td>0.037932</td>\n",
       "      <td>0.038316</td>\n",
       "      <td>0.054097</td>\n",
       "      <td>0.045629</td>\n",
       "      <td>0.046014</td>\n",
       "      <td>0.041011</td>\n",
       "      <td>0.045629</td>\n",
       "      <td>0.041396</td>\n",
       "      <td>0.036777</td>\n",
       "      <td>0.044090</td>\n",
       "      <td>7</td>\n",
       "    </tr>\n",
       "    <tr>\n",
       "      <th>8</th>\n",
       "      <td>0.053705</td>\n",
       "      <td>0.116614</td>\n",
       "      <td>0.025321</td>\n",
       "      <td>0.039430</td>\n",
       "      <td>0.051630</td>\n",
       "      <td>0.031131</td>\n",
       "      <td>0.046484</td>\n",
       "      <td>0.038019</td>\n",
       "      <td>0.042833</td>\n",
       "      <td>0.043497</td>\n",
       "      <td>0.041671</td>\n",
       "      <td>0.047563</td>\n",
       "      <td>0.032459</td>\n",
       "      <td>0.040675</td>\n",
       "      <td>0.037438</td>\n",
       "      <td>0.029305</td>\n",
       "      <td>0.039015</td>\n",
       "      <td>0.043165</td>\n",
       "      <td>0.043331</td>\n",
       "      <td>0.042999</td>\n",
       "      <td>0.053954</td>\n",
       "      <td>0.059763</td>\n",
       "      <td>8</td>\n",
       "    </tr>\n",
       "    <tr>\n",
       "      <th>9</th>\n",
       "      <td>0.043721</td>\n",
       "      <td>0.053002</td>\n",
       "      <td>0.035790</td>\n",
       "      <td>0.047096</td>\n",
       "      <td>0.058739</td>\n",
       "      <td>0.038490</td>\n",
       "      <td>0.035453</td>\n",
       "      <td>0.050133</td>\n",
       "      <td>0.057389</td>\n",
       "      <td>0.037815</td>\n",
       "      <td>0.051146</td>\n",
       "      <td>0.038321</td>\n",
       "      <td>0.043890</td>\n",
       "      <td>0.028197</td>\n",
       "      <td>0.044059</td>\n",
       "      <td>0.034103</td>\n",
       "      <td>0.040684</td>\n",
       "      <td>0.066333</td>\n",
       "      <td>0.062114</td>\n",
       "      <td>0.042877</td>\n",
       "      <td>0.043215</td>\n",
       "      <td>0.047433</td>\n",
       "      <td>9</td>\n",
       "    </tr>\n",
       "    <tr>\n",
       "      <th>10</th>\n",
       "      <td>0.026806</td>\n",
       "      <td>0.072768</td>\n",
       "      <td>0.035201</td>\n",
       "      <td>0.044529</td>\n",
       "      <td>0.045123</td>\n",
       "      <td>0.029435</td>\n",
       "      <td>0.031555</td>\n",
       "      <td>0.043088</td>\n",
       "      <td>0.108640</td>\n",
       "      <td>0.032572</td>\n",
       "      <td>0.041816</td>\n",
       "      <td>0.031894</td>\n",
       "      <td>0.029689</td>\n",
       "      <td>0.027315</td>\n",
       "      <td>0.026467</td>\n",
       "      <td>0.049194</td>\n",
       "      <td>0.031046</td>\n",
       "      <td>0.137218</td>\n",
       "      <td>0.047243</td>\n",
       "      <td>0.026975</td>\n",
       "      <td>0.045801</td>\n",
       "      <td>0.035625</td>\n",
       "      <td>10</td>\n",
       "    </tr>\n",
       "    <tr>\n",
       "      <th>11</th>\n",
       "      <td>0.036576</td>\n",
       "      <td>0.050235</td>\n",
       "      <td>0.040569</td>\n",
       "      <td>0.042250</td>\n",
       "      <td>0.089638</td>\n",
       "      <td>0.035630</td>\n",
       "      <td>0.035840</td>\n",
       "      <td>0.046873</td>\n",
       "      <td>0.041304</td>\n",
       "      <td>0.062844</td>\n",
       "      <td>0.030166</td>\n",
       "      <td>0.038887</td>\n",
       "      <td>0.034264</td>\n",
       "      <td>0.053913</td>\n",
       "      <td>0.038993</td>\n",
       "      <td>0.044036</td>\n",
       "      <td>0.056119</td>\n",
       "      <td>0.049605</td>\n",
       "      <td>0.039203</td>\n",
       "      <td>0.058956</td>\n",
       "      <td>0.042355</td>\n",
       "      <td>0.031743</td>\n",
       "      <td>11</td>\n",
       "    </tr>\n",
       "    <tr>\n",
       "      <th>12</th>\n",
       "      <td>0.044287</td>\n",
       "      <td>0.070462</td>\n",
       "      <td>0.029831</td>\n",
       "      <td>0.043164</td>\n",
       "      <td>0.025761</td>\n",
       "      <td>0.041620</td>\n",
       "      <td>0.026042</td>\n",
       "      <td>0.218320</td>\n",
       "      <td>0.020147</td>\n",
       "      <td>0.044357</td>\n",
       "      <td>0.023586</td>\n",
       "      <td>0.028077</td>\n",
       "      <td>0.034533</td>\n",
       "      <td>0.038884</td>\n",
       "      <td>0.030743</td>\n",
       "      <td>0.027726</td>\n",
       "      <td>0.026042</td>\n",
       "      <td>0.031024</td>\n",
       "      <td>0.058182</td>\n",
       "      <td>0.062603</td>\n",
       "      <td>0.033621</td>\n",
       "      <td>0.040989</td>\n",
       "      <td>12</td>\n",
       "    </tr>\n",
       "    <tr>\n",
       "      <th>13</th>\n",
       "      <td>0.006056</td>\n",
       "      <td>0.006295</td>\n",
       "      <td>0.008285</td>\n",
       "      <td>0.013299</td>\n",
       "      <td>0.004146</td>\n",
       "      <td>0.006136</td>\n",
       "      <td>0.005977</td>\n",
       "      <td>0.015368</td>\n",
       "      <td>0.006693</td>\n",
       "      <td>0.006534</td>\n",
       "      <td>0.015686</td>\n",
       "      <td>0.007091</td>\n",
       "      <td>0.011866</td>\n",
       "      <td>0.006693</td>\n",
       "      <td>0.007409</td>\n",
       "      <td>0.015686</td>\n",
       "      <td>0.007409</td>\n",
       "      <td>0.816947</td>\n",
       "      <td>0.012184</td>\n",
       "      <td>0.006614</td>\n",
       "      <td>0.007569</td>\n",
       "      <td>0.006056</td>\n",
       "      <td>13</td>\n",
       "    </tr>\n",
       "    <tr>\n",
       "      <th>14</th>\n",
       "      <td>0.000057</td>\n",
       "      <td>0.000367</td>\n",
       "      <td>0.000367</td>\n",
       "      <td>0.000315</td>\n",
       "      <td>0.000109</td>\n",
       "      <td>0.000160</td>\n",
       "      <td>0.000315</td>\n",
       "      <td>0.000367</td>\n",
       "      <td>0.000315</td>\n",
       "      <td>0.000315</td>\n",
       "      <td>0.000264</td>\n",
       "      <td>0.000160</td>\n",
       "      <td>0.000832</td>\n",
       "      <td>0.000109</td>\n",
       "      <td>0.000315</td>\n",
       "      <td>0.000419</td>\n",
       "      <td>0.000522</td>\n",
       "      <td>0.993485</td>\n",
       "      <td>0.000470</td>\n",
       "      <td>0.000160</td>\n",
       "      <td>0.000470</td>\n",
       "      <td>0.000109</td>\n",
       "      <td>14</td>\n",
       "    </tr>\n",
       "    <tr>\n",
       "      <th>15</th>\n",
       "      <td>0.019764</td>\n",
       "      <td>0.025351</td>\n",
       "      <td>0.043677</td>\n",
       "      <td>0.032095</td>\n",
       "      <td>0.027803</td>\n",
       "      <td>0.019287</td>\n",
       "      <td>0.023307</td>\n",
       "      <td>0.025555</td>\n",
       "      <td>0.016971</td>\n",
       "      <td>0.018878</td>\n",
       "      <td>0.018878</td>\n",
       "      <td>0.022217</td>\n",
       "      <td>0.094160</td>\n",
       "      <td>0.164877</td>\n",
       "      <td>0.017311</td>\n",
       "      <td>0.022489</td>\n",
       "      <td>0.048037</td>\n",
       "      <td>0.242884</td>\n",
       "      <td>0.032913</td>\n",
       "      <td>0.018606</td>\n",
       "      <td>0.050830</td>\n",
       "      <td>0.014109</td>\n",
       "      <td>15</td>\n",
       "    </tr>\n",
       "    <tr>\n",
       "      <th>16</th>\n",
       "      <td>0.000167</td>\n",
       "      <td>0.000382</td>\n",
       "      <td>0.000005</td>\n",
       "      <td>0.000167</td>\n",
       "      <td>0.000813</td>\n",
       "      <td>0.000436</td>\n",
       "      <td>0.000329</td>\n",
       "      <td>0.000436</td>\n",
       "      <td>0.000436</td>\n",
       "      <td>0.000382</td>\n",
       "      <td>0.000544</td>\n",
       "      <td>0.000221</td>\n",
       "      <td>0.991594</td>\n",
       "      <td>0.000705</td>\n",
       "      <td>0.000544</td>\n",
       "      <td>0.000705</td>\n",
       "      <td>0.000275</td>\n",
       "      <td>0.000705</td>\n",
       "      <td>0.000113</td>\n",
       "      <td>0.000544</td>\n",
       "      <td>0.000275</td>\n",
       "      <td>0.000221</td>\n",
       "      <td>16</td>\n",
       "    </tr>\n",
       "    <tr>\n",
       "      <th>17</th>\n",
       "      <td>0.029215</td>\n",
       "      <td>0.041280</td>\n",
       "      <td>0.024236</td>\n",
       "      <td>0.023757</td>\n",
       "      <td>0.062251</td>\n",
       "      <td>0.084658</td>\n",
       "      <td>0.031226</td>\n",
       "      <td>0.021746</td>\n",
       "      <td>0.031992</td>\n",
       "      <td>0.023470</td>\n",
       "      <td>0.027013</td>\n",
       "      <td>0.036493</td>\n",
       "      <td>0.108214</td>\n",
       "      <td>0.031705</td>\n",
       "      <td>0.027109</td>\n",
       "      <td>0.193916</td>\n",
       "      <td>0.027204</td>\n",
       "      <td>0.081977</td>\n",
       "      <td>0.021746</td>\n",
       "      <td>0.018969</td>\n",
       "      <td>0.022129</td>\n",
       "      <td>0.029694</td>\n",
       "      <td>17</td>\n",
       "    </tr>\n",
       "    <tr>\n",
       "      <th>18</th>\n",
       "      <td>0.000470</td>\n",
       "      <td>0.000238</td>\n",
       "      <td>0.000180</td>\n",
       "      <td>0.000180</td>\n",
       "      <td>0.000586</td>\n",
       "      <td>0.994367</td>\n",
       "      <td>0.000238</td>\n",
       "      <td>0.000064</td>\n",
       "      <td>0.000296</td>\n",
       "      <td>0.000296</td>\n",
       "      <td>0.000238</td>\n",
       "      <td>0.000238</td>\n",
       "      <td>0.000238</td>\n",
       "      <td>0.000238</td>\n",
       "      <td>0.000180</td>\n",
       "      <td>0.000412</td>\n",
       "      <td>0.000180</td>\n",
       "      <td>0.000354</td>\n",
       "      <td>0.000122</td>\n",
       "      <td>0.000238</td>\n",
       "      <td>0.000354</td>\n",
       "      <td>0.000296</td>\n",
       "      <td>18</td>\n",
       "    </tr>\n",
       "    <tr>\n",
       "      <th>19</th>\n",
       "      <td>0.011041</td>\n",
       "      <td>0.006528</td>\n",
       "      <td>0.003519</td>\n",
       "      <td>0.004605</td>\n",
       "      <td>0.007782</td>\n",
       "      <td>0.870021</td>\n",
       "      <td>0.003937</td>\n",
       "      <td>0.003853</td>\n",
       "      <td>0.005608</td>\n",
       "      <td>0.004940</td>\n",
       "      <td>0.006277</td>\n",
       "      <td>0.003937</td>\n",
       "      <td>0.004522</td>\n",
       "      <td>0.007614</td>\n",
       "      <td>0.004355</td>\n",
       "      <td>0.008450</td>\n",
       "      <td>0.006026</td>\n",
       "      <td>0.004104</td>\n",
       "      <td>0.008032</td>\n",
       "      <td>0.004355</td>\n",
       "      <td>0.005023</td>\n",
       "      <td>0.015471</td>\n",
       "      <td>19</td>\n",
       "    </tr>\n",
       "    <tr>\n",
       "      <th>20</th>\n",
       "      <td>0.000134</td>\n",
       "      <td>0.000351</td>\n",
       "      <td>0.000134</td>\n",
       "      <td>0.000134</td>\n",
       "      <td>0.000091</td>\n",
       "      <td>0.997009</td>\n",
       "      <td>0.000307</td>\n",
       "      <td>0.000004</td>\n",
       "      <td>0.000004</td>\n",
       "      <td>0.000091</td>\n",
       "      <td>0.000134</td>\n",
       "      <td>0.000134</td>\n",
       "      <td>0.000134</td>\n",
       "      <td>0.000177</td>\n",
       "      <td>0.000048</td>\n",
       "      <td>0.000264</td>\n",
       "      <td>0.000221</td>\n",
       "      <td>0.000177</td>\n",
       "      <td>0.000134</td>\n",
       "      <td>0.000091</td>\n",
       "      <td>0.000091</td>\n",
       "      <td>0.000134</td>\n",
       "      <td>20</td>\n",
       "    </tr>\n",
       "    <tr>\n",
       "      <th>21</th>\n",
       "      <td>0.000710</td>\n",
       "      <td>0.978703</td>\n",
       "      <td>0.000358</td>\n",
       "      <td>0.000780</td>\n",
       "      <td>0.000569</td>\n",
       "      <td>0.002818</td>\n",
       "      <td>0.000991</td>\n",
       "      <td>0.000639</td>\n",
       "      <td>0.000499</td>\n",
       "      <td>0.000991</td>\n",
       "      <td>0.000710</td>\n",
       "      <td>0.000920</td>\n",
       "      <td>0.000569</td>\n",
       "      <td>0.001272</td>\n",
       "      <td>0.001623</td>\n",
       "      <td>0.000920</td>\n",
       "      <td>0.001342</td>\n",
       "      <td>0.000288</td>\n",
       "      <td>0.001483</td>\n",
       "      <td>0.000920</td>\n",
       "      <td>0.000499</td>\n",
       "      <td>0.002396</td>\n",
       "      <td>21</td>\n",
       "    </tr>\n",
       "    <tr>\n",
       "      <th>22</th>\n",
       "      <td>0.000384</td>\n",
       "      <td>0.995614</td>\n",
       "      <td>0.000114</td>\n",
       "      <td>0.000276</td>\n",
       "      <td>0.000114</td>\n",
       "      <td>0.000168</td>\n",
       "      <td>0.000438</td>\n",
       "      <td>0.000005</td>\n",
       "      <td>0.000276</td>\n",
       "      <td>0.000059</td>\n",
       "      <td>0.000114</td>\n",
       "      <td>0.000222</td>\n",
       "      <td>0.000168</td>\n",
       "      <td>0.000276</td>\n",
       "      <td>0.000276</td>\n",
       "      <td>0.000222</td>\n",
       "      <td>0.000222</td>\n",
       "      <td>0.000059</td>\n",
       "      <td>0.000330</td>\n",
       "      <td>0.000222</td>\n",
       "      <td>0.000168</td>\n",
       "      <td>0.000276</td>\n",
       "      <td>22</td>\n",
       "    </tr>\n",
       "    <tr>\n",
       "      <th>23</th>\n",
       "      <td>0.027052</td>\n",
       "      <td>0.134540</td>\n",
       "      <td>0.018384</td>\n",
       "      <td>0.013807</td>\n",
       "      <td>0.044667</td>\n",
       "      <td>0.017968</td>\n",
       "      <td>0.070117</td>\n",
       "      <td>0.022267</td>\n",
       "      <td>0.017968</td>\n",
       "      <td>0.027191</td>\n",
       "      <td>0.048966</td>\n",
       "      <td>0.030936</td>\n",
       "      <td>0.014570</td>\n",
       "      <td>0.043696</td>\n",
       "      <td>0.254234</td>\n",
       "      <td>0.017552</td>\n",
       "      <td>0.017968</td>\n",
       "      <td>0.026290</td>\n",
       "      <td>0.019632</td>\n",
       "      <td>0.083570</td>\n",
       "      <td>0.021088</td>\n",
       "      <td>0.027538</td>\n",
       "      <td>23</td>\n",
       "    </tr>\n",
       "    <tr>\n",
       "      <th>24</th>\n",
       "      <td>0.000145</td>\n",
       "      <td>0.000332</td>\n",
       "      <td>0.000005</td>\n",
       "      <td>0.000145</td>\n",
       "      <td>0.000191</td>\n",
       "      <td>0.000051</td>\n",
       "      <td>0.000098</td>\n",
       "      <td>0.000145</td>\n",
       "      <td>0.000191</td>\n",
       "      <td>0.000238</td>\n",
       "      <td>0.000051</td>\n",
       "      <td>0.000238</td>\n",
       "      <td>0.000145</td>\n",
       "      <td>0.000051</td>\n",
       "      <td>0.996914</td>\n",
       "      <td>0.000191</td>\n",
       "      <td>0.000285</td>\n",
       "      <td>0.000145</td>\n",
       "      <td>0.000098</td>\n",
       "      <td>0.000145</td>\n",
       "      <td>0.000098</td>\n",
       "      <td>0.000098</td>\n",
       "      <td>24</td>\n",
       "    </tr>\n",
       "    <tr>\n",
       "      <th>25</th>\n",
       "      <td>0.000219</td>\n",
       "      <td>0.000219</td>\n",
       "      <td>0.000540</td>\n",
       "      <td>0.000540</td>\n",
       "      <td>0.000219</td>\n",
       "      <td>0.000593</td>\n",
       "      <td>0.000379</td>\n",
       "      <td>0.000379</td>\n",
       "      <td>0.989251</td>\n",
       "      <td>0.000379</td>\n",
       "      <td>0.000540</td>\n",
       "      <td>0.000379</td>\n",
       "      <td>0.000540</td>\n",
       "      <td>0.000166</td>\n",
       "      <td>0.001074</td>\n",
       "      <td>0.000540</td>\n",
       "      <td>0.001502</td>\n",
       "      <td>0.000593</td>\n",
       "      <td>0.000540</td>\n",
       "      <td>0.000486</td>\n",
       "      <td>0.000433</td>\n",
       "      <td>0.000486</td>\n",
       "      <td>25</td>\n",
       "    </tr>\n",
       "    <tr>\n",
       "      <th>26</th>\n",
       "      <td>0.000467</td>\n",
       "      <td>0.000108</td>\n",
       "      <td>0.000415</td>\n",
       "      <td>0.000569</td>\n",
       "      <td>0.001697</td>\n",
       "      <td>0.000313</td>\n",
       "      <td>0.000364</td>\n",
       "      <td>0.000723</td>\n",
       "      <td>0.000774</td>\n",
       "      <td>0.000210</td>\n",
       "      <td>0.000518</td>\n",
       "      <td>0.000928</td>\n",
       "      <td>0.000620</td>\n",
       "      <td>0.000415</td>\n",
       "      <td>0.000723</td>\n",
       "      <td>0.000415</td>\n",
       "      <td>0.001030</td>\n",
       "      <td>0.000313</td>\n",
       "      <td>0.003081</td>\n",
       "      <td>0.984564</td>\n",
       "      <td>0.000877</td>\n",
       "      <td>0.000877</td>\n",
       "      <td>26</td>\n",
       "    </tr>\n",
       "    <tr>\n",
       "      <th>27</th>\n",
       "      <td>0.000044</td>\n",
       "      <td>0.000044</td>\n",
       "      <td>0.000083</td>\n",
       "      <td>0.000044</td>\n",
       "      <td>0.997503</td>\n",
       "      <td>0.000162</td>\n",
       "      <td>0.000281</td>\n",
       "      <td>0.000004</td>\n",
       "      <td>0.000123</td>\n",
       "      <td>0.000044</td>\n",
       "      <td>0.000123</td>\n",
       "      <td>0.000202</td>\n",
       "      <td>0.000004</td>\n",
       "      <td>0.000123</td>\n",
       "      <td>0.000162</td>\n",
       "      <td>0.000123</td>\n",
       "      <td>0.000241</td>\n",
       "      <td>0.000123</td>\n",
       "      <td>0.000162</td>\n",
       "      <td>0.000083</td>\n",
       "      <td>0.000202</td>\n",
       "      <td>0.000123</td>\n",
       "      <td>27</td>\n",
       "    </tr>\n",
       "    <tr>\n",
       "      <th>28</th>\n",
       "      <td>0.000074</td>\n",
       "      <td>0.000004</td>\n",
       "      <td>0.000181</td>\n",
       "      <td>0.000039</td>\n",
       "      <td>0.000074</td>\n",
       "      <td>0.000004</td>\n",
       "      <td>0.000110</td>\n",
       "      <td>0.000145</td>\n",
       "      <td>0.000216</td>\n",
       "      <td>0.000074</td>\n",
       "      <td>0.000074</td>\n",
       "      <td>0.000039</td>\n",
       "      <td>0.000145</td>\n",
       "      <td>0.000074</td>\n",
       "      <td>0.000039</td>\n",
       "      <td>0.000110</td>\n",
       "      <td>0.997799</td>\n",
       "      <td>0.000252</td>\n",
       "      <td>0.000039</td>\n",
       "      <td>0.000110</td>\n",
       "      <td>0.000039</td>\n",
       "      <td>0.000358</td>\n",
       "      <td>28</td>\n",
       "    </tr>\n",
       "    <tr>\n",
       "      <th>29</th>\n",
       "      <td>0.000731</td>\n",
       "      <td>0.001010</td>\n",
       "      <td>0.003019</td>\n",
       "      <td>0.000564</td>\n",
       "      <td>0.001233</td>\n",
       "      <td>0.001066</td>\n",
       "      <td>0.000508</td>\n",
       "      <td>0.000731</td>\n",
       "      <td>0.972040</td>\n",
       "      <td>0.000954</td>\n",
       "      <td>0.000787</td>\n",
       "      <td>0.000452</td>\n",
       "      <td>0.000787</td>\n",
       "      <td>0.000564</td>\n",
       "      <td>0.002070</td>\n",
       "      <td>0.000564</td>\n",
       "      <td>0.003521</td>\n",
       "      <td>0.001456</td>\n",
       "      <td>0.001066</td>\n",
       "      <td>0.000731</td>\n",
       "      <td>0.000787</td>\n",
       "      <td>0.005362</td>\n",
       "      <td>29</td>\n",
       "    </tr>\n",
       "    <tr>\n",
       "      <th>30</th>\n",
       "      <td>0.000147</td>\n",
       "      <td>0.000194</td>\n",
       "      <td>0.996582</td>\n",
       "      <td>0.000289</td>\n",
       "      <td>0.000384</td>\n",
       "      <td>0.000147</td>\n",
       "      <td>0.000242</td>\n",
       "      <td>0.000242</td>\n",
       "      <td>0.000147</td>\n",
       "      <td>0.000052</td>\n",
       "      <td>0.000052</td>\n",
       "      <td>0.000147</td>\n",
       "      <td>0.000052</td>\n",
       "      <td>0.000147</td>\n",
       "      <td>0.000147</td>\n",
       "      <td>0.000052</td>\n",
       "      <td>0.000052</td>\n",
       "      <td>0.000147</td>\n",
       "      <td>0.000194</td>\n",
       "      <td>0.000052</td>\n",
       "      <td>0.000289</td>\n",
       "      <td>0.000242</td>\n",
       "      <td>30</td>\n",
       "    </tr>\n",
       "    <tr>\n",
       "      <th>31</th>\n",
       "      <td>0.000117</td>\n",
       "      <td>0.000343</td>\n",
       "      <td>0.000494</td>\n",
       "      <td>0.000456</td>\n",
       "      <td>0.000230</td>\n",
       "      <td>0.000192</td>\n",
       "      <td>0.994757</td>\n",
       "      <td>0.000418</td>\n",
       "      <td>0.000117</td>\n",
       "      <td>0.000192</td>\n",
       "      <td>0.000343</td>\n",
       "      <td>0.000117</td>\n",
       "      <td>0.000305</td>\n",
       "      <td>0.000305</td>\n",
       "      <td>0.000192</td>\n",
       "      <td>0.000041</td>\n",
       "      <td>0.000117</td>\n",
       "      <td>0.000268</td>\n",
       "      <td>0.000155</td>\n",
       "      <td>0.000531</td>\n",
       "      <td>0.000117</td>\n",
       "      <td>0.000192</td>\n",
       "      <td>31</td>\n",
       "    </tr>\n",
       "    <tr>\n",
       "      <th>32</th>\n",
       "      <td>0.000114</td>\n",
       "      <td>0.000077</td>\n",
       "      <td>0.000225</td>\n",
       "      <td>0.000114</td>\n",
       "      <td>0.000077</td>\n",
       "      <td>0.997858</td>\n",
       "      <td>0.000114</td>\n",
       "      <td>0.000188</td>\n",
       "      <td>0.000151</td>\n",
       "      <td>0.000077</td>\n",
       "      <td>0.000077</td>\n",
       "      <td>0.000004</td>\n",
       "      <td>0.000225</td>\n",
       "      <td>0.000041</td>\n",
       "      <td>0.000077</td>\n",
       "      <td>0.000077</td>\n",
       "      <td>0.000041</td>\n",
       "      <td>0.000004</td>\n",
       "      <td>0.000077</td>\n",
       "      <td>0.000151</td>\n",
       "      <td>0.000114</td>\n",
       "      <td>0.000114</td>\n",
       "      <td>32</td>\n",
       "    </tr>\n",
       "    <tr>\n",
       "      <th>33</th>\n",
       "      <td>0.000340</td>\n",
       "      <td>0.000244</td>\n",
       "      <td>0.000244</td>\n",
       "      <td>0.000532</td>\n",
       "      <td>0.000484</td>\n",
       "      <td>0.000867</td>\n",
       "      <td>0.000101</td>\n",
       "      <td>0.000244</td>\n",
       "      <td>0.000148</td>\n",
       "      <td>0.000340</td>\n",
       "      <td>0.000532</td>\n",
       "      <td>0.000388</td>\n",
       "      <td>0.000148</td>\n",
       "      <td>0.000148</td>\n",
       "      <td>0.000148</td>\n",
       "      <td>0.000196</td>\n",
       "      <td>0.000388</td>\n",
       "      <td>0.000196</td>\n",
       "      <td>0.001058</td>\n",
       "      <td>0.000196</td>\n",
       "      <td>0.000436</td>\n",
       "      <td>0.992621</td>\n",
       "      <td>33</td>\n",
       "    </tr>\n",
       "    <tr>\n",
       "      <th>34</th>\n",
       "      <td>0.000146</td>\n",
       "      <td>0.000039</td>\n",
       "      <td>0.000146</td>\n",
       "      <td>0.998248</td>\n",
       "      <td>0.000075</td>\n",
       "      <td>0.000146</td>\n",
       "      <td>0.000075</td>\n",
       "      <td>0.000039</td>\n",
       "      <td>0.000004</td>\n",
       "      <td>0.000039</td>\n",
       "      <td>0.000075</td>\n",
       "      <td>0.000146</td>\n",
       "      <td>0.000075</td>\n",
       "      <td>0.000075</td>\n",
       "      <td>0.000004</td>\n",
       "      <td>0.000075</td>\n",
       "      <td>0.000039</td>\n",
       "      <td>0.000111</td>\n",
       "      <td>0.000182</td>\n",
       "      <td>0.000075</td>\n",
       "      <td>0.000075</td>\n",
       "      <td>0.000111</td>\n",
       "      <td>34</td>\n",
       "    </tr>\n",
       "    <tr>\n",
       "      <th>35</th>\n",
       "      <td>0.000123</td>\n",
       "      <td>0.000182</td>\n",
       "      <td>0.000300</td>\n",
       "      <td>0.994411</td>\n",
       "      <td>0.000182</td>\n",
       "      <td>0.000417</td>\n",
       "      <td>0.000123</td>\n",
       "      <td>0.000241</td>\n",
       "      <td>0.000300</td>\n",
       "      <td>0.000182</td>\n",
       "      <td>0.000300</td>\n",
       "      <td>0.000476</td>\n",
       "      <td>0.000123</td>\n",
       "      <td>0.000300</td>\n",
       "      <td>0.000535</td>\n",
       "      <td>0.000182</td>\n",
       "      <td>0.000241</td>\n",
       "      <td>0.000359</td>\n",
       "      <td>0.000123</td>\n",
       "      <td>0.000241</td>\n",
       "      <td>0.000300</td>\n",
       "      <td>0.000359</td>\n",
       "      <td>35</td>\n",
       "    </tr>\n",
       "    <tr>\n",
       "      <th>36</th>\n",
       "      <td>0.000564</td>\n",
       "      <td>0.000310</td>\n",
       "      <td>0.000868</td>\n",
       "      <td>0.001071</td>\n",
       "      <td>0.000259</td>\n",
       "      <td>0.000208</td>\n",
       "      <td>0.000208</td>\n",
       "      <td>0.001020</td>\n",
       "      <td>0.000360</td>\n",
       "      <td>0.000259</td>\n",
       "      <td>0.000564</td>\n",
       "      <td>0.000868</td>\n",
       "      <td>0.000411</td>\n",
       "      <td>0.000919</td>\n",
       "      <td>0.000614</td>\n",
       "      <td>0.000665</td>\n",
       "      <td>0.988674</td>\n",
       "      <td>0.000208</td>\n",
       "      <td>0.000411</td>\n",
       "      <td>0.000665</td>\n",
       "      <td>0.000513</td>\n",
       "      <td>0.000360</td>\n",
       "      <td>36</td>\n",
       "    </tr>\n",
       "    <tr>\n",
       "      <th>37</th>\n",
       "      <td>0.000094</td>\n",
       "      <td>0.000272</td>\n",
       "      <td>0.997095</td>\n",
       "      <td>0.000228</td>\n",
       "      <td>0.000004</td>\n",
       "      <td>0.000228</td>\n",
       "      <td>0.000049</td>\n",
       "      <td>0.000138</td>\n",
       "      <td>0.000406</td>\n",
       "      <td>0.000004</td>\n",
       "      <td>0.000094</td>\n",
       "      <td>0.000004</td>\n",
       "      <td>0.000183</td>\n",
       "      <td>0.000228</td>\n",
       "      <td>0.000094</td>\n",
       "      <td>0.000138</td>\n",
       "      <td>0.000049</td>\n",
       "      <td>0.000049</td>\n",
       "      <td>0.000183</td>\n",
       "      <td>0.000183</td>\n",
       "      <td>0.000138</td>\n",
       "      <td>0.000138</td>\n",
       "      <td>37</td>\n",
       "    </tr>\n",
       "    <tr>\n",
       "      <th>38</th>\n",
       "      <td>0.000834</td>\n",
       "      <td>0.000097</td>\n",
       "      <td>0.000419</td>\n",
       "      <td>0.000143</td>\n",
       "      <td>0.000051</td>\n",
       "      <td>0.000097</td>\n",
       "      <td>0.000281</td>\n",
       "      <td>0.000235</td>\n",
       "      <td>0.000281</td>\n",
       "      <td>0.000373</td>\n",
       "      <td>0.000327</td>\n",
       "      <td>0.000097</td>\n",
       "      <td>0.000097</td>\n",
       "      <td>0.000097</td>\n",
       "      <td>0.000143</td>\n",
       "      <td>0.000143</td>\n",
       "      <td>0.000419</td>\n",
       "      <td>0.000097</td>\n",
       "      <td>0.000189</td>\n",
       "      <td>0.000281</td>\n",
       "      <td>0.000143</td>\n",
       "      <td>0.995158</td>\n",
       "      <td>38</td>\n",
       "    </tr>\n",
       "    <tr>\n",
       "      <th>39</th>\n",
       "      <td>0.000458</td>\n",
       "      <td>0.000257</td>\n",
       "      <td>0.994361</td>\n",
       "      <td>0.000206</td>\n",
       "      <td>0.000307</td>\n",
       "      <td>0.000357</td>\n",
       "      <td>0.000106</td>\n",
       "      <td>0.000659</td>\n",
       "      <td>0.000357</td>\n",
       "      <td>0.000156</td>\n",
       "      <td>0.000257</td>\n",
       "      <td>0.000156</td>\n",
       "      <td>0.000357</td>\n",
       "      <td>0.000055</td>\n",
       "      <td>0.000106</td>\n",
       "      <td>0.000206</td>\n",
       "      <td>0.000458</td>\n",
       "      <td>0.000206</td>\n",
       "      <td>0.000206</td>\n",
       "      <td>0.000307</td>\n",
       "      <td>0.000106</td>\n",
       "      <td>0.000357</td>\n",
       "      <td>39</td>\n",
       "    </tr>\n",
       "    <tr>\n",
       "      <th>40</th>\n",
       "      <td>0.000120</td>\n",
       "      <td>0.000120</td>\n",
       "      <td>0.000275</td>\n",
       "      <td>0.000081</td>\n",
       "      <td>0.000043</td>\n",
       "      <td>0.000159</td>\n",
       "      <td>0.000275</td>\n",
       "      <td>0.000043</td>\n",
       "      <td>0.000159</td>\n",
       "      <td>0.000120</td>\n",
       "      <td>0.000236</td>\n",
       "      <td>0.000043</td>\n",
       "      <td>0.000159</td>\n",
       "      <td>0.000159</td>\n",
       "      <td>0.000120</td>\n",
       "      <td>0.000159</td>\n",
       "      <td>0.997289</td>\n",
       "      <td>0.000081</td>\n",
       "      <td>0.000081</td>\n",
       "      <td>0.000120</td>\n",
       "      <td>0.000043</td>\n",
       "      <td>0.000120</td>\n",
       "      <td>40</td>\n",
       "    </tr>\n",
       "    <tr>\n",
       "      <th>41</th>\n",
       "      <td>0.000441</td>\n",
       "      <td>0.000823</td>\n",
       "      <td>0.001859</td>\n",
       "      <td>0.981627</td>\n",
       "      <td>0.000769</td>\n",
       "      <td>0.001096</td>\n",
       "      <td>0.000660</td>\n",
       "      <td>0.000878</td>\n",
       "      <td>0.000987</td>\n",
       "      <td>0.000769</td>\n",
       "      <td>0.000714</td>\n",
       "      <td>0.000223</td>\n",
       "      <td>0.000660</td>\n",
       "      <td>0.001096</td>\n",
       "      <td>0.000823</td>\n",
       "      <td>0.000223</td>\n",
       "      <td>0.002567</td>\n",
       "      <td>0.001150</td>\n",
       "      <td>0.000714</td>\n",
       "      <td>0.000932</td>\n",
       "      <td>0.000496</td>\n",
       "      <td>0.000496</td>\n",
       "      <td>41</td>\n",
       "    </tr>\n",
       "    <tr>\n",
       "      <th>42</th>\n",
       "      <td>0.000419</td>\n",
       "      <td>0.000419</td>\n",
       "      <td>0.000677</td>\n",
       "      <td>0.001039</td>\n",
       "      <td>0.001246</td>\n",
       "      <td>0.000729</td>\n",
       "      <td>0.000419</td>\n",
       "      <td>0.001194</td>\n",
       "      <td>0.000315</td>\n",
       "      <td>0.000677</td>\n",
       "      <td>0.000522</td>\n",
       "      <td>0.000729</td>\n",
       "      <td>0.001401</td>\n",
       "      <td>0.000626</td>\n",
       "      <td>0.000367</td>\n",
       "      <td>0.000212</td>\n",
       "      <td>0.986398</td>\n",
       "      <td>0.000419</td>\n",
       "      <td>0.000677</td>\n",
       "      <td>0.000470</td>\n",
       "      <td>0.000470</td>\n",
       "      <td>0.000574</td>\n",
       "      <td>42</td>\n",
       "    </tr>\n",
       "    <tr>\n",
       "      <th>43</th>\n",
       "      <td>0.000458</td>\n",
       "      <td>0.000257</td>\n",
       "      <td>0.000357</td>\n",
       "      <td>0.000760</td>\n",
       "      <td>0.991897</td>\n",
       "      <td>0.000760</td>\n",
       "      <td>0.000055</td>\n",
       "      <td>0.000357</td>\n",
       "      <td>0.000357</td>\n",
       "      <td>0.000055</td>\n",
       "      <td>0.000357</td>\n",
       "      <td>0.000357</td>\n",
       "      <td>0.000106</td>\n",
       "      <td>0.000357</td>\n",
       "      <td>0.000810</td>\n",
       "      <td>0.000307</td>\n",
       "      <td>0.000558</td>\n",
       "      <td>0.000508</td>\n",
       "      <td>0.000307</td>\n",
       "      <td>0.000357</td>\n",
       "      <td>0.000156</td>\n",
       "      <td>0.000508</td>\n",
       "      <td>43</td>\n",
       "    </tr>\n",
       "    <tr>\n",
       "      <th>44</th>\n",
       "      <td>0.036459</td>\n",
       "      <td>0.039227</td>\n",
       "      <td>0.048607</td>\n",
       "      <td>0.044916</td>\n",
       "      <td>0.080284</td>\n",
       "      <td>0.039227</td>\n",
       "      <td>0.037228</td>\n",
       "      <td>0.030462</td>\n",
       "      <td>0.049222</td>\n",
       "      <td>0.036305</td>\n",
       "      <td>0.047684</td>\n",
       "      <td>0.064445</td>\n",
       "      <td>0.040765</td>\n",
       "      <td>0.039842</td>\n",
       "      <td>0.051067</td>\n",
       "      <td>0.036613</td>\n",
       "      <td>0.051221</td>\n",
       "      <td>0.043840</td>\n",
       "      <td>0.042456</td>\n",
       "      <td>0.063984</td>\n",
       "      <td>0.038304</td>\n",
       "      <td>0.037843</td>\n",
       "      <td>44</td>\n",
       "    </tr>\n",
       "    <tr>\n",
       "      <th>45</th>\n",
       "      <td>0.042563</td>\n",
       "      <td>0.044078</td>\n",
       "      <td>0.036504</td>\n",
       "      <td>0.071342</td>\n",
       "      <td>0.039533</td>\n",
       "      <td>0.048622</td>\n",
       "      <td>0.048622</td>\n",
       "      <td>0.033475</td>\n",
       "      <td>0.034989</td>\n",
       "      <td>0.039533</td>\n",
       "      <td>0.053166</td>\n",
       "      <td>0.050136</td>\n",
       "      <td>0.047107</td>\n",
       "      <td>0.045592</td>\n",
       "      <td>0.033475</td>\n",
       "      <td>0.044078</td>\n",
       "      <td>0.054680</td>\n",
       "      <td>0.038019</td>\n",
       "      <td>0.044078</td>\n",
       "      <td>0.054680</td>\n",
       "      <td>0.060739</td>\n",
       "      <td>0.034989</td>\n",
       "      <td>45</td>\n",
       "    </tr>\n",
       "  </tbody>\n",
       "</table>\n",
       "</div>"
      ],
      "text/plain": [
       "     topic_1   topic_2   topic_3   topic_4   topic_5   topic_6   topic_7  \\\n",
       "0   0.040404  0.046560  0.056169  0.041455  0.040254  0.047761  0.042356   \n",
       "1   0.043778  0.047781  0.039775  0.056931  0.050641  0.039203  0.035771   \n",
       "2   0.038995  0.037023  0.053707  0.046578  0.050067  0.042483  0.035506   \n",
       "3   0.050989  0.040614  0.047022  0.046412  0.041834  0.050684  0.040614   \n",
       "4   0.074337  0.053401  0.033511  0.041493  0.038615  0.050784  0.033250   \n",
       "5   0.040941  0.049424  0.040692  0.037947  0.053415  0.037448  0.043186   \n",
       "6   0.050467  0.046716  0.042028  0.042590  0.047841  0.046529  0.041653   \n",
       "7   0.042165  0.049094  0.043320  0.049863  0.064682  0.044475  0.035622   \n",
       "8   0.053705  0.116614  0.025321  0.039430  0.051630  0.031131  0.046484   \n",
       "9   0.043721  0.053002  0.035790  0.047096  0.058739  0.038490  0.035453   \n",
       "10  0.026806  0.072768  0.035201  0.044529  0.045123  0.029435  0.031555   \n",
       "11  0.036576  0.050235  0.040569  0.042250  0.089638  0.035630  0.035840   \n",
       "12  0.044287  0.070462  0.029831  0.043164  0.025761  0.041620  0.026042   \n",
       "13  0.006056  0.006295  0.008285  0.013299  0.004146  0.006136  0.005977   \n",
       "14  0.000057  0.000367  0.000367  0.000315  0.000109  0.000160  0.000315   \n",
       "15  0.019764  0.025351  0.043677  0.032095  0.027803  0.019287  0.023307   \n",
       "16  0.000167  0.000382  0.000005  0.000167  0.000813  0.000436  0.000329   \n",
       "17  0.029215  0.041280  0.024236  0.023757  0.062251  0.084658  0.031226   \n",
       "18  0.000470  0.000238  0.000180  0.000180  0.000586  0.994367  0.000238   \n",
       "19  0.011041  0.006528  0.003519  0.004605  0.007782  0.870021  0.003937   \n",
       "20  0.000134  0.000351  0.000134  0.000134  0.000091  0.997009  0.000307   \n",
       "21  0.000710  0.978703  0.000358  0.000780  0.000569  0.002818  0.000991   \n",
       "22  0.000384  0.995614  0.000114  0.000276  0.000114  0.000168  0.000438   \n",
       "23  0.027052  0.134540  0.018384  0.013807  0.044667  0.017968  0.070117   \n",
       "24  0.000145  0.000332  0.000005  0.000145  0.000191  0.000051  0.000098   \n",
       "25  0.000219  0.000219  0.000540  0.000540  0.000219  0.000593  0.000379   \n",
       "26  0.000467  0.000108  0.000415  0.000569  0.001697  0.000313  0.000364   \n",
       "27  0.000044  0.000044  0.000083  0.000044  0.997503  0.000162  0.000281   \n",
       "28  0.000074  0.000004  0.000181  0.000039  0.000074  0.000004  0.000110   \n",
       "29  0.000731  0.001010  0.003019  0.000564  0.001233  0.001066  0.000508   \n",
       "30  0.000147  0.000194  0.996582  0.000289  0.000384  0.000147  0.000242   \n",
       "31  0.000117  0.000343  0.000494  0.000456  0.000230  0.000192  0.994757   \n",
       "32  0.000114  0.000077  0.000225  0.000114  0.000077  0.997858  0.000114   \n",
       "33  0.000340  0.000244  0.000244  0.000532  0.000484  0.000867  0.000101   \n",
       "34  0.000146  0.000039  0.000146  0.998248  0.000075  0.000146  0.000075   \n",
       "35  0.000123  0.000182  0.000300  0.994411  0.000182  0.000417  0.000123   \n",
       "36  0.000564  0.000310  0.000868  0.001071  0.000259  0.000208  0.000208   \n",
       "37  0.000094  0.000272  0.997095  0.000228  0.000004  0.000228  0.000049   \n",
       "38  0.000834  0.000097  0.000419  0.000143  0.000051  0.000097  0.000281   \n",
       "39  0.000458  0.000257  0.994361  0.000206  0.000307  0.000357  0.000106   \n",
       "40  0.000120  0.000120  0.000275  0.000081  0.000043  0.000159  0.000275   \n",
       "41  0.000441  0.000823  0.001859  0.981627  0.000769  0.001096  0.000660   \n",
       "42  0.000419  0.000419  0.000677  0.001039  0.001246  0.000729  0.000419   \n",
       "43  0.000458  0.000257  0.000357  0.000760  0.991897  0.000760  0.000055   \n",
       "44  0.036459  0.039227  0.048607  0.044916  0.080284  0.039227  0.037228   \n",
       "45  0.042563  0.044078  0.036504  0.071342  0.039533  0.048622  0.048622   \n",
       "\n",
       "     topic_8   topic_9  topic_10  topic_11  topic_12  topic_13  topic_14  \\\n",
       "0   0.042807  0.032146  0.049263  0.050464  0.044458  0.045960  0.052116   \n",
       "1   0.048925  0.038631  0.044064  0.044636  0.050926  0.054072  0.046637   \n",
       "2   0.055224  0.039146  0.040815  0.050218  0.041270  0.031563  0.052342   \n",
       "3   0.045496  0.048548  0.058312  0.042140  0.050378  0.036342  0.056786   \n",
       "4   0.038745  0.044110  0.037960  0.058766  0.041362  0.047382  0.063346   \n",
       "5   0.043685  0.053665  0.036949  0.044434  0.046679  0.040692  0.063645   \n",
       "6   0.043340  0.040527  0.043716  0.050467  0.036026  0.046154  0.043340   \n",
       "7   0.054482  0.039664  0.051788  0.048901  0.045052  0.037932  0.038316   \n",
       "8   0.038019  0.042833  0.043497  0.041671  0.047563  0.032459  0.040675   \n",
       "9   0.050133  0.057389  0.037815  0.051146  0.038321  0.043890  0.028197   \n",
       "10  0.043088  0.108640  0.032572  0.041816  0.031894  0.029689  0.027315   \n",
       "11  0.046873  0.041304  0.062844  0.030166  0.038887  0.034264  0.053913   \n",
       "12  0.218320  0.020147  0.044357  0.023586  0.028077  0.034533  0.038884   \n",
       "13  0.015368  0.006693  0.006534  0.015686  0.007091  0.011866  0.006693   \n",
       "14  0.000367  0.000315  0.000315  0.000264  0.000160  0.000832  0.000109   \n",
       "15  0.025555  0.016971  0.018878  0.018878  0.022217  0.094160  0.164877   \n",
       "16  0.000436  0.000436  0.000382  0.000544  0.000221  0.991594  0.000705   \n",
       "17  0.021746  0.031992  0.023470  0.027013  0.036493  0.108214  0.031705   \n",
       "18  0.000064  0.000296  0.000296  0.000238  0.000238  0.000238  0.000238   \n",
       "19  0.003853  0.005608  0.004940  0.006277  0.003937  0.004522  0.007614   \n",
       "20  0.000004  0.000004  0.000091  0.000134  0.000134  0.000134  0.000177   \n",
       "21  0.000639  0.000499  0.000991  0.000710  0.000920  0.000569  0.001272   \n",
       "22  0.000005  0.000276  0.000059  0.000114  0.000222  0.000168  0.000276   \n",
       "23  0.022267  0.017968  0.027191  0.048966  0.030936  0.014570  0.043696   \n",
       "24  0.000145  0.000191  0.000238  0.000051  0.000238  0.000145  0.000051   \n",
       "25  0.000379  0.989251  0.000379  0.000540  0.000379  0.000540  0.000166   \n",
       "26  0.000723  0.000774  0.000210  0.000518  0.000928  0.000620  0.000415   \n",
       "27  0.000004  0.000123  0.000044  0.000123  0.000202  0.000004  0.000123   \n",
       "28  0.000145  0.000216  0.000074  0.000074  0.000039  0.000145  0.000074   \n",
       "29  0.000731  0.972040  0.000954  0.000787  0.000452  0.000787  0.000564   \n",
       "30  0.000242  0.000147  0.000052  0.000052  0.000147  0.000052  0.000147   \n",
       "31  0.000418  0.000117  0.000192  0.000343  0.000117  0.000305  0.000305   \n",
       "32  0.000188  0.000151  0.000077  0.000077  0.000004  0.000225  0.000041   \n",
       "33  0.000244  0.000148  0.000340  0.000532  0.000388  0.000148  0.000148   \n",
       "34  0.000039  0.000004  0.000039  0.000075  0.000146  0.000075  0.000075   \n",
       "35  0.000241  0.000300  0.000182  0.000300  0.000476  0.000123  0.000300   \n",
       "36  0.001020  0.000360  0.000259  0.000564  0.000868  0.000411  0.000919   \n",
       "37  0.000138  0.000406  0.000004  0.000094  0.000004  0.000183  0.000228   \n",
       "38  0.000235  0.000281  0.000373  0.000327  0.000097  0.000097  0.000097   \n",
       "39  0.000659  0.000357  0.000156  0.000257  0.000156  0.000357  0.000055   \n",
       "40  0.000043  0.000159  0.000120  0.000236  0.000043  0.000159  0.000159   \n",
       "41  0.000878  0.000987  0.000769  0.000714  0.000223  0.000660  0.001096   \n",
       "42  0.001194  0.000315  0.000677  0.000522  0.000729  0.001401  0.000626   \n",
       "43  0.000357  0.000357  0.000055  0.000357  0.000357  0.000106  0.000357   \n",
       "44  0.030462  0.049222  0.036305  0.047684  0.064445  0.040765  0.039842   \n",
       "45  0.033475  0.034989  0.039533  0.053166  0.050136  0.047107  0.045592   \n",
       "\n",
       "    topic_15  topic_16  topic_17  topic_18  topic_19  topic_20  topic_21  \\\n",
       "0   0.036651  0.043557  0.051365  0.049263  0.042356  0.055569  0.048962   \n",
       "1   0.032054  0.052928  0.044064  0.043492  0.049783  0.041204  0.048067   \n",
       "2   0.047033  0.045517  0.050825  0.053100  0.041270  0.052797  0.049763   \n",
       "3   0.042750  0.043970  0.048242  0.036037  0.037257  0.038478  0.047632   \n",
       "4   0.042671  0.038615  0.044895  0.045157  0.035997  0.035997  0.061121   \n",
       "5   0.035452  0.044933  0.039195  0.046679  0.049174  0.054663  0.050671   \n",
       "6   0.046716  0.043528  0.043528  0.053468  0.055718  0.037527  0.041840   \n",
       "7   0.054097  0.045629  0.046014  0.041011  0.045629  0.041396  0.036777   \n",
       "8   0.037438  0.029305  0.039015  0.043165  0.043331  0.042999  0.053954   \n",
       "9   0.044059  0.034103  0.040684  0.066333  0.062114  0.042877  0.043215   \n",
       "10  0.026467  0.049194  0.031046  0.137218  0.047243  0.026975  0.045801   \n",
       "11  0.038993  0.044036  0.056119  0.049605  0.039203  0.058956  0.042355   \n",
       "12  0.030743  0.027726  0.026042  0.031024  0.058182  0.062603  0.033621   \n",
       "13  0.007409  0.015686  0.007409  0.816947  0.012184  0.006614  0.007569   \n",
       "14  0.000315  0.000419  0.000522  0.993485  0.000470  0.000160  0.000470   \n",
       "15  0.017311  0.022489  0.048037  0.242884  0.032913  0.018606  0.050830   \n",
       "16  0.000544  0.000705  0.000275  0.000705  0.000113  0.000544  0.000275   \n",
       "17  0.027109  0.193916  0.027204  0.081977  0.021746  0.018969  0.022129   \n",
       "18  0.000180  0.000412  0.000180  0.000354  0.000122  0.000238  0.000354   \n",
       "19  0.004355  0.008450  0.006026  0.004104  0.008032  0.004355  0.005023   \n",
       "20  0.000048  0.000264  0.000221  0.000177  0.000134  0.000091  0.000091   \n",
       "21  0.001623  0.000920  0.001342  0.000288  0.001483  0.000920  0.000499   \n",
       "22  0.000276  0.000222  0.000222  0.000059  0.000330  0.000222  0.000168   \n",
       "23  0.254234  0.017552  0.017968  0.026290  0.019632  0.083570  0.021088   \n",
       "24  0.996914  0.000191  0.000285  0.000145  0.000098  0.000145  0.000098   \n",
       "25  0.001074  0.000540  0.001502  0.000593  0.000540  0.000486  0.000433   \n",
       "26  0.000723  0.000415  0.001030  0.000313  0.003081  0.984564  0.000877   \n",
       "27  0.000162  0.000123  0.000241  0.000123  0.000162  0.000083  0.000202   \n",
       "28  0.000039  0.000110  0.997799  0.000252  0.000039  0.000110  0.000039   \n",
       "29  0.002070  0.000564  0.003521  0.001456  0.001066  0.000731  0.000787   \n",
       "30  0.000147  0.000052  0.000052  0.000147  0.000194  0.000052  0.000289   \n",
       "31  0.000192  0.000041  0.000117  0.000268  0.000155  0.000531  0.000117   \n",
       "32  0.000077  0.000077  0.000041  0.000004  0.000077  0.000151  0.000114   \n",
       "33  0.000148  0.000196  0.000388  0.000196  0.001058  0.000196  0.000436   \n",
       "34  0.000004  0.000075  0.000039  0.000111  0.000182  0.000075  0.000075   \n",
       "35  0.000535  0.000182  0.000241  0.000359  0.000123  0.000241  0.000300   \n",
       "36  0.000614  0.000665  0.988674  0.000208  0.000411  0.000665  0.000513   \n",
       "37  0.000094  0.000138  0.000049  0.000049  0.000183  0.000183  0.000138   \n",
       "38  0.000143  0.000143  0.000419  0.000097  0.000189  0.000281  0.000143   \n",
       "39  0.000106  0.000206  0.000458  0.000206  0.000206  0.000307  0.000106   \n",
       "40  0.000120  0.000159  0.997289  0.000081  0.000081  0.000120  0.000043   \n",
       "41  0.000823  0.000223  0.002567  0.001150  0.000714  0.000932  0.000496   \n",
       "42  0.000367  0.000212  0.986398  0.000419  0.000677  0.000470  0.000470   \n",
       "43  0.000810  0.000307  0.000558  0.000508  0.000307  0.000357  0.000156   \n",
       "44  0.051067  0.036613  0.051221  0.043840  0.042456  0.063984  0.038304   \n",
       "45  0.033475  0.044078  0.054680  0.038019  0.044078  0.054680  0.060739   \n",
       "\n",
       "    topic_22  timepoint  \n",
       "0   0.040104          0  \n",
       "1   0.046637          1  \n",
       "2   0.044758          2  \n",
       "3   0.049463          3  \n",
       "4   0.038484          4  \n",
       "5   0.046430          5  \n",
       "6   0.056281          6  \n",
       "7   0.044090          7  \n",
       "8   0.059763          8  \n",
       "9   0.047433          9  \n",
       "10  0.035625         10  \n",
       "11  0.031743         11  \n",
       "12  0.040989         12  \n",
       "13  0.006056         13  \n",
       "14  0.000109         14  \n",
       "15  0.014109         15  \n",
       "16  0.000221         16  \n",
       "17  0.029694         17  \n",
       "18  0.000296         18  \n",
       "19  0.015471         19  \n",
       "20  0.000134         20  \n",
       "21  0.002396         21  \n",
       "22  0.000276         22  \n",
       "23  0.027538         23  \n",
       "24  0.000098         24  \n",
       "25  0.000486         25  \n",
       "26  0.000877         26  \n",
       "27  0.000123         27  \n",
       "28  0.000358         28  \n",
       "29  0.005362         29  \n",
       "30  0.000242         30  \n",
       "31  0.000192         31  \n",
       "32  0.000114         32  \n",
       "33  0.992621         33  \n",
       "34  0.000111         34  \n",
       "35  0.000359         35  \n",
       "36  0.000360         36  \n",
       "37  0.000138         37  \n",
       "38  0.995158         38  \n",
       "39  0.000357         39  \n",
       "40  0.000120         40  \n",
       "41  0.000496         41  \n",
       "42  0.000574         42  \n",
       "43  0.000508         43  \n",
       "44  0.037843         44  \n",
       "45  0.034989         45  "
      ]
     },
     "execution_count": 243,
     "metadata": {},
     "output_type": "execute_result"
    }
   ],
   "source": [
    "td = pd.DataFrame()\n",
    "for timepoint in range(best_mdl.num_timepoints):\n",
    "    td_tmp = pd.DataFrame(\n",
    "        np.stack([doc.get_topic_dist() for doc in best_mdl.docs if doc.timepoint == timepoint]),\n",
    "        columns=[\"topic_{}\".format(i + 1) for i in range(best_mdl.k)],\n",
    "    )\n",
    "    td_tmp[\"timepoint\"] = timepoint\n",
    "    td = pd.concat([td, td_tmp], ignore_index=True)\n",
    "    del td_tmp\n",
    "\n",
    "td"
   ]
  },
  {
   "cell_type": "code",
   "execution_count": 244,
   "metadata": {},
   "outputs": [],
   "source": [
    "# save td to csv\n",
    "td.to_csv('./main_df_output/td_seq.csv', index=False) \n",
    "wt.to_csv('./main_df_output/wt_seq.csv', index=False)"
   ]
  },
  {
   "cell_type": "code",
   "execution_count": 288,
   "metadata": {},
   "outputs": [
    {
     "data": {
      "application/vnd.plotly.v1+json": {
       "config": {
        "plotlyServerURL": "https://plot.ly"
       },
       "data": [
        {
         "hovertemplate": "variable=topic_1<br>timepoint=%{x}<br>value=%{y}<extra></extra>",
         "legendgroup": "topic_1",
         "line": {
          "color": "#636efa",
          "dash": "solid"
         },
         "marker": {
          "symbol": "circle"
         },
         "mode": "lines",
         "name": "topic_1",
         "showlegend": true,
         "type": "scattergl",
         "x": [
          0,
          1,
          2,
          3,
          4,
          5,
          6,
          7,
          8,
          9,
          10,
          11,
          12,
          13,
          14,
          15,
          16,
          17,
          18,
          19,
          20,
          21,
          22,
          23,
          24,
          25,
          26,
          27,
          28,
          29,
          30,
          31,
          32,
          33,
          34,
          35,
          36,
          37,
          38,
          39,
          40,
          41,
          42,
          43,
          44,
          45
         ],
         "xaxis": "x",
         "y": [
          0.040404193103313446,
          0.04377788305282593,
          0.038994722068309784,
          0.05098865181207657,
          0.07433722913265228,
          0.04094107449054718,
          0.05046697333455086,
          0.04216542840003967,
          0.05370480567216873,
          0.04372110217809677,
          0.026805855333805084,
          0.036575883626937866,
          0.044287096709012985,
          0.006056409329175949,
          0.000056835211580619216,
          0.01976400427520275,
          0.00016694310761522502,
          0.02921518310904503,
          0.00046994120930321515,
          0.01104127336293459,
          0.0001341979659628123,
          0.0007096583722159266,
          0.0003839456767309457,
          0.02705232985317707,
          0.00014475024363491684,
          0.0002191435341956094,
          0.0004665183660108596,
          0.00004353642725618556,
          0.00007442005153279752,
          0.0007309371139854193,
          0.00014698073209729046,
          0.00011683916090987623,
          0.00011431437451392412,
          0.00034000250161625445,
          0.0001463021180825308,
          0.00012341905676294118,
          0.0005635033012367785,
          0.00009370732732350007,
          0.0008338247425854206,
          0.00045778797357343137,
          0.0001198892350657843,
          0.0004414842987898737,
          0.0004187518497928977,
          0.0004577188810799271,
          0.036458972841501236,
          0.04256286099553108
         ],
         "yaxis": "y"
        },
        {
         "hovertemplate": "variable=topic_2<br>timepoint=%{x}<br>value=%{y}<extra></extra>",
         "legendgroup": "topic_2",
         "line": {
          "color": "#EF553B",
          "dash": "solid"
         },
         "marker": {
          "symbol": "circle"
         },
         "mode": "lines",
         "name": "topic_2",
         "showlegend": true,
         "type": "scattergl",
         "x": [
          0,
          1,
          2,
          3,
          4,
          5,
          6,
          7,
          8,
          9,
          10,
          11,
          12,
          13,
          14,
          15,
          16,
          17,
          18,
          19,
          20,
          21,
          22,
          23,
          24,
          25,
          26,
          27,
          28,
          29,
          30,
          31,
          32,
          33,
          34,
          35,
          36,
          37,
          38,
          39,
          40,
          41,
          42,
          43,
          44,
          45
         ],
         "xaxis": "x",
         "y": [
          0.04656016454100609,
          0.0477810837328434,
          0.037022992968559265,
          0.040613941848278046,
          0.05340085178613663,
          0.04942368343472481,
          0.046716175973415375,
          0.049093566834926605,
          0.11661354452371597,
          0.053001921623945236,
          0.072768434882164,
          0.05023536458611488,
          0.070462167263031,
          0.006295164115726948,
          0.0003668454592116177,
          0.025350520387291908,
          0.00038235358078964055,
          0.04128044843673706,
          0.00023787145619280636,
          0.00652780756354332,
          0.0003506463544908911,
          0.9787032008171082,
          0.9956144094467163,
          0.13454043865203857,
          0.00033152473042719066,
          0.0002191435341956094,
          0.00010765807382995263,
          0.00004353642725618556,
          0.000003543812226780574,
          0.001009920728392899,
          0.0001943938696058467,
          0.0003429795033298433,
          0.00007743876631138846,
          0.00024422715068794787,
          0.00003925179044017568,
          0.00018219005141872913,
          0.0003096729633398354,
          0.00027219747425988317,
          0.0000967420928645879,
          0.00025656245998106897,
          0.0001198892350657843,
          0.0008230139501392841,
          0.0004187518497928977,
          0.0002565237518865615,
          0.03922684118151665,
          0.0440775528550148
         ],
         "yaxis": "y"
        },
        {
         "hovertemplate": "variable=topic_3<br>timepoint=%{x}<br>value=%{y}<extra></extra>",
         "legendgroup": "topic_3",
         "line": {
          "color": "#00cc96",
          "dash": "solid"
         },
         "marker": {
          "symbol": "circle"
         },
         "mode": "lines",
         "name": "topic_3",
         "showlegend": true,
         "type": "scattergl",
         "x": [
          0,
          1,
          2,
          3,
          4,
          5,
          6,
          7,
          8,
          9,
          10,
          11,
          12,
          13,
          14,
          15,
          16,
          17,
          18,
          19,
          20,
          21,
          22,
          23,
          24,
          25,
          26,
          27,
          28,
          29,
          30,
          31,
          32,
          33,
          34,
          35,
          36,
          37,
          38,
          39,
          40,
          41,
          42,
          43,
          44,
          45
         ],
         "xaxis": "x",
         "y": [
          0.05616948381066322,
          0.03977467864751816,
          0.05370684713125229,
          0.04702185094356537,
          0.033511292189359665,
          0.04069158434867859,
          0.042027682065963745,
          0.04332011938095093,
          0.02532118372619152,
          0.03579021990299225,
          0.03520123288035393,
          0.040568653494119644,
          0.029831159859895706,
          0.008284786716103554,
          0.0003668454592116177,
          0.04367701709270477,
          0.000005385261829360388,
          0.024235866963863373,
          0.0001798540324671194,
          0.0035188309848308563,
          0.0001341979659628123,
          0.0003583423385862261,
          0.0001135613929363899,
          0.01838393323123455,
          0.000004669362624554196,
          0.0005398414214141667,
          0.00041525260894559324,
          0.00008311498822877184,
          0.0001807344233384356,
          0.003018602728843689,
          0.9965815544128418,
          0.0004937397316098213,
          0.00022494119184557348,
          0.00024422715068794787,
          0.0001463021180825308,
          0.0002997320261783898,
          0.0008680996834300458,
          0.9970951080322266,
          0.00041921576485037804,
          0.9943606853485107,
          0.00027458503609523177,
          0.0018585942452773452,
          0.0006772406050004065,
          0.0003571213164832443,
          0.048606839030981064,
          0.03650408983230591
         ],
         "yaxis": "y"
        },
        {
         "hovertemplate": "variable=topic_4<br>timepoint=%{x}<br>value=%{y}<extra></extra>",
         "legendgroup": "topic_4",
         "line": {
          "color": "#ab63fa",
          "dash": "solid"
         },
         "marker": {
          "symbol": "circle"
         },
         "mode": "lines",
         "name": "topic_4",
         "showlegend": true,
         "type": "scattergl",
         "x": [
          0,
          1,
          2,
          3,
          4,
          5,
          6,
          7,
          8,
          9,
          10,
          11,
          12,
          13,
          14,
          15,
          16,
          17,
          18,
          19,
          20,
          21,
          22,
          23,
          24,
          25,
          26,
          27,
          28,
          29,
          30,
          31,
          32,
          33,
          34,
          35,
          36,
          37,
          38,
          39,
          40,
          41,
          42,
          43,
          44,
          45
         ],
         "xaxis": "x",
         "y": [
          0.041455212980508804,
          0.0569312609732151,
          0.046578291803598404,
          0.04641157388687134,
          0.041493285447359085,
          0.03794721141457558,
          0.04259030148386955,
          0.049863360822200775,
          0.039430003613233566,
          0.047095946967601776,
          0.04452943056821823,
          0.04224982112646103,
          0.04316430538892746,
          0.013298634439706802,
          0.0003151770797558129,
          0.03209521621465683,
          0.00016694310761522502,
          0.02375708520412445,
          0.0001798540324671194,
          0.00460540596395731,
          0.0001341979659628123,
          0.000779921596404165,
          0.0002757919719442725,
          0.013807021081447601,
          0.00014475024363491684,
          0.0005398414214141667,
          0.0005690499092452228,
          0.00004353642725618556,
          0.00003898193608620204,
          0.0005635469569824636,
          0.0002892201591748744,
          0.0004560496599879116,
          0.00011431437451392412,
          0.0005315532325766981,
          0.9982479810714722,
          0.9944109320640564,
          0.0010711639188230038,
          0.0002275749429827556,
          0.00014280976029112935,
          0.0002062560961348936,
          0.00008121528662741184,
          0.9816266298294067,
          0.0010391249088570476,
          0.000759511545766145,
          0.04491634666919708,
          0.07134201377630234
         ],
         "yaxis": "y"
        },
        {
         "hovertemplate": "variable=topic_5<br>timepoint=%{x}<br>value=%{y}<extra></extra>",
         "legendgroup": "topic_5",
         "line": {
          "color": "#FFA15A",
          "dash": "solid"
         },
         "marker": {
          "symbol": "circle"
         },
         "mode": "lines",
         "name": "topic_5",
         "showlegend": true,
         "type": "scattergl",
         "x": [
          0,
          1,
          2,
          3,
          4,
          5,
          6,
          7,
          8,
          9,
          10,
          11,
          12,
          13,
          14,
          15,
          16,
          17,
          18,
          19,
          20,
          21,
          22,
          23,
          24,
          25,
          26,
          27,
          28,
          29,
          30,
          31,
          32,
          33,
          34,
          35,
          36,
          37,
          38,
          39,
          40,
          41,
          42,
          43,
          44,
          45
         ],
         "xaxis": "x",
         "y": [
          0.04025404527783394,
          0.050640515983104706,
          0.050066735595464706,
          0.04183449596166611,
          0.038614533841609955,
          0.05341549962759018,
          0.04784141480922699,
          0.06468188017606735,
          0.05162997916340828,
          0.058739159256219864,
          0.04512304440140724,
          0.08963770419359207,
          0.025761041790246964,
          0.0041463724337518215,
          0.00010850357648450881,
          0.02780313603579998,
          0.0008131745853461325,
          0.06225103139877319,
          0.0005859760567545891,
          0.007781547959893942,
          0.00009090830280911177,
          0.0005691319820471108,
          0.0001135613929363899,
          0.044666506350040436,
          0.0001914438616950065,
          0.0002191435341956094,
          0.0016968963900581002,
          0.9975026249885559,
          0.00007442005153279752,
          0.0012331076432019472,
          0.0003840464632958174,
          0.00022990931756794453,
          0.00007743876631138846,
          0.0004836655571125448,
          0.00007493523298762739,
          0.00018219005141872913,
          0.00025890691904351115,
          0.000004462253855308518,
          0.00005067443271400407,
          0.00030686883837915957,
          0.000042541345464996994,
          0.0007685096934437752,
          0.0012459158897399902,
          0.9918968677520752,
          0.08028354495763779,
          0.039533473551273346
         ],
         "yaxis": "y"
        },
        {
         "hovertemplate": "variable=topic_6<br>timepoint=%{x}<br>value=%{y}<extra></extra>",
         "legendgroup": "topic_6",
         "line": {
          "color": "#19d3f3",
          "dash": "solid"
         },
         "marker": {
          "symbol": "circle"
         },
         "mode": "lines",
         "name": "topic_6",
         "showlegend": true,
         "type": "scattergl",
         "x": [
          0,
          1,
          2,
          3,
          4,
          5,
          6,
          7,
          8,
          9,
          10,
          11,
          12,
          13,
          14,
          15,
          16,
          17,
          18,
          19,
          20,
          21,
          22,
          23,
          24,
          25,
          26,
          27,
          28,
          29,
          30,
          31,
          32,
          33,
          34,
          35,
          36,
          37,
          38,
          39,
          40,
          41,
          42,
          43,
          44,
          45
         ],
         "xaxis": "x",
         "y": [
          0.047761328518390656,
          0.039202794432640076,
          0.042483165860176086,
          0.05068351328372955,
          0.050783805549144745,
          0.03744823485612869,
          0.046528637409210205,
          0.044474806636571884,
          0.031130697578191757,
          0.03849009424448013,
          0.02943471074104309,
          0.035630226135253906,
          0.041620466858148575,
          0.00613599456846714,
          0.00016017195594031364,
          0.0192871056497097,
          0.0004362062318250537,
          0.0846579521894455,
          0.9943665266036987,
          0.8700205087661743,
          0.9970086812973022,
          0.002817554399371147,
          0.0001676382526056841,
          0.01796784996986389,
          0.00005136298932484351,
          0.0005932910717092454,
          0.0003127210948150605,
          0.00016227213200181723,
          0.000003543812226780574,
          0.0010657174279913306,
          0.00014698073209729046,
          0.00019221926049795002,
          0.9978575706481934,
          0.0008667669608257711,
          0.0001463021180825308,
          0.0004172739863861352,
          0.00020814084564335644,
          0.0002275749429827556,
          0.0000967420928645879,
          0.00035717521677725017,
          0.00015856318350415677,
          0.001095535117201507,
          0.0007289383793249726,
          0.000759511545766145,
          0.03922684118151665,
          0.04862162843346596
         ],
         "yaxis": "y"
        },
        {
         "hovertemplate": "variable=topic_7<br>timepoint=%{x}<br>value=%{y}<extra></extra>",
         "legendgroup": "topic_7",
         "line": {
          "color": "#FF6692",
          "dash": "solid"
         },
         "marker": {
          "symbol": "circle"
         },
         "mode": "lines",
         "name": "topic_7",
         "showlegend": true,
         "type": "scattergl",
         "x": [
          0,
          1,
          2,
          3,
          4,
          5,
          6,
          7,
          8,
          9,
          10,
          11,
          12,
          13,
          14,
          15,
          16,
          17,
          18,
          19,
          20,
          21,
          22,
          23,
          24,
          25,
          26,
          27,
          28,
          29,
          30,
          31,
          32,
          33,
          34,
          35,
          36,
          37,
          38,
          39,
          40,
          41,
          42,
          43,
          44,
          45
         ],
         "xaxis": "x",
         "y": [
          0.042356085032224655,
          0.03577147424221039,
          0.03550627827644348,
          0.040613941848278046,
          0.03324958682060242,
          0.04318647086620331,
          0.04165260121226311,
          0.035622186958789825,
          0.046484410762786865,
          0.03545273467898369,
          0.031554754823446274,
          0.03584037348628044,
          0.02604174055159092,
          0.005976824555546045,
          0.0003151770797558129,
          0.023306673392653465,
          0.00032850095885805786,
          0.031226061284542084,
          0.00023787145619280636,
          0.003936744295060635,
          0.0003073566476814449,
          0.0009907112689688802,
          0.00043802254367619753,
          0.07011691480875015,
          0.00009805661102291197,
          0.00037949244142509997,
          0.00036398685188032687,
          0.0002810078440234065,
          0.00010985817789332941,
          0.0005077501991763711,
          0.00024180700711440295,
          0.994757354259491,
          0.00011431437451392412,
          0.00010056411701953039,
          0.00007493523298762739,
          0.00012341905676294118,
          0.00020814084564335644,
          0.0000490847960463725,
          0.0002810127625707537,
          0.00010564336844254285,
          0.00027458503609523177,
          0.0006595012382604182,
          0.0004187518497928977,
          0.0000553286554350052,
          0.037227824330329895,
          0.04862162843346596
         ],
         "yaxis": "y"
        },
        {
         "hovertemplate": "variable=topic_8<br>timepoint=%{x}<br>value=%{y}<extra></extra>",
         "legendgroup": "topic_8",
         "line": {
          "color": "#B6E880",
          "dash": "solid"
         },
         "marker": {
          "symbol": "circle"
         },
         "mode": "lines",
         "name": "topic_8",
         "showlegend": true,
         "type": "scattergl",
         "x": [
          0,
          1,
          2,
          3,
          4,
          5,
          6,
          7,
          8,
          9,
          10,
          11,
          12,
          13,
          14,
          15,
          16,
          17,
          18,
          19,
          20,
          21,
          22,
          23,
          24,
          25,
          26,
          27,
          28,
          29,
          30,
          31,
          32,
          33,
          34,
          35,
          36,
          37,
          38,
          39,
          40,
          41,
          42,
          43,
          44,
          45
         ],
         "xaxis": "x",
         "y": [
          0.04280652105808258,
          0.04892485588788986,
          0.05522356182336807,
          0.04549615830183029,
          0.03874538838863373,
          0.04368544742465019,
          0.04334045946598053,
          0.054482121020555496,
          0.03801912069320679,
          0.05013330653309822,
          0.043087802827358246,
          0.046873029321432114,
          0.21831974387168884,
          0.015367841348052025,
          0.0003668454592116177,
          0.025554904714226723,
          0.0004362062318250537,
          0.021746208891272545,
          0.00006381917773978785,
          0.003853161819279194,
          0.000004328966952016344,
          0.0006393952062353492,
          0.000005407685875979951,
          0.022267375141382217,
          0.00014475024363491684,
          0.00037949244142509997,
          0.000722847122233361,
          0.000003957856733904919,
          0.0001452963042538613,
          0.0007309371139854193,
          0.00024180700711440295,
          0.0004183596174698323,
          0.0001880655763670802,
          0.00024422715068794787,
          0.00003925179044017568,
          0.00024096103152260184,
          0.0010203978745266795,
          0.00013832986587658525,
          0.00023494509514421225,
          0.0006590134580619633,
          0.000042541345464996994,
          0.0008775181486271322,
          0.001194218173623085,
          0.0003571213164832443,
          0.030461926013231277,
          0.03347470611333847
         ],
         "yaxis": "y"
        },
        {
         "hovertemplate": "variable=topic_9<br>timepoint=%{x}<br>value=%{y}<extra></extra>",
         "legendgroup": "topic_9",
         "line": {
          "color": "#FF97FF",
          "dash": "solid"
         },
         "marker": {
          "symbol": "circle"
         },
         "mode": "lines",
         "name": "topic_9",
         "showlegend": true,
         "type": "scattergl",
         "x": [
          0,
          1,
          2,
          3,
          4,
          5,
          6,
          7,
          8,
          9,
          10,
          11,
          12,
          13,
          14,
          15,
          16,
          17,
          18,
          19,
          20,
          21,
          22,
          23,
          24,
          25,
          26,
          27,
          28,
          29,
          30,
          31,
          32,
          33,
          34,
          35,
          36,
          37,
          38,
          39,
          40,
          41,
          42,
          43,
          44,
          45
         ],
         "xaxis": "x",
         "y": [
          0.03214618191123009,
          0.038630906492471695,
          0.03914639353752136,
          0.048547543585300446,
          0.044110335409641266,
          0.05366498976945877,
          0.04052736237645149,
          0.03966360166668892,
          0.042832717299461365,
          0.05738921836018562,
          0.10863960534334183,
          0.04130416363477707,
          0.020147085189819336,
          0.006693088449537754,
          0.0003151770797558129,
          0.016970746219158173,
          0.0004362062318250537,
          0.0319921113550663,
          0.00029588889447040856,
          0.005608398001641035,
          0.000004328966952016344,
          0.0004988687578588724,
          0.0002757919719442725,
          0.01796784996986389,
          0.0001914438616950065,
          0.9892513155937195,
          0.0007741128792986274,
          0.00012269355647731572,
          0.00021617254242300987,
          0.9720402956008911,
          0.00014698073209729046,
          0.00011683916090987623,
          0.00015118997544050217,
          0.00014845178520772606,
          0.0000035683447094925214,
          0.0002997320261783898,
          0.0003604390367399901,
          0.000406065140850842,
          0.0002810127625707537,
          0.00035717521677725017,
          0.00015856318350415677,
          0.0009865266038104892,
          0.00031535630114376545,
          0.0003571213164832443,
          0.04922192171216011,
          0.03498939797282219
         ],
         "yaxis": "y"
        },
        {
         "hovertemplate": "variable=topic_10<br>timepoint=%{x}<br>value=%{y}<extra></extra>",
         "legendgroup": "topic_10",
         "line": {
          "color": "#FECB52",
          "dash": "solid"
         },
         "marker": {
          "symbol": "circle"
         },
         "mode": "lines",
         "name": "topic_10",
         "showlegend": true,
         "type": "scattergl",
         "x": [
          0,
          1,
          2,
          3,
          4,
          5,
          6,
          7,
          8,
          9,
          10,
          11,
          12,
          13,
          14,
          15,
          16,
          17,
          18,
          19,
          20,
          21,
          22,
          23,
          24,
          25,
          26,
          27,
          28,
          29,
          30,
          31,
          32,
          33,
          34,
          35,
          36,
          37,
          38,
          39,
          40,
          41,
          42,
          43,
          44,
          45
         ],
         "xaxis": "x",
         "y": [
          0.04926278442144394,
          0.04406382516026497,
          0.040814779698848724,
          0.05831197649240494,
          0.037960272282361984,
          0.03694925457239151,
          0.04371554031968117,
          0.0517878457903862,
          0.04349666088819504,
          0.03781512752175331,
          0.03257237747311592,
          0.06284411251544952,
          0.04435727000236511,
          0.0065339189022779465,
          0.0003151770797558129,
          0.018878336995840073,
          0.00038235358078964055,
          0.023469818755984306,
          0.00029588889447040856,
          0.004939736798405647,
          0.00009090830280911177,
          0.0009907112689688802,
          0.000059484544181032106,
          0.027191024273633957,
          0.00023813749430701137,
          0.00037949244142509997,
          0.00021018958068452775,
          0.00004353642725618556,
          0.00007442005153279752,
          0.0009541239705868065,
          0.00005215445708017796,
          0.00019221926049795002,
          0.00007743876631138846,
          0.00034000250161625445,
          0.00003925179044017568,
          0.00018219005141872913,
          0.00025890691904351115,
          0.000004462253855308518,
          0.0003731480974238366,
          0.00015594973228871822,
          0.0001198892350657843,
          0.0007685096934437752,
          0.0006772406050004065,
          0.0000553286554350052,
          0.036305204033851624,
          0.039533473551273346
         ],
         "yaxis": "y"
        },
        {
         "hovertemplate": "variable=topic_11<br>timepoint=%{x}<br>value=%{y}<extra></extra>",
         "legendgroup": "topic_11",
         "line": {
          "color": "#636efa",
          "dash": "solid"
         },
         "marker": {
          "symbol": "circle"
         },
         "mode": "lines",
         "name": "topic_11",
         "showlegend": true,
         "type": "scattergl",
         "x": [
          0,
          1,
          2,
          3,
          4,
          5,
          6,
          7,
          8,
          9,
          10,
          11,
          12,
          13,
          14,
          15,
          16,
          17,
          18,
          19,
          20,
          21,
          22,
          23,
          24,
          25,
          26,
          27,
          28,
          29,
          30,
          31,
          32,
          33,
          34,
          35,
          36,
          37,
          38,
          39,
          40,
          41,
          42,
          43,
          44,
          45
         ],
         "xaxis": "x",
         "y": [
          0.050463948398828506,
          0.04463570937514305,
          0.050218407064676285,
          0.04213963449001312,
          0.058765798807144165,
          0.04443391412496567,
          0.05046697333455086,
          0.04890111833810806,
          0.041670817881822586,
          0.0511457584798336,
          0.041815776377916336,
          0.03016643598675728,
          0.02358563430607319,
          0.01568618044257164,
          0.00026350870030000806,
          0.018878336995840073,
          0.0005439114756882191,
          0.027012793347239494,
          0.00023787145619280636,
          0.00627705967053771,
          0.0001341979659628123,
          0.0007096583722159266,
          0.0001135613929363899,
          0.04896603152155876,
          0.00005136298932484351,
          0.0005398414214141667,
          0.0005177841521799564,
          0.00012269355647731572,
          0.00007442005153279752,
          0.0007867338135838509,
          0.00005215445708017796,
          0.0003429795033298433,
          0.00007743876631138846,
          0.0005315532325766981,
          0.00007493523298762739,
          0.0002997320261783898,
          0.0005635033012367785,
          0.00009370732732350007,
          0.00032708042999729514,
          0.00025656245998106897,
          0.0002359110803809017,
          0.0007140054367482662,
          0.000522147340234369,
          0.0003571213164832443,
          0.047684215009212494,
          0.053165704011917114
         ],
         "yaxis": "y"
        },
        {
         "hovertemplate": "variable=topic_12<br>timepoint=%{x}<br>value=%{y}<extra></extra>",
         "legendgroup": "topic_12",
         "line": {
          "color": "#EF553B",
          "dash": "solid"
         },
         "marker": {
          "symbol": "circle"
         },
         "mode": "lines",
         "name": "topic_12",
         "showlegend": true,
         "type": "scattergl",
         "x": [
          0,
          1,
          2,
          3,
          4,
          5,
          6,
          7,
          8,
          9,
          10,
          11,
          12,
          13,
          14,
          15,
          16,
          17,
          18,
          19,
          20,
          21,
          22,
          23,
          24,
          25,
          26,
          27,
          28,
          29,
          30,
          31,
          32,
          33,
          34,
          35,
          36,
          37,
          38,
          39,
          40,
          41,
          42,
          43,
          44,
          45
         ],
         "xaxis": "x",
         "y": [
          0.04445812478661537,
          0.05092645809054375,
          0.04126979410648346,
          0.05037837475538254,
          0.04136243462562561,
          0.046679310500621796,
          0.03602640703320503,
          0.04505215212702751,
          0.04756332188844681,
          0.038321353495121,
          0.03189396485686302,
          0.03888748958706856,
          0.02807679958641529,
          0.007091013249009848,
          0.00016017195594031364,
          0.022216619923710823,
          0.0002207957295468077,
          0.03649264574050903,
          0.00023787145619280636,
          0.003936744295060635,
          0.0001341979659628123,
          0.0009204479865729809,
          0.0002217151049990207,
          0.03093576990067959,
          0.00023813749430701137,
          0.00037949244142509997,
          0.0009279101504944265,
          0.0002018506929744035,
          0.00003898193608620204,
          0.00045195347047410905,
          0.00014698073209729046,
          0.00011683916090987623,
          0.0000036875605928798905,
          0.0003878902061842382,
          0.0001463021180825308,
          0.00047604498104192317,
          0.0008680996834300458,
          0.000004462253855308518,
          0.0000967420928645879,
          0.00015594973228871822,
          0.000042541345464996994,
          0.00022346734476741403,
          0.0007289383793249726,
          0.0003571213164832443,
          0.06444519758224487,
          0.050136320292949677
         ],
         "yaxis": "y"
        },
        {
         "hovertemplate": "variable=topic_13<br>timepoint=%{x}<br>value=%{y}<extra></extra>",
         "legendgroup": "topic_13",
         "line": {
          "color": "#00cc96",
          "dash": "solid"
         },
         "marker": {
          "symbol": "circle"
         },
         "mode": "lines",
         "name": "topic_13",
         "showlegend": true,
         "type": "scattergl",
         "x": [
          0,
          1,
          2,
          3,
          4,
          5,
          6,
          7,
          8,
          9,
          10,
          11,
          12,
          13,
          14,
          15,
          16,
          17,
          18,
          19,
          20,
          21,
          22,
          23,
          24,
          25,
          26,
          27,
          28,
          29,
          30,
          31,
          32,
          33,
          34,
          35,
          36,
          37,
          38,
          39,
          40,
          41,
          42,
          43,
          44,
          45
         ],
         "xaxis": "x",
         "y": [
          0.045959580689668655,
          0.054071832448244095,
          0.03156282380223274,
          0.03634199872612953,
          0.04738164320588112,
          0.04069158434867859,
          0.04615355655550957,
          0.03793156519532204,
          0.0324585847556591,
          0.0438898429274559,
          0.029689116403460503,
          0.034264277666807175,
          0.03453284874558449,
          0.011866106651723385,
          0.0008318608161062002,
          0.0941600427031517,
          0.991593599319458,
          0.10821395367383957,
          0.00023787145619280636,
          0.004521823022514582,
          0.0001341979659628123,
          0.0005691319820471108,
          0.0001676382526056841,
          0.014569839462637901,
          0.00014475024363491684,
          0.0005398414214141667,
          0.0006203156081028283,
          0.000003957856733904919,
          0.0001452963042538613,
          0.0007867338135838509,
          0.00005215445708017796,
          0.00030528943170793355,
          0.00022494119184557348,
          0.00014845178520772606,
          0.00007493523298762739,
          0.00012341905676294118,
          0.0004112051101401448,
          0.00018295241170562804,
          0.0000967420928645879,
          0.00035717521677725017,
          0.00015856318350415677,
          0.0006595012382604182,
          0.0014010092709213495,
          0.00010562742681941018,
          0.040764547884464264,
          0.04710693657398224
         ],
         "yaxis": "y"
        },
        {
         "hovertemplate": "variable=topic_14<br>timepoint=%{x}<br>value=%{y}<extra></extra>",
         "legendgroup": "topic_14",
         "line": {
          "color": "#ab63fa",
          "dash": "solid"
         },
         "marker": {
          "symbol": "circle"
         },
         "mode": "lines",
         "name": "topic_14",
         "showlegend": true,
         "type": "scattergl",
         "x": [
          0,
          1,
          2,
          3,
          4,
          5,
          6,
          7,
          8,
          9,
          10,
          11,
          12,
          13,
          14,
          15,
          16,
          17,
          18,
          19,
          20,
          21,
          22,
          23,
          24,
          25,
          26,
          27,
          28,
          29,
          30,
          31,
          32,
          33,
          34,
          35,
          36,
          37,
          38,
          39,
          40,
          41,
          42,
          43,
          44,
          45
         ],
         "xaxis": "x",
         "y": [
          0.0521155521273613,
          0.046637311577796936,
          0.05234180763363838,
          0.05678628385066986,
          0.06334563344717026,
          0.06364452838897705,
          0.04334045946598053,
          0.03831646218895912,
          0.04067489877343178,
          0.028196820989251137,
          0.02731466479599476,
          0.05391291156411171,
          0.03888366371393204,
          0.006693088449537754,
          0.00010850357648450881,
          0.16487717628479004,
          0.0007054693414829671,
          0.031704843044281006,
          0.00023787145619280636,
          0.007614382542669773,
          0.00017748764366842806,
          0.0012717640493065119,
          0.0002757919719442725,
          0.04369564726948738,
          0.00005136298932484351,
          0.00016569388390053064,
          0.00041525260894559324,
          0.00012269355647731572,
          0.00007442005153279752,
          0.0005635469569824636,
          0.00014698073209729046,
          0.00030528943170793355,
          0.00004056316538481042,
          0.00014845178520772606,
          0.00007493523298762739,
          0.0002997320261783898,
          0.0009188657277263701,
          0.0002275749429827556,
          0.0000967420928645879,
          0.00005533700459636748,
          0.00015856318350415677,
          0.001095535117201507,
          0.0006255428888835013,
          0.0003571213164832443,
          0.039841923862695694,
          0.04559224471449852
         ],
         "yaxis": "y"
        },
        {
         "hovertemplate": "variable=topic_15<br>timepoint=%{x}<br>value=%{y}<extra></extra>",
         "legendgroup": "topic_15",
         "line": {
          "color": "#FFA15A",
          "dash": "solid"
         },
         "marker": {
          "symbol": "circle"
         },
         "mode": "lines",
         "name": "topic_15",
         "showlegend": true,
         "type": "scattergl",
         "x": [
          0,
          1,
          2,
          3,
          4,
          5,
          6,
          7,
          8,
          9,
          10,
          11,
          12,
          13,
          14,
          15,
          16,
          17,
          18,
          19,
          20,
          21,
          22,
          23,
          24,
          25,
          26,
          27,
          28,
          29,
          30,
          31,
          32,
          33,
          34,
          35,
          36,
          37,
          38,
          39,
          40,
          41,
          42,
          43,
          44,
          45
         ],
         "xaxis": "x",
         "y": [
          0.03665054962038994,
          0.03205421566963196,
          0.04703330621123314,
          0.04274991154670715,
          0.04267095774412155,
          0.03545232489705086,
          0.046716175973415375,
          0.05409722402691841,
          0.03743816912174225,
          0.04405858740210533,
          0.026466647163033485,
          0.038992561399936676,
          0.030743427574634552,
          0.00740935280919075,
          0.0003151770797558129,
          0.01731138676404953,
          0.0005439114756882191,
          0.02710855007171631,
          0.0001798540324671194,
          0.0043546580709517,
          0.000047618639655411243,
          0.0016230801120400429,
          0.0002757919719442725,
          0.2542336583137512,
          0.9969135522842407,
          0.0010743378661572933,
          0.000722847122233361,
          0.00016227213200181723,
          0.00003898193608620204,
          0.0020700583700090647,
          0.00014698073209729046,
          0.00019221926049795002,
          0.00007743876631138846,
          0.00014845178520772606,
          0.0000035683447094925214,
          0.0005348160048015416,
          0.0006142693455331028,
          0.00009370732732350007,
          0.00014280976029112935,
          0.00010564336844254285,
          0.0001198892350657843,
          0.0008230139501392841,
          0.0003670540754683316,
          0.0008098102989606559,
          0.05106716603040695,
          0.03347470611333847
         ],
         "yaxis": "y"
        },
        {
         "hovertemplate": "variable=topic_16<br>timepoint=%{x}<br>value=%{y}<extra></extra>",
         "legendgroup": "topic_16",
         "line": {
          "color": "#19d3f3",
          "dash": "solid"
         },
         "marker": {
          "symbol": "circle"
         },
         "mode": "lines",
         "name": "topic_16",
         "showlegend": true,
         "type": "scattergl",
         "x": [
          0,
          1,
          2,
          3,
          4,
          5,
          6,
          7,
          8,
          9,
          10,
          11,
          12,
          13,
          14,
          15,
          16,
          17,
          18,
          19,
          20,
          21,
          22,
          23,
          24,
          25,
          26,
          27,
          28,
          29,
          30,
          31,
          32,
          33,
          34,
          35,
          36,
          37,
          38,
          39,
          40,
          41,
          42,
          43,
          44,
          45
         ],
         "xaxis": "x",
         "y": [
          0.04355724900960922,
          0.05292806029319763,
          0.045516591519117355,
          0.043970465660095215,
          0.038614533841609955,
          0.04493289068341255,
          0.0435279980301857,
          0.04562949761748314,
          0.029304850846529007,
          0.034102797508239746,
          0.04919353127479553,
          0.04403606057167053,
          0.027725927531719208,
          0.01568618044257164,
          0.00041851383866742253,
          0.022489134222269058,
          0.0007054693414829671,
          0.19391565024852753,
          0.0004119237419217825,
          0.00845020916312933,
          0.0002640669699758291,
          0.0009204479865729809,
          0.0002217151049990207,
          0.017551768571138382,
          0.0001914438616950065,
          0.0005398414214141667,
          0.00041525260894559324,
          0.00012269355647731572,
          0.00010985817789332941,
          0.0005635469569824636,
          0.00005215445708017796,
          0.00004145905768382363,
          0.00007743876631138846,
          0.00019633947522379458,
          0.00007493523298762739,
          0.00018219005141872913,
          0.0006650354480370879,
          0.00013832986587658525,
          0.00014280976029112935,
          0.0002062560961348936,
          0.00015856318350415677,
          0.00022346734476741403,
          0.00021196079615037888,
          0.0003068225341849029,
          0.03661274537444115,
          0.0440775528550148
         ],
         "yaxis": "y"
        },
        {
         "hovertemplate": "variable=topic_17<br>timepoint=%{x}<br>value=%{y}<extra></extra>",
         "legendgroup": "topic_17",
         "line": {
          "color": "#FF6692",
          "dash": "solid"
         },
         "marker": {
          "symbol": "circle"
         },
         "mode": "lines",
         "name": "topic_17",
         "showlegend": true,
         "type": "scattergl",
         "x": [
          0,
          1,
          2,
          3,
          4,
          5,
          6,
          7,
          8,
          9,
          10,
          11,
          12,
          13,
          14,
          15,
          16,
          17,
          18,
          19,
          20,
          21,
          22,
          23,
          24,
          25,
          26,
          27,
          28,
          29,
          30,
          31,
          32,
          33,
          34,
          35,
          36,
          37,
          38,
          39,
          40,
          41,
          42,
          43,
          44,
          45
         ],
         "xaxis": "x",
         "y": [
          0.051364824175834656,
          0.04406382516026497,
          0.0508250929415226,
          0.04824240505695343,
          0.04489544779062271,
          0.039194654673337936,
          0.0435279980301857,
          0.046014394611120224,
          0.039015039801597595,
          0.04068374261260033,
          0.0310459453612566,
          0.056119441986083984,
          0.02604174055159092,
          0.00740935280919075,
          0.0005218505975790322,
          0.048037223517894745,
          0.00027464833692647517,
          0.027204304933547974,
          0.0001798540324671194,
          0.006026311777532101,
          0.0002207773068221286,
          0.0013420272152870893,
          0.0002217151049990207,
          0.01796784996986389,
          0.00028483112691901624,
          0.0015019349521026015,
          0.0010304416064172983,
          0.000241429268498905,
          0.997799277305603,
          0.003520773258060217,
          0.00005215445708017796,
          0.00011683916090987623,
          0.00004056316538481042,
          0.0003878902061842382,
          0.00003925179044017568,
          0.00024096103152260184,
          0.9886741042137146,
          0.0000490847960463725,
          0.00041921576485037804,
          0.00045778797357343137,
          0.9972889423370361,
          0.002567149233072996,
          0.9863983392715454,
          0.0005583164165727794,
          0.05122093856334686,
          0.05468039587140083
         ],
         "yaxis": "y"
        },
        {
         "hovertemplate": "variable=topic_18<br>timepoint=%{x}<br>value=%{y}<extra></extra>",
         "legendgroup": "topic_18",
         "line": {
          "color": "#B6E880",
          "dash": "solid"
         },
         "marker": {
          "symbol": "circle"
         },
         "mode": "lines",
         "name": "topic_18",
         "showlegend": true,
         "type": "scattergl",
         "x": [
          0,
          1,
          2,
          3,
          4,
          5,
          6,
          7,
          8,
          9,
          10,
          11,
          12,
          13,
          14,
          15,
          16,
          17,
          18,
          19,
          20,
          21,
          22,
          23,
          24,
          25,
          26,
          27,
          28,
          29,
          30,
          31,
          32,
          33,
          34,
          35,
          36,
          37,
          38,
          39,
          40,
          41,
          42,
          43,
          44,
          45
         ],
         "xaxis": "x",
         "y": [
          0.04926278442144394,
          0.04349193722009659,
          0.053100164979696274,
          0.036036860197782516,
          0.04515715315937996,
          0.046679310500621796,
          0.05346761271357536,
          0.04101073741912842,
          0.0431646890938282,
          0.06633255630731583,
          0.13721781969070435,
          0.04960492625832558,
          0.031024126335978508,
          0.8169467449188232,
          0.993484616279602,
          0.24288401007652283,
          0.0007054693414829671,
          0.08197678625583649,
          0.00035390633274801075,
          0.004103909712284803,
          0.00017748764366842806,
          0.0002880791435018182,
          0.000059484544181032106,
          0.02628951147198677,
          0.00014475024363491684,
          0.0005932910717092454,
          0.0003127210948150605,
          0.00012269355647731572,
          0.0002516106760594994,
          0.0014562945580109954,
          0.00014698073209729046,
          0.0002675993600860238,
          0.0000036875605928798905,
          0.00019633947522379458,
          0.0001106186828110367,
          0.0003585029917303473,
          0.00020814084564335644,
          0.0000490847960463725,
          0.0000967420928645879,
          0.0002062560961348936,
          0.00008121528662741184,
          0.0011500392574816942,
          0.0004187518497928977,
          0.0005080176633782685,
          0.0438399538397789,
          0.03801878169178963
         ],
         "yaxis": "y"
        },
        {
         "hovertemplate": "variable=topic_19<br>timepoint=%{x}<br>value=%{y}<extra></extra>",
         "legendgroup": "topic_19",
         "line": {
          "color": "#FF97FF",
          "dash": "solid"
         },
         "marker": {
          "symbol": "circle"
         },
         "mode": "lines",
         "name": "topic_19",
         "showlegend": true,
         "type": "scattergl",
         "x": [
          0,
          1,
          2,
          3,
          4,
          5,
          6,
          7,
          8,
          9,
          10,
          11,
          12,
          13,
          14,
          15,
          16,
          17,
          18,
          19,
          20,
          21,
          22,
          23,
          24,
          25,
          26,
          27,
          28,
          29,
          30,
          31,
          32,
          33,
          34,
          35,
          36,
          37,
          38,
          39,
          40,
          41,
          42,
          43,
          44,
          45
         ],
         "xaxis": "x",
         "y": [
          0.042356085032224655,
          0.049782685935497284,
          0.04126979410648346,
          0.03725741431117058,
          0.03599748760461807,
          0.049174193292856216,
          0.05571809038519859,
          0.04562949761748314,
          0.04333067312836647,
          0.06211400032043457,
          0.047243088483810425,
          0.03920270502567291,
          0.05818163603544235,
          0.012184446677565575,
          0.00047018221812322736,
          0.03291275352239609,
          0.00011309049295959994,
          0.021746208891272545,
          0.00012183660146547481,
          0.008032295852899551,
          0.0001341979659628123,
          0.0014825536636635661,
          0.0003298688097856939,
          0.019632183015346527,
          0.00009805661102291197,
          0.0005398414214141667,
          0.0030810716561973095,
          0.00016227213200181723,
          0.00003898193608620204,
          0.0010657174279913306,
          0.0001943938696058467,
          0.00015452921797987074,
          0.00007743876631138846,
          0.0010583177208900452,
          0.00018198556790594012,
          0.00012341905676294118,
          0.0004112051101401448,
          0.00018295241170562804,
          0.0001888774277176708,
          0.0002062560961348936,
          0.00008121528662741184,
          0.0007140054367482662,
          0.0006772406050004065,
          0.0003068225341849029,
          0.042456019669771194,
          0.0440775528550148
         ],
         "yaxis": "y"
        },
        {
         "hovertemplate": "variable=topic_20<br>timepoint=%{x}<br>value=%{y}<extra></extra>",
         "legendgroup": "topic_20",
         "line": {
          "color": "#FECB52",
          "dash": "solid"
         },
         "marker": {
          "symbol": "circle"
         },
         "mode": "lines",
         "name": "topic_20",
         "showlegend": true,
         "type": "scattergl",
         "x": [
          0,
          1,
          2,
          3,
          4,
          5,
          6,
          7,
          8,
          9,
          10,
          11,
          12,
          13,
          14,
          15,
          16,
          17,
          18,
          19,
          20,
          21,
          22,
          23,
          24,
          25,
          26,
          27,
          28,
          29,
          30,
          31,
          32,
          33,
          34,
          35,
          36,
          37,
          38,
          39,
          40,
          41,
          42,
          43,
          44,
          45
         ],
         "xaxis": "x",
         "y": [
          0.05556889995932579,
          0.04120439291000366,
          0.05279682204127312,
          0.03847796842455864,
          0.03599748760461807,
          0.05466294288635254,
          0.03752672299742699,
          0.0413956344127655,
          0.042998701333999634,
          0.04287739098072052,
          0.02697545848786831,
          0.058956410735845566,
          0.06260262429714203,
          0.00661350367590785,
          0.00016017195594031364,
          0.018605824559926987,
          0.0005439114756882191,
          0.018969282507896423,
          0.00023787145619280636,
          0.0043546580709517,
          0.00009090830280911177,
          0.0009204479865729809,
          0.0002217151049990207,
          0.08357026427984238,
          0.00014475024363491684,
          0.00048639177111908793,
          0.9845638871192932,
          0.00008311498822877184,
          0.00010985817789332941,
          0.0007309371139854193,
          0.00005215445708017796,
          0.0005314297741279006,
          0.00015118997544050217,
          0.00019633947522379458,
          0.00007493523298762739,
          0.00024096103152260184,
          0.0006650354480370879,
          0.00018295241170562804,
          0.0002810127625707537,
          0.00030686883837915957,
          0.0001198892350657843,
          0.0009320224053226411,
          0.00047044959501363337,
          0.0003571213164832443,
          0.06398388743400574,
          0.05468039587140083
         ],
         "yaxis": "y"
        },
        {
         "hovertemplate": "variable=topic_21<br>timepoint=%{x}<br>value=%{y}<extra></extra>",
         "legendgroup": "topic_21",
         "line": {
          "color": "#636efa",
          "dash": "solid"
         },
         "marker": {
          "symbol": "circle"
         },
         "mode": "lines",
         "name": "topic_21",
         "showlegend": true,
         "type": "scattergl",
         "x": [
          0,
          1,
          2,
          3,
          4,
          5,
          6,
          7,
          8,
          9,
          10,
          11,
          12,
          13,
          14,
          15,
          16,
          17,
          18,
          19,
          20,
          21,
          22,
          23,
          24,
          25,
          26,
          27,
          28,
          29,
          30,
          31,
          32,
          33,
          34,
          35,
          36,
          37,
          38,
          39,
          40,
          41,
          42,
          43,
          44,
          45
         ],
         "xaxis": "x",
         "y": [
          0.04896249249577522,
          0.04806702584028244,
          0.04976339265704155,
          0.0476321280002594,
          0.0611211434006691,
          0.05067112669348717,
          0.04184013977646828,
          0.03677687421441078,
          0.053953785449266434,
          0.04321487620472908,
          0.04580146074295044,
          0.04235489293932915,
          0.03362058103084564,
          0.007568522356450558,
          0.00047018221812322736,
          0.050830479711294174,
          0.00027464833692647517,
          0.022129232063889503,
          0.00035390633274801075,
          0.005023319274187088,
          0.00009090830280911177,
          0.0004988687578588724,
          0.0001676382526056841,
          0.02108847349882126,
          0.00009805661102291197,
          0.0004329421208240092,
          0.0008766443934291601,
          0.0002018506929744035,
          0.00003898193608620204,
          0.0007867338135838509,
          0.0002892201591748744,
          0.00011683916090987623,
          0.00011431437451392412,
          0.0004357778816483915,
          0.00007493523298762739,
          0.0002997320261783898,
          0.0005127372569404542,
          0.00013832986587658525,
          0.00014280976029112935,
          0.00010564336844254285,
          0.000042541345464996994,
          0.0004959885263815522,
          0.00047044959501363337,
          0.00015592620184179395,
          0.038304220885038376,
          0.06073916703462601
         ],
         "yaxis": "y"
        },
        {
         "hovertemplate": "variable=topic_22<br>timepoint=%{x}<br>value=%{y}<extra></extra>",
         "legendgroup": "topic_22",
         "line": {
          "color": "#EF553B",
          "dash": "solid"
         },
         "marker": {
          "symbol": "circle"
         },
         "mode": "lines",
         "name": "topic_22",
         "showlegend": true,
         "type": "scattergl",
         "x": [
          0,
          1,
          2,
          3,
          4,
          5,
          6,
          7,
          8,
          9,
          10,
          11,
          12,
          13,
          14,
          15,
          16,
          17,
          18,
          19,
          20,
          21,
          22,
          23,
          24,
          25,
          26,
          27,
          28,
          29,
          30,
          31,
          32,
          33,
          34,
          35,
          36,
          37,
          38,
          39,
          40,
          41,
          42,
          43,
          44,
          45
         ],
         "xaxis": "x",
         "y": [
          0.04010390117764473,
          0.046637311577796936,
          0.044758234173059464,
          0.04946295917034149,
          0.03848368301987648,
          0.046429820358753204,
          0.0562807098031044,
          0.0440899096429348,
          0.05976330116391182,
          0.047433432191610336,
          0.03562524542212486,
          0.03174252808094025,
          0.040988896042108536,
          0.006056409329175949,
          0.00010850357648450881,
          0.014109360054135323,
          0.0002207957295468077,
          0.0296939630061388,
          0.00029588889447040856,
          0.015471155755221844,
          0.0001341979659628123,
          0.0023959751706570387,
          0.0002757919719442725,
          0.027537759393453598,
          0.00009805661102291197,
          0.00048639177111908793,
          0.0008766443934291601,
          0.00012269355647731572,
          0.00035792504786513746,
          0.00536206504330039,
          0.00024180700711440295,
          0.00019221926049795002,
          0.00011431437451392412,
          0.9926205277442932,
          0.0001106186828110367,
          0.0003585029917303473,
          0.0003604390367399901,
          0.00013832986587658525,
          0.995158314704895,
          0.00035717521677725017,
          0.0001198892350657843,
          0.0004959885263815522,
          0.0005738451145589352,
          0.0005080176633782685,
          0.03784290701150894,
          0.03498939797282219
         ],
         "yaxis": "y"
        }
       ],
       "layout": {
        "legend": {
         "title": {
          "text": "variable"
         },
         "tracegroupgap": 0
        },
        "template": {
         "data": {
          "bar": [
           {
            "error_x": {
             "color": "#2a3f5f"
            },
            "error_y": {
             "color": "#2a3f5f"
            },
            "marker": {
             "line": {
              "color": "#E5ECF6",
              "width": 0.5
             },
             "pattern": {
              "fillmode": "overlay",
              "size": 10,
              "solidity": 0.2
             }
            },
            "type": "bar"
           }
          ],
          "barpolar": [
           {
            "marker": {
             "line": {
              "color": "#E5ECF6",
              "width": 0.5
             },
             "pattern": {
              "fillmode": "overlay",
              "size": 10,
              "solidity": 0.2
             }
            },
            "type": "barpolar"
           }
          ],
          "carpet": [
           {
            "aaxis": {
             "endlinecolor": "#2a3f5f",
             "gridcolor": "white",
             "linecolor": "white",
             "minorgridcolor": "white",
             "startlinecolor": "#2a3f5f"
            },
            "baxis": {
             "endlinecolor": "#2a3f5f",
             "gridcolor": "white",
             "linecolor": "white",
             "minorgridcolor": "white",
             "startlinecolor": "#2a3f5f"
            },
            "type": "carpet"
           }
          ],
          "choropleth": [
           {
            "colorbar": {
             "outlinewidth": 0,
             "ticks": ""
            },
            "type": "choropleth"
           }
          ],
          "contour": [
           {
            "colorbar": {
             "outlinewidth": 0,
             "ticks": ""
            },
            "colorscale": [
             [
              0,
              "#0d0887"
             ],
             [
              0.1111111111111111,
              "#46039f"
             ],
             [
              0.2222222222222222,
              "#7201a8"
             ],
             [
              0.3333333333333333,
              "#9c179e"
             ],
             [
              0.4444444444444444,
              "#bd3786"
             ],
             [
              0.5555555555555556,
              "#d8576b"
             ],
             [
              0.6666666666666666,
              "#ed7953"
             ],
             [
              0.7777777777777778,
              "#fb9f3a"
             ],
             [
              0.8888888888888888,
              "#fdca26"
             ],
             [
              1,
              "#f0f921"
             ]
            ],
            "type": "contour"
           }
          ],
          "contourcarpet": [
           {
            "colorbar": {
             "outlinewidth": 0,
             "ticks": ""
            },
            "type": "contourcarpet"
           }
          ],
          "heatmap": [
           {
            "colorbar": {
             "outlinewidth": 0,
             "ticks": ""
            },
            "colorscale": [
             [
              0,
              "#0d0887"
             ],
             [
              0.1111111111111111,
              "#46039f"
             ],
             [
              0.2222222222222222,
              "#7201a8"
             ],
             [
              0.3333333333333333,
              "#9c179e"
             ],
             [
              0.4444444444444444,
              "#bd3786"
             ],
             [
              0.5555555555555556,
              "#d8576b"
             ],
             [
              0.6666666666666666,
              "#ed7953"
             ],
             [
              0.7777777777777778,
              "#fb9f3a"
             ],
             [
              0.8888888888888888,
              "#fdca26"
             ],
             [
              1,
              "#f0f921"
             ]
            ],
            "type": "heatmap"
           }
          ],
          "heatmapgl": [
           {
            "colorbar": {
             "outlinewidth": 0,
             "ticks": ""
            },
            "colorscale": [
             [
              0,
              "#0d0887"
             ],
             [
              0.1111111111111111,
              "#46039f"
             ],
             [
              0.2222222222222222,
              "#7201a8"
             ],
             [
              0.3333333333333333,
              "#9c179e"
             ],
             [
              0.4444444444444444,
              "#bd3786"
             ],
             [
              0.5555555555555556,
              "#d8576b"
             ],
             [
              0.6666666666666666,
              "#ed7953"
             ],
             [
              0.7777777777777778,
              "#fb9f3a"
             ],
             [
              0.8888888888888888,
              "#fdca26"
             ],
             [
              1,
              "#f0f921"
             ]
            ],
            "type": "heatmapgl"
           }
          ],
          "histogram": [
           {
            "marker": {
             "pattern": {
              "fillmode": "overlay",
              "size": 10,
              "solidity": 0.2
             }
            },
            "type": "histogram"
           }
          ],
          "histogram2d": [
           {
            "colorbar": {
             "outlinewidth": 0,
             "ticks": ""
            },
            "colorscale": [
             [
              0,
              "#0d0887"
             ],
             [
              0.1111111111111111,
              "#46039f"
             ],
             [
              0.2222222222222222,
              "#7201a8"
             ],
             [
              0.3333333333333333,
              "#9c179e"
             ],
             [
              0.4444444444444444,
              "#bd3786"
             ],
             [
              0.5555555555555556,
              "#d8576b"
             ],
             [
              0.6666666666666666,
              "#ed7953"
             ],
             [
              0.7777777777777778,
              "#fb9f3a"
             ],
             [
              0.8888888888888888,
              "#fdca26"
             ],
             [
              1,
              "#f0f921"
             ]
            ],
            "type": "histogram2d"
           }
          ],
          "histogram2dcontour": [
           {
            "colorbar": {
             "outlinewidth": 0,
             "ticks": ""
            },
            "colorscale": [
             [
              0,
              "#0d0887"
             ],
             [
              0.1111111111111111,
              "#46039f"
             ],
             [
              0.2222222222222222,
              "#7201a8"
             ],
             [
              0.3333333333333333,
              "#9c179e"
             ],
             [
              0.4444444444444444,
              "#bd3786"
             ],
             [
              0.5555555555555556,
              "#d8576b"
             ],
             [
              0.6666666666666666,
              "#ed7953"
             ],
             [
              0.7777777777777778,
              "#fb9f3a"
             ],
             [
              0.8888888888888888,
              "#fdca26"
             ],
             [
              1,
              "#f0f921"
             ]
            ],
            "type": "histogram2dcontour"
           }
          ],
          "mesh3d": [
           {
            "colorbar": {
             "outlinewidth": 0,
             "ticks": ""
            },
            "type": "mesh3d"
           }
          ],
          "parcoords": [
           {
            "line": {
             "colorbar": {
              "outlinewidth": 0,
              "ticks": ""
             }
            },
            "type": "parcoords"
           }
          ],
          "pie": [
           {
            "automargin": true,
            "type": "pie"
           }
          ],
          "scatter": [
           {
            "fillpattern": {
             "fillmode": "overlay",
             "size": 10,
             "solidity": 0.2
            },
            "type": "scatter"
           }
          ],
          "scatter3d": [
           {
            "line": {
             "colorbar": {
              "outlinewidth": 0,
              "ticks": ""
             }
            },
            "marker": {
             "colorbar": {
              "outlinewidth": 0,
              "ticks": ""
             }
            },
            "type": "scatter3d"
           }
          ],
          "scattercarpet": [
           {
            "marker": {
             "colorbar": {
              "outlinewidth": 0,
              "ticks": ""
             }
            },
            "type": "scattercarpet"
           }
          ],
          "scattergeo": [
           {
            "marker": {
             "colorbar": {
              "outlinewidth": 0,
              "ticks": ""
             }
            },
            "type": "scattergeo"
           }
          ],
          "scattergl": [
           {
            "marker": {
             "colorbar": {
              "outlinewidth": 0,
              "ticks": ""
             }
            },
            "type": "scattergl"
           }
          ],
          "scattermapbox": [
           {
            "marker": {
             "colorbar": {
              "outlinewidth": 0,
              "ticks": ""
             }
            },
            "type": "scattermapbox"
           }
          ],
          "scatterpolar": [
           {
            "marker": {
             "colorbar": {
              "outlinewidth": 0,
              "ticks": ""
             }
            },
            "type": "scatterpolar"
           }
          ],
          "scatterpolargl": [
           {
            "marker": {
             "colorbar": {
              "outlinewidth": 0,
              "ticks": ""
             }
            },
            "type": "scatterpolargl"
           }
          ],
          "scatterternary": [
           {
            "marker": {
             "colorbar": {
              "outlinewidth": 0,
              "ticks": ""
             }
            },
            "type": "scatterternary"
           }
          ],
          "surface": [
           {
            "colorbar": {
             "outlinewidth": 0,
             "ticks": ""
            },
            "colorscale": [
             [
              0,
              "#0d0887"
             ],
             [
              0.1111111111111111,
              "#46039f"
             ],
             [
              0.2222222222222222,
              "#7201a8"
             ],
             [
              0.3333333333333333,
              "#9c179e"
             ],
             [
              0.4444444444444444,
              "#bd3786"
             ],
             [
              0.5555555555555556,
              "#d8576b"
             ],
             [
              0.6666666666666666,
              "#ed7953"
             ],
             [
              0.7777777777777778,
              "#fb9f3a"
             ],
             [
              0.8888888888888888,
              "#fdca26"
             ],
             [
              1,
              "#f0f921"
             ]
            ],
            "type": "surface"
           }
          ],
          "table": [
           {
            "cells": {
             "fill": {
              "color": "#EBF0F8"
             },
             "line": {
              "color": "white"
             }
            },
            "header": {
             "fill": {
              "color": "#C8D4E3"
             },
             "line": {
              "color": "white"
             }
            },
            "type": "table"
           }
          ]
         },
         "layout": {
          "annotationdefaults": {
           "arrowcolor": "#2a3f5f",
           "arrowhead": 0,
           "arrowwidth": 1
          },
          "autotypenumbers": "strict",
          "coloraxis": {
           "colorbar": {
            "outlinewidth": 0,
            "ticks": ""
           }
          },
          "colorscale": {
           "diverging": [
            [
             0,
             "#8e0152"
            ],
            [
             0.1,
             "#c51b7d"
            ],
            [
             0.2,
             "#de77ae"
            ],
            [
             0.3,
             "#f1b6da"
            ],
            [
             0.4,
             "#fde0ef"
            ],
            [
             0.5,
             "#f7f7f7"
            ],
            [
             0.6,
             "#e6f5d0"
            ],
            [
             0.7,
             "#b8e186"
            ],
            [
             0.8,
             "#7fbc41"
            ],
            [
             0.9,
             "#4d9221"
            ],
            [
             1,
             "#276419"
            ]
           ],
           "sequential": [
            [
             0,
             "#0d0887"
            ],
            [
             0.1111111111111111,
             "#46039f"
            ],
            [
             0.2222222222222222,
             "#7201a8"
            ],
            [
             0.3333333333333333,
             "#9c179e"
            ],
            [
             0.4444444444444444,
             "#bd3786"
            ],
            [
             0.5555555555555556,
             "#d8576b"
            ],
            [
             0.6666666666666666,
             "#ed7953"
            ],
            [
             0.7777777777777778,
             "#fb9f3a"
            ],
            [
             0.8888888888888888,
             "#fdca26"
            ],
            [
             1,
             "#f0f921"
            ]
           ],
           "sequentialminus": [
            [
             0,
             "#0d0887"
            ],
            [
             0.1111111111111111,
             "#46039f"
            ],
            [
             0.2222222222222222,
             "#7201a8"
            ],
            [
             0.3333333333333333,
             "#9c179e"
            ],
            [
             0.4444444444444444,
             "#bd3786"
            ],
            [
             0.5555555555555556,
             "#d8576b"
            ],
            [
             0.6666666666666666,
             "#ed7953"
            ],
            [
             0.7777777777777778,
             "#fb9f3a"
            ],
            [
             0.8888888888888888,
             "#fdca26"
            ],
            [
             1,
             "#f0f921"
            ]
           ]
          },
          "colorway": [
           "#636efa",
           "#EF553B",
           "#00cc96",
           "#ab63fa",
           "#FFA15A",
           "#19d3f3",
           "#FF6692",
           "#B6E880",
           "#FF97FF",
           "#FECB52"
          ],
          "font": {
           "color": "#2a3f5f"
          },
          "geo": {
           "bgcolor": "white",
           "lakecolor": "white",
           "landcolor": "#E5ECF6",
           "showlakes": true,
           "showland": true,
           "subunitcolor": "white"
          },
          "hoverlabel": {
           "align": "left"
          },
          "hovermode": "closest",
          "mapbox": {
           "style": "light"
          },
          "paper_bgcolor": "white",
          "plot_bgcolor": "#E5ECF6",
          "polar": {
           "angularaxis": {
            "gridcolor": "white",
            "linecolor": "white",
            "ticks": ""
           },
           "bgcolor": "#E5ECF6",
           "radialaxis": {
            "gridcolor": "white",
            "linecolor": "white",
            "ticks": ""
           }
          },
          "scene": {
           "xaxis": {
            "backgroundcolor": "#E5ECF6",
            "gridcolor": "white",
            "gridwidth": 2,
            "linecolor": "white",
            "showbackground": true,
            "ticks": "",
            "zerolinecolor": "white"
           },
           "yaxis": {
            "backgroundcolor": "#E5ECF6",
            "gridcolor": "white",
            "gridwidth": 2,
            "linecolor": "white",
            "showbackground": true,
            "ticks": "",
            "zerolinecolor": "white"
           },
           "zaxis": {
            "backgroundcolor": "#E5ECF6",
            "gridcolor": "white",
            "gridwidth": 2,
            "linecolor": "white",
            "showbackground": true,
            "ticks": "",
            "zerolinecolor": "white"
           }
          },
          "shapedefaults": {
           "line": {
            "color": "#2a3f5f"
           }
          },
          "ternary": {
           "aaxis": {
            "gridcolor": "white",
            "linecolor": "white",
            "ticks": ""
           },
           "baxis": {
            "gridcolor": "white",
            "linecolor": "white",
            "ticks": ""
           },
           "bgcolor": "#E5ECF6",
           "caxis": {
            "gridcolor": "white",
            "linecolor": "white",
            "ticks": ""
           }
          },
          "title": {
           "x": 0.05
          },
          "xaxis": {
           "automargin": true,
           "gridcolor": "white",
           "linecolor": "white",
           "ticks": "",
           "title": {
            "standoff": 15
           },
           "zerolinecolor": "white",
           "zerolinewidth": 2
          },
          "yaxis": {
           "automargin": true,
           "gridcolor": "white",
           "linecolor": "white",
           "ticks": "",
           "title": {
            "standoff": 15
           },
           "zerolinecolor": "white",
           "zerolinewidth": 2
          }
         }
        },
        "title": {
         "text": "All Time Period Common Topics"
        },
        "xaxis": {
         "anchor": "y",
         "domain": [
          0,
          1
         ],
         "dtick": "M1",
         "tickformat": "%b %d",
         "ticklabelmode": "period",
         "title": {
          "text": "timepoint"
         }
        },
        "yaxis": {
         "anchor": "x",
         "domain": [
          0,
          1
         ],
         "title": {
          "text": "value"
         }
        }
       }
      }
     },
     "metadata": {},
     "output_type": "display_data"
    }
   ],
   "source": [
    "td = pd.DataFrame()\n",
    "for timepoint in range(best_mdl.num_timepoints):\n",
    "    td_tmp = pd.DataFrame(\n",
    "        np.stack([doc.get_topic_dist() for doc in best_mdl.docs if doc.timepoint == timepoint]),\n",
    "        columns=[\"topic_{}\".format(i + 1) for i in range(best_mdl.k)],\n",
    "    )\n",
    "    td_tmp[\"timepoint\"] = timepoint\n",
    "    td = pd.concat([td, td_tmp], ignore_index=True)\n",
    "    del td_tmp\n",
    "\n",
    "import plotly.express as px\n",
    "fig = px.line(td, x=\"timepoint\", y=td.columns,\n",
    "            #   hover_data={\"timepoint\": \"|%B %d, %Y\"},\n",
    "              title='All Time Period Common Topics')\n",
    "fig.update_xaxes(\n",
    "    dtick=\"M1\",\n",
    "    tickformat=\"%b %d\",\n",
    "    ticklabelmode=\"period\")\n",
    "fig.show()\n",
    "\n",
    "# save the figure to html\n",
    "fig.write_html('./main_df_output/MD_topic_plot.html')"
   ]
  },
  {
   "cell_type": "markdown",
   "metadata": {},
   "source": [
    "# During the middle of time "
   ]
  },
  {
   "cell_type": "code",
   "execution_count": 286,
   "metadata": {},
   "outputs": [
    {
     "data": {
      "application/vnd.plotly.v1+json": {
       "config": {
        "plotlyServerURL": "https://plot.ly"
       },
       "data": [
        {
         "hovertemplate": "variable=topic_2<br>timepoint=%{x}<br>value=%{y}<extra></extra>",
         "legendgroup": "topic_2",
         "line": {
          "color": "#636efa",
          "dash": "solid"
         },
         "marker": {
          "symbol": "circle"
         },
         "mode": "lines",
         "name": "topic_2",
         "orientation": "v",
         "showlegend": true,
         "type": "scatter",
         "x": [
          0,
          1,
          2,
          3,
          4,
          5,
          6,
          7,
          8,
          9,
          10,
          11,
          12,
          13,
          14,
          15,
          16,
          17,
          18,
          19,
          20,
          21,
          22,
          23,
          24,
          25,
          26,
          27,
          28,
          29,
          30,
          31,
          32,
          33,
          34,
          35,
          36,
          37,
          38,
          39,
          40,
          41,
          42,
          43,
          44,
          45
         ],
         "xaxis": "x",
         "y": [
          0.04656016454100609,
          0.0477810837328434,
          0.037022992968559265,
          0.040613941848278046,
          0.05340085178613663,
          0.04942368343472481,
          0.046716175973415375,
          0.049093566834926605,
          0.11661354452371597,
          0.053001921623945236,
          0.072768434882164,
          0.05023536458611488,
          0.070462167263031,
          0.006295164115726948,
          0.0003668454592116177,
          0.025350520387291908,
          0.00038235358078964055,
          0.04128044843673706,
          0.00023787145619280636,
          0.00652780756354332,
          0.0003506463544908911,
          0.9787032008171082,
          0.9956144094467163,
          0.13454043865203857,
          0.00033152473042719066,
          0.0002191435341956094,
          0.00010765807382995263,
          0.00004353642725618556,
          0.000003543812226780574,
          0.001009920728392899,
          0.0001943938696058467,
          0.0003429795033298433,
          0.00007743876631138846,
          0.00024422715068794787,
          0.00003925179044017568,
          0.00018219005141872913,
          0.0003096729633398354,
          0.00027219747425988317,
          0.0000967420928645879,
          0.00025656245998106897,
          0.0001198892350657843,
          0.0008230139501392841,
          0.0004187518497928977,
          0.0002565237518865615,
          0.03922684118151665,
          0.0440775528550148
         ],
         "yaxis": "y"
        },
        {
         "hovertemplate": "variable=topic_6<br>timepoint=%{x}<br>value=%{y}<extra></extra>",
         "legendgroup": "topic_6",
         "line": {
          "color": "#EF553B",
          "dash": "solid"
         },
         "marker": {
          "symbol": "circle"
         },
         "mode": "lines",
         "name": "topic_6",
         "orientation": "v",
         "showlegend": true,
         "type": "scatter",
         "x": [
          0,
          1,
          2,
          3,
          4,
          5,
          6,
          7,
          8,
          9,
          10,
          11,
          12,
          13,
          14,
          15,
          16,
          17,
          18,
          19,
          20,
          21,
          22,
          23,
          24,
          25,
          26,
          27,
          28,
          29,
          30,
          31,
          32,
          33,
          34,
          35,
          36,
          37,
          38,
          39,
          40,
          41,
          42,
          43,
          44,
          45
         ],
         "xaxis": "x",
         "y": [
          0.047761328518390656,
          0.039202794432640076,
          0.042483165860176086,
          0.05068351328372955,
          0.050783805549144745,
          0.03744823485612869,
          0.046528637409210205,
          0.044474806636571884,
          0.031130697578191757,
          0.03849009424448013,
          0.02943471074104309,
          0.035630226135253906,
          0.041620466858148575,
          0.00613599456846714,
          0.00016017195594031364,
          0.0192871056497097,
          0.0004362062318250537,
          0.0846579521894455,
          0.9943665266036987,
          0.8700205087661743,
          0.9970086812973022,
          0.002817554399371147,
          0.0001676382526056841,
          0.01796784996986389,
          0.00005136298932484351,
          0.0005932910717092454,
          0.0003127210948150605,
          0.00016227213200181723,
          0.000003543812226780574,
          0.0010657174279913306,
          0.00014698073209729046,
          0.00019221926049795002,
          0.9978575706481934,
          0.0008667669608257711,
          0.0001463021180825308,
          0.0004172739863861352,
          0.00020814084564335644,
          0.0002275749429827556,
          0.0000967420928645879,
          0.00035717521677725017,
          0.00015856318350415677,
          0.001095535117201507,
          0.0007289383793249726,
          0.000759511545766145,
          0.03922684118151665,
          0.04862162843346596
         ],
         "yaxis": "y"
        },
        {
         "hovertemplate": "variable=topic_9<br>timepoint=%{x}<br>value=%{y}<extra></extra>",
         "legendgroup": "topic_9",
         "line": {
          "color": "#00cc96",
          "dash": "solid"
         },
         "marker": {
          "symbol": "circle"
         },
         "mode": "lines",
         "name": "topic_9",
         "orientation": "v",
         "showlegend": true,
         "type": "scatter",
         "x": [
          0,
          1,
          2,
          3,
          4,
          5,
          6,
          7,
          8,
          9,
          10,
          11,
          12,
          13,
          14,
          15,
          16,
          17,
          18,
          19,
          20,
          21,
          22,
          23,
          24,
          25,
          26,
          27,
          28,
          29,
          30,
          31,
          32,
          33,
          34,
          35,
          36,
          37,
          38,
          39,
          40,
          41,
          42,
          43,
          44,
          45
         ],
         "xaxis": "x",
         "y": [
          0.03214618191123009,
          0.038630906492471695,
          0.03914639353752136,
          0.048547543585300446,
          0.044110335409641266,
          0.05366498976945877,
          0.04052736237645149,
          0.03966360166668892,
          0.042832717299461365,
          0.05738921836018562,
          0.10863960534334183,
          0.04130416363477707,
          0.020147085189819336,
          0.006693088449537754,
          0.0003151770797558129,
          0.016970746219158173,
          0.0004362062318250537,
          0.0319921113550663,
          0.00029588889447040856,
          0.005608398001641035,
          0.000004328966952016344,
          0.0004988687578588724,
          0.0002757919719442725,
          0.01796784996986389,
          0.0001914438616950065,
          0.9892513155937195,
          0.0007741128792986274,
          0.00012269355647731572,
          0.00021617254242300987,
          0.9720402956008911,
          0.00014698073209729046,
          0.00011683916090987623,
          0.00015118997544050217,
          0.00014845178520772606,
          0.0000035683447094925214,
          0.0002997320261783898,
          0.0003604390367399901,
          0.000406065140850842,
          0.0002810127625707537,
          0.00035717521677725017,
          0.00015856318350415677,
          0.0009865266038104892,
          0.00031535630114376545,
          0.0003571213164832443,
          0.04922192171216011,
          0.03498939797282219
         ],
         "yaxis": "y"
        },
        {
         "hovertemplate": "variable=topic_13<br>timepoint=%{x}<br>value=%{y}<extra></extra>",
         "legendgroup": "topic_13",
         "line": {
          "color": "#ab63fa",
          "dash": "solid"
         },
         "marker": {
          "symbol": "circle"
         },
         "mode": "lines",
         "name": "topic_13",
         "orientation": "v",
         "showlegend": true,
         "type": "scatter",
         "x": [
          0,
          1,
          2,
          3,
          4,
          5,
          6,
          7,
          8,
          9,
          10,
          11,
          12,
          13,
          14,
          15,
          16,
          17,
          18,
          19,
          20,
          21,
          22,
          23,
          24,
          25,
          26,
          27,
          28,
          29,
          30,
          31,
          32,
          33,
          34,
          35,
          36,
          37,
          38,
          39,
          40,
          41,
          42,
          43,
          44,
          45
         ],
         "xaxis": "x",
         "y": [
          0.045959580689668655,
          0.054071832448244095,
          0.03156282380223274,
          0.03634199872612953,
          0.04738164320588112,
          0.04069158434867859,
          0.04615355655550957,
          0.03793156519532204,
          0.0324585847556591,
          0.0438898429274559,
          0.029689116403460503,
          0.034264277666807175,
          0.03453284874558449,
          0.011866106651723385,
          0.0008318608161062002,
          0.0941600427031517,
          0.991593599319458,
          0.10821395367383957,
          0.00023787145619280636,
          0.004521823022514582,
          0.0001341979659628123,
          0.0005691319820471108,
          0.0001676382526056841,
          0.014569839462637901,
          0.00014475024363491684,
          0.0005398414214141667,
          0.0006203156081028283,
          0.000003957856733904919,
          0.0001452963042538613,
          0.0007867338135838509,
          0.00005215445708017796,
          0.00030528943170793355,
          0.00022494119184557348,
          0.00014845178520772606,
          0.00007493523298762739,
          0.00012341905676294118,
          0.0004112051101401448,
          0.00018295241170562804,
          0.0000967420928645879,
          0.00035717521677725017,
          0.00015856318350415677,
          0.0006595012382604182,
          0.0014010092709213495,
          0.00010562742681941018,
          0.040764547884464264,
          0.04710693657398224
         ],
         "yaxis": "y"
        },
        {
         "hovertemplate": "variable=topic_14<br>timepoint=%{x}<br>value=%{y}<extra></extra>",
         "legendgroup": "topic_14",
         "line": {
          "color": "#FFA15A",
          "dash": "solid"
         },
         "marker": {
          "symbol": "circle"
         },
         "mode": "lines",
         "name": "topic_14",
         "orientation": "v",
         "showlegend": true,
         "type": "scatter",
         "x": [
          0,
          1,
          2,
          3,
          4,
          5,
          6,
          7,
          8,
          9,
          10,
          11,
          12,
          13,
          14,
          15,
          16,
          17,
          18,
          19,
          20,
          21,
          22,
          23,
          24,
          25,
          26,
          27,
          28,
          29,
          30,
          31,
          32,
          33,
          34,
          35,
          36,
          37,
          38,
          39,
          40,
          41,
          42,
          43,
          44,
          45
         ],
         "xaxis": "x",
         "y": [
          0.0521155521273613,
          0.046637311577796936,
          0.05234180763363838,
          0.05678628385066986,
          0.06334563344717026,
          0.06364452838897705,
          0.04334045946598053,
          0.03831646218895912,
          0.04067489877343178,
          0.028196820989251137,
          0.02731466479599476,
          0.05391291156411171,
          0.03888366371393204,
          0.006693088449537754,
          0.00010850357648450881,
          0.16487717628479004,
          0.0007054693414829671,
          0.031704843044281006,
          0.00023787145619280636,
          0.007614382542669773,
          0.00017748764366842806,
          0.0012717640493065119,
          0.0002757919719442725,
          0.04369564726948738,
          0.00005136298932484351,
          0.00016569388390053064,
          0.00041525260894559324,
          0.00012269355647731572,
          0.00007442005153279752,
          0.0005635469569824636,
          0.00014698073209729046,
          0.00030528943170793355,
          0.00004056316538481042,
          0.00014845178520772606,
          0.00007493523298762739,
          0.0002997320261783898,
          0.0009188657277263701,
          0.0002275749429827556,
          0.0000967420928645879,
          0.00005533700459636748,
          0.00015856318350415677,
          0.001095535117201507,
          0.0006255428888835013,
          0.0003571213164832443,
          0.039841923862695694,
          0.04559224471449852
         ],
         "yaxis": "y"
        },
        {
         "hovertemplate": "variable=topic_15<br>timepoint=%{x}<br>value=%{y}<extra></extra>",
         "legendgroup": "topic_15",
         "line": {
          "color": "#19d3f3",
          "dash": "solid"
         },
         "marker": {
          "symbol": "circle"
         },
         "mode": "lines",
         "name": "topic_15",
         "orientation": "v",
         "showlegend": true,
         "type": "scatter",
         "x": [
          0,
          1,
          2,
          3,
          4,
          5,
          6,
          7,
          8,
          9,
          10,
          11,
          12,
          13,
          14,
          15,
          16,
          17,
          18,
          19,
          20,
          21,
          22,
          23,
          24,
          25,
          26,
          27,
          28,
          29,
          30,
          31,
          32,
          33,
          34,
          35,
          36,
          37,
          38,
          39,
          40,
          41,
          42,
          43,
          44,
          45
         ],
         "xaxis": "x",
         "y": [
          0.03665054962038994,
          0.03205421566963196,
          0.04703330621123314,
          0.04274991154670715,
          0.04267095774412155,
          0.03545232489705086,
          0.046716175973415375,
          0.05409722402691841,
          0.03743816912174225,
          0.04405858740210533,
          0.026466647163033485,
          0.038992561399936676,
          0.030743427574634552,
          0.00740935280919075,
          0.0003151770797558129,
          0.01731138676404953,
          0.0005439114756882191,
          0.02710855007171631,
          0.0001798540324671194,
          0.0043546580709517,
          0.000047618639655411243,
          0.0016230801120400429,
          0.0002757919719442725,
          0.2542336583137512,
          0.9969135522842407,
          0.0010743378661572933,
          0.000722847122233361,
          0.00016227213200181723,
          0.00003898193608620204,
          0.0020700583700090647,
          0.00014698073209729046,
          0.00019221926049795002,
          0.00007743876631138846,
          0.00014845178520772606,
          0.0000035683447094925214,
          0.0005348160048015416,
          0.0006142693455331028,
          0.00009370732732350007,
          0.00014280976029112935,
          0.00010564336844254285,
          0.0001198892350657843,
          0.0008230139501392841,
          0.0003670540754683316,
          0.0008098102989606559,
          0.05106716603040695,
          0.03347470611333847
         ],
         "yaxis": "y"
        }
       ],
       "layout": {
        "legend": {
         "title": {
          "text": "variable"
         },
         "tracegroupgap": 0
        },
        "template": {
         "data": {
          "bar": [
           {
            "error_x": {
             "color": "#2a3f5f"
            },
            "error_y": {
             "color": "#2a3f5f"
            },
            "marker": {
             "line": {
              "color": "#E5ECF6",
              "width": 0.5
             },
             "pattern": {
              "fillmode": "overlay",
              "size": 10,
              "solidity": 0.2
             }
            },
            "type": "bar"
           }
          ],
          "barpolar": [
           {
            "marker": {
             "line": {
              "color": "#E5ECF6",
              "width": 0.5
             },
             "pattern": {
              "fillmode": "overlay",
              "size": 10,
              "solidity": 0.2
             }
            },
            "type": "barpolar"
           }
          ],
          "carpet": [
           {
            "aaxis": {
             "endlinecolor": "#2a3f5f",
             "gridcolor": "white",
             "linecolor": "white",
             "minorgridcolor": "white",
             "startlinecolor": "#2a3f5f"
            },
            "baxis": {
             "endlinecolor": "#2a3f5f",
             "gridcolor": "white",
             "linecolor": "white",
             "minorgridcolor": "white",
             "startlinecolor": "#2a3f5f"
            },
            "type": "carpet"
           }
          ],
          "choropleth": [
           {
            "colorbar": {
             "outlinewidth": 0,
             "ticks": ""
            },
            "type": "choropleth"
           }
          ],
          "contour": [
           {
            "colorbar": {
             "outlinewidth": 0,
             "ticks": ""
            },
            "colorscale": [
             [
              0,
              "#0d0887"
             ],
             [
              0.1111111111111111,
              "#46039f"
             ],
             [
              0.2222222222222222,
              "#7201a8"
             ],
             [
              0.3333333333333333,
              "#9c179e"
             ],
             [
              0.4444444444444444,
              "#bd3786"
             ],
             [
              0.5555555555555556,
              "#d8576b"
             ],
             [
              0.6666666666666666,
              "#ed7953"
             ],
             [
              0.7777777777777778,
              "#fb9f3a"
             ],
             [
              0.8888888888888888,
              "#fdca26"
             ],
             [
              1,
              "#f0f921"
             ]
            ],
            "type": "contour"
           }
          ],
          "contourcarpet": [
           {
            "colorbar": {
             "outlinewidth": 0,
             "ticks": ""
            },
            "type": "contourcarpet"
           }
          ],
          "heatmap": [
           {
            "colorbar": {
             "outlinewidth": 0,
             "ticks": ""
            },
            "colorscale": [
             [
              0,
              "#0d0887"
             ],
             [
              0.1111111111111111,
              "#46039f"
             ],
             [
              0.2222222222222222,
              "#7201a8"
             ],
             [
              0.3333333333333333,
              "#9c179e"
             ],
             [
              0.4444444444444444,
              "#bd3786"
             ],
             [
              0.5555555555555556,
              "#d8576b"
             ],
             [
              0.6666666666666666,
              "#ed7953"
             ],
             [
              0.7777777777777778,
              "#fb9f3a"
             ],
             [
              0.8888888888888888,
              "#fdca26"
             ],
             [
              1,
              "#f0f921"
             ]
            ],
            "type": "heatmap"
           }
          ],
          "heatmapgl": [
           {
            "colorbar": {
             "outlinewidth": 0,
             "ticks": ""
            },
            "colorscale": [
             [
              0,
              "#0d0887"
             ],
             [
              0.1111111111111111,
              "#46039f"
             ],
             [
              0.2222222222222222,
              "#7201a8"
             ],
             [
              0.3333333333333333,
              "#9c179e"
             ],
             [
              0.4444444444444444,
              "#bd3786"
             ],
             [
              0.5555555555555556,
              "#d8576b"
             ],
             [
              0.6666666666666666,
              "#ed7953"
             ],
             [
              0.7777777777777778,
              "#fb9f3a"
             ],
             [
              0.8888888888888888,
              "#fdca26"
             ],
             [
              1,
              "#f0f921"
             ]
            ],
            "type": "heatmapgl"
           }
          ],
          "histogram": [
           {
            "marker": {
             "pattern": {
              "fillmode": "overlay",
              "size": 10,
              "solidity": 0.2
             }
            },
            "type": "histogram"
           }
          ],
          "histogram2d": [
           {
            "colorbar": {
             "outlinewidth": 0,
             "ticks": ""
            },
            "colorscale": [
             [
              0,
              "#0d0887"
             ],
             [
              0.1111111111111111,
              "#46039f"
             ],
             [
              0.2222222222222222,
              "#7201a8"
             ],
             [
              0.3333333333333333,
              "#9c179e"
             ],
             [
              0.4444444444444444,
              "#bd3786"
             ],
             [
              0.5555555555555556,
              "#d8576b"
             ],
             [
              0.6666666666666666,
              "#ed7953"
             ],
             [
              0.7777777777777778,
              "#fb9f3a"
             ],
             [
              0.8888888888888888,
              "#fdca26"
             ],
             [
              1,
              "#f0f921"
             ]
            ],
            "type": "histogram2d"
           }
          ],
          "histogram2dcontour": [
           {
            "colorbar": {
             "outlinewidth": 0,
             "ticks": ""
            },
            "colorscale": [
             [
              0,
              "#0d0887"
             ],
             [
              0.1111111111111111,
              "#46039f"
             ],
             [
              0.2222222222222222,
              "#7201a8"
             ],
             [
              0.3333333333333333,
              "#9c179e"
             ],
             [
              0.4444444444444444,
              "#bd3786"
             ],
             [
              0.5555555555555556,
              "#d8576b"
             ],
             [
              0.6666666666666666,
              "#ed7953"
             ],
             [
              0.7777777777777778,
              "#fb9f3a"
             ],
             [
              0.8888888888888888,
              "#fdca26"
             ],
             [
              1,
              "#f0f921"
             ]
            ],
            "type": "histogram2dcontour"
           }
          ],
          "mesh3d": [
           {
            "colorbar": {
             "outlinewidth": 0,
             "ticks": ""
            },
            "type": "mesh3d"
           }
          ],
          "parcoords": [
           {
            "line": {
             "colorbar": {
              "outlinewidth": 0,
              "ticks": ""
             }
            },
            "type": "parcoords"
           }
          ],
          "pie": [
           {
            "automargin": true,
            "type": "pie"
           }
          ],
          "scatter": [
           {
            "fillpattern": {
             "fillmode": "overlay",
             "size": 10,
             "solidity": 0.2
            },
            "type": "scatter"
           }
          ],
          "scatter3d": [
           {
            "line": {
             "colorbar": {
              "outlinewidth": 0,
              "ticks": ""
             }
            },
            "marker": {
             "colorbar": {
              "outlinewidth": 0,
              "ticks": ""
             }
            },
            "type": "scatter3d"
           }
          ],
          "scattercarpet": [
           {
            "marker": {
             "colorbar": {
              "outlinewidth": 0,
              "ticks": ""
             }
            },
            "type": "scattercarpet"
           }
          ],
          "scattergeo": [
           {
            "marker": {
             "colorbar": {
              "outlinewidth": 0,
              "ticks": ""
             }
            },
            "type": "scattergeo"
           }
          ],
          "scattergl": [
           {
            "marker": {
             "colorbar": {
              "outlinewidth": 0,
              "ticks": ""
             }
            },
            "type": "scattergl"
           }
          ],
          "scattermapbox": [
           {
            "marker": {
             "colorbar": {
              "outlinewidth": 0,
              "ticks": ""
             }
            },
            "type": "scattermapbox"
           }
          ],
          "scatterpolar": [
           {
            "marker": {
             "colorbar": {
              "outlinewidth": 0,
              "ticks": ""
             }
            },
            "type": "scatterpolar"
           }
          ],
          "scatterpolargl": [
           {
            "marker": {
             "colorbar": {
              "outlinewidth": 0,
              "ticks": ""
             }
            },
            "type": "scatterpolargl"
           }
          ],
          "scatterternary": [
           {
            "marker": {
             "colorbar": {
              "outlinewidth": 0,
              "ticks": ""
             }
            },
            "type": "scatterternary"
           }
          ],
          "surface": [
           {
            "colorbar": {
             "outlinewidth": 0,
             "ticks": ""
            },
            "colorscale": [
             [
              0,
              "#0d0887"
             ],
             [
              0.1111111111111111,
              "#46039f"
             ],
             [
              0.2222222222222222,
              "#7201a8"
             ],
             [
              0.3333333333333333,
              "#9c179e"
             ],
             [
              0.4444444444444444,
              "#bd3786"
             ],
             [
              0.5555555555555556,
              "#d8576b"
             ],
             [
              0.6666666666666666,
              "#ed7953"
             ],
             [
              0.7777777777777778,
              "#fb9f3a"
             ],
             [
              0.8888888888888888,
              "#fdca26"
             ],
             [
              1,
              "#f0f921"
             ]
            ],
            "type": "surface"
           }
          ],
          "table": [
           {
            "cells": {
             "fill": {
              "color": "#EBF0F8"
             },
             "line": {
              "color": "white"
             }
            },
            "header": {
             "fill": {
              "color": "#C8D4E3"
             },
             "line": {
              "color": "white"
             }
            },
            "type": "table"
           }
          ]
         },
         "layout": {
          "annotationdefaults": {
           "arrowcolor": "#2a3f5f",
           "arrowhead": 0,
           "arrowwidth": 1
          },
          "autotypenumbers": "strict",
          "coloraxis": {
           "colorbar": {
            "outlinewidth": 0,
            "ticks": ""
           }
          },
          "colorscale": {
           "diverging": [
            [
             0,
             "#8e0152"
            ],
            [
             0.1,
             "#c51b7d"
            ],
            [
             0.2,
             "#de77ae"
            ],
            [
             0.3,
             "#f1b6da"
            ],
            [
             0.4,
             "#fde0ef"
            ],
            [
             0.5,
             "#f7f7f7"
            ],
            [
             0.6,
             "#e6f5d0"
            ],
            [
             0.7,
             "#b8e186"
            ],
            [
             0.8,
             "#7fbc41"
            ],
            [
             0.9,
             "#4d9221"
            ],
            [
             1,
             "#276419"
            ]
           ],
           "sequential": [
            [
             0,
             "#0d0887"
            ],
            [
             0.1111111111111111,
             "#46039f"
            ],
            [
             0.2222222222222222,
             "#7201a8"
            ],
            [
             0.3333333333333333,
             "#9c179e"
            ],
            [
             0.4444444444444444,
             "#bd3786"
            ],
            [
             0.5555555555555556,
             "#d8576b"
            ],
            [
             0.6666666666666666,
             "#ed7953"
            ],
            [
             0.7777777777777778,
             "#fb9f3a"
            ],
            [
             0.8888888888888888,
             "#fdca26"
            ],
            [
             1,
             "#f0f921"
            ]
           ],
           "sequentialminus": [
            [
             0,
             "#0d0887"
            ],
            [
             0.1111111111111111,
             "#46039f"
            ],
            [
             0.2222222222222222,
             "#7201a8"
            ],
            [
             0.3333333333333333,
             "#9c179e"
            ],
            [
             0.4444444444444444,
             "#bd3786"
            ],
            [
             0.5555555555555556,
             "#d8576b"
            ],
            [
             0.6666666666666666,
             "#ed7953"
            ],
            [
             0.7777777777777778,
             "#fb9f3a"
            ],
            [
             0.8888888888888888,
             "#fdca26"
            ],
            [
             1,
             "#f0f921"
            ]
           ]
          },
          "colorway": [
           "#636efa",
           "#EF553B",
           "#00cc96",
           "#ab63fa",
           "#FFA15A",
           "#19d3f3",
           "#FF6692",
           "#B6E880",
           "#FF97FF",
           "#FECB52"
          ],
          "font": {
           "color": "#2a3f5f"
          },
          "geo": {
           "bgcolor": "white",
           "lakecolor": "white",
           "landcolor": "#E5ECF6",
           "showlakes": true,
           "showland": true,
           "subunitcolor": "white"
          },
          "hoverlabel": {
           "align": "left"
          },
          "hovermode": "closest",
          "mapbox": {
           "style": "light"
          },
          "paper_bgcolor": "white",
          "plot_bgcolor": "#E5ECF6",
          "polar": {
           "angularaxis": {
            "gridcolor": "white",
            "linecolor": "white",
            "ticks": ""
           },
           "bgcolor": "#E5ECF6",
           "radialaxis": {
            "gridcolor": "white",
            "linecolor": "white",
            "ticks": ""
           }
          },
          "scene": {
           "xaxis": {
            "backgroundcolor": "#E5ECF6",
            "gridcolor": "white",
            "gridwidth": 2,
            "linecolor": "white",
            "showbackground": true,
            "ticks": "",
            "zerolinecolor": "white"
           },
           "yaxis": {
            "backgroundcolor": "#E5ECF6",
            "gridcolor": "white",
            "gridwidth": 2,
            "linecolor": "white",
            "showbackground": true,
            "ticks": "",
            "zerolinecolor": "white"
           },
           "zaxis": {
            "backgroundcolor": "#E5ECF6",
            "gridcolor": "white",
            "gridwidth": 2,
            "linecolor": "white",
            "showbackground": true,
            "ticks": "",
            "zerolinecolor": "white"
           }
          },
          "shapedefaults": {
           "line": {
            "color": "#2a3f5f"
           }
          },
          "ternary": {
           "aaxis": {
            "gridcolor": "white",
            "linecolor": "white",
            "ticks": ""
           },
           "baxis": {
            "gridcolor": "white",
            "linecolor": "white",
            "ticks": ""
           },
           "bgcolor": "#E5ECF6",
           "caxis": {
            "gridcolor": "white",
            "linecolor": "white",
            "ticks": ""
           }
          },
          "title": {
           "x": 0.05
          },
          "xaxis": {
           "automargin": true,
           "gridcolor": "white",
           "linecolor": "white",
           "ticks": "",
           "title": {
            "standoff": 15
           },
           "zerolinecolor": "white",
           "zerolinewidth": 2
          },
          "yaxis": {
           "automargin": true,
           "gridcolor": "white",
           "linecolor": "white",
           "ticks": "",
           "title": {
            "standoff": 15
           },
           "zerolinecolor": "white",
           "zerolinewidth": 2
          }
         }
        },
        "title": {
         "text": "Middle Time Period Common Topics"
        },
        "xaxis": {
         "anchor": "y",
         "domain": [
          0,
          1
         ],
         "dtick": "M1",
         "tickformat": "%b %d",
         "ticklabelmode": "period",
         "title": {
          "text": "timepoint"
         }
        },
        "yaxis": {
         "anchor": "x",
         "domain": [
          0,
          1
         ],
         "title": {
          "text": "value"
         }
        }
       }
      }
     },
     "metadata": {},
     "output_type": "display_data"
    }
   ],
   "source": [
    "td = pd.DataFrame()\n",
    "for timepoint in range(best_mdl.num_timepoints):\n",
    "    td_tmp = pd.DataFrame(\n",
    "        np.stack([doc.get_topic_dist() for doc in best_mdl.docs if doc.timepoint == timepoint]),\n",
    "        columns=[\"topic_{}\".format(i + 1) for i in range(best_mdl.k)],\n",
    "    )\n",
    "    td_tmp[\"timepoint\"] = timepoint\n",
    "    td = pd.concat([td, td_tmp], ignore_index=True)\n",
    "    del td_tmp\n",
    "\n",
    "import plotly.express as px\n",
    "fig = px.line(td, x=\"timepoint\", y=['topic_2', 'topic_6', 'topic_9', 'topic_13', 'topic_14', 'topic_15'],\n",
    "            #   hover_data={\"timepoint\": \"|%B %d, %Y\"},\n",
    "              title='Middle Time Period Common Topics')\n",
    "fig.update_xaxes(\n",
    "    dtick=\"M1\",\n",
    "    tickformat=\"%b %d\",\n",
    "    ticklabelmode=\"period\")\n",
    "fig.show()"
   ]
  },
  {
   "cell_type": "code",
   "execution_count": 117,
   "metadata": {},
   "outputs": [],
   "source": [
    "# td_timep38 = td[td['timepoint']==38]\n",
    "# # sort the topic_13 inside td_tp38\n",
    "# td_timep38 = td_timep38.sort_values(by=[\"topic_22\"], ascending=False)\n",
    "# td_timep38.head(10)"
   ]
  },
  {
   "cell_type": "code",
   "execution_count": 281,
   "metadata": {},
   "outputs": [],
   "source": [
    "# - 2 > timep 22, 21\n",
    "# - 6 > timep 18, 19, 20\n",
    "# - 9 > timep 29, 25\n",
    "# - 13 > timep 16\n",
    "# - 14 > timep 15, 23, 17\n",
    "# - 15 > timep 24\n",
    "\n",
    "# topic_2\n",
    "topic_2 = wt[wt['k']==1] # start with 0\n",
    "# select timepoint\n",
    "topic_2_22 = topic_2[topic_2['timepoint']==22]\n",
    "topic_2_21 = topic_2[topic_2['timepoint']==21]\n",
    "# concat\n",
    "topic_2_concate = pd.concat([topic_2_22, topic_2_21], ignore_index=True)\n",
    "topic_2_concate.sort_values(by='prob', ascending=False, inplace=True)\n",
    "\n",
    "# topic_6\n",
    "topic_6 = wt[wt['k']==5] # start with 0\n",
    "# select timepoint\n",
    "topic_6_22 = topic_6[topic_6['timepoint']==22]\n",
    "topic_6_21 = topic_6[topic_6['timepoint']==21]\n",
    "# concat\n",
    "topic_6_concate = pd.concat([topic_6_22, topic_6_22], ignore_index=True)\n",
    "topic_6_concate.sort_values(by='prob', ascending=False, inplace=True)\n",
    "\n",
    "# topic_9\n",
    "topic_9= wt[wt['k']==8] # start with 0\n",
    "# select timepoint\n",
    "topic_9_29 = topic_9[topic_9['timepoint']==29]\n",
    "topic_9_25 = topic_9[topic_9['timepoint']==25]\n",
    "# concat \n",
    "topic_9_concat = pd.concat([topic_9_29, topic_9_25], ignore_index=True)\n",
    "topic_9_concat.sort_values(by='prob', ascending=False, inplace=True)\n",
    "\n",
    "# topic_13\n",
    "topic_13= wt[wt['k']==12] # start with 0\n",
    "# select timepoint\n",
    "topic_13_16 = topic_13[topic_13['timepoint']==16]\n",
    "# concat\n",
    "topic_13_concate = topic_13_16.copy()\n",
    "topic_13_concate.sort_values(by='prob', ascending=False, inplace=True)\n",
    "\n",
    "# topic_14\n",
    "topic_14= wt[wt['k']==13] # start with 0\n",
    "# select timepoint\n",
    "topic_14_15 = topic_14[topic_14['timepoint']==15]\n",
    "topic_14_23 = topic_14[topic_14['timepoint']==23]\n",
    "topic_14_17 = topic_14[topic_14['timepoint']==17]\n",
    "# concat \n",
    "topic_14_concat = pd.concat([topic_14_15, topic_14_23, topic_14_17], ignore_index=True)\n",
    "topic_14_concat.sort_values(by='prob', ascending=False, inplace=True)\n",
    "\n",
    "# topic_15\n",
    "topic_15 = wt[wt['k']==14] # start with 0\n",
    "# select timepoint\n",
    "topic_15_24 = topic_15[topic_15['timepoint']==24]\n",
    "# concat\n",
    "topic_15_concate = topic_15_24.copy()\n",
    "topic_15_concate.sort_values(by='prob', ascending=False, inplace=True)"
   ]
  },
  {
   "cell_type": "code",
   "execution_count": 282,
   "metadata": {},
   "outputs": [
    {
     "data": {
      "text/html": [
       "<div>\n",
       "<style scoped>\n",
       "    .dataframe tbody tr th:only-of-type {\n",
       "        vertical-align: middle;\n",
       "    }\n",
       "\n",
       "    .dataframe tbody tr th {\n",
       "        vertical-align: top;\n",
       "    }\n",
       "\n",
       "    .dataframe thead th {\n",
       "        text-align: right;\n",
       "    }\n",
       "</style>\n",
       "<table border=\"1\" class=\"dataframe\">\n",
       "  <thead>\n",
       "    <tr style=\"text-align: right;\">\n",
       "      <th></th>\n",
       "      <th>51</th>\n",
       "      <th>47</th>\n",
       "      <th>24</th>\n",
       "      <th>26</th>\n",
       "      <th>33</th>\n",
       "      <th>18</th>\n",
       "      <th>2</th>\n",
       "      <th>4</th>\n",
       "      <th>6</th>\n",
       "      <th>50</th>\n",
       "      <th>48</th>\n",
       "      <th>46</th>\n",
       "      <th>5</th>\n",
       "      <th>25</th>\n",
       "      <th>0</th>\n",
       "      <th>27</th>\n",
       "      <th>37</th>\n",
       "      <th>1</th>\n",
       "      <th>7</th>\n",
       "      <th>49</th>\n",
       "      <th>23</th>\n",
       "      <th>43</th>\n",
       "      <th>52</th>\n",
       "      <th>45</th>\n",
       "      <th>36</th>\n",
       "      <th>41</th>\n",
       "      <th>42</th>\n",
       "      <th>44</th>\n",
       "      <th>16</th>\n",
       "      <th>9</th>\n",
       "      <th>8</th>\n",
       "      <th>3</th>\n",
       "      <th>35</th>\n",
       "      <th>15</th>\n",
       "      <th>21</th>\n",
       "      <th>30</th>\n",
       "      <th>19</th>\n",
       "      <th>20</th>\n",
       "      <th>28</th>\n",
       "      <th>13</th>\n",
       "      <th>22</th>\n",
       "      <th>39</th>\n",
       "      <th>34</th>\n",
       "      <th>14</th>\n",
       "      <th>32</th>\n",
       "      <th>17</th>\n",
       "      <th>11</th>\n",
       "      <th>10</th>\n",
       "      <th>12</th>\n",
       "      <th>29</th>\n",
       "      <th>31</th>\n",
       "      <th>38</th>\n",
       "      <th>40</th>\n",
       "    </tr>\n",
       "  </thead>\n",
       "  <tbody>\n",
       "    <tr>\n",
       "      <th>word</th>\n",
       "      <td>variability</td>\n",
       "      <td>suﬃcient</td>\n",
       "      <td>guarantee</td>\n",
       "      <td>inflow</td>\n",
       "      <td>protection</td>\n",
       "      <td>duration</td>\n",
       "      <td>agent</td>\n",
       "      <td>assumption</td>\n",
       "      <td>board</td>\n",
       "      <td>treaty</td>\n",
       "      <td>synergy</td>\n",
       "      <td>structure</td>\n",
       "      <td>auto</td>\n",
       "      <td>health</td>\n",
       "      <td>accit</td>\n",
       "      <td>meeting</td>\n",
       "      <td>report</td>\n",
       "      <td>agency</td>\n",
       "      <td>brand</td>\n",
       "      <td>technology</td>\n",
       "      <td>generation</td>\n",
       "      <td>solution</td>\n",
       "      <td>weather</td>\n",
       "      <td>statement</td>\n",
       "      <td>relationship</td>\n",
       "      <td>scheme</td>\n",
       "      <td>sensitivity</td>\n",
       "      <td>specialty</td>\n",
       "      <td>decrease</td>\n",
       "      <td>channel</td>\n",
       "      <td>capability</td>\n",
       "      <td>annuity</td>\n",
       "      <td>rating</td>\n",
       "      <td>deal</td>\n",
       "      <td>figure</td>\n",
       "      <td>motor</td>\n",
       "      <td>employee</td>\n",
       "      <td>fee</td>\n",
       "      <td>mm</td>\n",
       "      <td>confit</td>\n",
       "      <td>force</td>\n",
       "      <td>revenue</td>\n",
       "      <td>proﬁt</td>\n",
       "      <td>currency</td>\n",
       "      <td>pension</td>\n",
       "      <td>dollar</td>\n",
       "      <td>commission</td>\n",
       "      <td>class</td>\n",
       "      <td>compensation</td>\n",
       "      <td>mortgage</td>\n",
       "      <td>movement</td>\n",
       "      <td>retention</td>\n",
       "      <td>save</td>\n",
       "    </tr>\n",
       "    <tr>\n",
       "      <th>prob</th>\n",
       "      <td>0.167</td>\n",
       "      <td>0.167</td>\n",
       "      <td>0.167</td>\n",
       "      <td>0.006</td>\n",
       "      <td>0.006</td>\n",
       "      <td>0.005</td>\n",
       "      <td>0.005</td>\n",
       "      <td>0.005</td>\n",
       "      <td>0.005</td>\n",
       "      <td>0.005</td>\n",
       "      <td>0.005</td>\n",
       "      <td>0.005</td>\n",
       "      <td>0.004667</td>\n",
       "      <td>0.0045</td>\n",
       "      <td>0.0045</td>\n",
       "      <td>0.004</td>\n",
       "      <td>0.004</td>\n",
       "      <td>0.004</td>\n",
       "      <td>0.003667</td>\n",
       "      <td>0.0035</td>\n",
       "      <td>0.0035</td>\n",
       "      <td>0.0035</td>\n",
       "      <td>0.003333</td>\n",
       "      <td>0.0032</td>\n",
       "      <td>0.003</td>\n",
       "      <td>0.003</td>\n",
       "      <td>0.003</td>\n",
       "      <td>0.003</td>\n",
       "      <td>0.003</td>\n",
       "      <td>0.003</td>\n",
       "      <td>0.003</td>\n",
       "      <td>0.003</td>\n",
       "      <td>0.003</td>\n",
       "      <td>0.003</td>\n",
       "      <td>0.003</td>\n",
       "      <td>0.003</td>\n",
       "      <td>0.003</td>\n",
       "      <td>0.003</td>\n",
       "      <td>0.003</td>\n",
       "      <td>0.003</td>\n",
       "      <td>0.003</td>\n",
       "      <td>0.002875</td>\n",
       "      <td>0.002667</td>\n",
       "      <td>0.002571</td>\n",
       "      <td>0.002333</td>\n",
       "      <td>0.002</td>\n",
       "      <td>0.002</td>\n",
       "      <td>0.002</td>\n",
       "      <td>0.002</td>\n",
       "      <td>0.00175</td>\n",
       "      <td>0.00175</td>\n",
       "      <td>0.0015</td>\n",
       "      <td>0.00125</td>\n",
       "    </tr>\n",
       "  </tbody>\n",
       "</table>\n",
       "</div>"
      ],
      "text/plain": [
       "               51        47         24      26          33        18     2   \\\n",
       "word  variability  suﬃcient  guarantee  inflow  protection  duration  agent   \n",
       "prob        0.167     0.167      0.167   0.006       0.006     0.005  0.005   \n",
       "\n",
       "              4      6       50       48         46        5       25      0   \\\n",
       "word  assumption  board  treaty  synergy  structure      auto  health   accit   \n",
       "prob       0.005  0.005   0.005    0.005      0.005  0.004667  0.0045  0.0045   \n",
       "\n",
       "           27      37      1         7           49          23        43  \\\n",
       "word  meeting  report  agency     brand  technology  generation  solution   \n",
       "prob    0.004   0.004   0.004  0.003667      0.0035      0.0035    0.0035   \n",
       "\n",
       "            52         45            36      41           42         44  \\\n",
       "word   weather  statement  relationship  scheme  sensitivity  specialty   \n",
       "prob  0.003333     0.0032         0.003   0.003        0.003      0.003   \n",
       "\n",
       "            16       9           8        3       35     15      21     30  \\\n",
       "word  decrease  channel  capability  annuity  rating   deal  figure  motor   \n",
       "prob     0.003    0.003       0.003    0.003   0.003  0.003   0.003  0.003   \n",
       "\n",
       "            19     20     28      13     22        39        34        14  \\\n",
       "word  employee    fee     mm  confit  force   revenue     proﬁt  currency   \n",
       "prob     0.003  0.003  0.003   0.003  0.003  0.002875  0.002667  0.002571   \n",
       "\n",
       "            32      17          11     10            12        29        31  \\\n",
       "word   pension  dollar  commission  class  compensation  mortgage  movement   \n",
       "prob  0.002333   0.002       0.002  0.002         0.002   0.00175   0.00175   \n",
       "\n",
       "             38       40  \n",
       "word  retention     save  \n",
       "prob     0.0015  0.00125  "
      ]
     },
     "execution_count": 282,
     "metadata": {},
     "output_type": "execute_result"
    }
   ],
   "source": [
    "# concat\n",
    "topic_all_middle = pd.concat([topic_2_concate, topic_6_concate, topic_9_concat, topic_13_concate, topic_14_concat, topic_15_concate], ignore_index=True)\n",
    "# groupby word and get the average of prob\n",
    "topic_all_middle = topic_all_middle.groupby(['word'])['prob'].mean().reset_index()\n",
    "# sort by prob\n",
    "topic_all_middle.sort_values(by='prob', ascending=False, inplace=True)\n",
    "topic_all_middle.T"
   ]
  },
  {
   "cell_type": "markdown",
   "metadata": {},
   "source": [
    "# early time of the common topics"
   ]
  },
  {
   "cell_type": "code",
   "execution_count": 285,
   "metadata": {},
   "outputs": [
    {
     "data": {
      "application/vnd.plotly.v1+json": {
       "config": {
        "plotlyServerURL": "https://plot.ly"
       },
       "data": [
        {
         "hovertemplate": "variable=topic_1<br>timepoint=%{x}<br>value=%{y}<extra></extra>",
         "legendgroup": "topic_1",
         "line": {
          "color": "#636efa",
          "dash": "solid"
         },
         "marker": {
          "symbol": "circle"
         },
         "mode": "lines",
         "name": "topic_1",
         "orientation": "v",
         "showlegend": true,
         "type": "scatter",
         "x": [
          0,
          1,
          2,
          3,
          4,
          5,
          6,
          7,
          8,
          9,
          10,
          11,
          12,
          13,
          14,
          15,
          16,
          17,
          18,
          19,
          20,
          21,
          22,
          23,
          24,
          25,
          26,
          27,
          28,
          29,
          30,
          31,
          32,
          33,
          34,
          35,
          36,
          37,
          38,
          39,
          40,
          41,
          42,
          43,
          44,
          45
         ],
         "xaxis": "x",
         "y": [
          0.040404193103313446,
          0.04377788305282593,
          0.038994722068309784,
          0.05098865181207657,
          0.07433722913265228,
          0.04094107449054718,
          0.05046697333455086,
          0.04216542840003967,
          0.05370480567216873,
          0.04372110217809677,
          0.026805855333805084,
          0.036575883626937866,
          0.044287096709012985,
          0.006056409329175949,
          0.000056835211580619216,
          0.01976400427520275,
          0.00016694310761522502,
          0.02921518310904503,
          0.00046994120930321515,
          0.01104127336293459,
          0.0001341979659628123,
          0.0007096583722159266,
          0.0003839456767309457,
          0.02705232985317707,
          0.00014475024363491684,
          0.0002191435341956094,
          0.0004665183660108596,
          0.00004353642725618556,
          0.00007442005153279752,
          0.0007309371139854193,
          0.00014698073209729046,
          0.00011683916090987623,
          0.00011431437451392412,
          0.00034000250161625445,
          0.0001463021180825308,
          0.00012341905676294118,
          0.0005635033012367785,
          0.00009370732732350007,
          0.0008338247425854206,
          0.00045778797357343137,
          0.0001198892350657843,
          0.0004414842987898737,
          0.0004187518497928977,
          0.0004577188810799271,
          0.036458972841501236,
          0.04256286099553108
         ],
         "yaxis": "y"
        },
        {
         "hovertemplate": "variable=topic_10<br>timepoint=%{x}<br>value=%{y}<extra></extra>",
         "legendgroup": "topic_10",
         "line": {
          "color": "#EF553B",
          "dash": "solid"
         },
         "marker": {
          "symbol": "circle"
         },
         "mode": "lines",
         "name": "topic_10",
         "orientation": "v",
         "showlegend": true,
         "type": "scatter",
         "x": [
          0,
          1,
          2,
          3,
          4,
          5,
          6,
          7,
          8,
          9,
          10,
          11,
          12,
          13,
          14,
          15,
          16,
          17,
          18,
          19,
          20,
          21,
          22,
          23,
          24,
          25,
          26,
          27,
          28,
          29,
          30,
          31,
          32,
          33,
          34,
          35,
          36,
          37,
          38,
          39,
          40,
          41,
          42,
          43,
          44,
          45
         ],
         "xaxis": "x",
         "y": [
          0.04926278442144394,
          0.04406382516026497,
          0.040814779698848724,
          0.05831197649240494,
          0.037960272282361984,
          0.03694925457239151,
          0.04371554031968117,
          0.0517878457903862,
          0.04349666088819504,
          0.03781512752175331,
          0.03257237747311592,
          0.06284411251544952,
          0.04435727000236511,
          0.0065339189022779465,
          0.0003151770797558129,
          0.018878336995840073,
          0.00038235358078964055,
          0.023469818755984306,
          0.00029588889447040856,
          0.004939736798405647,
          0.00009090830280911177,
          0.0009907112689688802,
          0.000059484544181032106,
          0.027191024273633957,
          0.00023813749430701137,
          0.00037949244142509997,
          0.00021018958068452775,
          0.00004353642725618556,
          0.00007442005153279752,
          0.0009541239705868065,
          0.00005215445708017796,
          0.00019221926049795002,
          0.00007743876631138846,
          0.00034000250161625445,
          0.00003925179044017568,
          0.00018219005141872913,
          0.00025890691904351115,
          0.000004462253855308518,
          0.0003731480974238366,
          0.00015594973228871822,
          0.0001198892350657843,
          0.0007685096934437752,
          0.0006772406050004065,
          0.0000553286554350052,
          0.036305204033851624,
          0.039533473551273346
         ],
         "yaxis": "y"
        },
        {
         "hovertemplate": "variable=topic_11<br>timepoint=%{x}<br>value=%{y}<extra></extra>",
         "legendgroup": "topic_11",
         "line": {
          "color": "#00cc96",
          "dash": "solid"
         },
         "marker": {
          "symbol": "circle"
         },
         "mode": "lines",
         "name": "topic_11",
         "orientation": "v",
         "showlegend": true,
         "type": "scatter",
         "x": [
          0,
          1,
          2,
          3,
          4,
          5,
          6,
          7,
          8,
          9,
          10,
          11,
          12,
          13,
          14,
          15,
          16,
          17,
          18,
          19,
          20,
          21,
          22,
          23,
          24,
          25,
          26,
          27,
          28,
          29,
          30,
          31,
          32,
          33,
          34,
          35,
          36,
          37,
          38,
          39,
          40,
          41,
          42,
          43,
          44,
          45
         ],
         "xaxis": "x",
         "y": [
          0.050463948398828506,
          0.04463570937514305,
          0.050218407064676285,
          0.04213963449001312,
          0.058765798807144165,
          0.04443391412496567,
          0.05046697333455086,
          0.04890111833810806,
          0.041670817881822586,
          0.0511457584798336,
          0.041815776377916336,
          0.03016643598675728,
          0.02358563430607319,
          0.01568618044257164,
          0.00026350870030000806,
          0.018878336995840073,
          0.0005439114756882191,
          0.027012793347239494,
          0.00023787145619280636,
          0.00627705967053771,
          0.0001341979659628123,
          0.0007096583722159266,
          0.0001135613929363899,
          0.04896603152155876,
          0.00005136298932484351,
          0.0005398414214141667,
          0.0005177841521799564,
          0.00012269355647731572,
          0.00007442005153279752,
          0.0007867338135838509,
          0.00005215445708017796,
          0.0003429795033298433,
          0.00007743876631138846,
          0.0005315532325766981,
          0.00007493523298762739,
          0.0002997320261783898,
          0.0005635033012367785,
          0.00009370732732350007,
          0.00032708042999729514,
          0.00025656245998106897,
          0.0002359110803809017,
          0.0007140054367482662,
          0.000522147340234369,
          0.0003571213164832443,
          0.047684215009212494,
          0.053165704011917114
         ],
         "yaxis": "y"
        },
        {
         "hovertemplate": "variable=topic_12<br>timepoint=%{x}<br>value=%{y}<extra></extra>",
         "legendgroup": "topic_12",
         "line": {
          "color": "#ab63fa",
          "dash": "solid"
         },
         "marker": {
          "symbol": "circle"
         },
         "mode": "lines",
         "name": "topic_12",
         "orientation": "v",
         "showlegend": true,
         "type": "scatter",
         "x": [
          0,
          1,
          2,
          3,
          4,
          5,
          6,
          7,
          8,
          9,
          10,
          11,
          12,
          13,
          14,
          15,
          16,
          17,
          18,
          19,
          20,
          21,
          22,
          23,
          24,
          25,
          26,
          27,
          28,
          29,
          30,
          31,
          32,
          33,
          34,
          35,
          36,
          37,
          38,
          39,
          40,
          41,
          42,
          43,
          44,
          45
         ],
         "xaxis": "x",
         "y": [
          0.04445812478661537,
          0.05092645809054375,
          0.04126979410648346,
          0.05037837475538254,
          0.04136243462562561,
          0.046679310500621796,
          0.03602640703320503,
          0.04505215212702751,
          0.04756332188844681,
          0.038321353495121,
          0.03189396485686302,
          0.03888748958706856,
          0.02807679958641529,
          0.007091013249009848,
          0.00016017195594031364,
          0.022216619923710823,
          0.0002207957295468077,
          0.03649264574050903,
          0.00023787145619280636,
          0.003936744295060635,
          0.0001341979659628123,
          0.0009204479865729809,
          0.0002217151049990207,
          0.03093576990067959,
          0.00023813749430701137,
          0.00037949244142509997,
          0.0009279101504944265,
          0.0002018506929744035,
          0.00003898193608620204,
          0.00045195347047410905,
          0.00014698073209729046,
          0.00011683916090987623,
          0.0000036875605928798905,
          0.0003878902061842382,
          0.0001463021180825308,
          0.00047604498104192317,
          0.0008680996834300458,
          0.000004462253855308518,
          0.0000967420928645879,
          0.00015594973228871822,
          0.000042541345464996994,
          0.00022346734476741403,
          0.0007289383793249726,
          0.0003571213164832443,
          0.06444519758224487,
          0.050136320292949677
         ],
         "yaxis": "y"
        },
        {
         "hovertemplate": "variable=topic_19<br>timepoint=%{x}<br>value=%{y}<extra></extra>",
         "legendgroup": "topic_19",
         "line": {
          "color": "#FFA15A",
          "dash": "solid"
         },
         "marker": {
          "symbol": "circle"
         },
         "mode": "lines",
         "name": "topic_19",
         "orientation": "v",
         "showlegend": true,
         "type": "scatter",
         "x": [
          0,
          1,
          2,
          3,
          4,
          5,
          6,
          7,
          8,
          9,
          10,
          11,
          12,
          13,
          14,
          15,
          16,
          17,
          18,
          19,
          20,
          21,
          22,
          23,
          24,
          25,
          26,
          27,
          28,
          29,
          30,
          31,
          32,
          33,
          34,
          35,
          36,
          37,
          38,
          39,
          40,
          41,
          42,
          43,
          44,
          45
         ],
         "xaxis": "x",
         "y": [
          0.042356085032224655,
          0.049782685935497284,
          0.04126979410648346,
          0.03725741431117058,
          0.03599748760461807,
          0.049174193292856216,
          0.05571809038519859,
          0.04562949761748314,
          0.04333067312836647,
          0.06211400032043457,
          0.047243088483810425,
          0.03920270502567291,
          0.05818163603544235,
          0.012184446677565575,
          0.00047018221812322736,
          0.03291275352239609,
          0.00011309049295959994,
          0.021746208891272545,
          0.00012183660146547481,
          0.008032295852899551,
          0.0001341979659628123,
          0.0014825536636635661,
          0.0003298688097856939,
          0.019632183015346527,
          0.00009805661102291197,
          0.0005398414214141667,
          0.0030810716561973095,
          0.00016227213200181723,
          0.00003898193608620204,
          0.0010657174279913306,
          0.0001943938696058467,
          0.00015452921797987074,
          0.00007743876631138846,
          0.0010583177208900452,
          0.00018198556790594012,
          0.00012341905676294118,
          0.0004112051101401448,
          0.00018295241170562804,
          0.0001888774277176708,
          0.0002062560961348936,
          0.00008121528662741184,
          0.0007140054367482662,
          0.0006772406050004065,
          0.0003068225341849029,
          0.042456019669771194,
          0.0440775528550148
         ],
         "yaxis": "y"
        },
        {
         "hovertemplate": "variable=topic_21<br>timepoint=%{x}<br>value=%{y}<extra></extra>",
         "legendgroup": "topic_21",
         "line": {
          "color": "#19d3f3",
          "dash": "solid"
         },
         "marker": {
          "symbol": "circle"
         },
         "mode": "lines",
         "name": "topic_21",
         "orientation": "v",
         "showlegend": true,
         "type": "scatter",
         "x": [
          0,
          1,
          2,
          3,
          4,
          5,
          6,
          7,
          8,
          9,
          10,
          11,
          12,
          13,
          14,
          15,
          16,
          17,
          18,
          19,
          20,
          21,
          22,
          23,
          24,
          25,
          26,
          27,
          28,
          29,
          30,
          31,
          32,
          33,
          34,
          35,
          36,
          37,
          38,
          39,
          40,
          41,
          42,
          43,
          44,
          45
         ],
         "xaxis": "x",
         "y": [
          0.04896249249577522,
          0.04806702584028244,
          0.04976339265704155,
          0.0476321280002594,
          0.0611211434006691,
          0.05067112669348717,
          0.04184013977646828,
          0.03677687421441078,
          0.053953785449266434,
          0.04321487620472908,
          0.04580146074295044,
          0.04235489293932915,
          0.03362058103084564,
          0.007568522356450558,
          0.00047018221812322736,
          0.050830479711294174,
          0.00027464833692647517,
          0.022129232063889503,
          0.00035390633274801075,
          0.005023319274187088,
          0.00009090830280911177,
          0.0004988687578588724,
          0.0001676382526056841,
          0.02108847349882126,
          0.00009805661102291197,
          0.0004329421208240092,
          0.0008766443934291601,
          0.0002018506929744035,
          0.00003898193608620204,
          0.0007867338135838509,
          0.0002892201591748744,
          0.00011683916090987623,
          0.00011431437451392412,
          0.0004357778816483915,
          0.00007493523298762739,
          0.0002997320261783898,
          0.0005127372569404542,
          0.00013832986587658525,
          0.00014280976029112935,
          0.00010564336844254285,
          0.000042541345464996994,
          0.0004959885263815522,
          0.00047044959501363337,
          0.00015592620184179395,
          0.038304220885038376,
          0.06073916703462601
         ],
         "yaxis": "y"
        }
       ],
       "layout": {
        "legend": {
         "title": {
          "text": "variable"
         },
         "tracegroupgap": 0
        },
        "template": {
         "data": {
          "bar": [
           {
            "error_x": {
             "color": "#2a3f5f"
            },
            "error_y": {
             "color": "#2a3f5f"
            },
            "marker": {
             "line": {
              "color": "#E5ECF6",
              "width": 0.5
             },
             "pattern": {
              "fillmode": "overlay",
              "size": 10,
              "solidity": 0.2
             }
            },
            "type": "bar"
           }
          ],
          "barpolar": [
           {
            "marker": {
             "line": {
              "color": "#E5ECF6",
              "width": 0.5
             },
             "pattern": {
              "fillmode": "overlay",
              "size": 10,
              "solidity": 0.2
             }
            },
            "type": "barpolar"
           }
          ],
          "carpet": [
           {
            "aaxis": {
             "endlinecolor": "#2a3f5f",
             "gridcolor": "white",
             "linecolor": "white",
             "minorgridcolor": "white",
             "startlinecolor": "#2a3f5f"
            },
            "baxis": {
             "endlinecolor": "#2a3f5f",
             "gridcolor": "white",
             "linecolor": "white",
             "minorgridcolor": "white",
             "startlinecolor": "#2a3f5f"
            },
            "type": "carpet"
           }
          ],
          "choropleth": [
           {
            "colorbar": {
             "outlinewidth": 0,
             "ticks": ""
            },
            "type": "choropleth"
           }
          ],
          "contour": [
           {
            "colorbar": {
             "outlinewidth": 0,
             "ticks": ""
            },
            "colorscale": [
             [
              0,
              "#0d0887"
             ],
             [
              0.1111111111111111,
              "#46039f"
             ],
             [
              0.2222222222222222,
              "#7201a8"
             ],
             [
              0.3333333333333333,
              "#9c179e"
             ],
             [
              0.4444444444444444,
              "#bd3786"
             ],
             [
              0.5555555555555556,
              "#d8576b"
             ],
             [
              0.6666666666666666,
              "#ed7953"
             ],
             [
              0.7777777777777778,
              "#fb9f3a"
             ],
             [
              0.8888888888888888,
              "#fdca26"
             ],
             [
              1,
              "#f0f921"
             ]
            ],
            "type": "contour"
           }
          ],
          "contourcarpet": [
           {
            "colorbar": {
             "outlinewidth": 0,
             "ticks": ""
            },
            "type": "contourcarpet"
           }
          ],
          "heatmap": [
           {
            "colorbar": {
             "outlinewidth": 0,
             "ticks": ""
            },
            "colorscale": [
             [
              0,
              "#0d0887"
             ],
             [
              0.1111111111111111,
              "#46039f"
             ],
             [
              0.2222222222222222,
              "#7201a8"
             ],
             [
              0.3333333333333333,
              "#9c179e"
             ],
             [
              0.4444444444444444,
              "#bd3786"
             ],
             [
              0.5555555555555556,
              "#d8576b"
             ],
             [
              0.6666666666666666,
              "#ed7953"
             ],
             [
              0.7777777777777778,
              "#fb9f3a"
             ],
             [
              0.8888888888888888,
              "#fdca26"
             ],
             [
              1,
              "#f0f921"
             ]
            ],
            "type": "heatmap"
           }
          ],
          "heatmapgl": [
           {
            "colorbar": {
             "outlinewidth": 0,
             "ticks": ""
            },
            "colorscale": [
             [
              0,
              "#0d0887"
             ],
             [
              0.1111111111111111,
              "#46039f"
             ],
             [
              0.2222222222222222,
              "#7201a8"
             ],
             [
              0.3333333333333333,
              "#9c179e"
             ],
             [
              0.4444444444444444,
              "#bd3786"
             ],
             [
              0.5555555555555556,
              "#d8576b"
             ],
             [
              0.6666666666666666,
              "#ed7953"
             ],
             [
              0.7777777777777778,
              "#fb9f3a"
             ],
             [
              0.8888888888888888,
              "#fdca26"
             ],
             [
              1,
              "#f0f921"
             ]
            ],
            "type": "heatmapgl"
           }
          ],
          "histogram": [
           {
            "marker": {
             "pattern": {
              "fillmode": "overlay",
              "size": 10,
              "solidity": 0.2
             }
            },
            "type": "histogram"
           }
          ],
          "histogram2d": [
           {
            "colorbar": {
             "outlinewidth": 0,
             "ticks": ""
            },
            "colorscale": [
             [
              0,
              "#0d0887"
             ],
             [
              0.1111111111111111,
              "#46039f"
             ],
             [
              0.2222222222222222,
              "#7201a8"
             ],
             [
              0.3333333333333333,
              "#9c179e"
             ],
             [
              0.4444444444444444,
              "#bd3786"
             ],
             [
              0.5555555555555556,
              "#d8576b"
             ],
             [
              0.6666666666666666,
              "#ed7953"
             ],
             [
              0.7777777777777778,
              "#fb9f3a"
             ],
             [
              0.8888888888888888,
              "#fdca26"
             ],
             [
              1,
              "#f0f921"
             ]
            ],
            "type": "histogram2d"
           }
          ],
          "histogram2dcontour": [
           {
            "colorbar": {
             "outlinewidth": 0,
             "ticks": ""
            },
            "colorscale": [
             [
              0,
              "#0d0887"
             ],
             [
              0.1111111111111111,
              "#46039f"
             ],
             [
              0.2222222222222222,
              "#7201a8"
             ],
             [
              0.3333333333333333,
              "#9c179e"
             ],
             [
              0.4444444444444444,
              "#bd3786"
             ],
             [
              0.5555555555555556,
              "#d8576b"
             ],
             [
              0.6666666666666666,
              "#ed7953"
             ],
             [
              0.7777777777777778,
              "#fb9f3a"
             ],
             [
              0.8888888888888888,
              "#fdca26"
             ],
             [
              1,
              "#f0f921"
             ]
            ],
            "type": "histogram2dcontour"
           }
          ],
          "mesh3d": [
           {
            "colorbar": {
             "outlinewidth": 0,
             "ticks": ""
            },
            "type": "mesh3d"
           }
          ],
          "parcoords": [
           {
            "line": {
             "colorbar": {
              "outlinewidth": 0,
              "ticks": ""
             }
            },
            "type": "parcoords"
           }
          ],
          "pie": [
           {
            "automargin": true,
            "type": "pie"
           }
          ],
          "scatter": [
           {
            "fillpattern": {
             "fillmode": "overlay",
             "size": 10,
             "solidity": 0.2
            },
            "type": "scatter"
           }
          ],
          "scatter3d": [
           {
            "line": {
             "colorbar": {
              "outlinewidth": 0,
              "ticks": ""
             }
            },
            "marker": {
             "colorbar": {
              "outlinewidth": 0,
              "ticks": ""
             }
            },
            "type": "scatter3d"
           }
          ],
          "scattercarpet": [
           {
            "marker": {
             "colorbar": {
              "outlinewidth": 0,
              "ticks": ""
             }
            },
            "type": "scattercarpet"
           }
          ],
          "scattergeo": [
           {
            "marker": {
             "colorbar": {
              "outlinewidth": 0,
              "ticks": ""
             }
            },
            "type": "scattergeo"
           }
          ],
          "scattergl": [
           {
            "marker": {
             "colorbar": {
              "outlinewidth": 0,
              "ticks": ""
             }
            },
            "type": "scattergl"
           }
          ],
          "scattermapbox": [
           {
            "marker": {
             "colorbar": {
              "outlinewidth": 0,
              "ticks": ""
             }
            },
            "type": "scattermapbox"
           }
          ],
          "scatterpolar": [
           {
            "marker": {
             "colorbar": {
              "outlinewidth": 0,
              "ticks": ""
             }
            },
            "type": "scatterpolar"
           }
          ],
          "scatterpolargl": [
           {
            "marker": {
             "colorbar": {
              "outlinewidth": 0,
              "ticks": ""
             }
            },
            "type": "scatterpolargl"
           }
          ],
          "scatterternary": [
           {
            "marker": {
             "colorbar": {
              "outlinewidth": 0,
              "ticks": ""
             }
            },
            "type": "scatterternary"
           }
          ],
          "surface": [
           {
            "colorbar": {
             "outlinewidth": 0,
             "ticks": ""
            },
            "colorscale": [
             [
              0,
              "#0d0887"
             ],
             [
              0.1111111111111111,
              "#46039f"
             ],
             [
              0.2222222222222222,
              "#7201a8"
             ],
             [
              0.3333333333333333,
              "#9c179e"
             ],
             [
              0.4444444444444444,
              "#bd3786"
             ],
             [
              0.5555555555555556,
              "#d8576b"
             ],
             [
              0.6666666666666666,
              "#ed7953"
             ],
             [
              0.7777777777777778,
              "#fb9f3a"
             ],
             [
              0.8888888888888888,
              "#fdca26"
             ],
             [
              1,
              "#f0f921"
             ]
            ],
            "type": "surface"
           }
          ],
          "table": [
           {
            "cells": {
             "fill": {
              "color": "#EBF0F8"
             },
             "line": {
              "color": "white"
             }
            },
            "header": {
             "fill": {
              "color": "#C8D4E3"
             },
             "line": {
              "color": "white"
             }
            },
            "type": "table"
           }
          ]
         },
         "layout": {
          "annotationdefaults": {
           "arrowcolor": "#2a3f5f",
           "arrowhead": 0,
           "arrowwidth": 1
          },
          "autotypenumbers": "strict",
          "coloraxis": {
           "colorbar": {
            "outlinewidth": 0,
            "ticks": ""
           }
          },
          "colorscale": {
           "diverging": [
            [
             0,
             "#8e0152"
            ],
            [
             0.1,
             "#c51b7d"
            ],
            [
             0.2,
             "#de77ae"
            ],
            [
             0.3,
             "#f1b6da"
            ],
            [
             0.4,
             "#fde0ef"
            ],
            [
             0.5,
             "#f7f7f7"
            ],
            [
             0.6,
             "#e6f5d0"
            ],
            [
             0.7,
             "#b8e186"
            ],
            [
             0.8,
             "#7fbc41"
            ],
            [
             0.9,
             "#4d9221"
            ],
            [
             1,
             "#276419"
            ]
           ],
           "sequential": [
            [
             0,
             "#0d0887"
            ],
            [
             0.1111111111111111,
             "#46039f"
            ],
            [
             0.2222222222222222,
             "#7201a8"
            ],
            [
             0.3333333333333333,
             "#9c179e"
            ],
            [
             0.4444444444444444,
             "#bd3786"
            ],
            [
             0.5555555555555556,
             "#d8576b"
            ],
            [
             0.6666666666666666,
             "#ed7953"
            ],
            [
             0.7777777777777778,
             "#fb9f3a"
            ],
            [
             0.8888888888888888,
             "#fdca26"
            ],
            [
             1,
             "#f0f921"
            ]
           ],
           "sequentialminus": [
            [
             0,
             "#0d0887"
            ],
            [
             0.1111111111111111,
             "#46039f"
            ],
            [
             0.2222222222222222,
             "#7201a8"
            ],
            [
             0.3333333333333333,
             "#9c179e"
            ],
            [
             0.4444444444444444,
             "#bd3786"
            ],
            [
             0.5555555555555556,
             "#d8576b"
            ],
            [
             0.6666666666666666,
             "#ed7953"
            ],
            [
             0.7777777777777778,
             "#fb9f3a"
            ],
            [
             0.8888888888888888,
             "#fdca26"
            ],
            [
             1,
             "#f0f921"
            ]
           ]
          },
          "colorway": [
           "#636efa",
           "#EF553B",
           "#00cc96",
           "#ab63fa",
           "#FFA15A",
           "#19d3f3",
           "#FF6692",
           "#B6E880",
           "#FF97FF",
           "#FECB52"
          ],
          "font": {
           "color": "#2a3f5f"
          },
          "geo": {
           "bgcolor": "white",
           "lakecolor": "white",
           "landcolor": "#E5ECF6",
           "showlakes": true,
           "showland": true,
           "subunitcolor": "white"
          },
          "hoverlabel": {
           "align": "left"
          },
          "hovermode": "closest",
          "mapbox": {
           "style": "light"
          },
          "paper_bgcolor": "white",
          "plot_bgcolor": "#E5ECF6",
          "polar": {
           "angularaxis": {
            "gridcolor": "white",
            "linecolor": "white",
            "ticks": ""
           },
           "bgcolor": "#E5ECF6",
           "radialaxis": {
            "gridcolor": "white",
            "linecolor": "white",
            "ticks": ""
           }
          },
          "scene": {
           "xaxis": {
            "backgroundcolor": "#E5ECF6",
            "gridcolor": "white",
            "gridwidth": 2,
            "linecolor": "white",
            "showbackground": true,
            "ticks": "",
            "zerolinecolor": "white"
           },
           "yaxis": {
            "backgroundcolor": "#E5ECF6",
            "gridcolor": "white",
            "gridwidth": 2,
            "linecolor": "white",
            "showbackground": true,
            "ticks": "",
            "zerolinecolor": "white"
           },
           "zaxis": {
            "backgroundcolor": "#E5ECF6",
            "gridcolor": "white",
            "gridwidth": 2,
            "linecolor": "white",
            "showbackground": true,
            "ticks": "",
            "zerolinecolor": "white"
           }
          },
          "shapedefaults": {
           "line": {
            "color": "#2a3f5f"
           }
          },
          "ternary": {
           "aaxis": {
            "gridcolor": "white",
            "linecolor": "white",
            "ticks": ""
           },
           "baxis": {
            "gridcolor": "white",
            "linecolor": "white",
            "ticks": ""
           },
           "bgcolor": "#E5ECF6",
           "caxis": {
            "gridcolor": "white",
            "linecolor": "white",
            "ticks": ""
           }
          },
          "title": {
           "x": 0.05
          },
          "xaxis": {
           "automargin": true,
           "gridcolor": "white",
           "linecolor": "white",
           "ticks": "",
           "title": {
            "standoff": 15
           },
           "zerolinecolor": "white",
           "zerolinewidth": 2
          },
          "yaxis": {
           "automargin": true,
           "gridcolor": "white",
           "linecolor": "white",
           "ticks": "",
           "title": {
            "standoff": 15
           },
           "zerolinecolor": "white",
           "zerolinewidth": 2
          }
         }
        },
        "title": {
         "text": "Early Time Period Common Topics"
        },
        "xaxis": {
         "anchor": "y",
         "domain": [
          0,
          1
         ],
         "dtick": "M1",
         "tickformat": "%b %d",
         "ticklabelmode": "period",
         "title": {
          "text": "timepoint"
         }
        },
        "yaxis": {
         "anchor": "x",
         "domain": [
          0,
          1
         ],
         "title": {
          "text": "value"
         }
        }
       }
      }
     },
     "metadata": {},
     "output_type": "display_data"
    }
   ],
   "source": [
    "td = pd.DataFrame()\n",
    "for timepoint in range(best_mdl.num_timepoints):\n",
    "    td_tmp = pd.DataFrame(\n",
    "        np.stack([doc.get_topic_dist() for doc in best_mdl.docs if doc.timepoint == timepoint]),\n",
    "        columns=[\"topic_{}\".format(i + 1) for i in range(best_mdl.k)],\n",
    "    )\n",
    "    td_tmp[\"timepoint\"] = timepoint\n",
    "    td = pd.concat([td, td_tmp], ignore_index=True)\n",
    "    del td_tmp\n",
    "\n",
    "import plotly.express as px\n",
    "fig = px.line(td, x=\"timepoint\", y=['topic_1', 'topic_10', 'topic_11', 'topic_12', 'topic_19', 'topic_21'],\n",
    "            #   hover_data={\"timepoint\": \"|%B %d, %Y\"},\n",
    "              title='Early Time Period Common Topics')\n",
    "fig.update_xaxes(\n",
    "    dtick=\"M1\",\n",
    "    tickformat=\"%b %d\",\n",
    "    ticklabelmode=\"period\")\n",
    "fig.show()"
   ]
  },
  {
   "cell_type": "code",
   "execution_count": 264,
   "metadata": {},
   "outputs": [],
   "source": [
    "# - 1 > timep 4, 45\n",
    "# - 21 > timep 45, 4\n",
    "# - 11 > timep 4, 45\n",
    "# - 12 > timep 44, 1\n",
    "# - 10 > timep 11, 45\n",
    "# - 19 > timep 9, 12\n",
    "\n",
    "# topic_1\n",
    "topic_1 = wt[wt['k']==0] # start with 0\n",
    "# select timepoint\n",
    "topic_1_4 = topic_13[topic_13['timepoint']==4]\n",
    "topic_1_45 = topic_13[topic_13['timepoint']==45]\n",
    "# concat\n",
    "topic_1_concate = pd.concat([topic_1_4, topic_1_45], ignore_index=True)\n",
    "topic_1_concate.sort_values(by='prob', ascending=False, inplace=True)\n",
    "\n",
    "# topic_10\n",
    "topic_10 = wt[wt['k']==9] # start with 0\n",
    "# select timepoint\n",
    "topic_10_11 = topic_10[topic_10['timepoint']==11]\n",
    "topic_10_45 = topic_10[topic_10['timepoint']==45]\n",
    "# concat \n",
    "topic_10_concate = pd.concat([topic_10_11, topic_10_45], ignore_index=True)\n",
    "topic_10_concate.sort_values(by='prob', ascending=False, inplace=True)\n",
    "\n",
    "# topic_11\n",
    "topic_11= wt[wt['k']==10] # start with 0\n",
    "# select timepoint\n",
    "topic_11_4 = topic_11[topic_11['timepoint']==4]\n",
    "topic_11_45 = topic_11[topic_11['timepoint']==45]\n",
    "# concat\n",
    "topic_11_concate = pd.concat([topic_11_4, topic_11_45], ignore_index=True)\n",
    "topic_11_concate.sort_values(by='prob', ascending=False, inplace=True)\n",
    "\n",
    "# topic_12\n",
    "topic_12= wt[wt['k']==11] # start with 0\n",
    "# select timepoint\n",
    "topic_12_44 = topic_12[topic_12['timepoint']==44]\n",
    "topic_12_1 = topic_12[topic_12['timepoint']==1]\n",
    "# concat \n",
    "topic_12_concat = pd.concat([topic_12_44, topic_12_1], ignore_index=True)\n",
    "topic_12_concat.sort_values(by='prob', ascending=False, inplace=True)\n",
    "\n",
    "# topic_19\n",
    "topic_19 = wt[wt['k']==18] # start with 0\n",
    "# select timepoint\n",
    "topic_19_9 = topic_19[topic_19['timepoint']==9]\n",
    "topic_19_12 = topic_19[topic_19['timepoint']==12]\n",
    "# concat \n",
    "topic_19_concat = pd.concat([topic_19_9, topic_19_12], ignore_index=True)\n",
    "topic_19_concat.sort_values(by='prob', ascending=False, inplace=True)\n",
    "\n",
    "# topic_21\n",
    "topic_21 = wt[wt['k']==20] # start with 0\n",
    "# select timepoint\n",
    "topic_21_45 = topic_21[topic_21['timepoint']==45]\n",
    "topic_21_4 = topic_21[topic_21['timepoint']==4]\n",
    "# concat \n",
    "topic_21_concat = pd.concat([topic_21_45, topic_21_4], ignore_index=True)\n",
    "topic_21_concat.sort_values(by='prob', ascending=False, inplace=True)"
   ]
  },
  {
   "cell_type": "code",
   "execution_count": 266,
   "metadata": {},
   "outputs": [
    {
     "data": {
      "text/html": [
       "<div>\n",
       "<style scoped>\n",
       "    .dataframe tbody tr th:only-of-type {\n",
       "        vertical-align: middle;\n",
       "    }\n",
       "\n",
       "    .dataframe tbody tr th {\n",
       "        vertical-align: top;\n",
       "    }\n",
       "\n",
       "    .dataframe thead th {\n",
       "        text-align: right;\n",
       "    }\n",
       "</style>\n",
       "<table border=\"1\" class=\"dataframe\">\n",
       "  <thead>\n",
       "    <tr style=\"text-align: right;\">\n",
       "      <th></th>\n",
       "      <th>79</th>\n",
       "      <th>77</th>\n",
       "      <th>25</th>\n",
       "      <th>18</th>\n",
       "      <th>58</th>\n",
       "      <th>28</th>\n",
       "      <th>39</th>\n",
       "      <th>43</th>\n",
       "      <th>62</th>\n",
       "      <th>21</th>\n",
       "      <th>40</th>\n",
       "      <th>9</th>\n",
       "      <th>47</th>\n",
       "      <th>54</th>\n",
       "      <th>56</th>\n",
       "      <th>60</th>\n",
       "      <th>63</th>\n",
       "      <th>45</th>\n",
       "      <th>70</th>\n",
       "      <th>83</th>\n",
       "      <th>19</th>\n",
       "      <th>8</th>\n",
       "      <th>36</th>\n",
       "      <th>55</th>\n",
       "      <th>52</th>\n",
       "      <th>76</th>\n",
       "      <th>1</th>\n",
       "      <th>30</th>\n",
       "      <th>71</th>\n",
       "      <th>12</th>\n",
       "      <th>41</th>\n",
       "      <th>35</th>\n",
       "      <th>67</th>\n",
       "      <th>64</th>\n",
       "      <th>74</th>\n",
       "      <th>78</th>\n",
       "      <th>10</th>\n",
       "      <th>20</th>\n",
       "      <th>34</th>\n",
       "      <th>48</th>\n",
       "      <th>82</th>\n",
       "      <th>81</th>\n",
       "      <th>57</th>\n",
       "      <th>24</th>\n",
       "      <th>72</th>\n",
       "      <th>49</th>\n",
       "      <th>31</th>\n",
       "      <th>26</th>\n",
       "      <th>29</th>\n",
       "      <th>32</th>\n",
       "      <th>4</th>\n",
       "      <th>68</th>\n",
       "      <th>5</th>\n",
       "      <th>65</th>\n",
       "      <th>16</th>\n",
       "      <th>22</th>\n",
       "      <th>15</th>\n",
       "      <th>59</th>\n",
       "      <th>50</th>\n",
       "      <th>80</th>\n",
       "      <th>73</th>\n",
       "      <th>75</th>\n",
       "      <th>0</th>\n",
       "      <th>61</th>\n",
       "      <th>23</th>\n",
       "      <th>2</th>\n",
       "      <th>3</th>\n",
       "      <th>6</th>\n",
       "      <th>7</th>\n",
       "      <th>11</th>\n",
       "      <th>13</th>\n",
       "      <th>14</th>\n",
       "      <th>17</th>\n",
       "      <th>27</th>\n",
       "      <th>53</th>\n",
       "      <th>33</th>\n",
       "      <th>38</th>\n",
       "      <th>44</th>\n",
       "      <th>46</th>\n",
       "      <th>42</th>\n",
       "      <th>69</th>\n",
       "      <th>66</th>\n",
       "      <th>51</th>\n",
       "      <th>37</th>\n",
       "    </tr>\n",
       "  </thead>\n",
       "  <tbody>\n",
       "    <tr>\n",
       "      <th>word</th>\n",
       "      <td>wage</td>\n",
       "      <td>synergy</td>\n",
       "      <td>ehquake</td>\n",
       "      <td>destruction</td>\n",
       "      <td>player</td>\n",
       "      <td>estate</td>\n",
       "      <td>instance</td>\n",
       "      <td>inﬂation</td>\n",
       "      <td>proﬁt</td>\n",
       "      <td>diﬀerent</td>\n",
       "      <td>instrument</td>\n",
       "      <td>building</td>\n",
       "      <td>majority</td>\n",
       "      <td>overview</td>\n",
       "      <td>oﬀset</td>\n",
       "      <td>procurement</td>\n",
       "      <td>proﬁtability</td>\n",
       "      <td>ium</td>\n",
       "      <td>sensitivity</td>\n",
       "      <td>yen</td>\n",
       "      <td>discount</td>\n",
       "      <td>beneﬁts</td>\n",
       "      <td>housing</td>\n",
       "      <td>oﬀ</td>\n",
       "      <td>motor</td>\n",
       "      <td>structure</td>\n",
       "      <td>adjustment</td>\n",
       "      <td>eﬀect</td>\n",
       "      <td>situation</td>\n",
       "      <td>capacity</td>\n",
       "      <td>integration</td>\n",
       "      <td>health</td>\n",
       "      <td>retention</td>\n",
       "      <td>qbe</td>\n",
       "      <td>stock</td>\n",
       "      <td>traction</td>\n",
       "      <td>buyback</td>\n",
       "      <td>discussion</td>\n",
       "      <td>gbpb</td>\n",
       "      <td>material</td>\n",
       "      <td>winter</td>\n",
       "      <td>website</td>\n",
       "      <td>pension</td>\n",
       "      <td>efficiency</td>\n",
       "      <td>statement</td>\n",
       "      <td>meeting</td>\n",
       "      <td>fall</td>\n",
       "      <td>element</td>\n",
       "      <td>extent</td>\n",
       "      <td>financial</td>\n",
       "      <td>annuity</td>\n",
       "      <td>revenue</td>\n",
       "      <td>assumption</td>\n",
       "      <td>relationship</td>\n",
       "      <td>crop</td>\n",
       "      <td>dollar</td>\n",
       "      <td>crisis</td>\n",
       "      <td>problem</td>\n",
       "      <td>mind</td>\n",
       "      <td>weather</td>\n",
       "      <td>step</td>\n",
       "      <td>storm</td>\n",
       "      <td>accit</td>\n",
       "      <td>protection</td>\n",
       "      <td>duration</td>\n",
       "      <td>adtage</td>\n",
       "      <td>agent</td>\n",
       "      <td>auto</td>\n",
       "      <td>bank</td>\n",
       "      <td>capability</td>\n",
       "      <td>class</td>\n",
       "      <td>competitor</td>\n",
       "      <td>decrease</td>\n",
       "      <td>energy</td>\n",
       "      <td>movement</td>\n",
       "      <td>force</td>\n",
       "      <td>inflow</td>\n",
       "      <td>item</td>\n",
       "      <td>load</td>\n",
       "      <td>investor</td>\n",
       "      <td>save</td>\n",
       "      <td>respect</td>\n",
       "      <td>money</td>\n",
       "      <td>impairment</td>\n",
       "    </tr>\n",
       "    <tr>\n",
       "      <th>prob</th>\n",
       "      <td>0.039</td>\n",
       "      <td>0.032</td>\n",
       "      <td>0.02</td>\n",
       "      <td>0.019</td>\n",
       "      <td>0.019</td>\n",
       "      <td>0.019</td>\n",
       "      <td>0.019</td>\n",
       "      <td>0.019</td>\n",
       "      <td>0.0165</td>\n",
       "      <td>0.016333</td>\n",
       "      <td>0.016</td>\n",
       "      <td>0.016</td>\n",
       "      <td>0.016</td>\n",
       "      <td>0.016</td>\n",
       "      <td>0.016</td>\n",
       "      <td>0.015</td>\n",
       "      <td>0.0145</td>\n",
       "      <td>0.014</td>\n",
       "      <td>0.014</td>\n",
       "      <td>0.014</td>\n",
       "      <td>0.014</td>\n",
       "      <td>0.014</td>\n",
       "      <td>0.013</td>\n",
       "      <td>0.013</td>\n",
       "      <td>0.013</td>\n",
       "      <td>0.0125</td>\n",
       "      <td>0.011</td>\n",
       "      <td>0.0105</td>\n",
       "      <td>0.0105</td>\n",
       "      <td>0.009</td>\n",
       "      <td>0.009</td>\n",
       "      <td>0.0085</td>\n",
       "      <td>0.008</td>\n",
       "      <td>0.008</td>\n",
       "      <td>0.0075</td>\n",
       "      <td>0.007</td>\n",
       "      <td>0.007</td>\n",
       "      <td>0.007</td>\n",
       "      <td>0.006</td>\n",
       "      <td>0.006</td>\n",
       "      <td>0.006</td>\n",
       "      <td>0.006</td>\n",
       "      <td>0.006</td>\n",
       "      <td>0.006</td>\n",
       "      <td>0.006</td>\n",
       "      <td>0.006</td>\n",
       "      <td>0.006</td>\n",
       "      <td>0.006</td>\n",
       "      <td>0.006</td>\n",
       "      <td>0.006</td>\n",
       "      <td>0.0055</td>\n",
       "      <td>0.005333</td>\n",
       "      <td>0.005333</td>\n",
       "      <td>0.005</td>\n",
       "      <td>0.005</td>\n",
       "      <td>0.005</td>\n",
       "      <td>0.005</td>\n",
       "      <td>0.005</td>\n",
       "      <td>0.005</td>\n",
       "      <td>0.004</td>\n",
       "      <td>0.004</td>\n",
       "      <td>0.004</td>\n",
       "      <td>0.004</td>\n",
       "      <td>0.004</td>\n",
       "      <td>0.004</td>\n",
       "      <td>0.004</td>\n",
       "      <td>0.004</td>\n",
       "      <td>0.004</td>\n",
       "      <td>0.004</td>\n",
       "      <td>0.004</td>\n",
       "      <td>0.004</td>\n",
       "      <td>0.004</td>\n",
       "      <td>0.004</td>\n",
       "      <td>0.004</td>\n",
       "      <td>0.004</td>\n",
       "      <td>0.004</td>\n",
       "      <td>0.004</td>\n",
       "      <td>0.004</td>\n",
       "      <td>0.004</td>\n",
       "      <td>0.004</td>\n",
       "      <td>0.0035</td>\n",
       "      <td>0.0035</td>\n",
       "      <td>0.0035</td>\n",
       "      <td>0.003</td>\n",
       "    </tr>\n",
       "  </tbody>\n",
       "</table>\n",
       "</div>"
      ],
      "text/plain": [
       "         79       77       25           18      58      28        39  \\\n",
       "word   wage  synergy  ehquake  destruction  player  estate  instance   \n",
       "prob  0.039    0.032     0.02        0.019   0.019   0.019     0.019   \n",
       "\n",
       "            43      62        21          40        9         47        54  \\\n",
       "word  inﬂation   proﬁt  diﬀerent  instrument  building  majority  overview   \n",
       "prob     0.019  0.0165  0.016333       0.016     0.016     0.016     0.016   \n",
       "\n",
       "         56           60            63     45           70     83        19  \\\n",
       "word  oﬀset  procurement  proﬁtability    ium  sensitivity    yen  discount   \n",
       "prob  0.016        0.015        0.0145  0.014        0.014  0.014     0.014   \n",
       "\n",
       "           8        36     55     52         76          1       30  \\\n",
       "word  beneﬁts  housing     oﬀ  motor  structure  adjustment   eﬀect   \n",
       "prob    0.014    0.013  0.013  0.013     0.0125       0.011  0.0105   \n",
       "\n",
       "             71        12           41      35         67     64      74  \\\n",
       "word  situation  capacity  integration  health  retention    qbe   stock   \n",
       "prob     0.0105     0.009        0.009  0.0085      0.008  0.008  0.0075   \n",
       "\n",
       "            78       10          20     34        48      82       81  \\\n",
       "word  traction  buyback  discussion   gbpb  material  winter  website   \n",
       "prob     0.007    0.007       0.007  0.006     0.006   0.006    0.006   \n",
       "\n",
       "           57          24         72       49     31       26      29  \\\n",
       "word  pension  efficiency  statement  meeting   fall  element  extent   \n",
       "prob    0.006       0.006      0.006    0.006  0.006    0.006   0.006   \n",
       "\n",
       "             32       4         68          5             65     16      22  \\\n",
       "word  financial  annuity   revenue  assumption  relationship   crop  dollar   \n",
       "prob      0.006   0.0055  0.005333    0.005333         0.005  0.005   0.005   \n",
       "\n",
       "          15       59     50       80     73     75     0           61  \\\n",
       "word  crisis  problem   mind  weather   step  storm  accit  protection   \n",
       "prob   0.005    0.005  0.005    0.004  0.004  0.004  0.004       0.004   \n",
       "\n",
       "            23      2      3      6      7           11     13          14  \\\n",
       "word  duration  adtage  agent   auto   bank  capability  class  competitor   \n",
       "prob     0.004   0.004  0.004  0.004  0.004       0.004  0.004       0.004   \n",
       "\n",
       "            17      27        53     33      38     44     46        42  \\\n",
       "word  decrease  energy  movement  force  inflow   item   load  investor   \n",
       "prob     0.004   0.004     0.004  0.004   0.004  0.004  0.004     0.004   \n",
       "\n",
       "          69       66      51          37  \n",
       "word    save  respect   money  impairment  \n",
       "prob  0.0035   0.0035  0.0035       0.003  "
      ]
     },
     "execution_count": 266,
     "metadata": {},
     "output_type": "execute_result"
    }
   ],
   "source": [
    "# concat all together\n",
    "topic_all_early = pd.concat([topic_1_concate, topic_10_concate, topic_11_concate, topic_12_concat, topic_19_concat, topic_21_concat], ignore_index=True)\n",
    "\n",
    "# groupby word and get the average of prob\n",
    "topic_all_early = topic_all_early.groupby(['word'])['prob'].mean().reset_index()\n",
    "# sort by prob\n",
    "topic_all_early.sort_values(by='prob', ascending=False, inplace=True)\n",
    "topic_all_early.T"
   ]
  },
  {
   "cell_type": "code",
   "execution_count": null,
   "metadata": {},
   "outputs": [],
   "source": [
    "ehquake, destruction, estate, instrument, building, yen, housing"
   ]
  },
  {
   "cell_type": "markdown",
   "metadata": {},
   "source": [
    "# recent time of the common topics"
   ]
  },
  {
   "cell_type": "code",
   "execution_count": 284,
   "metadata": {},
   "outputs": [
    {
     "data": {
      "application/vnd.plotly.v1+json": {
       "config": {
        "plotlyServerURL": "https://plot.ly"
       },
       "data": [
        {
         "hovertemplate": "variable=topic_3<br>timepoint=%{x}<br>value=%{y}<extra></extra>",
         "legendgroup": "topic_3",
         "line": {
          "color": "#636efa",
          "dash": "solid"
         },
         "marker": {
          "symbol": "circle"
         },
         "mode": "lines",
         "name": "topic_3",
         "orientation": "v",
         "showlegend": true,
         "type": "scatter",
         "x": [
          0,
          1,
          2,
          3,
          4,
          5,
          6,
          7,
          8,
          9,
          10,
          11,
          12,
          13,
          14,
          15,
          16,
          17,
          18,
          19,
          20,
          21,
          22,
          23,
          24,
          25,
          26,
          27,
          28,
          29,
          30,
          31,
          32,
          33,
          34,
          35,
          36,
          37,
          38,
          39,
          40,
          41,
          42,
          43,
          44,
          45
         ],
         "xaxis": "x",
         "y": [
          0.05616948381066322,
          0.03977467864751816,
          0.05370684713125229,
          0.04702185094356537,
          0.033511292189359665,
          0.04069158434867859,
          0.042027682065963745,
          0.04332011938095093,
          0.02532118372619152,
          0.03579021990299225,
          0.03520123288035393,
          0.040568653494119644,
          0.029831159859895706,
          0.008284786716103554,
          0.0003668454592116177,
          0.04367701709270477,
          0.000005385261829360388,
          0.024235866963863373,
          0.0001798540324671194,
          0.0035188309848308563,
          0.0001341979659628123,
          0.0003583423385862261,
          0.0001135613929363899,
          0.01838393323123455,
          0.000004669362624554196,
          0.0005398414214141667,
          0.00041525260894559324,
          0.00008311498822877184,
          0.0001807344233384356,
          0.003018602728843689,
          0.9965815544128418,
          0.0004937397316098213,
          0.00022494119184557348,
          0.00024422715068794787,
          0.0001463021180825308,
          0.0002997320261783898,
          0.0008680996834300458,
          0.9970951080322266,
          0.00041921576485037804,
          0.9943606853485107,
          0.00027458503609523177,
          0.0018585942452773452,
          0.0006772406050004065,
          0.0003571213164832443,
          0.048606839030981064,
          0.03650408983230591
         ],
         "yaxis": "y"
        },
        {
         "hovertemplate": "variable=topic_4<br>timepoint=%{x}<br>value=%{y}<extra></extra>",
         "legendgroup": "topic_4",
         "line": {
          "color": "#EF553B",
          "dash": "solid"
         },
         "marker": {
          "symbol": "circle"
         },
         "mode": "lines",
         "name": "topic_4",
         "orientation": "v",
         "showlegend": true,
         "type": "scatter",
         "x": [
          0,
          1,
          2,
          3,
          4,
          5,
          6,
          7,
          8,
          9,
          10,
          11,
          12,
          13,
          14,
          15,
          16,
          17,
          18,
          19,
          20,
          21,
          22,
          23,
          24,
          25,
          26,
          27,
          28,
          29,
          30,
          31,
          32,
          33,
          34,
          35,
          36,
          37,
          38,
          39,
          40,
          41,
          42,
          43,
          44,
          45
         ],
         "xaxis": "x",
         "y": [
          0.041455212980508804,
          0.0569312609732151,
          0.046578291803598404,
          0.04641157388687134,
          0.041493285447359085,
          0.03794721141457558,
          0.04259030148386955,
          0.049863360822200775,
          0.039430003613233566,
          0.047095946967601776,
          0.04452943056821823,
          0.04224982112646103,
          0.04316430538892746,
          0.013298634439706802,
          0.0003151770797558129,
          0.03209521621465683,
          0.00016694310761522502,
          0.02375708520412445,
          0.0001798540324671194,
          0.00460540596395731,
          0.0001341979659628123,
          0.000779921596404165,
          0.0002757919719442725,
          0.013807021081447601,
          0.00014475024363491684,
          0.0005398414214141667,
          0.0005690499092452228,
          0.00004353642725618556,
          0.00003898193608620204,
          0.0005635469569824636,
          0.0002892201591748744,
          0.0004560496599879116,
          0.00011431437451392412,
          0.0005315532325766981,
          0.9982479810714722,
          0.9944109320640564,
          0.0010711639188230038,
          0.0002275749429827556,
          0.00014280976029112935,
          0.0002062560961348936,
          0.00008121528662741184,
          0.9816266298294067,
          0.0010391249088570476,
          0.000759511545766145,
          0.04491634666919708,
          0.07134201377630234
         ],
         "yaxis": "y"
        },
        {
         "hovertemplate": "variable=topic_5<br>timepoint=%{x}<br>value=%{y}<extra></extra>",
         "legendgroup": "topic_5",
         "line": {
          "color": "#00cc96",
          "dash": "solid"
         },
         "marker": {
          "symbol": "circle"
         },
         "mode": "lines",
         "name": "topic_5",
         "orientation": "v",
         "showlegend": true,
         "type": "scatter",
         "x": [
          0,
          1,
          2,
          3,
          4,
          5,
          6,
          7,
          8,
          9,
          10,
          11,
          12,
          13,
          14,
          15,
          16,
          17,
          18,
          19,
          20,
          21,
          22,
          23,
          24,
          25,
          26,
          27,
          28,
          29,
          30,
          31,
          32,
          33,
          34,
          35,
          36,
          37,
          38,
          39,
          40,
          41,
          42,
          43,
          44,
          45
         ],
         "xaxis": "x",
         "y": [
          0.04025404527783394,
          0.050640515983104706,
          0.050066735595464706,
          0.04183449596166611,
          0.038614533841609955,
          0.05341549962759018,
          0.04784141480922699,
          0.06468188017606735,
          0.05162997916340828,
          0.058739159256219864,
          0.04512304440140724,
          0.08963770419359207,
          0.025761041790246964,
          0.0041463724337518215,
          0.00010850357648450881,
          0.02780313603579998,
          0.0008131745853461325,
          0.06225103139877319,
          0.0005859760567545891,
          0.007781547959893942,
          0.00009090830280911177,
          0.0005691319820471108,
          0.0001135613929363899,
          0.044666506350040436,
          0.0001914438616950065,
          0.0002191435341956094,
          0.0016968963900581002,
          0.9975026249885559,
          0.00007442005153279752,
          0.0012331076432019472,
          0.0003840464632958174,
          0.00022990931756794453,
          0.00007743876631138846,
          0.0004836655571125448,
          0.00007493523298762739,
          0.00018219005141872913,
          0.00025890691904351115,
          0.000004462253855308518,
          0.00005067443271400407,
          0.00030686883837915957,
          0.000042541345464996994,
          0.0007685096934437752,
          0.0012459158897399902,
          0.9918968677520752,
          0.08028354495763779,
          0.039533473551273346
         ],
         "yaxis": "y"
        },
        {
         "hovertemplate": "variable=topic_17<br>timepoint=%{x}<br>value=%{y}<extra></extra>",
         "legendgroup": "topic_17",
         "line": {
          "color": "#ab63fa",
          "dash": "solid"
         },
         "marker": {
          "symbol": "circle"
         },
         "mode": "lines",
         "name": "topic_17",
         "orientation": "v",
         "showlegend": true,
         "type": "scatter",
         "x": [
          0,
          1,
          2,
          3,
          4,
          5,
          6,
          7,
          8,
          9,
          10,
          11,
          12,
          13,
          14,
          15,
          16,
          17,
          18,
          19,
          20,
          21,
          22,
          23,
          24,
          25,
          26,
          27,
          28,
          29,
          30,
          31,
          32,
          33,
          34,
          35,
          36,
          37,
          38,
          39,
          40,
          41,
          42,
          43,
          44,
          45
         ],
         "xaxis": "x",
         "y": [
          0.051364824175834656,
          0.04406382516026497,
          0.0508250929415226,
          0.04824240505695343,
          0.04489544779062271,
          0.039194654673337936,
          0.0435279980301857,
          0.046014394611120224,
          0.039015039801597595,
          0.04068374261260033,
          0.0310459453612566,
          0.056119441986083984,
          0.02604174055159092,
          0.00740935280919075,
          0.0005218505975790322,
          0.048037223517894745,
          0.00027464833692647517,
          0.027204304933547974,
          0.0001798540324671194,
          0.006026311777532101,
          0.0002207773068221286,
          0.0013420272152870893,
          0.0002217151049990207,
          0.01796784996986389,
          0.00028483112691901624,
          0.0015019349521026015,
          0.0010304416064172983,
          0.000241429268498905,
          0.997799277305603,
          0.003520773258060217,
          0.00005215445708017796,
          0.00011683916090987623,
          0.00004056316538481042,
          0.0003878902061842382,
          0.00003925179044017568,
          0.00024096103152260184,
          0.9886741042137146,
          0.0000490847960463725,
          0.00041921576485037804,
          0.00045778797357343137,
          0.9972889423370361,
          0.002567149233072996,
          0.9863983392715454,
          0.0005583164165727794,
          0.05122093856334686,
          0.05468039587140083
         ],
         "yaxis": "y"
        },
        {
         "hovertemplate": "variable=topic_22<br>timepoint=%{x}<br>value=%{y}<extra></extra>",
         "legendgroup": "topic_22",
         "line": {
          "color": "#FFA15A",
          "dash": "solid"
         },
         "marker": {
          "symbol": "circle"
         },
         "mode": "lines",
         "name": "topic_22",
         "orientation": "v",
         "showlegend": true,
         "type": "scatter",
         "x": [
          0,
          1,
          2,
          3,
          4,
          5,
          6,
          7,
          8,
          9,
          10,
          11,
          12,
          13,
          14,
          15,
          16,
          17,
          18,
          19,
          20,
          21,
          22,
          23,
          24,
          25,
          26,
          27,
          28,
          29,
          30,
          31,
          32,
          33,
          34,
          35,
          36,
          37,
          38,
          39,
          40,
          41,
          42,
          43,
          44,
          45
         ],
         "xaxis": "x",
         "y": [
          0.04010390117764473,
          0.046637311577796936,
          0.044758234173059464,
          0.04946295917034149,
          0.03848368301987648,
          0.046429820358753204,
          0.0562807098031044,
          0.0440899096429348,
          0.05976330116391182,
          0.047433432191610336,
          0.03562524542212486,
          0.03174252808094025,
          0.040988896042108536,
          0.006056409329175949,
          0.00010850357648450881,
          0.014109360054135323,
          0.0002207957295468077,
          0.0296939630061388,
          0.00029588889447040856,
          0.015471155755221844,
          0.0001341979659628123,
          0.0023959751706570387,
          0.0002757919719442725,
          0.027537759393453598,
          0.00009805661102291197,
          0.00048639177111908793,
          0.0008766443934291601,
          0.00012269355647731572,
          0.00035792504786513746,
          0.00536206504330039,
          0.00024180700711440295,
          0.00019221926049795002,
          0.00011431437451392412,
          0.9926205277442932,
          0.0001106186828110367,
          0.0003585029917303473,
          0.0003604390367399901,
          0.00013832986587658525,
          0.995158314704895,
          0.00035717521677725017,
          0.0001198892350657843,
          0.0004959885263815522,
          0.0005738451145589352,
          0.0005080176633782685,
          0.03784290701150894,
          0.03498939797282219
         ],
         "yaxis": "y"
        }
       ],
       "layout": {
        "legend": {
         "title": {
          "text": "variable"
         },
         "tracegroupgap": 0
        },
        "template": {
         "data": {
          "bar": [
           {
            "error_x": {
             "color": "#2a3f5f"
            },
            "error_y": {
             "color": "#2a3f5f"
            },
            "marker": {
             "line": {
              "color": "#E5ECF6",
              "width": 0.5
             },
             "pattern": {
              "fillmode": "overlay",
              "size": 10,
              "solidity": 0.2
             }
            },
            "type": "bar"
           }
          ],
          "barpolar": [
           {
            "marker": {
             "line": {
              "color": "#E5ECF6",
              "width": 0.5
             },
             "pattern": {
              "fillmode": "overlay",
              "size": 10,
              "solidity": 0.2
             }
            },
            "type": "barpolar"
           }
          ],
          "carpet": [
           {
            "aaxis": {
             "endlinecolor": "#2a3f5f",
             "gridcolor": "white",
             "linecolor": "white",
             "minorgridcolor": "white",
             "startlinecolor": "#2a3f5f"
            },
            "baxis": {
             "endlinecolor": "#2a3f5f",
             "gridcolor": "white",
             "linecolor": "white",
             "minorgridcolor": "white",
             "startlinecolor": "#2a3f5f"
            },
            "type": "carpet"
           }
          ],
          "choropleth": [
           {
            "colorbar": {
             "outlinewidth": 0,
             "ticks": ""
            },
            "type": "choropleth"
           }
          ],
          "contour": [
           {
            "colorbar": {
             "outlinewidth": 0,
             "ticks": ""
            },
            "colorscale": [
             [
              0,
              "#0d0887"
             ],
             [
              0.1111111111111111,
              "#46039f"
             ],
             [
              0.2222222222222222,
              "#7201a8"
             ],
             [
              0.3333333333333333,
              "#9c179e"
             ],
             [
              0.4444444444444444,
              "#bd3786"
             ],
             [
              0.5555555555555556,
              "#d8576b"
             ],
             [
              0.6666666666666666,
              "#ed7953"
             ],
             [
              0.7777777777777778,
              "#fb9f3a"
             ],
             [
              0.8888888888888888,
              "#fdca26"
             ],
             [
              1,
              "#f0f921"
             ]
            ],
            "type": "contour"
           }
          ],
          "contourcarpet": [
           {
            "colorbar": {
             "outlinewidth": 0,
             "ticks": ""
            },
            "type": "contourcarpet"
           }
          ],
          "heatmap": [
           {
            "colorbar": {
             "outlinewidth": 0,
             "ticks": ""
            },
            "colorscale": [
             [
              0,
              "#0d0887"
             ],
             [
              0.1111111111111111,
              "#46039f"
             ],
             [
              0.2222222222222222,
              "#7201a8"
             ],
             [
              0.3333333333333333,
              "#9c179e"
             ],
             [
              0.4444444444444444,
              "#bd3786"
             ],
             [
              0.5555555555555556,
              "#d8576b"
             ],
             [
              0.6666666666666666,
              "#ed7953"
             ],
             [
              0.7777777777777778,
              "#fb9f3a"
             ],
             [
              0.8888888888888888,
              "#fdca26"
             ],
             [
              1,
              "#f0f921"
             ]
            ],
            "type": "heatmap"
           }
          ],
          "heatmapgl": [
           {
            "colorbar": {
             "outlinewidth": 0,
             "ticks": ""
            },
            "colorscale": [
             [
              0,
              "#0d0887"
             ],
             [
              0.1111111111111111,
              "#46039f"
             ],
             [
              0.2222222222222222,
              "#7201a8"
             ],
             [
              0.3333333333333333,
              "#9c179e"
             ],
             [
              0.4444444444444444,
              "#bd3786"
             ],
             [
              0.5555555555555556,
              "#d8576b"
             ],
             [
              0.6666666666666666,
              "#ed7953"
             ],
             [
              0.7777777777777778,
              "#fb9f3a"
             ],
             [
              0.8888888888888888,
              "#fdca26"
             ],
             [
              1,
              "#f0f921"
             ]
            ],
            "type": "heatmapgl"
           }
          ],
          "histogram": [
           {
            "marker": {
             "pattern": {
              "fillmode": "overlay",
              "size": 10,
              "solidity": 0.2
             }
            },
            "type": "histogram"
           }
          ],
          "histogram2d": [
           {
            "colorbar": {
             "outlinewidth": 0,
             "ticks": ""
            },
            "colorscale": [
             [
              0,
              "#0d0887"
             ],
             [
              0.1111111111111111,
              "#46039f"
             ],
             [
              0.2222222222222222,
              "#7201a8"
             ],
             [
              0.3333333333333333,
              "#9c179e"
             ],
             [
              0.4444444444444444,
              "#bd3786"
             ],
             [
              0.5555555555555556,
              "#d8576b"
             ],
             [
              0.6666666666666666,
              "#ed7953"
             ],
             [
              0.7777777777777778,
              "#fb9f3a"
             ],
             [
              0.8888888888888888,
              "#fdca26"
             ],
             [
              1,
              "#f0f921"
             ]
            ],
            "type": "histogram2d"
           }
          ],
          "histogram2dcontour": [
           {
            "colorbar": {
             "outlinewidth": 0,
             "ticks": ""
            },
            "colorscale": [
             [
              0,
              "#0d0887"
             ],
             [
              0.1111111111111111,
              "#46039f"
             ],
             [
              0.2222222222222222,
              "#7201a8"
             ],
             [
              0.3333333333333333,
              "#9c179e"
             ],
             [
              0.4444444444444444,
              "#bd3786"
             ],
             [
              0.5555555555555556,
              "#d8576b"
             ],
             [
              0.6666666666666666,
              "#ed7953"
             ],
             [
              0.7777777777777778,
              "#fb9f3a"
             ],
             [
              0.8888888888888888,
              "#fdca26"
             ],
             [
              1,
              "#f0f921"
             ]
            ],
            "type": "histogram2dcontour"
           }
          ],
          "mesh3d": [
           {
            "colorbar": {
             "outlinewidth": 0,
             "ticks": ""
            },
            "type": "mesh3d"
           }
          ],
          "parcoords": [
           {
            "line": {
             "colorbar": {
              "outlinewidth": 0,
              "ticks": ""
             }
            },
            "type": "parcoords"
           }
          ],
          "pie": [
           {
            "automargin": true,
            "type": "pie"
           }
          ],
          "scatter": [
           {
            "fillpattern": {
             "fillmode": "overlay",
             "size": 10,
             "solidity": 0.2
            },
            "type": "scatter"
           }
          ],
          "scatter3d": [
           {
            "line": {
             "colorbar": {
              "outlinewidth": 0,
              "ticks": ""
             }
            },
            "marker": {
             "colorbar": {
              "outlinewidth": 0,
              "ticks": ""
             }
            },
            "type": "scatter3d"
           }
          ],
          "scattercarpet": [
           {
            "marker": {
             "colorbar": {
              "outlinewidth": 0,
              "ticks": ""
             }
            },
            "type": "scattercarpet"
           }
          ],
          "scattergeo": [
           {
            "marker": {
             "colorbar": {
              "outlinewidth": 0,
              "ticks": ""
             }
            },
            "type": "scattergeo"
           }
          ],
          "scattergl": [
           {
            "marker": {
             "colorbar": {
              "outlinewidth": 0,
              "ticks": ""
             }
            },
            "type": "scattergl"
           }
          ],
          "scattermapbox": [
           {
            "marker": {
             "colorbar": {
              "outlinewidth": 0,
              "ticks": ""
             }
            },
            "type": "scattermapbox"
           }
          ],
          "scatterpolar": [
           {
            "marker": {
             "colorbar": {
              "outlinewidth": 0,
              "ticks": ""
             }
            },
            "type": "scatterpolar"
           }
          ],
          "scatterpolargl": [
           {
            "marker": {
             "colorbar": {
              "outlinewidth": 0,
              "ticks": ""
             }
            },
            "type": "scatterpolargl"
           }
          ],
          "scatterternary": [
           {
            "marker": {
             "colorbar": {
              "outlinewidth": 0,
              "ticks": ""
             }
            },
            "type": "scatterternary"
           }
          ],
          "surface": [
           {
            "colorbar": {
             "outlinewidth": 0,
             "ticks": ""
            },
            "colorscale": [
             [
              0,
              "#0d0887"
             ],
             [
              0.1111111111111111,
              "#46039f"
             ],
             [
              0.2222222222222222,
              "#7201a8"
             ],
             [
              0.3333333333333333,
              "#9c179e"
             ],
             [
              0.4444444444444444,
              "#bd3786"
             ],
             [
              0.5555555555555556,
              "#d8576b"
             ],
             [
              0.6666666666666666,
              "#ed7953"
             ],
             [
              0.7777777777777778,
              "#fb9f3a"
             ],
             [
              0.8888888888888888,
              "#fdca26"
             ],
             [
              1,
              "#f0f921"
             ]
            ],
            "type": "surface"
           }
          ],
          "table": [
           {
            "cells": {
             "fill": {
              "color": "#EBF0F8"
             },
             "line": {
              "color": "white"
             }
            },
            "header": {
             "fill": {
              "color": "#C8D4E3"
             },
             "line": {
              "color": "white"
             }
            },
            "type": "table"
           }
          ]
         },
         "layout": {
          "annotationdefaults": {
           "arrowcolor": "#2a3f5f",
           "arrowhead": 0,
           "arrowwidth": 1
          },
          "autotypenumbers": "strict",
          "coloraxis": {
           "colorbar": {
            "outlinewidth": 0,
            "ticks": ""
           }
          },
          "colorscale": {
           "diverging": [
            [
             0,
             "#8e0152"
            ],
            [
             0.1,
             "#c51b7d"
            ],
            [
             0.2,
             "#de77ae"
            ],
            [
             0.3,
             "#f1b6da"
            ],
            [
             0.4,
             "#fde0ef"
            ],
            [
             0.5,
             "#f7f7f7"
            ],
            [
             0.6,
             "#e6f5d0"
            ],
            [
             0.7,
             "#b8e186"
            ],
            [
             0.8,
             "#7fbc41"
            ],
            [
             0.9,
             "#4d9221"
            ],
            [
             1,
             "#276419"
            ]
           ],
           "sequential": [
            [
             0,
             "#0d0887"
            ],
            [
             0.1111111111111111,
             "#46039f"
            ],
            [
             0.2222222222222222,
             "#7201a8"
            ],
            [
             0.3333333333333333,
             "#9c179e"
            ],
            [
             0.4444444444444444,
             "#bd3786"
            ],
            [
             0.5555555555555556,
             "#d8576b"
            ],
            [
             0.6666666666666666,
             "#ed7953"
            ],
            [
             0.7777777777777778,
             "#fb9f3a"
            ],
            [
             0.8888888888888888,
             "#fdca26"
            ],
            [
             1,
             "#f0f921"
            ]
           ],
           "sequentialminus": [
            [
             0,
             "#0d0887"
            ],
            [
             0.1111111111111111,
             "#46039f"
            ],
            [
             0.2222222222222222,
             "#7201a8"
            ],
            [
             0.3333333333333333,
             "#9c179e"
            ],
            [
             0.4444444444444444,
             "#bd3786"
            ],
            [
             0.5555555555555556,
             "#d8576b"
            ],
            [
             0.6666666666666666,
             "#ed7953"
            ],
            [
             0.7777777777777778,
             "#fb9f3a"
            ],
            [
             0.8888888888888888,
             "#fdca26"
            ],
            [
             1,
             "#f0f921"
            ]
           ]
          },
          "colorway": [
           "#636efa",
           "#EF553B",
           "#00cc96",
           "#ab63fa",
           "#FFA15A",
           "#19d3f3",
           "#FF6692",
           "#B6E880",
           "#FF97FF",
           "#FECB52"
          ],
          "font": {
           "color": "#2a3f5f"
          },
          "geo": {
           "bgcolor": "white",
           "lakecolor": "white",
           "landcolor": "#E5ECF6",
           "showlakes": true,
           "showland": true,
           "subunitcolor": "white"
          },
          "hoverlabel": {
           "align": "left"
          },
          "hovermode": "closest",
          "mapbox": {
           "style": "light"
          },
          "paper_bgcolor": "white",
          "plot_bgcolor": "#E5ECF6",
          "polar": {
           "angularaxis": {
            "gridcolor": "white",
            "linecolor": "white",
            "ticks": ""
           },
           "bgcolor": "#E5ECF6",
           "radialaxis": {
            "gridcolor": "white",
            "linecolor": "white",
            "ticks": ""
           }
          },
          "scene": {
           "xaxis": {
            "backgroundcolor": "#E5ECF6",
            "gridcolor": "white",
            "gridwidth": 2,
            "linecolor": "white",
            "showbackground": true,
            "ticks": "",
            "zerolinecolor": "white"
           },
           "yaxis": {
            "backgroundcolor": "#E5ECF6",
            "gridcolor": "white",
            "gridwidth": 2,
            "linecolor": "white",
            "showbackground": true,
            "ticks": "",
            "zerolinecolor": "white"
           },
           "zaxis": {
            "backgroundcolor": "#E5ECF6",
            "gridcolor": "white",
            "gridwidth": 2,
            "linecolor": "white",
            "showbackground": true,
            "ticks": "",
            "zerolinecolor": "white"
           }
          },
          "shapedefaults": {
           "line": {
            "color": "#2a3f5f"
           }
          },
          "ternary": {
           "aaxis": {
            "gridcolor": "white",
            "linecolor": "white",
            "ticks": ""
           },
           "baxis": {
            "gridcolor": "white",
            "linecolor": "white",
            "ticks": ""
           },
           "bgcolor": "#E5ECF6",
           "caxis": {
            "gridcolor": "white",
            "linecolor": "white",
            "ticks": ""
           }
          },
          "title": {
           "x": 0.05
          },
          "xaxis": {
           "automargin": true,
           "gridcolor": "white",
           "linecolor": "white",
           "ticks": "",
           "title": {
            "standoff": 15
           },
           "zerolinecolor": "white",
           "zerolinewidth": 2
          },
          "yaxis": {
           "automargin": true,
           "gridcolor": "white",
           "linecolor": "white",
           "ticks": "",
           "title": {
            "standoff": 15
           },
           "zerolinecolor": "white",
           "zerolinewidth": 2
          }
         }
        },
        "title": {
         "text": "Recent Time Period Common Topics"
        },
        "xaxis": {
         "anchor": "y",
         "domain": [
          0,
          1
         ],
         "dtick": "M1",
         "tickformat": "%b %d",
         "ticklabelmode": "period",
         "title": {
          "text": "timepoint"
         }
        },
        "yaxis": {
         "anchor": "x",
         "domain": [
          0,
          1
         ],
         "title": {
          "text": "value"
         }
        }
       }
      }
     },
     "metadata": {},
     "output_type": "display_data"
    }
   ],
   "source": [
    "td = pd.DataFrame()\n",
    "for timepoint in range(best_mdl.num_timepoints):\n",
    "    td_tmp = pd.DataFrame(\n",
    "        np.stack([doc.get_topic_dist() for doc in best_mdl.docs if doc.timepoint == timepoint]),\n",
    "        columns=[\"topic_{}\".format(i + 1) for i in range(best_mdl.k)],\n",
    "    )\n",
    "    td_tmp[\"timepoint\"] = timepoint\n",
    "    td = pd.concat([td, td_tmp], ignore_index=True)\n",
    "    del td_tmp\n",
    "\n",
    "import plotly.express as px\n",
    "fig = px.line(td, x=\"timepoint\", y=['topic_3', 'topic_4', 'topic_5', 'topic_17', 'topic_22'],\n",
    "            #   hover_data={\"timepoint\": \"|%B %d, %Y\"},\n",
    "              title='Recent Time Period Common Topics')\n",
    "fig.update_xaxes(\n",
    "    dtick=\"M1\",\n",
    "    tickformat=\"%b %d\",\n",
    "    ticklabelmode=\"period\")\n",
    "fig.show()"
   ]
  },
  {
   "cell_type": "code",
   "execution_count": 272,
   "metadata": {},
   "outputs": [],
   "source": [
    "# - 5 > timep 43\n",
    "# - 17 > timep 40, 36, 42\n",
    "# - 4 > timep 34, 35, 41\n",
    "# - 3 > timep 39, 37, 30\n",
    "# - 22 > timep 38, 33\n",
    "\n",
    "# topic_3\n",
    "topic_3= wt[wt['k']==2] # start with 0\n",
    "# select timepoint\n",
    "topic_3_39 = topic_3[topic_3['timepoint']==39]\n",
    "topic_3_37 = topic_3[topic_3['timepoint']==37]\n",
    "topic_3_30 = topic_3[topic_3['timepoint']==30]\n",
    "# concat \n",
    "topic_3_concat = pd.concat([topic_3_39, topic_3_37, topic_3_30], ignore_index=True)\n",
    "topic_3_concat.sort_values(by='prob', ascending=False, inplace=True)\n",
    "\n",
    "# topic_4\n",
    "topic_4 = wt[wt['k']==3] # start with 0\n",
    "# select timepoint\n",
    "topic_4_34 = topic_4[topic_4['timepoint']==34]\n",
    "topic_4_35 = topic_4[topic_4['timepoint']==35]\n",
    "topic_4_41 = topic_4[topic_4['timepoint']==41]\n",
    "# concat \n",
    "topic_4_concat = pd.concat([topic_4_34, topic_4_35, topic_4_41], ignore_index=True)\n",
    "topic_4_concat.sort_values(by='prob', ascending=False, inplace=True)\n",
    "\n",
    "# topic_5\n",
    "topic_5 = wt[wt['k']==4] # start with 0\n",
    "# select timepoint\n",
    "topic_5_43 = topic_21[topic_21['timepoint']==43]\n",
    "# concat \n",
    "topic_5_concat = topic_5_43.copy()\n",
    "topic_5_concat.sort_values(by='prob', ascending=False, inplace=True)\n",
    "\n",
    "# topic_17\n",
    "topic_17 = wt[wt['k']==16] # start with 0\n",
    "# select timepoint\n",
    "topic_17_40 = topic_17[topic_17['timepoint']==40]\n",
    "topic_17_36 = topic_17[topic_17['timepoint']==36]\n",
    "topic_17_4 = topic_17[topic_17['timepoint']==4]\n",
    "# concat \n",
    "topic_17_concat = pd.concat([topic_17_40, topic_17_36, topic_17_4], ignore_index=True)\n",
    "topic_17_concat.sort_values(by='prob', ascending=False, inplace=True)\n",
    "\n",
    "# topic_22\n",
    "topic_22= wt[wt['k']==21] # start with 0\n",
    "# select timepoint\n",
    "topic_22_38 = topic_22[topic_22['timepoint']==38]\n",
    "topic_22_33 = topic_22[topic_22['timepoint']==33]\n",
    "# concat \n",
    "topic_22_concat = pd.concat([topic_22_38, topic_22_33], ignore_index=True)\n",
    "topic_22_concat.sort_values(by='prob', ascending=False, inplace=True)\n"
   ]
  },
  {
   "cell_type": "code",
   "execution_count": 289,
   "metadata": {},
   "outputs": [
    {
     "data": {
      "text/html": [
       "<div>\n",
       "<style scoped>\n",
       "    .dataframe tbody tr th:only-of-type {\n",
       "        vertical-align: middle;\n",
       "    }\n",
       "\n",
       "    .dataframe tbody tr th {\n",
       "        vertical-align: top;\n",
       "    }\n",
       "\n",
       "    .dataframe thead th {\n",
       "        text-align: right;\n",
       "    }\n",
       "</style>\n",
       "<table border=\"1\" class=\"dataframe\">\n",
       "  <thead>\n",
       "    <tr style=\"text-align: right;\">\n",
       "      <th></th>\n",
       "      <th>68</th>\n",
       "      <th>60</th>\n",
       "      <th>64</th>\n",
       "      <th>12</th>\n",
       "      <th>29</th>\n",
       "      <th>15</th>\n",
       "      <th>65</th>\n",
       "      <th>54</th>\n",
       "      <th>40</th>\n",
       "      <th>13</th>\n",
       "      <th>52</th>\n",
       "      <th>18</th>\n",
       "      <th>14</th>\n",
       "      <th>31</th>\n",
       "      <th>67</th>\n",
       "      <th>66</th>\n",
       "      <th>48</th>\n",
       "      <th>38</th>\n",
       "      <th>25</th>\n",
       "      <th>11</th>\n",
       "      <th>36</th>\n",
       "      <th>28</th>\n",
       "      <th>33</th>\n",
       "      <th>4</th>\n",
       "      <th>23</th>\n",
       "      <th>10</th>\n",
       "      <th>50</th>\n",
       "      <th>21</th>\n",
       "      <th>49</th>\n",
       "      <th>41</th>\n",
       "      <th>61</th>\n",
       "      <th>53</th>\n",
       "      <th>44</th>\n",
       "      <th>24</th>\n",
       "      <th>8</th>\n",
       "      <th>5</th>\n",
       "      <th>47</th>\n",
       "      <th>55</th>\n",
       "      <th>56</th>\n",
       "      <th>51</th>\n",
       "      <th>46</th>\n",
       "      <th>58</th>\n",
       "      <th>59</th>\n",
       "      <th>62</th>\n",
       "      <th>57</th>\n",
       "      <th>0</th>\n",
       "      <th>45</th>\n",
       "      <th>43</th>\n",
       "      <th>2</th>\n",
       "      <th>3</th>\n",
       "      <th>6</th>\n",
       "      <th>7</th>\n",
       "      <th>9</th>\n",
       "      <th>17</th>\n",
       "      <th>20</th>\n",
       "      <th>34</th>\n",
       "      <th>1</th>\n",
       "      <th>35</th>\n",
       "      <th>39</th>\n",
       "      <th>42</th>\n",
       "      <th>32</th>\n",
       "      <th>16</th>\n",
       "      <th>30</th>\n",
       "      <th>19</th>\n",
       "      <th>63</th>\n",
       "      <th>37</th>\n",
       "      <th>22</th>\n",
       "      <th>26</th>\n",
       "      <th>27</th>\n",
       "    </tr>\n",
       "  </thead>\n",
       "  <tbody>\n",
       "    <tr>\n",
       "      <th>word</th>\n",
       "      <td>ﬂex</td>\n",
       "      <td>tophe</td>\n",
       "      <td>uncertainty</td>\n",
       "      <td>coverage</td>\n",
       "      <td>interruption</td>\n",
       "      <td>damage</td>\n",
       "      <td>virus</td>\n",
       "      <td>state</td>\n",
       "      <td>pandemic</td>\n",
       "      <td>crisis</td>\n",
       "      <td>situation</td>\n",
       "      <td>ehquake</td>\n",
       "      <td>crop</td>\n",
       "      <td>lockdown</td>\n",
       "      <td>worker</td>\n",
       "      <td>weather</td>\n",
       "      <td>revenue</td>\n",
       "      <td>movement</td>\n",
       "      <td>generation</td>\n",
       "      <td>contract</td>\n",
       "      <td>money</td>\n",
       "      <td>injury</td>\n",
       "      <td>member</td>\n",
       "      <td>annuity</td>\n",
       "      <td>force</td>\n",
       "      <td>commission</td>\n",
       "      <td>scale</td>\n",
       "      <td>exclusion</td>\n",
       "      <td>save</td>\n",
       "      <td>pension</td>\n",
       "      <td>total</td>\n",
       "      <td>solution</td>\n",
       "      <td>provision</td>\n",
       "      <td>frequency</td>\n",
       "      <td>casualty</td>\n",
       "      <td>assumption</td>\n",
       "      <td>retention</td>\n",
       "      <td>statement</td>\n",
       "      <td>stock</td>\n",
       "      <td>ship</td>\n",
       "      <td>report</td>\n",
       "      <td>synergy</td>\n",
       "      <td>technology</td>\n",
       "      <td>transformation</td>\n",
       "      <td>structure</td>\n",
       "      <td>accit</td>\n",
       "      <td>proﬁt</td>\n",
       "      <td>proposition</td>\n",
       "      <td>agreement</td>\n",
       "      <td>ambition</td>\n",
       "      <td>brand</td>\n",
       "      <td>capability</td>\n",
       "      <td>channel</td>\n",
       "      <td>decision</td>\n",
       "      <td>estimate</td>\n",
       "      <td>mm</td>\n",
       "      <td>adjustment</td>\n",
       "      <td>momentum</td>\n",
       "      <td>organization</td>\n",
       "      <td>priority</td>\n",
       "      <td>meeting</td>\n",
       "      <td>datum</td>\n",
       "      <td>investor</td>\n",
       "      <td>employee</td>\n",
       "      <td>travel</td>\n",
       "      <td>mortgage</td>\n",
       "      <td>fee</td>\n",
       "      <td>health</td>\n",
       "      <td>inflation</td>\n",
       "    </tr>\n",
       "    <tr>\n",
       "      <th>prob</th>\n",
       "      <td>0.167</td>\n",
       "      <td>0.167</td>\n",
       "      <td>0.0445</td>\n",
       "      <td>0.016</td>\n",
       "      <td>0.01</td>\n",
       "      <td>0.01</td>\n",
       "      <td>0.009</td>\n",
       "      <td>0.007</td>\n",
       "      <td>0.0062</td>\n",
       "      <td>0.006</td>\n",
       "      <td>0.006</td>\n",
       "      <td>0.006</td>\n",
       "      <td>0.006</td>\n",
       "      <td>0.005</td>\n",
       "      <td>0.005</td>\n",
       "      <td>0.005</td>\n",
       "      <td>0.004545</td>\n",
       "      <td>0.0045</td>\n",
       "      <td>0.004143</td>\n",
       "      <td>0.004</td>\n",
       "      <td>0.004</td>\n",
       "      <td>0.004</td>\n",
       "      <td>0.004</td>\n",
       "      <td>0.004</td>\n",
       "      <td>0.004</td>\n",
       "      <td>0.004</td>\n",
       "      <td>0.004</td>\n",
       "      <td>0.004</td>\n",
       "      <td>0.004</td>\n",
       "      <td>0.004</td>\n",
       "      <td>0.004</td>\n",
       "      <td>0.003667</td>\n",
       "      <td>0.0035</td>\n",
       "      <td>0.0035</td>\n",
       "      <td>0.0035</td>\n",
       "      <td>0.003333</td>\n",
       "      <td>0.003</td>\n",
       "      <td>0.003</td>\n",
       "      <td>0.003</td>\n",
       "      <td>0.003</td>\n",
       "      <td>0.003</td>\n",
       "      <td>0.003</td>\n",
       "      <td>0.003</td>\n",
       "      <td>0.003</td>\n",
       "      <td>0.003</td>\n",
       "      <td>0.003</td>\n",
       "      <td>0.003</td>\n",
       "      <td>0.003</td>\n",
       "      <td>0.003</td>\n",
       "      <td>0.003</td>\n",
       "      <td>0.003</td>\n",
       "      <td>0.003</td>\n",
       "      <td>0.003</td>\n",
       "      <td>0.003</td>\n",
       "      <td>0.003</td>\n",
       "      <td>0.003</td>\n",
       "      <td>0.003</td>\n",
       "      <td>0.003</td>\n",
       "      <td>0.003</td>\n",
       "      <td>0.003</td>\n",
       "      <td>0.0025</td>\n",
       "      <td>0.00225</td>\n",
       "      <td>0.002</td>\n",
       "      <td>0.002</td>\n",
       "      <td>0.002</td>\n",
       "      <td>0.002</td>\n",
       "      <td>0.002</td>\n",
       "      <td>0.0015</td>\n",
       "      <td>0.0015</td>\n",
       "    </tr>\n",
       "  </tbody>\n",
       "</table>\n",
       "</div>"
      ],
      "text/plain": [
       "         68     60           64        12            29      15     65     54  \\\n",
       "word    ﬂex  tophe  uncertainty  coverage  interruption  damage  virus  state   \n",
       "prob  0.167  0.167       0.0445     0.016          0.01    0.01  0.009  0.007   \n",
       "\n",
       "            40      13         52       18     14        31      67       66  \\\n",
       "word  pandemic  crisis  situation  ehquake   crop  lockdown  worker  weather   \n",
       "prob    0.0062   0.006      0.006    0.006  0.006     0.005   0.005    0.005   \n",
       "\n",
       "            48        38          25        11     36      28      33  \\\n",
       "word   revenue  movement  generation  contract  money  injury  member   \n",
       "prob  0.004545    0.0045    0.004143     0.004  0.004   0.004   0.004   \n",
       "\n",
       "           4      23          10     50         21     49       41     61  \\\n",
       "word  annuity  force  commission  scale  exclusion   save  pension  total   \n",
       "prob    0.004  0.004       0.004  0.004      0.004  0.004    0.004  0.004   \n",
       "\n",
       "            53         44         24        8           5          47  \\\n",
       "word  solution  provision  frequency  casualty  assumption  retention   \n",
       "prob  0.003667     0.0035     0.0035    0.0035    0.003333      0.003   \n",
       "\n",
       "             55     56     51      46       58          59              62  \\\n",
       "word  statement  stock   ship  report  synergy  technology  transformation   \n",
       "prob      0.003  0.003  0.003   0.003    0.003       0.003           0.003   \n",
       "\n",
       "             57     0      45           43         2         3      6   \\\n",
       "word  structure  accit  proﬁt  proposition  agreement  ambition  brand   \n",
       "prob      0.003  0.003  0.003        0.003      0.003     0.003  0.003   \n",
       "\n",
       "              7        9         17        20     34          1         35  \\\n",
       "word  capability  channel  decision  estimate     mm  adjustment  momentum   \n",
       "prob       0.003    0.003     0.003     0.003  0.003       0.003     0.003   \n",
       "\n",
       "                39        42       32       16        30        19      63  \\\n",
       "word  organization  priority  meeting    datum  investor  employee  travel   \n",
       "prob         0.003     0.003   0.0025  0.00225     0.002     0.002   0.002   \n",
       "\n",
       "            37     22      26         27  \n",
       "word  mortgage    fee  health  inflation  \n",
       "prob     0.002  0.002  0.0015     0.0015  "
      ]
     },
     "execution_count": 289,
     "metadata": {},
     "output_type": "execute_result"
    }
   ],
   "source": [
    "# concat all together\n",
    "topic_all_recently = pd.concat([topic_3_concat, topic_4_concat, topic_5_concat, topic_17_concat, topic_22_concat], ignore_index=True)\n",
    "# groupby word and get the average of prob\n",
    "topic_all_recently = topic_all_recently.groupby(['word'])['prob'].mean().reset_index()\n",
    "# sort by prob\n",
    "topic_all_recently.sort_values(by='prob', ascending=False, inplace=True)\n",
    "topic_all_recently.T"
   ]
  },
  {
   "cell_type": "code",
   "execution_count": 290,
   "metadata": {},
   "outputs": [],
   "source": [
    "# topic_all_recently to csv\n",
    "topic_all_recently.to_csv('./main_df_output/MD_topic_all_recently.csv')\n",
    "topic_all_early.to_csv('./main_df_output/MD_topic_all_early.csv')\n",
    "topic_all_middle.to_csv('./main_df_output/MD_topic_all_middle.csv')"
   ]
  },
  {
   "cell_type": "markdown",
   "metadata": {},
   "source": [
    "# See what time is it "
   ]
  },
  {
   "cell_type": "code",
   "execution_count": null,
   "metadata": {},
   "outputs": [],
   "source": [
    "# # td sort by timepoint\n",
    "# td = td.sort_values(by=[\"timepoint\"])\n",
    "# # create dtm_df['timepoint'] from 0 to 133\n",
    "# dtm_df['timepoint'] = np.arange(0, len(dtm_df))\n",
    "# dtm_df\n",
    "# # merge td and dtm_df\n",
    "# td = pd.merge(td, dtm_df, on=\"timepoint\")\n",
    "# td.head(3)"
   ]
  }
 ],
 "metadata": {
  "kernelspec": {
   "display_name": "Python 3.9.7",
   "language": "python",
   "name": "python3"
  },
  "language_info": {
   "codemirror_mode": {
    "name": "ipython",
    "version": 3
   },
   "file_extension": ".py",
   "mimetype": "text/x-python",
   "name": "python",
   "nbconvert_exporter": "python",
   "pygments_lexer": "ipython3",
   "version": "3.9.7"
  },
  "orig_nbformat": 4,
  "vscode": {
   "interpreter": {
    "hash": "40d3a090f54c6569ab1632332b64b2c03c39dcf918b08424e98f38b5ae0af88f"
   }
  }
 },
 "nbformat": 4,
 "nbformat_minor": 2
}
